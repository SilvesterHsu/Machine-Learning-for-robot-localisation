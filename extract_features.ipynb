{
 "cells": [
  {
   "cell_type": "markdown",
   "metadata": {},
   "source": [
    "# Torch\n",
    "## Check GPU¶"
   ]
  },
  {
   "cell_type": "code",
   "execution_count": 1,
   "metadata": {
    "ExecuteTime": {
     "end_time": "2020-07-12T21:40:40.530655Z",
     "start_time": "2020-07-12T21:40:40.527963Z"
    },
    "run_control": {
     "marked": true
    }
   },
   "outputs": [],
   "source": [
    "#from apex import amp,optimizers"
   ]
  },
  {
   "cell_type": "code",
   "execution_count": 2,
   "metadata": {
    "ExecuteTime": {
     "end_time": "2020-07-12T21:40:41.332729Z",
     "start_time": "2020-07-12T21:40:40.553483Z"
    },
    "run_control": {
     "marked": true
    }
   },
   "outputs": [
    {
     "name": "stdout",
     "output_type": "stream",
     "text": [
      "TITAN Xp\n"
     ]
    }
   ],
   "source": [
    "import torch\n",
    "if torch.cuda.is_available():\n",
    "    print(torch.cuda.get_device_name(1))"
   ]
  },
  {
   "cell_type": "markdown",
   "metadata": {},
   "source": [
    "## Set torch default parameters¶"
   ]
  },
  {
   "cell_type": "code",
   "execution_count": 3,
   "metadata": {
    "ExecuteTime": {
     "end_time": "2020-07-12T21:40:41.735558Z",
     "start_time": "2020-07-12T21:40:41.560859Z"
    },
    "run_control": {
     "marked": true
    }
   },
   "outputs": [],
   "source": [
    "torch.set_default_dtype(torch.float32)\n",
    "torch.set_printoptions(precision=8)\n",
    "torch.backends.cudnn.benchmark = True\n",
    "\n",
    "from torch.utils.tensorboard import SummaryWriter\n",
    "writer = SummaryWriter('runs/train_cnn_gp_torch')"
   ]
  },
  {
   "cell_type": "markdown",
   "metadata": {},
   "source": [
    "# Set Arguments"
   ]
  },
  {
   "cell_type": "code",
   "execution_count": 4,
   "metadata": {
    "ExecuteTime": {
     "end_time": "2020-07-12T21:40:41.769723Z",
     "start_time": "2020-07-12T21:40:41.755473Z"
    },
    "run_control": {
     "marked": true
    }
   },
   "outputs": [],
   "source": [
    "import argparse\n",
    "import sys\n",
    "import os\n",
    "import time\n",
    "import pickle\n",
    "\n",
    "parser = argparse.ArgumentParser()\n",
    "\n",
    "'''Training Parameters'''\n",
    "parser.add_argument('--batch_size', type=int, default=300, help='minibatch size')\n",
    "parser.add_argument('--num_epochs', type=int, default=200, help='number of epochs')\n",
    "parser.add_argument('--grad_clip', type=float, default=5., help='clip gradients at this value')\n",
    "parser.add_argument('--learning_rate', type=float, default=0.0014, help='learning rate')\n",
    "parser.add_argument('--learning_rate_clip', type=float, default=0.0000001, help='learning rate clip')\n",
    "parser.add_argument('--decay_rate', type=float, default=.8, help='decay rate for rmsprop')\n",
    "parser.add_argument('--weight_decay', type=float, default=.0001, help='decay rate for rmsprop')\n",
    "parser.add_argument('--batch_norm_decay', type=float, default=.999, help='decay rate for rmsprop')\n",
    "parser.add_argument('--keep_prob', type=float, default=1.0, help='dropout keep probability')\n",
    "parser.add_argument('--lamda_weights', type=float, default=.01, help='lamda weight')\n",
    "parser.add_argument('--data_argumentation', type=bool, default=True, help='whether do data argument')\n",
    "parser.add_argument('--is_normalization', type=bool, default=True, help='whether do data nomalization')\n",
    "parser.add_argument('--target_image_size', default=[300, 300], nargs=2, type=int, help='Input images will be resized to this for data argumentation.')\n",
    "parser.add_argument('--output_dim', default=3, type=int, help='output dimention.')\n",
    "parser.add_argument('--feat_dim', default=128, type=int, help='feature dimention.')\n",
    "\n",
    "'''Configure'''\n",
    "parser.add_argument('--network', type=str, default='vggnet_localization')\n",
    "parser.add_argument('--model_dir', type=str, default='/notebooks/global_localization/gp_net_torch', help='rnn, gru, or lstm')\n",
    "\n",
    "'''\n",
    "parser.add_argument('--train_dataset', type=str, default = ['/notebooks/michigan_nn_data/2012_01_08',\n",
    "                                                            '/notebooks/michigan_nn_data/2012_01_15',\n",
    "                                                            '/notebooks/michigan_nn_data/2012_01_22',\n",
    "                                                            '/notebooks/michigan_nn_data/2012_02_02',\n",
    "                                                            '/notebooks/michigan_nn_data/2012_02_04',\n",
    "                                                            '/notebooks/michigan_nn_data/2012_02_05',\n",
    "                                                            '/notebooks/michigan_nn_data/2012_03_31',\n",
    "                                                            '/notebooks/michigan_nn_data/2012_09_28'])\n",
    "'''\n",
    "#parser.add_argument('--train_dataset', type=str, default = ['/notebooks/michigan_nn_data/test'])\n",
    "parser.add_argument('--train_dataset', type=str, default = ['/notebooks/michigan_nn_data/2012_01_15'])\n",
    "\n",
    "parser.add_argument('--seed', default=1337, type=int)\n",
    "parser.add_argument('--save_every', type=int, default=2000, help='save frequency')\n",
    "parser.add_argument('--display', type=int, default=50, help='display frequency')\n",
    "\n",
    "sys.argv = ['']\n",
    "args = parser.parse_args()"
   ]
  },
  {
   "cell_type": "markdown",
   "metadata": {},
   "source": [
    "# Load Dataset"
   ]
  },
  {
   "cell_type": "code",
   "execution_count": 5,
   "metadata": {
    "ExecuteTime": {
     "end_time": "2020-07-12T21:41:09.872865Z",
     "start_time": "2020-07-12T21:40:41.779363Z"
    },
    "run_control": {
     "marked": true
    }
   },
   "outputs": [
    {
     "name": "stderr",
     "output_type": "stream",
     "text": [
      "the rosdep view is empty: call 'sudo rosdep init' and 'rosdep update'\n",
      "100%|██████████| 22584/22584 [00:27<00:00, 820.12it/s]\n"
     ]
    },
    {
     "data": {
      "text/plain": [
       "'\\ndataloader = DataLoader(dataset, batch_size=args.batch_size,                         shuffle=True, num_workers=0,                         drop_last=True, pin_memory=True)\\n'"
      ]
     },
     "execution_count": 5,
     "metadata": {},
     "output_type": "execute_result"
    }
   ],
   "source": [
    "from torch.utils.data import Dataset, DataLoader, random_split\n",
    "import torchvision.transforms as transforms\n",
    "import tf.transformations as tf_tran\n",
    "from tqdm import tqdm\n",
    "from PIL import Image\n",
    "import numpy as np\n",
    "import random\n",
    "\n",
    "#import gpflow.multioutput.kernels as mk\n",
    "import gpytorch\n",
    "\n",
    "import torch.nn as nn\n",
    "import torch.optim as optim\n",
    "from torchlib import resnet, vggnet\n",
    "from torchlib.utils import LocalizationDataset\n",
    "import time\n",
    "\n",
    "transform = transforms.Compose([transforms.ToTensor()])\n",
    "dataset = LocalizationDataset(dataset_dirs = args.train_dataset, \\\n",
    "                              image_size = args.target_image_size, \\\n",
    "                              transform = transform,\n",
    "                              get_pair = False)\n",
    "[args.norm_mean, args.norm_std] = [torch.tensor(x) for x in dataset.get_norm()]\n",
    "#torch.save([args.norm_mean, args.norm_std], '/notebooks/global_localization/norm_mean_std.pt')\n",
    "\n",
    "'''\n",
    "dataloader = DataLoader(dataset, batch_size=args.batch_size, \\\n",
    "                        shuffle=True, num_workers=0, \\\n",
    "                        drop_last=True, pin_memory=True)\n",
    "'''"
   ]
  },
  {
   "cell_type": "code",
   "execution_count": 6,
   "metadata": {
    "ExecuteTime": {
     "end_time": "2020-07-12T21:41:09.924479Z",
     "start_time": "2020-07-12T21:41:09.920479Z"
    },
    "run_control": {
     "marked": true
    }
   },
   "outputs": [],
   "source": [
    "lengths = [round(len(dataset)*0.7), round(len(dataset)*0.3)]\n",
    "training_dataset, test_dataset = random_split(dataset, lengths)"
   ]
  },
  {
   "cell_type": "code",
   "execution_count": 7,
   "metadata": {
    "ExecuteTime": {
     "end_time": "2020-07-12T21:41:09.947941Z",
     "start_time": "2020-07-12T21:41:09.944306Z"
    },
    "run_control": {
     "marked": true
    }
   },
   "outputs": [],
   "source": [
    "training_dataloader = DataLoader(training_dataset, batch_size=args.batch_size, \\\n",
    "                        shuffle=True, num_workers=0, \\\n",
    "                        drop_last=False, pin_memory=True)\n",
    "\n",
    "test_dataloader = DataLoader(test_dataset, batch_size=args.batch_size, \\\n",
    "                        shuffle=True, num_workers=0, \\\n",
    "                        drop_last=False, pin_memory=True)"
   ]
  },
  {
   "cell_type": "code",
   "execution_count": 8,
   "metadata": {
    "ExecuteTime": {
     "end_time": "2020-07-12T21:41:09.976075Z",
     "start_time": "2020-07-12T21:41:09.971818Z"
    },
    "run_control": {
     "marked": true
    }
   },
   "outputs": [
    {
     "data": {
      "text/plain": [
       "(tensor([-123.49977112,  416.04232788,   -8.91912651]),\n",
       " tensor([124.76653290, 191.42112732,   4.87461853]))"
      ]
     },
     "execution_count": 8,
     "metadata": {},
     "output_type": "execute_result"
    }
   ],
   "source": [
    "args.norm_mean, args.norm_std"
   ]
  },
  {
   "cell_type": "markdown",
   "metadata": {},
   "source": [
    "# Define Model"
   ]
  },
  {
   "cell_type": "code",
   "execution_count": 9,
   "metadata": {
    "ExecuteTime": {
     "end_time": "2020-07-12T21:41:10.013982Z",
     "start_time": "2020-07-12T21:41:09.998970Z"
    },
    "code_folding": [
     6,
     19,
     47,
     54,
     69
    ],
    "run_control": {
     "marked": true
    }
   },
   "outputs": [],
   "source": [
    "def normalize(target, norm_mean, norm_std):\n",
    "    target_trans = target[:,:3]\n",
    "    target_trans = torch.div(torch.sub(target_trans,norm_mean),norm_std)\n",
    "    target_normed = torch.cat([target_trans,target[:,3:]],dim=1)\n",
    "    return target_normed \n",
    "\n",
    "class Model(nn.Module):\n",
    "    def __init__(self):\n",
    "        super().__init__()\n",
    "        self.resnet = resnet.resnet50(pretrained=True)\n",
    "        self.global_context = vggnet.vggnet(input_channel=2048,opt=\"context\")\n",
    "        self.global_regressor = vggnet.vggnet(opt=\"regressor\")\n",
    "        \n",
    "    def forward(self,input_data):\n",
    "        dense_feat = self.resnet(input_data)\n",
    "        global_context_feat = self.global_context(dense_feat)\n",
    "        global_output, trans_feat, rot_feat = self.global_regressor(global_context_feat)\n",
    "        return global_output, trans_feat, rot_feat\n",
    "    \n",
    "class MultitaskGPModel(gpytorch.models.ApproximateGP):\n",
    "    def __init__(self, inducing_points):\n",
    "        # We have to mark the CholeskyVariationalDistribution as batch\n",
    "        # so that we learn a variational distribution for each task\n",
    "        variational_distribution = gpytorch.variational.CholeskyVariationalDistribution(\n",
    "            inducing_points.size(-2), batch_shape=torch.Size([3])\n",
    "        )\n",
    "\n",
    "        # We have to wrap the VariationalStrategy in a MultitaskVariationalStrategy\n",
    "        # so that the output will be a MultitaskMultivariateNormal rather than a batch output\n",
    "        variational_strategy = gpytorch.variational.MultitaskVariationalStrategy(\n",
    "            gpytorch.variational.VariationalStrategy(\n",
    "                self, inducing_points, variational_distribution, learn_inducing_locations=True\n",
    "            ), num_tasks=3\n",
    "        )\n",
    "\n",
    "        super().__init__(variational_strategy)\n",
    "\n",
    "        # The mean and covariance modules should be marked as batch\n",
    "        # so we learn a different set of hyperparameters\n",
    "        #self.net = Model()\n",
    "        #self.net.load_state_dict(torch.load(os.path.join(args.model_dir,'model-23-96000.pth')))\n",
    "        self.mean_module = gpytorch.means.ConstantMean(batch_shape=torch.Size([1]))\n",
    "        self.covar_module = gpytorch.kernels.ScaleKernel(\n",
    "            gpytorch.kernels.RBFKernel(batch_shape=torch.Size([1])),\n",
    "            batch_shape=torch.Size([1])\n",
    "        )\n",
    "\n",
    "    def forward(self, x):\n",
    "        # The forward function should be written as if we were dealing with each output\n",
    "        # dimension in batch\n",
    "        mean_x = self.mean_module(x)\n",
    "        covar_x = self.covar_module(x)\n",
    "        return gpytorch.distributions.MultivariateNormal(mean_x, covar_x)\n",
    "    \n",
    "class GPModel(gpytorch.Module):\n",
    "    def __init__(self, inducing_points):\n",
    "        super(GPModel, self).__init__()\n",
    "        self.net = Model()\n",
    "        #self.net.load_state_dict(torch.load(os.path.join('/notebooks/global_localization/dual_resnet_torch','model-23-96000.pth')))\n",
    "        self.gp = MultitaskGPModel(inducing_points)\n",
    "        self.likelihood = gpytorch.likelihoods.MultitaskGaussianLikelihood(num_tasks=3)\n",
    "\n",
    "    def forward(self, x):\n",
    "        global_output, trans_feat, _ = self.net(x)\n",
    "        _, rot_pred = torch.split(global_output, [3, 4], dim=1)\n",
    "        output = self.gp(trans_feat)\n",
    "        \n",
    "        return output,rot_pred\n",
    "    \n",
    "class FeatureModel(nn.Module):\n",
    "    def __init__(self):\n",
    "        super().__init__()\n",
    "        self.net = Model()\n",
    "    \n",
    "    def forward(self,x):\n",
    "        _, trans_feat, _ = self.net(x)\n",
    "        return trans_feat"
   ]
  },
  {
   "cell_type": "markdown",
   "metadata": {},
   "source": [
    "## Creat Model"
   ]
  },
  {
   "cell_type": "code",
   "execution_count": 10,
   "metadata": {
    "ExecuteTime": {
     "end_time": "2020-07-12T21:41:13.212296Z",
     "start_time": "2020-07-12T21:41:10.023409Z"
    },
    "run_control": {
     "marked": true
    }
   },
   "outputs": [
    {
     "name": "stdout",
     "output_type": "stream",
     "text": [
      "resnet.conv1.weight torch.Size([64, 1, 7, 7])\n",
      "resnet.bn1.weight torch.Size([64])\n",
      "resnet.bn1.bias torch.Size([64])\n",
      "resnet.bn1.running_mean torch.Size([64])\n",
      "resnet.bn1.running_var torch.Size([64])\n",
      "resnet.bn1.num_batches_tracked torch.Size([])\n",
      "resnet.layer1.0.conv1.weight torch.Size([64, 64, 1, 1])\n",
      "resnet.layer1.0.bn1.weight torch.Size([64])\n",
      "resnet.layer1.0.bn1.bias torch.Size([64])\n",
      "resnet.layer1.0.bn1.running_mean torch.Size([64])\n",
      "resnet.layer1.0.bn1.running_var torch.Size([64])\n",
      "resnet.layer1.0.bn1.num_batches_tracked torch.Size([])\n",
      "resnet.layer1.0.conv2.weight torch.Size([64, 64, 3, 3])\n",
      "resnet.layer1.0.bn2.weight torch.Size([64])\n",
      "resnet.layer1.0.bn2.bias torch.Size([64])\n",
      "resnet.layer1.0.bn2.running_mean torch.Size([64])\n",
      "resnet.layer1.0.bn2.running_var torch.Size([64])\n",
      "resnet.layer1.0.bn2.num_batches_tracked torch.Size([])\n",
      "resnet.layer1.0.conv3.weight torch.Size([256, 64, 1, 1])\n",
      "resnet.layer1.0.bn3.weight torch.Size([256])\n",
      "resnet.layer1.0.bn3.bias torch.Size([256])\n",
      "resnet.layer1.0.bn3.running_mean torch.Size([256])\n",
      "resnet.layer1.0.bn3.running_var torch.Size([256])\n",
      "resnet.layer1.0.bn3.num_batches_tracked torch.Size([])\n",
      "resnet.layer1.0.downsample.0.weight torch.Size([256, 64, 1, 1])\n",
      "resnet.layer1.0.downsample.1.weight torch.Size([256])\n",
      "resnet.layer1.0.downsample.1.bias torch.Size([256])\n",
      "resnet.layer1.0.downsample.1.running_mean torch.Size([256])\n",
      "resnet.layer1.0.downsample.1.running_var torch.Size([256])\n",
      "resnet.layer1.0.downsample.1.num_batches_tracked torch.Size([])\n",
      "resnet.layer1.1.conv1.weight torch.Size([64, 256, 1, 1])\n",
      "resnet.layer1.1.bn1.weight torch.Size([64])\n",
      "resnet.layer1.1.bn1.bias torch.Size([64])\n",
      "resnet.layer1.1.bn1.running_mean torch.Size([64])\n",
      "resnet.layer1.1.bn1.running_var torch.Size([64])\n",
      "resnet.layer1.1.bn1.num_batches_tracked torch.Size([])\n",
      "resnet.layer1.1.conv2.weight torch.Size([64, 64, 3, 3])\n",
      "resnet.layer1.1.bn2.weight torch.Size([64])\n",
      "resnet.layer1.1.bn2.bias torch.Size([64])\n",
      "resnet.layer1.1.bn2.running_mean torch.Size([64])\n",
      "resnet.layer1.1.bn2.running_var torch.Size([64])\n",
      "resnet.layer1.1.bn2.num_batches_tracked torch.Size([])\n",
      "resnet.layer1.1.conv3.weight torch.Size([256, 64, 1, 1])\n",
      "resnet.layer1.1.bn3.weight torch.Size([256])\n",
      "resnet.layer1.1.bn3.bias torch.Size([256])\n",
      "resnet.layer1.1.bn3.running_mean torch.Size([256])\n",
      "resnet.layer1.1.bn3.running_var torch.Size([256])\n",
      "resnet.layer1.1.bn3.num_batches_tracked torch.Size([])\n",
      "resnet.layer1.2.conv1.weight torch.Size([64, 256, 1, 1])\n",
      "resnet.layer1.2.bn1.weight torch.Size([64])\n",
      "resnet.layer1.2.bn1.bias torch.Size([64])\n",
      "resnet.layer1.2.bn1.running_mean torch.Size([64])\n",
      "resnet.layer1.2.bn1.running_var torch.Size([64])\n",
      "resnet.layer1.2.bn1.num_batches_tracked torch.Size([])\n",
      "resnet.layer1.2.conv2.weight torch.Size([64, 64, 3, 3])\n",
      "resnet.layer1.2.bn2.weight torch.Size([64])\n",
      "resnet.layer1.2.bn2.bias torch.Size([64])\n",
      "resnet.layer1.2.bn2.running_mean torch.Size([64])\n",
      "resnet.layer1.2.bn2.running_var torch.Size([64])\n",
      "resnet.layer1.2.bn2.num_batches_tracked torch.Size([])\n",
      "resnet.layer1.2.conv3.weight torch.Size([256, 64, 1, 1])\n",
      "resnet.layer1.2.bn3.weight torch.Size([256])\n",
      "resnet.layer1.2.bn3.bias torch.Size([256])\n",
      "resnet.layer1.2.bn3.running_mean torch.Size([256])\n",
      "resnet.layer1.2.bn3.running_var torch.Size([256])\n",
      "resnet.layer1.2.bn3.num_batches_tracked torch.Size([])\n",
      "resnet.layer2.0.conv1.weight torch.Size([128, 256, 1, 1])\n",
      "resnet.layer2.0.bn1.weight torch.Size([128])\n",
      "resnet.layer2.0.bn1.bias torch.Size([128])\n",
      "resnet.layer2.0.bn1.running_mean torch.Size([128])\n",
      "resnet.layer2.0.bn1.running_var torch.Size([128])\n",
      "resnet.layer2.0.bn1.num_batches_tracked torch.Size([])\n",
      "resnet.layer2.0.conv2.weight torch.Size([128, 128, 3, 3])\n",
      "resnet.layer2.0.bn2.weight torch.Size([128])\n",
      "resnet.layer2.0.bn2.bias torch.Size([128])\n",
      "resnet.layer2.0.bn2.running_mean torch.Size([128])\n",
      "resnet.layer2.0.bn2.running_var torch.Size([128])\n",
      "resnet.layer2.0.bn2.num_batches_tracked torch.Size([])\n",
      "resnet.layer2.0.conv3.weight torch.Size([512, 128, 1, 1])\n",
      "resnet.layer2.0.bn3.weight torch.Size([512])\n",
      "resnet.layer2.0.bn3.bias torch.Size([512])\n",
      "resnet.layer2.0.bn3.running_mean torch.Size([512])\n",
      "resnet.layer2.0.bn3.running_var torch.Size([512])\n",
      "resnet.layer2.0.bn3.num_batches_tracked torch.Size([])\n",
      "resnet.layer2.0.downsample.0.weight torch.Size([512, 256, 1, 1])\n",
      "resnet.layer2.0.downsample.1.weight torch.Size([512])\n",
      "resnet.layer2.0.downsample.1.bias torch.Size([512])\n",
      "resnet.layer2.0.downsample.1.running_mean torch.Size([512])\n",
      "resnet.layer2.0.downsample.1.running_var torch.Size([512])\n",
      "resnet.layer2.0.downsample.1.num_batches_tracked torch.Size([])\n",
      "resnet.layer2.1.conv1.weight torch.Size([128, 512, 1, 1])\n",
      "resnet.layer2.1.bn1.weight torch.Size([128])\n",
      "resnet.layer2.1.bn1.bias torch.Size([128])\n",
      "resnet.layer2.1.bn1.running_mean torch.Size([128])\n",
      "resnet.layer2.1.bn1.running_var torch.Size([128])\n",
      "resnet.layer2.1.bn1.num_batches_tracked torch.Size([])\n",
      "resnet.layer2.1.conv2.weight torch.Size([128, 128, 3, 3])\n",
      "resnet.layer2.1.bn2.weight torch.Size([128])\n",
      "resnet.layer2.1.bn2.bias torch.Size([128])\n",
      "resnet.layer2.1.bn2.running_mean torch.Size([128])\n",
      "resnet.layer2.1.bn2.running_var torch.Size([128])\n",
      "resnet.layer2.1.bn2.num_batches_tracked torch.Size([])\n",
      "resnet.layer2.1.conv3.weight torch.Size([512, 128, 1, 1])\n",
      "resnet.layer2.1.bn3.weight torch.Size([512])\n",
      "resnet.layer2.1.bn3.bias torch.Size([512])\n",
      "resnet.layer2.1.bn3.running_mean torch.Size([512])\n",
      "resnet.layer2.1.bn3.running_var torch.Size([512])\n",
      "resnet.layer2.1.bn3.num_batches_tracked torch.Size([])\n",
      "resnet.layer2.2.conv1.weight torch.Size([128, 512, 1, 1])\n",
      "resnet.layer2.2.bn1.weight torch.Size([128])\n",
      "resnet.layer2.2.bn1.bias torch.Size([128])\n",
      "resnet.layer2.2.bn1.running_mean torch.Size([128])\n",
      "resnet.layer2.2.bn1.running_var torch.Size([128])\n",
      "resnet.layer2.2.bn1.num_batches_tracked torch.Size([])\n",
      "resnet.layer2.2.conv2.weight torch.Size([128, 128, 3, 3])\n",
      "resnet.layer2.2.bn2.weight torch.Size([128])\n",
      "resnet.layer2.2.bn2.bias torch.Size([128])\n",
      "resnet.layer2.2.bn2.running_mean torch.Size([128])\n",
      "resnet.layer2.2.bn2.running_var torch.Size([128])\n",
      "resnet.layer2.2.bn2.num_batches_tracked torch.Size([])\n",
      "resnet.layer2.2.conv3.weight torch.Size([512, 128, 1, 1])\n",
      "resnet.layer2.2.bn3.weight torch.Size([512])\n",
      "resnet.layer2.2.bn3.bias torch.Size([512])\n",
      "resnet.layer2.2.bn3.running_mean torch.Size([512])\n",
      "resnet.layer2.2.bn3.running_var torch.Size([512])\n",
      "resnet.layer2.2.bn3.num_batches_tracked torch.Size([])\n",
      "resnet.layer2.3.conv1.weight torch.Size([128, 512, 1, 1])\n",
      "resnet.layer2.3.bn1.weight torch.Size([128])\n",
      "resnet.layer2.3.bn1.bias torch.Size([128])\n",
      "resnet.layer2.3.bn1.running_mean torch.Size([128])\n",
      "resnet.layer2.3.bn1.running_var torch.Size([128])\n",
      "resnet.layer2.3.bn1.num_batches_tracked torch.Size([])\n",
      "resnet.layer2.3.conv2.weight torch.Size([128, 128, 3, 3])\n",
      "resnet.layer2.3.bn2.weight torch.Size([128])\n",
      "resnet.layer2.3.bn2.bias torch.Size([128])\n",
      "resnet.layer2.3.bn2.running_mean torch.Size([128])\n",
      "resnet.layer2.3.bn2.running_var torch.Size([128])\n",
      "resnet.layer2.3.bn2.num_batches_tracked torch.Size([])\n",
      "resnet.layer2.3.conv3.weight torch.Size([512, 128, 1, 1])\n",
      "resnet.layer2.3.bn3.weight torch.Size([512])\n",
      "resnet.layer2.3.bn3.bias torch.Size([512])\n",
      "resnet.layer2.3.bn3.running_mean torch.Size([512])\n",
      "resnet.layer2.3.bn3.running_var torch.Size([512])\n",
      "resnet.layer2.3.bn3.num_batches_tracked torch.Size([])\n",
      "resnet.layer3.0.conv1.weight torch.Size([256, 512, 1, 1])\n",
      "resnet.layer3.0.bn1.weight torch.Size([256])\n",
      "resnet.layer3.0.bn1.bias torch.Size([256])\n",
      "resnet.layer3.0.bn1.running_mean torch.Size([256])\n",
      "resnet.layer3.0.bn1.running_var torch.Size([256])\n",
      "resnet.layer3.0.bn1.num_batches_tracked torch.Size([])\n",
      "resnet.layer3.0.conv2.weight torch.Size([256, 256, 3, 3])\n",
      "resnet.layer3.0.bn2.weight torch.Size([256])\n",
      "resnet.layer3.0.bn2.bias torch.Size([256])\n",
      "resnet.layer3.0.bn2.running_mean torch.Size([256])\n",
      "resnet.layer3.0.bn2.running_var torch.Size([256])\n",
      "resnet.layer3.0.bn2.num_batches_tracked torch.Size([])\n",
      "resnet.layer3.0.conv3.weight torch.Size([1024, 256, 1, 1])\n",
      "resnet.layer3.0.bn3.weight torch.Size([1024])\n",
      "resnet.layer3.0.bn3.bias torch.Size([1024])\n",
      "resnet.layer3.0.bn3.running_mean torch.Size([1024])\n",
      "resnet.layer3.0.bn3.running_var torch.Size([1024])\n",
      "resnet.layer3.0.bn3.num_batches_tracked torch.Size([])\n",
      "resnet.layer3.0.downsample.0.weight torch.Size([1024, 512, 1, 1])\n",
      "resnet.layer3.0.downsample.1.weight torch.Size([1024])\n",
      "resnet.layer3.0.downsample.1.bias torch.Size([1024])\n",
      "resnet.layer3.0.downsample.1.running_mean torch.Size([1024])\n",
      "resnet.layer3.0.downsample.1.running_var torch.Size([1024])\n",
      "resnet.layer3.0.downsample.1.num_batches_tracked torch.Size([])\n",
      "resnet.layer3.1.conv1.weight torch.Size([256, 1024, 1, 1])\n",
      "resnet.layer3.1.bn1.weight torch.Size([256])\n",
      "resnet.layer3.1.bn1.bias torch.Size([256])\n",
      "resnet.layer3.1.bn1.running_mean torch.Size([256])\n",
      "resnet.layer3.1.bn1.running_var torch.Size([256])\n",
      "resnet.layer3.1.bn1.num_batches_tracked torch.Size([])\n",
      "resnet.layer3.1.conv2.weight torch.Size([256, 256, 3, 3])\n",
      "resnet.layer3.1.bn2.weight torch.Size([256])\n",
      "resnet.layer3.1.bn2.bias torch.Size([256])\n",
      "resnet.layer3.1.bn2.running_mean torch.Size([256])\n",
      "resnet.layer3.1.bn2.running_var torch.Size([256])\n",
      "resnet.layer3.1.bn2.num_batches_tracked torch.Size([])\n",
      "resnet.layer3.1.conv3.weight torch.Size([1024, 256, 1, 1])\n",
      "resnet.layer3.1.bn3.weight torch.Size([1024])\n",
      "resnet.layer3.1.bn3.bias torch.Size([1024])\n",
      "resnet.layer3.1.bn3.running_mean torch.Size([1024])\n",
      "resnet.layer3.1.bn3.running_var torch.Size([1024])\n",
      "resnet.layer3.1.bn3.num_batches_tracked torch.Size([])\n",
      "resnet.layer3.2.conv1.weight torch.Size([256, 1024, 1, 1])\n",
      "resnet.layer3.2.bn1.weight torch.Size([256])\n",
      "resnet.layer3.2.bn1.bias torch.Size([256])\n",
      "resnet.layer3.2.bn1.running_mean torch.Size([256])\n",
      "resnet.layer3.2.bn1.running_var torch.Size([256])\n",
      "resnet.layer3.2.bn1.num_batches_tracked torch.Size([])\n",
      "resnet.layer3.2.conv2.weight torch.Size([256, 256, 3, 3])\n",
      "resnet.layer3.2.bn2.weight torch.Size([256])\n",
      "resnet.layer3.2.bn2.bias torch.Size([256])\n",
      "resnet.layer3.2.bn2.running_mean torch.Size([256])\n",
      "resnet.layer3.2.bn2.running_var torch.Size([256])\n",
      "resnet.layer3.2.bn2.num_batches_tracked torch.Size([])\n",
      "resnet.layer3.2.conv3.weight torch.Size([1024, 256, 1, 1])\n",
      "resnet.layer3.2.bn3.weight torch.Size([1024])\n",
      "resnet.layer3.2.bn3.bias torch.Size([1024])\n",
      "resnet.layer3.2.bn3.running_mean torch.Size([1024])\n",
      "resnet.layer3.2.bn3.running_var torch.Size([1024])\n",
      "resnet.layer3.2.bn3.num_batches_tracked torch.Size([])\n",
      "resnet.layer3.3.conv1.weight torch.Size([256, 1024, 1, 1])\n",
      "resnet.layer3.3.bn1.weight torch.Size([256])\n",
      "resnet.layer3.3.bn1.bias torch.Size([256])\n",
      "resnet.layer3.3.bn1.running_mean torch.Size([256])\n",
      "resnet.layer3.3.bn1.running_var torch.Size([256])\n",
      "resnet.layer3.3.bn1.num_batches_tracked torch.Size([])\n",
      "resnet.layer3.3.conv2.weight torch.Size([256, 256, 3, 3])\n",
      "resnet.layer3.3.bn2.weight torch.Size([256])\n",
      "resnet.layer3.3.bn2.bias torch.Size([256])\n",
      "resnet.layer3.3.bn2.running_mean torch.Size([256])\n",
      "resnet.layer3.3.bn2.running_var torch.Size([256])\n",
      "resnet.layer3.3.bn2.num_batches_tracked torch.Size([])\n",
      "resnet.layer3.3.conv3.weight torch.Size([1024, 256, 1, 1])\n",
      "resnet.layer3.3.bn3.weight torch.Size([1024])\n",
      "resnet.layer3.3.bn3.bias torch.Size([1024])\n",
      "resnet.layer3.3.bn3.running_mean torch.Size([1024])\n",
      "resnet.layer3.3.bn3.running_var torch.Size([1024])\n",
      "resnet.layer3.3.bn3.num_batches_tracked torch.Size([])\n",
      "resnet.layer3.4.conv1.weight torch.Size([256, 1024, 1, 1])\n",
      "resnet.layer3.4.bn1.weight torch.Size([256])\n",
      "resnet.layer3.4.bn1.bias torch.Size([256])\n",
      "resnet.layer3.4.bn1.running_mean torch.Size([256])\n",
      "resnet.layer3.4.bn1.running_var torch.Size([256])\n",
      "resnet.layer3.4.bn1.num_batches_tracked torch.Size([])\n",
      "resnet.layer3.4.conv2.weight torch.Size([256, 256, 3, 3])\n",
      "resnet.layer3.4.bn2.weight torch.Size([256])\n",
      "resnet.layer3.4.bn2.bias torch.Size([256])\n",
      "resnet.layer3.4.bn2.running_mean torch.Size([256])\n",
      "resnet.layer3.4.bn2.running_var torch.Size([256])\n",
      "resnet.layer3.4.bn2.num_batches_tracked torch.Size([])\n",
      "resnet.layer3.4.conv3.weight torch.Size([1024, 256, 1, 1])\n",
      "resnet.layer3.4.bn3.weight torch.Size([1024])\n",
      "resnet.layer3.4.bn3.bias torch.Size([1024])\n",
      "resnet.layer3.4.bn3.running_mean torch.Size([1024])\n",
      "resnet.layer3.4.bn3.running_var torch.Size([1024])\n",
      "resnet.layer3.4.bn3.num_batches_tracked torch.Size([])\n",
      "resnet.layer3.5.conv1.weight torch.Size([256, 1024, 1, 1])\n",
      "resnet.layer3.5.bn1.weight torch.Size([256])\n",
      "resnet.layer3.5.bn1.bias torch.Size([256])\n",
      "resnet.layer3.5.bn1.running_mean torch.Size([256])\n",
      "resnet.layer3.5.bn1.running_var torch.Size([256])\n",
      "resnet.layer3.5.bn1.num_batches_tracked torch.Size([])\n",
      "resnet.layer3.5.conv2.weight torch.Size([256, 256, 3, 3])\n",
      "resnet.layer3.5.bn2.weight torch.Size([256])\n",
      "resnet.layer3.5.bn2.bias torch.Size([256])\n",
      "resnet.layer3.5.bn2.running_mean torch.Size([256])\n",
      "resnet.layer3.5.bn2.running_var torch.Size([256])\n",
      "resnet.layer3.5.bn2.num_batches_tracked torch.Size([])\n",
      "resnet.layer3.5.conv3.weight torch.Size([1024, 256, 1, 1])\n",
      "resnet.layer3.5.bn3.weight torch.Size([1024])\n",
      "resnet.layer3.5.bn3.bias torch.Size([1024])\n",
      "resnet.layer3.5.bn3.running_mean torch.Size([1024])\n",
      "resnet.layer3.5.bn3.running_var torch.Size([1024])\n",
      "resnet.layer3.5.bn3.num_batches_tracked torch.Size([])\n",
      "resnet.layer4.0.conv1.weight torch.Size([512, 1024, 1, 1])\n",
      "resnet.layer4.0.bn1.weight torch.Size([512])\n",
      "resnet.layer4.0.bn1.bias torch.Size([512])\n",
      "resnet.layer4.0.bn1.running_mean torch.Size([512])\n",
      "resnet.layer4.0.bn1.running_var torch.Size([512])\n",
      "resnet.layer4.0.bn1.num_batches_tracked torch.Size([])\n",
      "resnet.layer4.0.conv2.weight torch.Size([512, 512, 3, 3])\n",
      "resnet.layer4.0.bn2.weight torch.Size([512])\n",
      "resnet.layer4.0.bn2.bias torch.Size([512])\n",
      "resnet.layer4.0.bn2.running_mean torch.Size([512])\n",
      "resnet.layer4.0.bn2.running_var torch.Size([512])\n",
      "resnet.layer4.0.bn2.num_batches_tracked torch.Size([])\n",
      "resnet.layer4.0.conv3.weight torch.Size([2048, 512, 1, 1])\n",
      "resnet.layer4.0.bn3.weight torch.Size([2048])\n",
      "resnet.layer4.0.bn3.bias torch.Size([2048])\n",
      "resnet.layer4.0.bn3.running_mean torch.Size([2048])\n",
      "resnet.layer4.0.bn3.running_var torch.Size([2048])\n",
      "resnet.layer4.0.bn3.num_batches_tracked torch.Size([])\n",
      "resnet.layer4.0.downsample.0.weight torch.Size([2048, 1024, 1, 1])\n",
      "resnet.layer4.0.downsample.1.weight torch.Size([2048])\n",
      "resnet.layer4.0.downsample.1.bias torch.Size([2048])\n",
      "resnet.layer4.0.downsample.1.running_mean torch.Size([2048])\n",
      "resnet.layer4.0.downsample.1.running_var torch.Size([2048])\n",
      "resnet.layer4.0.downsample.1.num_batches_tracked torch.Size([])\n",
      "resnet.layer4.1.conv1.weight torch.Size([512, 2048, 1, 1])\n",
      "resnet.layer4.1.bn1.weight torch.Size([512])\n",
      "resnet.layer4.1.bn1.bias torch.Size([512])\n",
      "resnet.layer4.1.bn1.running_mean torch.Size([512])\n",
      "resnet.layer4.1.bn1.running_var torch.Size([512])\n",
      "resnet.layer4.1.bn1.num_batches_tracked torch.Size([])\n",
      "resnet.layer4.1.conv2.weight torch.Size([512, 512, 3, 3])\n",
      "resnet.layer4.1.bn2.weight torch.Size([512])\n",
      "resnet.layer4.1.bn2.bias torch.Size([512])\n",
      "resnet.layer4.1.bn2.running_mean torch.Size([512])\n",
      "resnet.layer4.1.bn2.running_var torch.Size([512])\n",
      "resnet.layer4.1.bn2.num_batches_tracked torch.Size([])\n",
      "resnet.layer4.1.conv3.weight torch.Size([2048, 512, 1, 1])\n",
      "resnet.layer4.1.bn3.weight torch.Size([2048])\n",
      "resnet.layer4.1.bn3.bias torch.Size([2048])\n",
      "resnet.layer4.1.bn3.running_mean torch.Size([2048])\n",
      "resnet.layer4.1.bn3.running_var torch.Size([2048])\n",
      "resnet.layer4.1.bn3.num_batches_tracked torch.Size([])\n",
      "resnet.layer4.2.conv1.weight torch.Size([512, 2048, 1, 1])\n",
      "resnet.layer4.2.bn1.weight torch.Size([512])\n",
      "resnet.layer4.2.bn1.bias torch.Size([512])\n",
      "resnet.layer4.2.bn1.running_mean torch.Size([512])\n",
      "resnet.layer4.2.bn1.running_var torch.Size([512])\n",
      "resnet.layer4.2.bn1.num_batches_tracked torch.Size([])\n",
      "resnet.layer4.2.conv2.weight torch.Size([512, 512, 3, 3])\n",
      "resnet.layer4.2.bn2.weight torch.Size([512])\n",
      "resnet.layer4.2.bn2.bias torch.Size([512])\n",
      "resnet.layer4.2.bn2.running_mean torch.Size([512])\n",
      "resnet.layer4.2.bn2.running_var torch.Size([512])\n",
      "resnet.layer4.2.bn2.num_batches_tracked torch.Size([])\n",
      "resnet.layer4.2.conv3.weight torch.Size([2048, 512, 1, 1])\n",
      "resnet.layer4.2.bn3.weight torch.Size([2048])\n",
      "resnet.layer4.2.bn3.bias torch.Size([2048])\n",
      "resnet.layer4.2.bn3.running_mean torch.Size([2048])\n",
      "resnet.layer4.2.bn3.running_var torch.Size([2048])\n",
      "resnet.layer4.2.bn3.num_batches_tracked torch.Size([])\n",
      "global_context.context.squeeze.0.weight torch.Size([128, 2048, 1, 1])\n",
      "global_context.context.squeeze.0.bias torch.Size([128])\n",
      "global_context.context.context5_1.0.weight torch.Size([128, 128, 3, 3])\n",
      "global_context.context.context5_1.0.bias torch.Size([128])\n",
      "global_context.context.context5_2.0.weight torch.Size([128, 128, 3, 3])\n",
      "global_context.context.context5_2.0.bias torch.Size([128])\n",
      "global_context.context.context5_3.0.weight torch.Size([128, 128, 3, 3])\n",
      "global_context.context.context5_3.0.bias torch.Size([128])\n",
      "global_context.context.context5_4.0.weight torch.Size([128, 128, 3, 3])\n",
      "global_context.context.context5_4.0.bias torch.Size([128])\n",
      "global_context.context.squeeze2.0.weight torch.Size([64, 128, 1, 1])\n",
      "global_context.context.squeeze2.0.bias torch.Size([64])\n",
      "global_regressor.regressor.fc1_trans.0.weight torch.Size([4096, 6400])\n",
      "global_regressor.regressor.fc1_trans.0.bias torch.Size([4096])\n",
      "global_regressor.regressor.fc2_trans.0.weight torch.Size([4096, 4096])\n",
      "global_regressor.regressor.fc2_trans.0.bias torch.Size([4096])\n",
      "global_regressor.regressor.fc3_trans.0.weight torch.Size([128, 4096])\n",
      "global_regressor.regressor.fc3_trans.0.bias torch.Size([128])\n",
      "global_regressor.regressor.logits_t.weight torch.Size([3, 128])\n",
      "global_regressor.regressor.logits_t.bias torch.Size([3])\n",
      "global_regressor.regressor.fc1_rot.0.weight torch.Size([4096, 6400])\n",
      "global_regressor.regressor.fc1_rot.0.bias torch.Size([4096])\n",
      "global_regressor.regressor.fc2_rot.0.weight torch.Size([4096, 4096])\n",
      "global_regressor.regressor.fc2_rot.0.bias torch.Size([4096])\n",
      "global_regressor.regressor.fc3_rot.0.weight torch.Size([128, 4096])\n",
      "global_regressor.regressor.fc3_rot.0.bias torch.Size([128])\n",
      "global_regressor.regressor.logits_r.weight torch.Size([4, 128])\n",
      "global_regressor.regressor.logits_r.bias torch.Size([4])\n",
      "Parameters layer: 346\n"
     ]
    },
    {
     "data": {
      "text/plain": [
       "<All keys matched successfully>"
      ]
     },
     "execution_count": 10,
     "metadata": {},
     "output_type": "execute_result"
    }
   ],
   "source": [
    "device = torch.device(\"cuda:1\" if torch.cuda.is_available() else \"cpu\")\n",
    "#device = torch.device(\"cpu\")\n",
    "if torch.cuda.is_available():\n",
    "    torch.cuda.set_device(device)\n",
    "\n",
    "model = FeatureModel().to(device)\n",
    "\n",
    "# Load Resnet\n",
    "state_dict = torch.load('/notebooks/global_localization/dual_resnet_torch/pretrained.pth',map_location=device)\n",
    "for name,param in state_dict.items():\n",
    "    print(name, param.shape)\n",
    "print('Parameters layer:',len(state_dict.keys()))\n",
    "model.net.load_state_dict(state_dict)"
   ]
  },
  {
   "cell_type": "code",
   "execution_count": 11,
   "metadata": {
    "ExecuteTime": {
     "end_time": "2020-07-12T21:41:13.339044Z",
     "start_time": "2020-07-12T21:41:13.335841Z"
    },
    "run_control": {
     "marked": true
    }
   },
   "outputs": [
    {
     "data": {
      "text/plain": [
       "\"\\nstate_dict = torch.load(os.path.join(args.model_dir,'pretrained.pth'),map_location=device)\\nfor name,param in state_dict.items():\\n    print(name, param.shape)\\nprint('Parameters layer:',len(state_dict.keys()))\\nmodel.load_state_dict(state_dict)\\n\""
      ]
     },
     "execution_count": 11,
     "metadata": {},
     "output_type": "execute_result"
    }
   ],
   "source": [
    "'''\n",
    "state_dict = torch.load(os.path.join(args.model_dir,'pretrained.pth'),map_location=device)\n",
    "for name,param in state_dict.items():\n",
    "    print(name, param.shape)\n",
    "print('Parameters layer:',len(state_dict.keys()))\n",
    "model.load_state_dict(state_dict)\n",
    "'''"
   ]
  },
  {
   "cell_type": "code",
   "execution_count": 12,
   "metadata": {
    "ExecuteTime": {
     "end_time": "2020-07-12T21:41:13.379315Z",
     "start_time": "2020-07-12T21:41:13.374866Z"
    },
    "run_control": {
     "marked": true
    },
    "scrolled": false
   },
   "outputs": [],
   "source": [
    "# Disable resnet\n",
    "for param in model.parameters():\n",
    "    param.requires_grad = False\n",
    "\n",
    "# Display Learn parameters\n",
    "for name, param in model.named_parameters():\n",
    "    if param.requires_grad:\n",
    "        print (name, param.shape)"
   ]
  },
  {
   "cell_type": "markdown",
   "metadata": {},
   "source": [
    "# Training\n",
    "## Parameters"
   ]
  },
  {
   "cell_type": "code",
   "execution_count": 13,
   "metadata": {
    "ExecuteTime": {
     "end_time": "2020-07-12T21:41:13.400978Z",
     "start_time": "2020-07-12T21:41:13.396721Z"
    },
    "run_control": {
     "marked": true
    }
   },
   "outputs": [],
   "source": [
    "args.norm_mean = args.norm_mean.to(device)\n",
    "args.norm_std = args.norm_std.to(device)\n",
    "\n",
    "np.savetxt(\"/notebooks/michigan_nn_data/toy/norm_mean.csv\", args.norm_mean.cpu().numpy(), delimiter=\",\")\n",
    "np.savetxt(\"/notebooks/michigan_nn_data/toy/norm_std.csv\", args.norm_std.cpu().numpy(), delimiter=\",\")"
   ]
  },
  {
   "cell_type": "markdown",
   "metadata": {},
   "source": [
    "## Train"
   ]
  },
  {
   "cell_type": "code",
   "execution_count": 14,
   "metadata": {
    "ExecuteTime": {
     "end_time": "2020-07-12T21:41:58.028693Z",
     "start_time": "2020-07-12T21:41:13.420814Z"
    },
    "run_control": {
     "marked": true
    }
   },
   "outputs": [
    {
     "name": "stdout",
     "output_type": "stream",
     "text": [
      "5/53, time/batch = 0.688\n",
      "10/53, time/batch = 0.688\n",
      "15/53, time/batch = 0.691\n",
      "20/53, time/batch = 0.692\n",
      "25/53, time/batch = 0.695\n",
      "30/53, time/batch = 0.687\n",
      "35/53, time/batch = 0.692\n",
      "40/53, time/batch = 0.693\n",
      "45/53, time/batch = 0.693\n",
      "50/53, time/batch = 0.701\n"
     ]
    }
   ],
   "source": [
    "model.eval()\n",
    "\n",
    "x_train = 0\n",
    "y_train = 0\n",
    "\n",
    "for b, data in enumerate(training_dataloader, 0):\n",
    "    start = time.time()\n",
    "    with torch.no_grad():\n",
    "        x,y = data.values()\n",
    "        x,y = x.to(device),y.to(device)\n",
    "        # normalize targets\n",
    "        y = normalize(y,args.norm_mean, args.norm_std)\n",
    "        trans_feat = model(x)\n",
    "        \n",
    "        if b == 0:\n",
    "            x_train = trans_feat\n",
    "            y_train = y\n",
    "        else:\n",
    "            x_train = torch.cat([x_train,trans_feat],dim=0)\n",
    "            y_train = torch.cat([y_train,y],dim=0)\n",
    "    end = time.time()\n",
    "    with torch.no_grad():\n",
    "        if ((b+1)%5 == 0):\n",
    "            print(\"{}/{}, time/batch = {:.3f}\".format((b+1),len(training_dataloader),end - start))"
   ]
  },
  {
   "cell_type": "code",
   "execution_count": 15,
   "metadata": {
    "ExecuteTime": {
     "end_time": "2020-07-12T21:41:59.454228Z",
     "start_time": "2020-07-12T21:41:58.254121Z"
    },
    "run_control": {
     "marked": true
    }
   },
   "outputs": [
    {
     "name": "stdout",
     "output_type": "stream",
     "text": [
      "torch.Size([15809, 128])\n",
      "torch.Size([15809, 7])\n"
     ]
    }
   ],
   "source": [
    "assert x_train.shape == torch.Size([len(training_dataset), 128])\n",
    "print(x_train.shape)\n",
    "print(y_train.shape)\n",
    "np.savetxt(\"/notebooks/michigan_nn_data/toy/x_train.csv\", x_train.cpu().numpy(), delimiter=\",\")\n",
    "np.savetxt(\"/notebooks/michigan_nn_data/toy/y_train.csv\", y_train.cpu().numpy(), delimiter=\",\")"
   ]
  },
  {
   "cell_type": "markdown",
   "metadata": {},
   "source": [
    "## Test"
   ]
  },
  {
   "cell_type": "code",
   "execution_count": 16,
   "metadata": {
    "ExecuteTime": {
     "end_time": "2020-07-12T21:42:19.238952Z",
     "start_time": "2020-07-12T21:41:59.685312Z"
    },
    "run_control": {
     "marked": true
    }
   },
   "outputs": [
    {
     "name": "stdout",
     "output_type": "stream",
     "text": [
      "5/53, time/batch = 0.700\n",
      "10/53, time/batch = 0.694\n",
      "15/53, time/batch = 0.697\n",
      "20/53, time/batch = 0.693\n"
     ]
    }
   ],
   "source": [
    "model.eval()\n",
    "\n",
    "x_test = 0\n",
    "y_test = 0\n",
    "\n",
    "for b, data in enumerate(test_dataloader, 0):\n",
    "    start = time.time()\n",
    "    with torch.no_grad():\n",
    "        x,y = data.values()\n",
    "        x,y = x.to(device),y.to(device)\n",
    "        # normalize targets\n",
    "        y = normalize(y,args.norm_mean, args.norm_std)\n",
    "        trans_feat = model(x)\n",
    "        \n",
    "        if b == 0:\n",
    "            x_test = trans_feat\n",
    "            y_test = y\n",
    "        else:\n",
    "            x_test = torch.cat([x_test,trans_feat],dim=0)\n",
    "            y_test = torch.cat([y_test,y],dim=0)\n",
    "    end = time.time()\n",
    "    with torch.no_grad():\n",
    "        if ((b+1)%5 == 0):\n",
    "            print(\"{}/{}, time/batch = {:.3f}\".format((b+1),len(training_dataloader),end - start))"
   ]
  },
  {
   "cell_type": "code",
   "execution_count": 17,
   "metadata": {
    "ExecuteTime": {
     "end_time": "2020-07-12T21:42:19.862403Z",
     "start_time": "2020-07-12T21:42:19.344962Z"
    },
    "run_control": {
     "marked": true
    }
   },
   "outputs": [
    {
     "name": "stdout",
     "output_type": "stream",
     "text": [
      "torch.Size([6775, 128])\n",
      "torch.Size([6775, 7])\n"
     ]
    }
   ],
   "source": [
    "assert x_test.shape == torch.Size([len(test_dataset), 128])\n",
    "print(x_test.shape)\n",
    "print(y_test.shape)\n",
    "np.savetxt(\"/notebooks/michigan_nn_data/toy/x_test.csv\", x_test.cpu().numpy(), delimiter=\",\")\n",
    "np.savetxt(\"/notebooks/michigan_nn_data/toy/y_test.csv\", y_test.cpu().numpy(), delimiter=\",\")"
   ]
  }
 ],
 "metadata": {
  "kernelspec": {
   "display_name": "Python 3",
   "language": "python",
   "name": "python3"
  },
  "language_info": {
   "codemirror_mode": {
    "name": "ipython",
    "version": 3
   },
   "file_extension": ".py",
   "mimetype": "text/x-python",
   "name": "python",
   "nbconvert_exporter": "python",
   "pygments_lexer": "ipython3",
   "version": "3.6.9"
  },
  "nbTranslate": {
   "displayLangs": [
    "en"
   ],
   "hotkey": "alt-t",
   "langInMainMenu": true,
   "sourceLang": "en",
   "targetLang": "",
   "useGoogleTranslate": true
  },
  "toc": {
   "base_numbering": 1,
   "nav_menu": {},
   "number_sections": true,
   "sideBar": true,
   "skip_h1_title": false,
   "title_cell": "Table of Contents",
   "title_sidebar": "Contents",
   "toc_cell": false,
   "toc_position": {},
   "toc_section_display": true,
   "toc_window_display": false
  }
 },
 "nbformat": 4,
 "nbformat_minor": 4
}
