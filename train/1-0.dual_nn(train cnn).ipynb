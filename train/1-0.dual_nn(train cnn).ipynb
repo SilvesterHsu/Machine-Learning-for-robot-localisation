{
 "cells": [
  {
   "cell_type": "markdown",
   "metadata": {},
   "source": [
    "# Torch\n",
    "## Check GPU"
   ]
  },
  {
   "cell_type": "code",
   "execution_count": 1,
   "metadata": {
    "ExecuteTime": {
     "end_time": "2020-08-22T19:56:43.697148Z",
     "start_time": "2020-08-22T19:56:42.495623Z"
    },
    "run_control": {
     "marked": true
    }
   },
   "outputs": [
    {
     "name": "stderr",
     "output_type": "stream",
     "text": [
      "the rosdep view is empty: call 'sudo rosdep init' and 'rosdep update'\n"
     ]
    },
    {
     "name": "stdout",
     "output_type": "stream",
     "text": [
      "Using Device 1 : TITAN Xp\n"
     ]
    }
   ],
   "source": [
    "import torch\n",
    "import numpy as np\n",
    "import sys\n",
    "sys.path.append('..')\n",
    "\n",
    "from torchlib.utils import list_device,set_device\n",
    "\n",
    "# S1: check GPU\n",
    "#list_device()\n",
    "\n",
    "# S2: default parameters\n",
    "set_device(1)\n",
    "np.set_printoptions(precision = 2)\n",
    "torch.set_default_dtype(torch.float32)\n",
    "torch.set_printoptions(precision=4)\n",
    "torch.backends.cudnn.benchmark = True\n",
    "torch.set_printoptions(sci_mode=False)"
   ]
  },
  {
   "cell_type": "markdown",
   "metadata": {},
   "source": [
    "# Set Arguments"
   ]
  },
  {
   "cell_type": "code",
   "execution_count": 2,
   "metadata": {
    "ExecuteTime": {
     "end_time": "2020-08-22T19:56:43.713046Z",
     "start_time": "2020-08-22T19:56:43.698640Z"
    },
    "run_control": {
     "marked": true
    }
   },
   "outputs": [],
   "source": [
    "import argparse\n",
    "import sys\n",
    "import os\n",
    "import time\n",
    "import pickle\n",
    "\n",
    "parser = argparse.ArgumentParser()\n",
    "\n",
    "'''Training Parameters'''\n",
    "parser.add_argument('--batch_size', type=int, default=300, help='minibatch size')\n",
    "parser.add_argument('--num_epochs', type=int, default=200, help='number of epochs')\n",
    "parser.add_argument('--grad_clip', type=float, default=5., help='clip gradients at this value')\n",
    "parser.add_argument('--learning_rate', type=float, default=0.001, help='learning rate')\n",
    "parser.add_argument('--learning_rate_clip', type=float, default=0.0000001, help='learning rate clip')\n",
    "parser.add_argument('--decay_rate', type=float, default=.85, help='decay rate for rmsprop')\n",
    "parser.add_argument('--weight_decay', type=float, default=.0001, help='decay rate for rmsprop')\n",
    "parser.add_argument('--batch_norm_decay', type=float, default=.999, help='decay rate for rmsprop')\n",
    "parser.add_argument('--keep_prob', type=float, default=1.0, help='dropout keep probability')\n",
    "parser.add_argument('--lamda_weights', type=float, default=0.01, help='weight of rotation error')\n",
    "parser.add_argument('--data_argumentation', type=bool, default=True, help='whether do data argument')\n",
    "parser.add_argument('--is_normalization', type=bool, default=True, help='whether do data normalization')\n",
    "parser.add_argument('--target_image_size', default=[300, 300], nargs=2, type=int, help='Input images will be resized to this for data argumentation.')\n",
    "\n",
    "'''Configure'''\n",
    "parser.add_argument('--network', type=str, default='vggnet_localization')\n",
    "parser.add_argument('--model_dir', type=str, default='/notebooks/global_localization/dual_resnet_torch', help='rnn, gru, or lstm')\n",
    "\n",
    "\n",
    "parser.add_argument('--train_dataset', type=str, default = ['/notebooks/michigan_nn_data/2012_01_08',\n",
    "                                                            '/notebooks/michigan_nn_data/2012_01_15',\n",
    "                                                            '/notebooks/michigan_nn_data/2012_01_22',\n",
    "                                                            '/notebooks/michigan_nn_data/2012_02_02',\n",
    "                                                            '/notebooks/michigan_nn_data/2012_02_04',\n",
    "                                                            '/notebooks/michigan_nn_data/2012_02_05',\n",
    "                                                            '/notebooks/michigan_nn_data/2012_03_31',\n",
    "                                                            '/notebooks/michigan_nn_data/2012_09_28'])\n",
    "\n",
    "'''\n",
    "#parser.add_argument('--train_dataset', type=str, default = ['/notebooks/michigan_nn_data/test'])\n",
    "parser.add_argument('--train_dataset', type=str, default = ['/notebooks/michigan_nn_data/2012_01_08'])\n",
    "'''\n",
    "parser.add_argument('--norm_tensor', type=str, default = ['/notebooks/global_localization/norm_mean_std.pt'])\n",
    "\n",
    "parser.add_argument('--seed', default=1337, type=int)\n",
    "parser.add_argument('--save_every', type=int, default=3000, help='save frequency')\n",
    "parser.add_argument('--display', type=int, default=20, help='display frequency')\n",
    "parser.add_argument('--tensorboard', type=bool, default=True, help='open tensorboard')\n",
    "parser.add_argument('--cuda_device', type=int, default=1, help='cuda device')\n",
    "\n",
    "sys.argv = ['']\n",
    "args = parser.parse_args()"
   ]
  },
  {
   "cell_type": "markdown",
   "metadata": {},
   "source": [
    "# Load Dataset"
   ]
  },
  {
   "cell_type": "code",
   "execution_count": 3,
   "metadata": {
    "ExecuteTime": {
     "end_time": "2020-08-22T19:57:00.411101Z",
     "start_time": "2020-08-22T19:56:43.714617Z"
    },
    "run_control": {
     "marked": true
    }
   },
   "outputs": [
    {
     "name": "stderr",
     "output_type": "stream",
     "text": [
      "100%|██████████| 1644/1644 [00:01<00:00, 854.17it/s]\n",
      "100%|██████████| 2258/2258 [00:02<00:00, 847.39it/s]\n",
      "100%|██████████| 1865/1865 [00:02<00:00, 859.87it/s]\n",
      "100%|██████████| 1731/1731 [00:02<00:00, 816.04it/s]\n",
      "100%|██████████| 1076/1076 [00:01<00:00, 697.59it/s]\n",
      "100%|██████████| 1487/1487 [00:02<00:00, 689.29it/s]\n",
      "100%|██████████| 1345/1345 [00:01<00:00, 687.37it/s]\n",
      "100%|██████████| 1403/1403 [00:02<00:00, 689.08it/s]"
     ]
    },
    {
     "name": "stdout",
     "output_type": "stream",
     "text": [
      "Load norm and std: /notebooks/global_localization/norm_mean_std.pt\n"
     ]
    },
    {
     "name": "stderr",
     "output_type": "stream",
     "text": [
      "\n"
     ]
    }
   ],
   "source": [
    "from torch.utils.data import Dataset, DataLoader, TensorDataset\n",
    "import torchvision.transforms as transforms\n",
    "import tf.transformations as tf_tran\n",
    "from tqdm import tqdm\n",
    "from PIL import Image\n",
    "import numpy as np\n",
    "import random\n",
    "\n",
    "import gpytorch\n",
    "\n",
    "import torch.nn as nn\n",
    "import torch.optim as optim\n",
    "from torchlib import resnet, vggnet\n",
    "from torchlib.cnn_auxiliary import normalize, denormalize_navie, denormalize, get_relative_pose, translational_rotational_loss\n",
    "from torchlib.utils import LocalizationDataset, display_loss, data2tensorboard\n",
    "import time\n",
    "\n",
    "transform = transforms.Compose([transforms.ToTensor()])\n",
    "dataset = LocalizationDataset(dataset_dirs = args.train_dataset, \\\n",
    "                              image_size = args.target_image_size, \\\n",
    "                              transform = transform, get_pair = False, sampling_rate=2)\n",
    "\n",
    "[args.norm_mean, args.norm_std] = torch.load(*args.norm_tensor)\n",
    "print('Load norm and std:',*args.norm_tensor)\n",
    "\n",
    "dataloader = DataLoader(dataset, batch_size=args.batch_size, \\\n",
    "                        shuffle=True, num_workers=0, \\\n",
    "                        drop_last=True, pin_memory=True)"
   ]
  },
  {
   "cell_type": "markdown",
   "metadata": {},
   "source": [
    "# Define Model"
   ]
  },
  {
   "cell_type": "code",
   "execution_count": 4,
   "metadata": {
    "ExecuteTime": {
     "end_time": "2020-08-22T19:57:00.433891Z",
     "start_time": "2020-08-22T19:57:00.412694Z"
    },
    "code_folding": [
     3,
     15,
     29,
     56,
     83,
     97
    ],
    "run_control": {
     "marked": true
    }
   },
   "outputs": [],
   "source": [
    "from torch.cuda.amp import autocast, GradScaler\n",
    "from torchlib.GPs import Backbone, NN, BaseModule\n",
    "\n",
    "class NN(nn.Module):\n",
    "    def __init__(self):\n",
    "        super().__init__()\n",
    "        self.global_context = vggnet.vggnet(input_channel=2048,opt=\"context\")\n",
    "        self.global_regressor = vggnet.vggnet(opt=\"regressor\")\n",
    "        \n",
    "    def forward(self,input_data):\n",
    "        context_feat = self.global_context(input_data)\n",
    "        #context_feat = input_data\n",
    "        output,feature_t, feature_r = self.global_regressor(context_feat)\n",
    "        return output, feature_t, feature_r\n",
    "        \n",
    "class Model(nn.Module):\n",
    "    def __init__(self):\n",
    "        super().__init__()\n",
    "        self.backbone = Backbone()\n",
    "        self.nn = NN()\n",
    "        \n",
    "    def forward(self, input_data):\n",
    "        dense_feat = self.backbone(input_data)\n",
    "        #dense_feat = input_data\n",
    "        output, _, _ = self.nn(dense_feat)\n",
    "        trans_pred, rot_pred = torch.split(output, [3, 4], dim=1)\n",
    "        return trans_pred, rot_pred\n",
    "        \n",
    "class PosePredictor(BaseModule):\n",
    "    def __init__(self, norm_mean, norm_std, args, is_training=True, mixed_precision=True):\n",
    "        super().__init__(norm_mean, norm_std, args)\n",
    "        self.model = Model().to(self.device)\n",
    "        \n",
    "        self.disable_requires_grad(self.model.backbone)\n",
    "        #self.disable_requires_grad(self.model.nn.global_context)\n",
    "        \n",
    "        self.mixed_precision = mixed_precision\n",
    "        if self.mixed_precision:\n",
    "            self.scaler = GradScaler()\n",
    "        if is_training:\n",
    "            self.optimizer = optim.Adam(self._optimize())\n",
    "            self.scheduler = optim.lr_scheduler.LambdaLR(optimizer=self.optimizer,\n",
    "                                                             lr_lambda=lambda epoch: args.decay_rate**epoch)\n",
    "        else:\n",
    "            self.disable_requires_grad(self.model)\n",
    "    \n",
    "    def _optimize(self):\n",
    "        # GP\n",
    "        optimizer = [\n",
    "                {'params': self.model.nn.global_regressor.parameters(), \\\n",
    "                 'lr': args.learning_rate,'weight_decay':args.weight_decay},\n",
    "                {'params': self.model.nn.global_context.parameters(), \\\n",
    "                 'lr': args.learning_rate * 0.1,'weight_decay':args.weight_decay}]\n",
    "                \n",
    "        return optimizer\n",
    "    \n",
    "    def train(self, x, y):\n",
    "        # Step 0: zero grad\n",
    "        self.optimizer.zero_grad()\n",
    "        \n",
    "        start = time.time()\n",
    "        # Step 1: get data\n",
    "        x,y = x.to(self.device),y.to(self.device)\n",
    "        if args.is_normalization:\n",
    "            y = normalize(y,self.norm_mean, self.norm_std)\n",
    "            \n",
    "        # Step 2: training\n",
    "        assert trainer.model.training == True\n",
    "        if self.mixed_precision:\n",
    "            with autocast():\n",
    "                single_loss = self._loss(x, y)\n",
    "            self.scaler.scale(single_loss).backward()\n",
    "            self.scaler.step(self.optimizer)\n",
    "            self.scaler.update()\n",
    "        else:\n",
    "            single_loss = self._loss(x, y)\n",
    "            single_loss.backward()\n",
    "            self.optimizer.step()\n",
    "            \n",
    "        batch_time = time.time() - start\n",
    "        \n",
    "        return float(single_loss), batch_time\n",
    "    \n",
    "    def _loss(self, x, y):\n",
    "\n",
    "        trans_pred, rot_pred = self.model(x)\n",
    "        trans_gt, rot_gt = torch.split(y, [3, 4], dim=1)\n",
    "    \n",
    "        #trans_loss = nn.functional.mse_loss(input=trans_pred, target=trans_gt)\n",
    "        trans_loss = torch.sum((trans_pred - trans_gt)**2,dim=1).mean()\n",
    "        \n",
    "        rot_loss = 1. - torch.mean(torch.square(torch.sum(torch.mul(rot_pred,rot_gt),dim=1)))\n",
    "\n",
    "        loss = trans_loss + args.lamda_weights * rot_loss\n",
    "    \n",
    "        return loss\n",
    "    \n",
    "    def eval_forward(self,x,y,output_denormalize = True):\n",
    "        # Step 1: get data\n",
    "        x,y = x.to(self.device),y.to(self.device)\n",
    "        \n",
    "        # Step 2: forward\n",
    "        assert trainer.model.training == False\n",
    "        \n",
    "        trans_pred, rot_pred = self.model(x)\n",
    "\n",
    "        if args.is_normalization and output_denormalize:\n",
    "            trans_pred = denormalize_navie(trans_pred, self.norm_mean, self.norm_std)\n",
    "            \n",
    "        # Step 3: split output\n",
    "        trans_gt, rot_gt = torch.split(y, [3, 4], dim=1)\n",
    "        return trans_pred, rot_pred, trans_gt, rot_gt"
   ]
  },
  {
   "cell_type": "code",
   "execution_count": 5,
   "metadata": {
    "ExecuteTime": {
     "end_time": "2020-08-22T19:57:04.890008Z",
     "start_time": "2020-08-22T19:57:00.435186Z"
    },
    "code_folding": [
     1
    ],
    "run_control": {
     "marked": true
    },
    "scrolled": true
   },
   "outputs": [
    {
     "name": "stdout",
     "output_type": "stream",
     "text": [
      "Successfully loaded model to TITAN Xp.\n",
      "nn.global_context.context.squeeze.0.weight torch.Size([128, 2048, 1, 1])\n",
      "nn.global_context.context.squeeze.0.bias torch.Size([128])\n",
      "nn.global_context.context.context5_1.0.weight torch.Size([128, 128, 3, 3])\n",
      "nn.global_context.context.context5_1.0.bias torch.Size([128])\n",
      "nn.global_context.context.context5_2.0.weight torch.Size([128, 128, 3, 3])\n",
      "nn.global_context.context.context5_2.0.bias torch.Size([128])\n",
      "nn.global_context.context.context5_3.0.weight torch.Size([128, 128, 3, 3])\n",
      "nn.global_context.context.context5_3.0.bias torch.Size([128])\n",
      "nn.global_context.context.context5_4.0.weight torch.Size([128, 128, 3, 3])\n",
      "nn.global_context.context.context5_4.0.bias torch.Size([128])\n",
      "nn.global_context.context.squeeze2.0.weight torch.Size([64, 128, 1, 1])\n",
      "nn.global_context.context.squeeze2.0.bias torch.Size([64])\n",
      "nn.global_regressor.regressor.fc1_trans.0.weight torch.Size([4096, 6400])\n",
      "nn.global_regressor.regressor.fc1_trans.0.bias torch.Size([4096])\n",
      "nn.global_regressor.regressor.fc2_trans.0.weight torch.Size([4096, 4096])\n",
      "nn.global_regressor.regressor.fc2_trans.0.bias torch.Size([4096])\n",
      "nn.global_regressor.regressor.fc3_trans.0.weight torch.Size([128, 4096])\n",
      "nn.global_regressor.regressor.fc3_trans.0.bias torch.Size([128])\n",
      "nn.global_regressor.regressor.logits_t.weight torch.Size([3, 128])\n",
      "nn.global_regressor.regressor.logits_t.bias torch.Size([3])\n",
      "nn.global_regressor.regressor.fc1_rot.0.weight torch.Size([4096, 6400])\n",
      "nn.global_regressor.regressor.fc1_rot.0.bias torch.Size([4096])\n",
      "nn.global_regressor.regressor.fc2_rot.0.weight torch.Size([4096, 4096])\n",
      "nn.global_regressor.regressor.fc2_rot.0.bias torch.Size([4096])\n",
      "nn.global_regressor.regressor.fc3_rot.0.weight torch.Size([128, 4096])\n",
      "nn.global_regressor.regressor.fc3_rot.0.bias torch.Size([128])\n",
      "nn.global_regressor.regressor.logits_r.weight torch.Size([4, 128])\n",
      "nn.global_regressor.regressor.logits_r.bias torch.Size([4])\n"
     ]
    }
   ],
   "source": [
    "trainer = PosePredictor(args.norm_mean,args.norm_std,args,mixed_precision=True)\n",
    "'''\n",
    "state_dict = torch.load(os.path.join(trainer.args.model_dir, 'pretrained.pth'))\n",
    "for key in list(state_dict):\n",
    "    if 'resnet' not in key:\n",
    "        state_dict.pop(key)\n",
    "trainer.model.backbone.load_state_dict(state_dict)\n",
    "\n",
    "state_dict = torch.load(os.path.join(trainer.args.model_dir, 'pretrained.pth'))\n",
    "for key in list(state_dict):\n",
    "    if 'resnet' in key:\n",
    "        state_dict.pop(key)\n",
    "trainer.model.nn.load_state_dict(state_dict)\n",
    "'''\n",
    "#trainer.load_model('pretrained_feature.pth')\n",
    "#trainer.load_model('pretrained_nn.pth')\n",
    "trainer.load_model('pretrained_cnn.pth')\n",
    "#trainer.load_model('pretrained_old.pth',strict = False)\n",
    "trainer.show_require_grad()"
   ]
  },
  {
   "cell_type": "markdown",
   "metadata": {},
   "source": [
    "# Training"
   ]
  },
  {
   "cell_type": "code",
   "execution_count": 6,
   "metadata": {
    "ExecuteTime": {
     "end_time": "2020-08-22T19:14:51.728613Z",
     "start_time": "2020-08-22T19:14:48.159131Z"
    },
    "run_control": {
     "marked": true
    }
   },
   "outputs": [],
   "source": [
    "if args.tensorboard:\n",
    "    import os\n",
    "    os.system('rm -rf runs/nn')\n",
    "    from torch.utils.tensorboard import SummaryWriter\n",
    "    writer = SummaryWriter('runs/nn')\n",
    "    time.sleep(3)"
   ]
  },
  {
   "cell_type": "code",
   "execution_count": 7,
   "metadata": {
    "ExecuteTime": {
     "end_time": "2020-08-22T19:54:32.274108Z",
     "start_time": "2020-08-22T19:14:51.735550Z"
    },
    "run_control": {
     "marked": true
    },
    "scrolled": true
   },
   "outputs": [
    {
     "name": "stderr",
     "output_type": "stream",
     "text": [
      "100%|██████████| 213/213 [07:44<00:00,  2.18s/it, ave=0.143, loss=0.00631, lr=0.000522]\n",
      "100%|██████████| 213/213 [07:21<00:00,  2.07s/it, ave=0.00533, loss=0.0046, lr=0.000272] \n",
      "100%|██████████| 213/213 [07:15<00:00,  2.05s/it, ave=0.00413, loss=0.00368, lr=0.000142]\n",
      "100%|██████████| 213/213 [07:15<00:00,  2.05s/it, ave=0.00361, loss=0.00376, lr=6.31e-5] \n",
      "100%|██████████| 213/213 [07:15<00:00,  2.04s/it, ave=0.00336, loss=0.00323, lr=3.29e-5]\n",
      " 38%|███▊      | 82/213 [02:47<04:28,  2.05s/it, ave=0.00326, loss=0.0034, lr=2.8e-5]  \n"
     ]
    },
    {
     "ename": "KeyboardInterrupt",
     "evalue": "",
     "output_type": "error",
     "traceback": [
      "\u001b[0;31m---------------------------------------------------------------------------\u001b[0m",
      "\u001b[0;31mKeyboardInterrupt\u001b[0m                         Traceback (most recent call last)",
      "\u001b[0;32m<ipython-input-7-e3c360d499f5>\u001b[0m in \u001b[0;36m<module>\u001b[0;34m\u001b[0m\n\u001b[1;32m      6\u001b[0m         \u001b[0mx\u001b[0m\u001b[0;34m,\u001b[0m\u001b[0my\u001b[0m \u001b[0;34m=\u001b[0m \u001b[0mdata\u001b[0m\u001b[0;34m.\u001b[0m\u001b[0mvalues\u001b[0m\u001b[0;34m(\u001b[0m\u001b[0;34m)\u001b[0m\u001b[0;34m\u001b[0m\u001b[0;34m\u001b[0m\u001b[0m\n\u001b[1;32m      7\u001b[0m \u001b[0;34m\u001b[0m\u001b[0m\n\u001b[0;32m----> 8\u001b[0;31m         \u001b[0mloss\u001b[0m\u001b[0;34m,\u001b[0m \u001b[0mbatch_time\u001b[0m \u001b[0;34m=\u001b[0m \u001b[0mtrainer\u001b[0m\u001b[0;34m.\u001b[0m\u001b[0mtrain\u001b[0m\u001b[0;34m(\u001b[0m\u001b[0mx\u001b[0m\u001b[0;34m,\u001b[0m\u001b[0my\u001b[0m\u001b[0;34m)\u001b[0m\u001b[0;34m\u001b[0m\u001b[0;34m\u001b[0m\u001b[0m\n\u001b[0m\u001b[1;32m      9\u001b[0m \u001b[0;34m\u001b[0m\u001b[0m\n\u001b[1;32m     10\u001b[0m         \u001b[0mtrain_loss\u001b[0m \u001b[0;34m+=\u001b[0m \u001b[0mloss\u001b[0m\u001b[0;34m\u001b[0m\u001b[0;34m\u001b[0m\u001b[0m\n",
      "\u001b[0;32m<ipython-input-4-3a7ec5d55e49>\u001b[0m in \u001b[0;36mtrain\u001b[0;34m(self, x, y)\u001b[0m\n\u001b[1;32m     71\u001b[0m                 \u001b[0msingle_loss\u001b[0m \u001b[0;34m=\u001b[0m \u001b[0mself\u001b[0m\u001b[0;34m.\u001b[0m\u001b[0m_loss\u001b[0m\u001b[0;34m(\u001b[0m\u001b[0mx\u001b[0m\u001b[0;34m,\u001b[0m \u001b[0my\u001b[0m\u001b[0;34m)\u001b[0m\u001b[0;34m\u001b[0m\u001b[0;34m\u001b[0m\u001b[0m\n\u001b[1;32m     72\u001b[0m             \u001b[0mself\u001b[0m\u001b[0;34m.\u001b[0m\u001b[0mscaler\u001b[0m\u001b[0;34m.\u001b[0m\u001b[0mscale\u001b[0m\u001b[0;34m(\u001b[0m\u001b[0msingle_loss\u001b[0m\u001b[0;34m)\u001b[0m\u001b[0;34m.\u001b[0m\u001b[0mbackward\u001b[0m\u001b[0;34m(\u001b[0m\u001b[0;34m)\u001b[0m\u001b[0;34m\u001b[0m\u001b[0;34m\u001b[0m\u001b[0m\n\u001b[0;32m---> 73\u001b[0;31m             \u001b[0mself\u001b[0m\u001b[0;34m.\u001b[0m\u001b[0mscaler\u001b[0m\u001b[0;34m.\u001b[0m\u001b[0mstep\u001b[0m\u001b[0;34m(\u001b[0m\u001b[0mself\u001b[0m\u001b[0;34m.\u001b[0m\u001b[0moptimizer\u001b[0m\u001b[0;34m)\u001b[0m\u001b[0;34m\u001b[0m\u001b[0;34m\u001b[0m\u001b[0m\n\u001b[0m\u001b[1;32m     74\u001b[0m             \u001b[0mself\u001b[0m\u001b[0;34m.\u001b[0m\u001b[0mscaler\u001b[0m\u001b[0;34m.\u001b[0m\u001b[0mupdate\u001b[0m\u001b[0;34m(\u001b[0m\u001b[0;34m)\u001b[0m\u001b[0;34m\u001b[0m\u001b[0;34m\u001b[0m\u001b[0m\n\u001b[1;32m     75\u001b[0m         \u001b[0;32melse\u001b[0m\u001b[0;34m:\u001b[0m\u001b[0;34m\u001b[0m\u001b[0;34m\u001b[0m\u001b[0m\n",
      "\u001b[0;32m~/.local/lib/python3.6/site-packages/torch/cuda/amp/grad_scaler.py\u001b[0m in \u001b[0;36mstep\u001b[0;34m(self, optimizer, *args, **kwargs)\u001b[0m\n\u001b[1;32m    291\u001b[0m         \u001b[0;32massert\u001b[0m \u001b[0mlen\u001b[0m\u001b[0;34m(\u001b[0m\u001b[0moptimizer_state\u001b[0m\u001b[0;34m[\u001b[0m\u001b[0;34m\"found_inf_per_device\"\u001b[0m\u001b[0;34m]\u001b[0m\u001b[0;34m)\u001b[0m \u001b[0;34m>\u001b[0m \u001b[0;36m0\u001b[0m\u001b[0;34m,\u001b[0m \u001b[0;34m\"No inf checks were recorded for this optimizer.\"\u001b[0m\u001b[0;34m\u001b[0m\u001b[0;34m\u001b[0m\u001b[0m\n\u001b[1;32m    292\u001b[0m \u001b[0;34m\u001b[0m\u001b[0m\n\u001b[0;32m--> 293\u001b[0;31m         \u001b[0;32mif\u001b[0m \u001b[0;32mnot\u001b[0m \u001b[0msum\u001b[0m\u001b[0;34m(\u001b[0m\u001b[0mv\u001b[0m\u001b[0;34m.\u001b[0m\u001b[0mitem\u001b[0m\u001b[0;34m(\u001b[0m\u001b[0;34m)\u001b[0m \u001b[0;32mfor\u001b[0m \u001b[0mv\u001b[0m \u001b[0;32min\u001b[0m \u001b[0moptimizer_state\u001b[0m\u001b[0;34m[\u001b[0m\u001b[0;34m\"found_inf_per_device\"\u001b[0m\u001b[0;34m]\u001b[0m\u001b[0;34m.\u001b[0m\u001b[0mvalues\u001b[0m\u001b[0;34m(\u001b[0m\u001b[0;34m)\u001b[0m\u001b[0;34m)\u001b[0m\u001b[0;34m:\u001b[0m\u001b[0;34m\u001b[0m\u001b[0;34m\u001b[0m\u001b[0m\n\u001b[0m\u001b[1;32m    294\u001b[0m             \u001b[0mretval\u001b[0m \u001b[0;34m=\u001b[0m \u001b[0moptimizer\u001b[0m\u001b[0;34m.\u001b[0m\u001b[0mstep\u001b[0m\u001b[0;34m(\u001b[0m\u001b[0;34m*\u001b[0m\u001b[0margs\u001b[0m\u001b[0;34m,\u001b[0m \u001b[0;34m**\u001b[0m\u001b[0mkwargs\u001b[0m\u001b[0;34m)\u001b[0m\u001b[0;34m\u001b[0m\u001b[0;34m\u001b[0m\u001b[0m\n\u001b[1;32m    295\u001b[0m \u001b[0;34m\u001b[0m\u001b[0m\n",
      "\u001b[0;32m~/.local/lib/python3.6/site-packages/torch/cuda/amp/grad_scaler.py\u001b[0m in \u001b[0;36m<genexpr>\u001b[0;34m(.0)\u001b[0m\n\u001b[1;32m    291\u001b[0m         \u001b[0;32massert\u001b[0m \u001b[0mlen\u001b[0m\u001b[0;34m(\u001b[0m\u001b[0moptimizer_state\u001b[0m\u001b[0;34m[\u001b[0m\u001b[0;34m\"found_inf_per_device\"\u001b[0m\u001b[0;34m]\u001b[0m\u001b[0;34m)\u001b[0m \u001b[0;34m>\u001b[0m \u001b[0;36m0\u001b[0m\u001b[0;34m,\u001b[0m \u001b[0;34m\"No inf checks were recorded for this optimizer.\"\u001b[0m\u001b[0;34m\u001b[0m\u001b[0;34m\u001b[0m\u001b[0m\n\u001b[1;32m    292\u001b[0m \u001b[0;34m\u001b[0m\u001b[0m\n\u001b[0;32m--> 293\u001b[0;31m         \u001b[0;32mif\u001b[0m \u001b[0;32mnot\u001b[0m \u001b[0msum\u001b[0m\u001b[0;34m(\u001b[0m\u001b[0mv\u001b[0m\u001b[0;34m.\u001b[0m\u001b[0mitem\u001b[0m\u001b[0;34m(\u001b[0m\u001b[0;34m)\u001b[0m \u001b[0;32mfor\u001b[0m \u001b[0mv\u001b[0m \u001b[0;32min\u001b[0m \u001b[0moptimizer_state\u001b[0m\u001b[0;34m[\u001b[0m\u001b[0;34m\"found_inf_per_device\"\u001b[0m\u001b[0;34m]\u001b[0m\u001b[0;34m.\u001b[0m\u001b[0mvalues\u001b[0m\u001b[0;34m(\u001b[0m\u001b[0;34m)\u001b[0m\u001b[0;34m)\u001b[0m\u001b[0;34m:\u001b[0m\u001b[0;34m\u001b[0m\u001b[0;34m\u001b[0m\u001b[0m\n\u001b[0m\u001b[1;32m    294\u001b[0m             \u001b[0mretval\u001b[0m \u001b[0;34m=\u001b[0m \u001b[0moptimizer\u001b[0m\u001b[0;34m.\u001b[0m\u001b[0mstep\u001b[0m\u001b[0;34m(\u001b[0m\u001b[0;34m*\u001b[0m\u001b[0margs\u001b[0m\u001b[0;34m,\u001b[0m \u001b[0;34m**\u001b[0m\u001b[0mkwargs\u001b[0m\u001b[0;34m)\u001b[0m\u001b[0;34m\u001b[0m\u001b[0;34m\u001b[0m\u001b[0m\n\u001b[1;32m    295\u001b[0m \u001b[0;34m\u001b[0m\u001b[0m\n",
      "\u001b[0;31mKeyboardInterrupt\u001b[0m: "
     ]
    }
   ],
   "source": [
    "trainer.model.train()\n",
    "for e in range(args.num_epochs):\n",
    "    minibatch_iter = tqdm(dataloader)\n",
    "    train_loss = 0.\n",
    "    for b, data in enumerate(minibatch_iter):\n",
    "        x,y = data.values()\n",
    "\n",
    "        loss, batch_time = trainer.train(x,y)\n",
    "        \n",
    "        train_loss += loss\n",
    "        ave_loss = train_loss/(b+1)\n",
    "        step = e*len(dataloader)+(b+1)\n",
    "        # display data\n",
    "        minibatch_iter.set_postfix(ave = ave_loss, loss=loss,lr=trainer.scheduler.get_last_lr()[0])\n",
    "        # tensorboard\n",
    "        trainer.data2tensorboard(writer,'training loss',{'item loss':loss,'batch loss':ave_loss},step)\n",
    "        # save model\n",
    "        #trainer.save_model_step(e,step)\n",
    "        # step scheduler\n",
    "        trainer.schedule_step(step,50)"
   ]
  },
  {
   "cell_type": "code",
   "execution_count": 8,
   "metadata": {
    "ExecuteTime": {
     "end_time": "2020-08-22T19:07:31.322973Z",
     "start_time": "2020-08-22T19:07:30.184024Z"
    }
   },
   "outputs": [
    {
     "name": "stdout",
     "output_type": "stream",
     "text": [
      "Saving model to pretrained_cnn.pth\n"
     ]
    }
   ],
   "source": [
    "trainer.save_model('pretrained_cnn.pth')"
   ]
  },
  {
   "cell_type": "markdown",
   "metadata": {},
   "source": [
    "# Evaluation"
   ]
  },
  {
   "cell_type": "code",
   "execution_count": 6,
   "metadata": {
    "ExecuteTime": {
     "end_time": "2020-08-22T19:57:12.590314Z",
     "start_time": "2020-08-22T19:57:08.613713Z"
    }
   },
   "outputs": [
    {
     "name": "stderr",
     "output_type": "stream",
     "text": [
      "  0%|          | 0/42 [00:00<?, ?it/s]\n"
     ]
    }
   ],
   "source": [
    "trainer.model.eval()\n",
    "for e in range(args.num_epochs):\n",
    "    minibatch_iter = tqdm(dataloader)\n",
    "    train_loss = 0.\n",
    "    for b, data in enumerate(minibatch_iter):\n",
    "        x,y = data.values()\n",
    "        break\n",
    "    break\n",
    "    \n",
    "with torch.no_grad():\n",
    "    trans_pred, rot_pred, trans_gt, rot_gt = trainer.eval_forward(x,y)"
   ]
  },
  {
   "cell_type": "code",
   "execution_count": 7,
   "metadata": {
    "ExecuteTime": {
     "end_time": "2020-08-22T19:57:12.679708Z",
     "start_time": "2020-08-22T19:57:12.595805Z"
    },
    "cell_style": "split"
   },
   "outputs": [
    {
     "data": {
      "text/plain": [
       "tensor([[  -308.7205,    328.2235,    -11.3248],\n",
       "        [    -5.6888,    240.6147,     -5.5175],\n",
       "        [   -30.2300,     38.2000,     -2.8123],\n",
       "        [  -308.3470,    480.1413,    -12.0075],\n",
       "        [    22.8371,    239.6704,     -4.3876],\n",
       "        [   -72.8947,    285.4908,     -9.1210],\n",
       "        [    23.8033,    344.5584,     -1.9748],\n",
       "        [  -180.4330,    699.0442,    -12.2002],\n",
       "        [   -27.4269,    179.3230,     -3.6110],\n",
       "        [   -83.7531,    473.6189,    -10.7122],\n",
       "        [    34.9525,    464.3186,     -2.3831],\n",
       "        [  -297.1191,    545.1538,    -12.5989],\n",
       "        [  -189.8914,    391.9798,    -14.7914],\n",
       "        [    23.0532,    390.3834,     -2.0233],\n",
       "        [  -279.9417,    687.1698,    -14.2649],\n",
       "        [    29.4659,    416.6886,     -1.9440],\n",
       "        [  -306.0102,    449.9053,    -12.2469],\n",
       "        [  -176.1054,    497.9644,    -12.1934],\n",
       "        [   -49.9920,    454.1875,    -10.4992],\n",
       "        [   -57.4626,    157.1786,     -3.2896],\n",
       "        [  -311.0583,    279.7549,    -11.3455],\n",
       "        [  -255.6260,    523.5671,    -11.4730],\n",
       "        [    65.0211,    231.0878,     -2.4705],\n",
       "        [   -79.2706,    371.7005,     -8.6917],\n",
       "        [   -77.0528,    394.0659,     -9.1933],\n",
       "        [  -309.5735,    330.1548,    -11.3000],\n",
       "        [  -307.9161,    387.7085,    -11.7427],\n",
       "        [    30.1631,    518.9095,     -1.3442],\n",
       "        [  -239.7359,    528.1406,    -11.8338],\n",
       "        [    23.7397,    346.0512,     -1.9682],\n",
       "        [  -288.1296,    546.5368,    -12.2917],\n",
       "        [    58.3548,    215.8438,     -1.7266],\n",
       "        [   -40.4066,    243.4057,     -6.6926],\n",
       "        [    40.4700,    323.4154,     -1.9310],\n",
       "        [  -159.2977,    524.4749,    -12.0369],\n",
       "        [    78.6090,    170.6422,     -1.8503],\n",
       "        [  -311.4045,    530.4390,    -12.6674],\n",
       "        [   -57.5199,    137.4507,     -3.0725],\n",
       "        [    69.4956,     46.6852,     -2.0726],\n",
       "        [  -181.1668,    551.3578,    -12.4935],\n",
       "        [   -41.9297,    254.8096,     -6.5855],\n",
       "        [  -114.5739,    505.2308,    -11.4574],\n",
       "        [    12.2257,    136.7939,     -3.3375],\n",
       "        [  -174.0388,    593.6072,    -12.5438],\n",
       "        [  -309.9116,    327.4154,    -11.3076],\n",
       "        [    25.7037,    406.7951,     -1.9670],\n",
       "        [  -273.5667,    536.9722,    -11.9152],\n",
       "        [  -178.0571,    712.1155,    -12.3915],\n",
       "        [  -218.6179,    556.8646,    -11.7330],\n",
       "        [  -109.6061,    619.3159,    -12.1899],\n",
       "        [  -252.1194,    296.1172,    -11.4182],\n",
       "        [   -94.8486,    438.5282,    -10.4147],\n",
       "        [  -242.7049,    369.9006,    -13.5878],\n",
       "        [  -313.4962,    403.2239,    -12.1125],\n",
       "        [  -144.8237,    436.4043,    -11.2767],\n",
       "        [    35.5413,    504.5175,     -1.7303],\n",
       "        [    60.9884,    146.0941,     -2.4938],\n",
       "        [  -241.2442,    375.7324,    -13.6479],\n",
       "        [  -120.4574,    268.6607,     -9.4288],\n",
       "        [  -185.3908,    671.9252,    -12.4258],\n",
       "        [  -217.2158,    316.4450,    -11.3145],\n",
       "        [  -115.2021,    680.1803,    -12.1572],\n",
       "        [  -160.1032,    518.9502,    -12.0606],\n",
       "        [    33.6365,    529.3287,     -1.6420],\n",
       "        [  -309.5398,    482.9265,    -12.0689],\n",
       "        [   -73.3310,    561.3728,    -11.5244],\n",
       "        [   -80.8915,    451.7079,    -10.6479],\n",
       "        [  -143.3164,    517.1252,    -11.8252],\n",
       "        [    23.2036,    382.6666,     -2.0414],\n",
       "        [  -185.0647,    665.4331,    -12.7775],\n",
       "        [    23.1506,    393.9795,     -1.9803],\n",
       "        [     8.3394,    239.4046,     -5.0639],\n",
       "        [  -312.9227,    335.4109,    -11.4026],\n",
       "        [  -256.4543,    725.0919,    -13.6647],\n",
       "        [    79.5581,    350.4299,     -1.7777],\n",
       "        [   -86.7105,    599.7531,    -12.2531],\n",
       "        [    41.5216,    220.5616,     -2.1425],\n",
       "        [  -124.4764,    485.2735,    -11.5202],\n",
       "        [  -181.1633,    584.7563,    -12.4874],\n",
       "        [  -108.7811,    502.2020,    -11.3725],\n",
       "        [   -79.1310,    398.4742,     -9.2221],\n",
       "        [    42.7413,    176.3833,     -2.2376],\n",
       "        [  -311.6268,    428.2032,    -12.2104],\n",
       "        [  -312.6307,    317.9302,    -11.2817],\n",
       "        [    -0.0086,     19.4814,     -1.4848],\n",
       "        [   -57.5003,    116.2958,     -2.7663],\n",
       "        [  -215.4360,    394.9776,    -14.4756],\n",
       "        [    17.3793,    -69.8880,      1.3729],\n",
       "        [   -99.4488,    509.7937,    -11.3285],\n",
       "        [   -43.7723,    536.8040,    -11.4110],\n",
       "        [   -55.2972,    273.3249,     -7.7267],\n",
       "        [    30.4915,    510.0205,     -1.3988],\n",
       "        [  -312.3320,    451.7575,    -12.0739],\n",
       "        [   -41.2315,    553.2905,    -11.5418],\n",
       "        [    17.0071,    249.0421,     -4.6053],\n",
       "        [  -304.9865,    544.1621,    -12.6894],\n",
       "        [  -286.2151,    440.6176,    -12.2018],\n",
       "        [   -83.9113,    453.6146,    -10.6611],\n",
       "        [  -192.8432,    466.3350,    -11.9178],\n",
       "        [     8.8721,    139.6390,     -3.3213],\n",
       "        [  -308.3278,    374.5427,    -11.5162],\n",
       "        [    -2.5240,    510.4672,     -2.3826],\n",
       "        [    55.1190,    316.4638,     -1.7202],\n",
       "        [   -22.6184,    149.4164,     -3.2486],\n",
       "        [  -125.0790,    437.6634,    -10.9720],\n",
       "        [    81.0908,    474.6502,     -1.4074],\n",
       "        [  -235.3006,    283.6702,    -11.3339],\n",
       "        [  -313.4548,    391.9842,    -11.9049],\n",
       "        [  -231.6496,    720.2232,    -13.3320],\n",
       "        [  -306.7384,    717.8170,    -13.8957],\n",
       "        [  -255.7707,    521.9179,    -11.4104],\n",
       "        [  -137.7779,    437.4117,    -11.2648],\n",
       "        [  -181.4044,    437.9997,    -12.1087],\n",
       "        [    62.1933,     44.0519,     -2.2909],\n",
       "        [  -289.3684,    282.8973,    -11.3298],\n",
       "        [   -49.2513,    540.5726,    -11.4461],\n",
       "        [  -160.5097,    452.1394,    -11.6948],\n",
       "        [    45.2247,    163.8974,     -2.0988],\n",
       "        [  -104.4721,    510.6248,    -11.3987],\n",
       "        [    36.5124,    495.6089,     -1.8339],\n",
       "        [    -0.7436,      8.1467,     -0.7851],\n",
       "        [    33.7828,    463.4319,     -2.1770],\n",
       "        [    -4.7292,     11.5717,     -0.9137],\n",
       "        [  -272.3833,    380.0188,    -13.6788],\n",
       "        [  -335.3272,    607.6771,    -14.0554],\n",
       "        [  -229.3283,    441.0599,    -12.3538],\n",
       "        [  -305.5915,    545.3929,    -12.5984],\n",
       "        [  -307.1728,    632.6846,    -13.8458],\n",
       "        [    34.6321,    447.4803,     -1.9975],\n",
       "        [    52.5995,    312.8214,     -1.7329],\n",
       "        [    21.9166,    355.5970,     -2.0197],\n",
       "        [  -168.6612,    584.0338,    -12.1843],\n",
       "        [  -177.1796,    531.2125,    -12.2230],\n",
       "        [  -266.6697,    392.4049,    -14.0556],\n",
       "        [    37.3626,    151.4176,     -2.7233],\n",
       "        [    29.8984,    421.7669,     -2.0338],\n",
       "        [  -114.4063,    626.7570,    -12.2130],\n",
       "        [    34.6004,    542.7483,     -1.8133],\n",
       "        [  -238.6449,    374.5717,    -13.6552],\n",
       "        [    25.4644,    339.1828,     -1.9112],\n",
       "        [  -131.0423,    288.6735,    -10.6689],\n",
       "        [   -82.0908,    447.2037,    -10.5475],\n",
       "        [   -90.8623,    260.1447,     -7.4426],\n",
       "        [  -305.9767,    300.8457,    -11.2475],\n",
       "        [   -72.0995,    508.0261,    -11.1302],\n",
       "        [   104.6863,    -70.3235,      2.8071],\n",
       "        [  -224.6770,    394.9744,    -14.5258],\n",
       "        [    68.9138,    225.3476,     -1.9366],\n",
       "        [  -193.2186,    437.5567,    -12.3001],\n",
       "        [    38.6636,    241.9867,     -3.8313],\n",
       "        [   -56.5003,    548.2410,    -11.3923],\n",
       "        [  -218.8387,    563.3395,    -11.8647],\n",
       "        [  -179.7498,    565.2015,    -12.5225],\n",
       "        [  -307.4059,    381.5029,    -11.5704],\n",
       "        [    32.9090,    462.9924,     -2.2029],\n",
       "        [  -178.1056,    589.5187,    -12.4716],\n",
       "        [    36.0120,    325.4928,     -1.8747],\n",
       "        [   -40.2171,    503.4521,    -11.3485],\n",
       "        [  -306.4368,    681.4927,    -13.9536],\n",
       "        [  -172.8403,    584.1962,    -12.3314],\n",
       "        [   -80.4476,    454.4156,    -10.7234],\n",
       "        [    59.1020,    324.9311,     -1.7361],\n",
       "        [  -189.9920,    401.5375,    -14.5958],\n",
       "        [  -158.3239,    519.9728,    -11.9848],\n",
       "        [  -334.2207,    613.3350,    -13.9836],\n",
       "        [    22.0453,    383.7755,     -2.0734],\n",
       "        [   -76.8344,    453.2163,    -10.6047],\n",
       "        [  -167.1082,    529.8082,    -12.1172],\n",
       "        [    74.5033,    139.3641,     -2.0186],\n",
       "        [  -310.4249,    478.9173,    -12.0605],\n",
       "        [  -109.7405,    473.2034,    -11.2619],\n",
       "        [    28.3974,    321.8008,     -1.9484],\n",
       "        [  -131.5989,    505.4848,    -11.6620],\n",
       "        [   -14.0726,    -74.3664,      0.8407],\n",
       "        [  -114.0934,    263.6925,     -8.6777],\n",
       "        [  -312.1223,    452.1018,    -12.2443],\n",
       "        [  -293.6421,    720.7538,    -13.9558],\n",
       "        [    65.7603,    222.5940,     -1.6952],\n",
       "        [  -283.1249,    547.9500,    -12.1194],\n",
       "        [  -261.6363,    529.9361,    -11.5714],\n",
       "        [   -80.6342,    422.0755,     -9.7637],\n",
       "        [  -306.4034,    387.6369,    -11.7923],\n",
       "        [  -186.0888,    395.8140,    -14.8382],\n",
       "        [    78.8356,    346.3530,     -1.8658],\n",
       "        [  -311.2816,    520.1638,    -12.3221],\n",
       "        [  -149.6803,    580.7543,    -11.8678],\n",
       "        [    79.3457,    364.6664,     -1.7301],\n",
       "        [    35.5240,    509.3203,     -1.5186],\n",
       "        [    26.3274,    -83.3164,      2.4079],\n",
       "        [    78.8067,    269.9685,     -2.0274],\n",
       "        [    16.6543,    390.3512,     -1.6996],\n",
       "        [  -295.5719,    542.0655,    -12.5171],\n",
       "        [   -81.3078,    307.7865,     -8.7257],\n",
       "        [  -209.1637,    443.6461,    -12.3406],\n",
       "        [   -43.0066,    490.7064,    -11.2309],\n",
       "        [  -132.7104,    435.1483,    -11.1060],\n",
       "        [    76.0641,     91.4952,     -1.8033],\n",
       "        [  -178.2288,    709.3765,    -12.3926],\n",
       "        [   -71.6981,    565.5342,    -11.5177],\n",
       "        [    80.4782,    421.0671,     -1.4757],\n",
       "        [  -122.4188,    320.7381,    -10.2897],\n",
       "        [  -309.7701,    507.0441,    -12.1467],\n",
       "        [  -197.8672,    370.2848,    -14.1669],\n",
       "        [   -75.1029,    582.2573,    -11.7172],\n",
       "        [  -312.7416,    388.4692,    -11.8004],\n",
       "        [   -82.2355,    459.0620,    -10.7337],\n",
       "        [    30.7526,    250.1264,     -4.1079],\n",
       "        [   -35.8218,     48.8741,     -2.8508],\n",
       "        [  -178.8474,    638.1295,    -13.0092],\n",
       "        [  -107.3141,    581.0262,    -11.9057],\n",
       "        [   -38.5425,    532.3099,    -11.4260],\n",
       "        [    70.0568,     40.7962,     -1.6400],\n",
       "        [    45.1665,    240.9125,     -3.4517],\n",
       "        [   -87.3755,    436.8166,    -10.3835],\n",
       "        [  -175.1545,    438.8118,    -11.8876],\n",
       "        [  -125.3671,    369.0269,     -9.8401],\n",
       "        [     2.6735,      4.5769,     -0.6326],\n",
       "        [   -84.7767,    476.9897,    -10.8356],\n",
       "        [    43.6517,    137.3989,     -2.8969],\n",
       "        [  -274.5584,    441.7543,    -12.2788],\n",
       "        [  -225.1602,    393.5376,    -14.3849],\n",
       "        [  -125.1697,    314.9734,    -10.3376],\n",
       "        [   -18.8808,    159.8231,     -3.3471],\n",
       "        [  -277.0930,    387.1405,    -13.8015],\n",
       "        [  -192.4654,    469.4828,    -11.7302],\n",
       "        [  -309.4465,    463.3106,    -12.0224],\n",
       "        [    24.7804,    508.7664,     -1.5255],\n",
       "        [  -180.7608,    636.5780,    -12.9004],\n",
       "        [  -123.4180,    299.6016,    -10.5797],\n",
       "        [  -192.9260,    414.9908,    -13.0742],\n",
       "        [    35.6851,    453.2322,     -2.2086],\n",
       "        [   -82.5770,    338.8227,     -8.2421],\n",
       "        [  -110.0875,    587.0051,    -12.0145],\n",
       "        [    21.3287,    346.7332,     -2.0051],\n",
       "        [   -79.2728,    478.5337,    -10.8690],\n",
       "        [  -281.1570,    724.7227,    -13.9093],\n",
       "        [   -74.1949,    453.0680,    -10.6499],\n",
       "        [   -74.2006,    507.3769,    -11.1469],\n",
       "        [  -303.3904,    284.8387,    -11.3126],\n",
       "        [   -79.6858,    365.1389,     -8.6599],\n",
       "        [  -181.7049,    537.4033,    -12.2962],\n",
       "        [  -310.0154,    297.0680,    -11.3655],\n",
       "        [  -273.7289,    438.9622,    -12.3220],\n",
       "        [  -308.4617,    712.4543,    -13.9251],\n",
       "        [   -46.9661,    546.3719,    -11.4924],\n",
       "        [  -270.5679,    372.9301,    -13.2771],\n",
       "        [    -2.1584,    146.3551,     -3.5136],\n",
       "        [   -74.5942,    365.4535,     -8.3523],\n",
       "        [   -72.0894,    284.8407,     -9.1407],\n",
       "        [  -277.6174,    441.8084,    -12.3195],\n",
       "        [  -316.1057,    711.7519,    -14.1626],\n",
       "        [  -295.7076,    543.9957,    -12.4695],\n",
       "        [    71.9958,    518.9603,     -1.0226],\n",
       "        [  -154.2804,    436.4590,    -11.4908],\n",
       "        [  -218.5858,    600.1885,    -11.9442],\n",
       "        [    57.2223,    142.5982,     -2.5589],\n",
       "        [    79.6443,    297.3047,     -1.9035],\n",
       "        [   -49.9685,    196.2726,     -3.7104],\n",
       "        [     8.9610,    503.9603,     -2.1514],\n",
       "        [   -51.4623,    546.7261,    -11.4712],\n",
       "        [    48.6385,    144.3974,     -2.7129],\n",
       "        [    34.5490,    136.9452,     -2.9527],\n",
       "        [  -224.8055,    667.7406,    -12.5922],\n",
       "        [   -81.4652,    327.2867,     -8.4448],\n",
       "        [    35.7793,    516.0120,     -1.5082],\n",
       "        [    22.8475,    361.0232,     -2.0302],\n",
       "        [  -315.2617,    389.7820,    -11.9010],\n",
       "        [    36.6083,    326.1779,     -1.8816],\n",
       "        [   -73.9608,    582.3455,    -11.6927],\n",
       "        [    40.2513,    143.3993,     -2.9562],\n",
       "        [  -218.8105,    691.6094,    -12.8911],\n",
       "        [   -47.7776,    257.6150,     -6.9657],\n",
       "        [  -186.5600,    393.6579,    -14.7314],\n",
       "        [  -199.8404,    508.5168,    -12.4752],\n",
       "        [    23.5082,    538.7740,     -1.8372],\n",
       "        [  -180.1022,    608.4343,    -12.9115],\n",
       "        [  -305.5183,    690.7725,    -13.9310],\n",
       "        [  -168.3223,    712.5945,    -12.3273],\n",
       "        [  -297.1953,    391.8611,    -11.5520],\n",
       "        [    81.1436,     72.7645,     -1.5382],\n",
       "        [   -46.8514,    450.7007,    -10.4922],\n",
       "        [  -310.9002,    477.2528,    -12.0272],\n",
       "        [  -275.4886,    443.0940,    -12.2826],\n",
       "        [  -312.7097,    466.2524,    -12.0656],\n",
       "        [    69.0466,    143.0867,     -2.1794],\n",
       "        [  -151.5422,    290.4473,    -10.8536],\n",
       "        [  -267.6851,    291.2781,    -11.4006],\n",
       "        [  -123.5214,    484.9412,    -11.5145],\n",
       "        [    82.8125,   -101.1789,      2.8738],\n",
       "        [    24.8688,    540.3915,     -1.9386],\n",
       "        [    85.0254,    455.8178,     -1.4232],\n",
       "        [  -122.1640,    434.4865,    -10.8619],\n",
       "        [  -229.7921,    440.1703,    -12.4043],\n",
       "        [   -54.6878,     71.7819,     -2.3656],\n",
       "        [  -306.0720,    446.8002,    -12.1547],\n",
       "        [  -291.8973,    442.0195,    -12.2848],\n",
       "        [  -265.3034,    534.5632,    -11.5419],\n",
       "        [    47.0886,    148.1053,     -2.7127],\n",
       "        [  -230.5063,    292.1854,    -11.3823],\n",
       "        [   -70.8223,    570.5464,    -11.5647]], device='cuda:1')"
      ]
     },
     "execution_count": 7,
     "metadata": {},
     "output_type": "execute_result"
    }
   ],
   "source": [
    "trans_pred"
   ]
  },
  {
   "cell_type": "code",
   "execution_count": 8,
   "metadata": {
    "ExecuteTime": {
     "end_time": "2020-08-22T19:57:12.730953Z",
     "start_time": "2020-08-22T19:57:12.681564Z"
    },
    "cell_style": "split"
   },
   "outputs": [
    {
     "data": {
      "text/plain": [
       "tensor([[  -307.5341,    321.5056,    -11.2931],\n",
       "        [   -13.3284,    238.4964,     -5.6624],\n",
       "        [   -31.1468,     39.1289,     -2.8683],\n",
       "        [  -310.0840,    480.3721,    -11.9552],\n",
       "        [    23.5332,    240.1028,     -4.3579],\n",
       "        [   -73.2721,    284.1154,     -9.1723],\n",
       "        [    24.4777,    344.3256,     -1.9789],\n",
       "        [  -180.3148,    700.2698,    -12.2590],\n",
       "        [   -22.8906,    173.7944,     -3.5708],\n",
       "        [   -83.9261,    473.8421,    -10.7335],\n",
       "        [    35.0666,    463.8519,     -2.3491],\n",
       "        [  -295.8101,    546.9922,    -12.5986],\n",
       "        [  -189.5962,    393.3441,    -14.8420],\n",
       "        [    23.0018,    388.8492,     -1.9940],\n",
       "        [  -280.8733,    686.4551,    -14.2578],\n",
       "        [    26.5253,    416.3970,     -2.0472],\n",
       "        [  -305.0526,    450.3047,    -12.2457],\n",
       "        [  -173.8248,    496.1037,    -12.0962],\n",
       "        [   -52.6341,    453.5656,    -10.4483],\n",
       "        [   -58.5504,    156.6659,     -3.2581],\n",
       "        [  -310.5334,    280.9533,    -11.2848],\n",
       "        [  -252.4933,    520.5668,    -11.2647],\n",
       "        [    62.4570,    232.6421,     -2.5430],\n",
       "        [   -82.8655,    368.5675,     -8.6569],\n",
       "        [   -76.6570,    396.3292,     -9.2680],\n",
       "        [  -310.1098,    329.1331,    -11.2973],\n",
       "        [  -309.5606,    390.2874,    -11.7396],\n",
       "        [    30.2422,    519.0297,     -1.3785],\n",
       "        [  -236.6332,    530.0918,    -12.0064],\n",
       "        [    27.7186,    343.9867,     -2.0097],\n",
       "        [  -287.9207,    549.8125,    -12.4332],\n",
       "        [    61.2303,    214.8943,     -1.7661],\n",
       "        [   -35.4383,    240.2922,     -6.6067],\n",
       "        [    39.5720,    323.3055,     -1.9354],\n",
       "        [  -159.8553,    524.9601,    -12.0857],\n",
       "        [    79.9883,    175.1481,     -1.8112],\n",
       "        [  -314.2391,    526.4448,    -12.5376],\n",
       "        [   -59.8006,    138.1306,     -3.0956],\n",
       "        [    72.9129,     46.2996,     -2.0071],\n",
       "        [  -179.7843,    549.7051,    -12.5218],\n",
       "        [   -41.7126,    255.5589,     -6.4518],\n",
       "        [  -115.2843,    506.9753,    -11.4817],\n",
       "        [     9.4591,    137.9532,     -3.3338],\n",
       "        [  -178.6414,    596.8945,    -12.6095],\n",
       "        [  -306.6718,    326.2321,    -11.2742],\n",
       "        [    22.9616,    409.7537,     -2.0101],\n",
       "        [  -273.3130,    536.9407,    -11.8447],\n",
       "        [  -179.6443,    710.7825,    -12.4151],\n",
       "        [  -219.7485,    555.5648,    -11.7291],\n",
       "        [  -110.1456,    617.7227,    -12.1463],\n",
       "        [  -250.2853,    295.2507,    -11.3666],\n",
       "        [   -93.2611,    438.5461,    -10.4170],\n",
       "        [  -243.7461,    369.2112,    -13.6109],\n",
       "        [  -311.6873,    409.3788,    -12.1511],\n",
       "        [  -145.4866,    433.9125,    -11.3335],\n",
       "        [    35.6006,    503.9834,     -1.7205],\n",
       "        [    59.0469,    145.8358,     -2.4403],\n",
       "        [  -242.7653,    375.5943,    -13.5940],\n",
       "        [  -119.8927,    268.7240,     -9.4643],\n",
       "        [  -187.4426,    678.5307,    -12.3264],\n",
       "        [  -215.6651,    317.2688,    -11.3418],\n",
       "        [  -113.5594,    680.1183,    -12.1608],\n",
       "        [  -159.1610,    517.7089,    -12.0362],\n",
       "        [    35.1517,    530.7463,     -1.7556],\n",
       "        [  -308.1031,    483.8660,    -12.0100],\n",
       "        [   -68.4797,    558.0708,    -11.4913],\n",
       "        [   -79.1294,    452.0664,    -10.7025],\n",
       "        [  -137.6909,    515.5146,    -11.7638],\n",
       "        [    23.0007,    383.6974,     -2.0461],\n",
       "        [  -185.9675,    665.7384,    -12.7277],\n",
       "        [    23.7559,    393.0150,     -1.9185],\n",
       "        [     8.2603,    240.0595,     -5.0219],\n",
       "        [  -313.3995,    337.0272,    -11.4348],\n",
       "        [  -258.6845,    724.2936,    -13.6690],\n",
       "        [    83.0697,    345.1221,     -1.8801],\n",
       "        [   -89.3918,    599.2690,    -12.2352],\n",
       "        [    39.3893,    221.3298,     -2.2824],\n",
       "        [  -122.1261,    484.7994,    -11.5563],\n",
       "        [  -183.0456,    580.8589,    -12.4571],\n",
       "        [  -107.8310,    505.8888,    -11.3614],\n",
       "        [   -83.1752,    400.2573,     -9.2285],\n",
       "        [    43.6964,    177.3674,     -2.2118],\n",
       "        [  -310.7141,    429.2097,    -12.2577],\n",
       "        [  -314.2431,    319.9441,    -11.2613],\n",
       "        [    -0.4687,     19.7530,     -1.4126],\n",
       "        [   -59.4646,    113.4427,     -2.7703],\n",
       "        [  -216.2198,    394.9203,    -14.4640],\n",
       "        [    23.8075,    -69.4116,      1.6417],\n",
       "        [   -98.7756,    508.0307,    -11.3333],\n",
       "        [   -46.2538,    538.9290,    -11.4250],\n",
       "        [   -54.2186,    271.5234,     -7.7474],\n",
       "        [    29.4435,    509.3616,     -1.4929],\n",
       "        [  -310.8533,    452.7228,    -11.8555],\n",
       "        [   -35.2328,    550.0757,    -11.5447],\n",
       "        [    15.9670,    252.5081,     -4.6502],\n",
       "        [  -307.5521,    546.6141,    -12.7703],\n",
       "        [  -284.4545,    440.8294,    -12.1888],\n",
       "        [   -83.6662,    453.2321,    -10.6731],\n",
       "        [  -192.7773,    465.7873,    -11.9323],\n",
       "        [    10.6400,    142.1934,     -3.3782],\n",
       "        [  -311.3057,    376.8514,    -11.5670],\n",
       "        [    -6.0234,    508.5933,     -2.3406],\n",
       "        [    52.4620,    315.7342,     -1.7220],\n",
       "        [   -17.2991,    149.8466,     -3.2931],\n",
       "        [  -123.2682,    437.1057,    -10.9046],\n",
       "        [    83.4427,    474.0959,     -1.4274],\n",
       "        [  -233.8410,    278.8565,    -11.2296],\n",
       "        [  -313.8425,    387.1961,    -11.9638],\n",
       "        [  -230.4196,    720.1219,    -13.3032],\n",
       "        [  -307.2736,    711.0294,    -13.7545],\n",
       "        [  -256.0476,    524.3035,    -11.4000],\n",
       "        [  -136.9590,    435.2779,    -11.2445],\n",
       "        [  -178.8105,    441.5427,    -12.1260],\n",
       "        [    61.2794,     43.4354,     -2.2416],\n",
       "        [  -289.7739,    285.4888,    -11.3527],\n",
       "        [   -46.5884,    541.3076,    -11.5080],\n",
       "        [  -160.4992,    455.8428,    -11.6873],\n",
       "        [    46.4735,    163.1398,     -2.0997],\n",
       "        [  -111.2639,    511.3875,    -11.4044],\n",
       "        [    38.8707,    491.5242,     -1.9267],\n",
       "        [     2.1141,      4.4290,     -0.7082],\n",
       "        [    31.0954,    461.5442,     -2.0940],\n",
       "        [    -4.4738,     15.5961,     -1.0685],\n",
       "        [  -274.9993,    378.8575,    -13.6606],\n",
       "        [  -333.1248,    606.9568,    -14.1005],\n",
       "        [  -229.0847,    441.3698,    -12.3886],\n",
       "        [  -308.3864,    545.7440,    -12.6678],\n",
       "        [  -307.5043,    632.5820,    -13.8413],\n",
       "        [    36.7455,    438.8005,     -2.0029],\n",
       "        [    51.7679,    310.8074,     -1.6885],\n",
       "        [    24.8159,    348.1112,     -1.9371],\n",
       "        [  -171.8223,    585.0029,    -12.2108],\n",
       "        [  -173.3850,    530.6858,    -12.2966],\n",
       "        [  -265.6741,    392.5562,    -14.0820],\n",
       "        [    34.0644,    152.0843,     -2.8382],\n",
       "        [    32.7324,    416.6917,     -2.0195],\n",
       "        [  -113.1755,    614.8000,    -12.2588],\n",
       "        [    36.6323,    542.8070,     -1.9189],\n",
       "        [  -237.4554,    374.0437,    -13.6160],\n",
       "        [    24.7756,    337.9454,     -1.9330],\n",
       "        [  -130.4535,    286.0919,    -10.6319],\n",
       "        [   -86.1017,    452.2937,    -10.5611],\n",
       "        [   -91.5343,    259.9313,     -7.4853],\n",
       "        [  -308.0858,    302.0601,    -11.2696],\n",
       "        [   -73.1828,    508.1105,    -11.0392],\n",
       "        [   103.3565,    -69.1677,      2.6951],\n",
       "        [  -223.6492,    395.0108,    -14.4533],\n",
       "        [    71.7256,    221.8589,     -1.9051],\n",
       "        [  -196.0335,    437.2619,    -12.2571],\n",
       "        [    40.6201,    243.4776,     -3.8580],\n",
       "        [   -56.1293,    551.0038,    -11.3734],\n",
       "        [  -220.5100,    559.5037,    -11.6977],\n",
       "        [  -179.2668,    566.0853,    -12.5363],\n",
       "        [  -306.3896,    380.8143,    -11.5368],\n",
       "        [    33.9976,    464.7975,     -2.1780],\n",
       "        [  -177.5567,    587.7737,    -12.4612],\n",
       "        [    35.6649,    329.2707,     -1.9475],\n",
       "        [   -43.4129,    505.3165,    -11.4322],\n",
       "        [  -309.2557,    685.9883,    -13.9475],\n",
       "        [  -175.4310,    583.3124,    -12.2913],\n",
       "        [   -83.0566,    456.3186,    -10.6970],\n",
       "        [    60.0974,    317.6297,     -1.7184],\n",
       "        [  -188.4631,    400.9360,    -14.5459],\n",
       "        [  -157.9309,    521.9919,    -12.0343],\n",
       "        [  -333.5037,    612.5416,    -13.9847],\n",
       "        [    25.5015,    381.6214,     -2.0368],\n",
       "        [   -74.0099,    452.7917,    -10.6376],\n",
       "        [  -167.4349,    527.0109,    -12.1387],\n",
       "        [    76.3014,    142.7578,     -2.0093],\n",
       "        [  -311.2305,    478.5321,    -11.9958],\n",
       "        [  -112.1067,    473.1513,    -11.2541],\n",
       "        [    26.1547,    327.5574,     -1.8762],\n",
       "        [  -131.9187,    509.2640,    -11.6694],\n",
       "        [   -13.7809,    -74.7733,      0.7364],\n",
       "        [  -112.6416,    263.3584,     -8.5423],\n",
       "        [  -309.9515,    451.4619,    -12.2232],\n",
       "        [  -297.0380,    714.9464,    -14.0375],\n",
       "        [    64.8429,    222.7269,     -1.7583],\n",
       "        [  -283.3232,    547.8058,    -12.2069],\n",
       "        [  -264.7999,    529.9617,    -11.6044],\n",
       "        [   -79.8775,    423.3575,     -9.8949],\n",
       "        [  -305.8199,    386.1967,    -11.7613],\n",
       "        [  -188.4142,    395.0873,    -14.7461],\n",
       "        [    78.1829,    344.1080,     -1.8329],\n",
       "        [  -312.1318,    520.3009,    -12.2635],\n",
       "        [  -149.0700,    580.4272,    -11.8815],\n",
       "        [    78.8164,    362.8766,     -1.7098],\n",
       "        [    37.1779,    507.9442,     -1.4830],\n",
       "        [    25.2703,    -85.6939,      2.4008],\n",
       "        [    79.9473,    271.1862,     -2.0141],\n",
       "        [    13.7134,    382.4540,     -1.7437],\n",
       "        [  -296.6025,    542.4659,    -12.5934],\n",
       "        [   -80.0894,    308.1457,     -8.6909],\n",
       "        [  -209.7017,    442.1971,    -12.2540],\n",
       "        [   -46.4899,    489.0438,    -11.1748],\n",
       "        [  -133.1652,    435.5706,    -11.1255],\n",
       "        [    75.8021,     89.5766,     -1.7526],\n",
       "        [  -176.6346,    710.2025,    -12.3861],\n",
       "        [   -68.6238,    564.2917,    -11.5157],\n",
       "        [    82.2115,    424.6588,     -1.4802],\n",
       "        [  -121.9374,    320.2964,    -10.2657],\n",
       "        [  -311.5447,    505.5021,    -12.1354],\n",
       "        [  -196.8198,    368.1144,    -14.1273],\n",
       "        [   -75.8090,    585.6830,    -11.6894],\n",
       "        [  -311.3759,    386.7303,    -11.8241],\n",
       "        [   -81.6668,    459.2296,    -10.6741],\n",
       "        [    30.6158,    246.2143,     -3.9478],\n",
       "        [   -38.0229,     45.1265,     -3.0022],\n",
       "        [  -182.4000,    636.3008,    -12.9168],\n",
       "        [  -105.9204,    579.0494,    -11.8949],\n",
       "        [   -38.0911,    534.3970,    -11.4663],\n",
       "        [    67.5322,     42.1056,     -1.8154],\n",
       "        [    43.6639,    239.9288,     -3.6064],\n",
       "        [   -85.6518,    436.0898,    -10.3140],\n",
       "        [  -174.7868,    439.1844,    -11.8370],\n",
       "        [  -124.9731,    366.2724,     -9.7749],\n",
       "        [     3.8400,      0.5269,     -0.5863],\n",
       "        [   -85.2254,    477.8713,    -10.8046],\n",
       "        [    46.2560,    138.4311,     -2.8624],\n",
       "        [  -276.4522,    441.2019,    -12.2697],\n",
       "        [  -228.9271,    393.2865,    -14.3720],\n",
       "        [  -127.1385,    312.9621,    -10.3438],\n",
       "        [   -20.9866,    155.2008,     -3.3655],\n",
       "        [  -275.2258,    385.1177,    -13.7399],\n",
       "        [  -193.6699,    471.3816,    -11.3952],\n",
       "        [  -307.2462,    459.1303,    -12.0543],\n",
       "        [    25.1974,    509.7672,     -1.3836],\n",
       "        [  -177.8905,    634.5958,    -12.9787],\n",
       "        [  -122.4007,    301.2223,    -10.5506],\n",
       "        [  -190.4875,    414.5301,    -13.1528],\n",
       "        [    39.6139,    450.9698,     -2.0874],\n",
       "        [   -82.6578,    339.9311,     -8.3003],\n",
       "        [  -106.9947,    591.6168,    -12.0582],\n",
       "        [    22.9014,    349.0441,     -1.9709],\n",
       "        [   -78.4213,    474.7266,    -10.8195],\n",
       "        [  -280.4274,    723.0970,    -13.8740],\n",
       "        [   -71.6307,    453.1054,    -10.6423],\n",
       "        [   -69.9896,    511.6089,    -11.1193],\n",
       "        [  -304.0142,    282.6702,    -11.3148],\n",
       "        [   -82.3843,    366.6521,     -8.7052],\n",
       "        [  -180.9744,    540.3496,    -12.4377],\n",
       "        [  -309.1136,    294.2063,    -11.4499],\n",
       "        [  -272.0664,    440.0399,    -12.3371],\n",
       "        [  -309.5515,    712.1127,    -13.9190],\n",
       "        [   -48.1752,    545.7991,    -11.4090],\n",
       "        [  -272.0310,    373.6066,    -13.3106],\n",
       "        [    -5.4262,    145.1958,     -3.5044],\n",
       "        [   -81.2984,    370.3437,     -8.8460],\n",
       "        [   -73.4960,    285.9144,     -9.2161],\n",
       "        [  -279.5763,    441.1374,    -12.2108],\n",
       "        [  -313.4143,    709.1959,    -14.2056],\n",
       "        [  -294.3765,    543.9065,    -12.4359],\n",
       "        [    73.6943,    518.6486,     -1.1268],\n",
       "        [  -154.0827,    436.7052,    -11.4920],\n",
       "        [  -219.7308,    594.9196,    -11.9671],\n",
       "        [    55.8813,    141.9432,     -2.5580],\n",
       "        [    81.1067,    296.9803,     -1.8943],\n",
       "        [   -52.4710,    198.4149,     -3.6080],\n",
       "        [     9.4026,    506.0276,     -2.2994],\n",
       "        [   -53.9196,    549.1041,    -11.3929],\n",
       "        [    48.8617,    139.3457,     -2.6815],\n",
       "        [    31.2488,    138.8468,     -2.9554],\n",
       "        [  -221.6327,    667.6548,    -12.5817],\n",
       "        [   -84.3941,    325.9620,     -8.4252],\n",
       "        [    34.6059,    518.5128,     -1.4755],\n",
       "        [    20.6312,    360.8998,     -2.0396],\n",
       "        [  -316.4789,    390.2728,    -11.9083],\n",
       "        [    36.4532,    324.5585,     -1.9021],\n",
       "        [   -79.7117,    586.2718,    -11.7186],\n",
       "        [    42.1547,    142.2613,     -2.9097],\n",
       "        [  -218.5992,    692.7415,    -12.9099],\n",
       "        [   -45.1241,    260.2166,     -6.8409],\n",
       "        [  -190.5077,    392.8885,    -14.7728],\n",
       "        [  -198.6978,    507.2766,    -12.5165],\n",
       "        [    23.7816,    540.6381,     -1.8142],\n",
       "        [  -177.4230,    610.5280,    -12.9336],\n",
       "        [  -307.6812,    693.6584,    -13.9476],\n",
       "        [  -166.7523,    711.1030,    -12.2998],\n",
       "        [  -298.6908,    392.8034,    -11.5336],\n",
       "        [    81.0518,     70.3955,     -1.5453],\n",
       "        [   -46.1182,    449.7060,    -10.4153],\n",
       "        [  -310.7262,    479.7908,    -12.0352],\n",
       "        [  -273.7462,    442.4682,    -12.3117],\n",
       "        [  -315.1447,    464.0607,    -12.0747],\n",
       "        [    69.9237,    137.8927,     -2.2503],\n",
       "        [  -151.8904,    286.1293,    -10.8751],\n",
       "        [  -269.7715,    289.0395,    -11.5180],\n",
       "        [  -121.3563,    486.2844,    -11.6084],\n",
       "        [    85.0607,   -102.8231,      2.8290],\n",
       "        [    27.4735,    540.2070,     -1.7590],\n",
       "        [    86.0747,    461.1235,     -1.4186],\n",
       "        [  -120.6697,    432.6111,    -10.8820],\n",
       "        [  -229.8694,    437.3790,    -12.3588],\n",
       "        [   -56.0144,     69.2156,     -2.3628],\n",
       "        [  -305.2132,    449.2873,    -12.2694],\n",
       "        [  -292.7584,    441.3018,    -12.2426],\n",
       "        [  -266.1529,    535.4690,    -11.6200],\n",
       "        [    46.6803,    149.1543,     -2.6528],\n",
       "        [  -230.6370,    291.0558,    -11.4486],\n",
       "        [   -71.5341,    570.0141,    -11.5086]], device='cuda:1')"
      ]
     },
     "execution_count": 8,
     "metadata": {},
     "output_type": "execute_result"
    }
   ],
   "source": [
    "trans_gt"
   ]
  },
  {
   "cell_type": "markdown",
   "metadata": {},
   "source": [
    "new: 7-21  0.0019\n",
    "\n",
    "new: 5-15  0.0013\n",
    "\n",
    "new: 3-11 0.0010\n",
    "\n",
    "old: 8-25  0.0021"
   ]
  },
  {
   "cell_type": "code",
   "execution_count": 9,
   "metadata": {
    "ExecuteTime": {
     "end_time": "2020-08-22T19:57:18.144296Z",
     "start_time": "2020-08-22T19:57:18.129018Z"
    }
   },
   "outputs": [
    {
     "data": {
      "text/plain": [
       "tensor(3.6761, device='cuda:1')"
      ]
     },
     "execution_count": 9,
     "metadata": {},
     "output_type": "execute_result"
    }
   ],
   "source": [
    "nn.functional.mse_loss(input=trans_pred, target=trans_gt)"
   ]
  },
  {
   "cell_type": "code",
   "execution_count": 10,
   "metadata": {
    "ExecuteTime": {
     "end_time": "2020-08-22T19:57:18.858911Z",
     "start_time": "2020-08-22T19:57:18.846031Z"
    }
   },
   "outputs": [
    {
     "data": {
      "text/plain": [
       "tensor(11.0284, device='cuda:1')"
      ]
     },
     "execution_count": 10,
     "metadata": {},
     "output_type": "execute_result"
    }
   ],
   "source": [
    "torch.sum((trans_pred - trans_gt)**2,dim=1).mean()"
   ]
  },
  {
   "cell_type": "code",
   "execution_count": 11,
   "metadata": {
    "ExecuteTime": {
     "end_time": "2020-08-22T19:57:47.031966Z",
     "start_time": "2020-08-22T19:57:47.008188Z"
    },
    "cell_style": "split"
   },
   "outputs": [
    {
     "data": {
      "text/plain": [
       "tensor([[ 0.7289,  0.6845,  0.0046,  0.0109],\n",
       "        [ 0.0168,  0.9998,  0.0070, -0.0052],\n",
       "        [ 0.9840, -0.1773, -0.0137,  0.0072],\n",
       "        ...,\n",
       "        [ 0.6659, -0.7460, -0.0111,  0.0043],\n",
       "        [-0.4172,  0.9088,  0.0054, -0.0011],\n",
       "        [ 0.6819,  0.7314,  0.0057,  0.0092]], device='cuda:1')"
      ]
     },
     "execution_count": 11,
     "metadata": {},
     "output_type": "execute_result"
    }
   ],
   "source": [
    "rot_pred"
   ]
  },
  {
   "cell_type": "code",
   "execution_count": 12,
   "metadata": {
    "ExecuteTime": {
     "end_time": "2020-08-22T19:57:47.528659Z",
     "start_time": "2020-08-22T19:57:47.520350Z"
    },
    "cell_style": "split"
   },
   "outputs": [
    {
     "data": {
      "text/plain": [
       "tensor([[ 0.7119,  0.7016,  0.0061,  0.0290],\n",
       "        [ 0.0261,  0.9996, -0.0083, -0.0070],\n",
       "        [ 0.9930, -0.1084, -0.0411,  0.0236],\n",
       "        ...,\n",
       "        [-0.6521,  0.7579, -0.0161,  0.0121],\n",
       "        [-0.4887,  0.8721,  0.0181,  0.0181],\n",
       "        [ 0.7001,  0.7137,  0.0224, -0.0015]], device='cuda:1')"
      ]
     },
     "execution_count": 12,
     "metadata": {},
     "output_type": "execute_result"
    }
   ],
   "source": [
    "rot_gt"
   ]
  },
  {
   "cell_type": "code",
   "execution_count": 13,
   "metadata": {
    "ExecuteTime": {
     "end_time": "2020-08-22T19:57:48.857195Z",
     "start_time": "2020-08-22T19:57:48.849150Z"
    }
   },
   "outputs": [
    {
     "data": {
      "text/plain": [
       "tensor(0.0113, device='cuda:1')"
      ]
     },
     "execution_count": 13,
     "metadata": {},
     "output_type": "execute_result"
    }
   ],
   "source": [
    "1. - torch.mean(torch.square(torch.sum(torch.mul(rot_pred,rot_gt),dim=1)))"
   ]
  },
  {
   "cell_type": "code",
   "execution_count": null,
   "metadata": {},
   "outputs": [],
   "source": []
  }
 ],
 "metadata": {
  "kernelspec": {
   "display_name": "Python 3",
   "language": "python",
   "name": "python3"
  },
  "language_info": {
   "codemirror_mode": {
    "name": "ipython",
    "version": 3
   },
   "file_extension": ".py",
   "mimetype": "text/x-python",
   "name": "python",
   "nbconvert_exporter": "python",
   "pygments_lexer": "ipython3",
   "version": "3.6.9"
  },
  "latex_envs": {
   "LaTeX_envs_menu_present": true,
   "autoclose": false,
   "autocomplete": true,
   "bibliofile": "biblio.bib",
   "cite_by": "apalike",
   "current_citInitial": 1,
   "eqLabelWithNumbers": true,
   "eqNumInitial": 1,
   "hotkeys": {
    "equation": "Ctrl-E",
    "itemize": "Ctrl-I"
   },
   "labels_anchors": false,
   "latex_user_defs": false,
   "report_style_numbering": false,
   "user_envs_cfg": false
  },
  "toc": {
   "base_numbering": 1,
   "nav_menu": {},
   "number_sections": true,
   "sideBar": true,
   "skip_h1_title": false,
   "title_cell": "Table of Contents",
   "title_sidebar": "Contents",
   "toc_cell": false,
   "toc_position": {},
   "toc_section_display": true,
   "toc_window_display": false
  },
  "varInspector": {
   "cols": {
    "lenName": 16,
    "lenType": 16,
    "lenVar": 40
   },
   "kernels_config": {
    "python": {
     "delete_cmd_postfix": "",
     "delete_cmd_prefix": "del ",
     "library": "var_list.py",
     "varRefreshCmd": "print(var_dic_list())"
    },
    "r": {
     "delete_cmd_postfix": ") ",
     "delete_cmd_prefix": "rm(",
     "library": "var_list.r",
     "varRefreshCmd": "cat(var_dic_list()) "
    }
   },
   "types_to_exclude": [
    "module",
    "function",
    "builtin_function_or_method",
    "instance",
    "_Feature"
   ],
   "window_display": false
  }
 },
 "nbformat": 4,
 "nbformat_minor": 4
}
