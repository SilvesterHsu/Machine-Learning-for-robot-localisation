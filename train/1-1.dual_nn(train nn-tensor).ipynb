{
 "cells": [
  {
   "cell_type": "markdown",
   "metadata": {},
   "source": [
    "# Torch\n",
    "## Check GPU"
   ]
  },
  {
   "cell_type": "code",
   "execution_count": 1,
   "metadata": {
    "ExecuteTime": {
     "end_time": "2020-08-22T05:14:49.878908Z",
     "start_time": "2020-08-22T05:14:48.371983Z"
    },
    "run_control": {
     "marked": true
    }
   },
   "outputs": [
    {
     "name": "stderr",
     "output_type": "stream",
     "text": [
      "the rosdep view is empty: call 'sudo rosdep init' and 'rosdep update'\n"
     ]
    },
    {
     "name": "stdout",
     "output_type": "stream",
     "text": [
      "Using Device 1 : TITAN Xp\n"
     ]
    }
   ],
   "source": [
    "import torch\n",
    "import numpy as np\n",
    "import sys\n",
    "sys.path.append('..')\n",
    "\n",
    "from torchlib.utils import list_device,set_device\n",
    "\n",
    "# S1: check GPU\n",
    "#list_device()\n",
    "\n",
    "# S2: default parameters\n",
    "set_device(1)\n",
    "np.set_printoptions(precision = 2)\n",
    "torch.set_default_dtype(torch.float32)\n",
    "torch.set_printoptions(precision=4)\n",
    "torch.backends.cudnn.benchmark = True\n",
    "torch.set_printoptions(sci_mode=False)"
   ]
  },
  {
   "cell_type": "markdown",
   "metadata": {},
   "source": [
    "# Set Arguments"
   ]
  },
  {
   "cell_type": "code",
   "execution_count": 2,
   "metadata": {
    "ExecuteTime": {
     "end_time": "2020-08-22T05:14:49.894103Z",
     "start_time": "2020-08-22T05:14:49.880260Z"
    },
    "run_control": {
     "marked": true
    }
   },
   "outputs": [],
   "source": [
    "import argparse\n",
    "import sys\n",
    "import os\n",
    "import time\n",
    "import pickle\n",
    "\n",
    "parser = argparse.ArgumentParser()\n",
    "\n",
    "'''Training Parameters'''\n",
    "parser.add_argument('--batch_size', type=int, default=5000, help='minibatch size')\n",
    "parser.add_argument('--num_epochs', type=int, default=200, help='number of epochs')\n",
    "parser.add_argument('--grad_clip', type=float, default=5., help='clip gradients at this value')\n",
    "parser.add_argument('--learning_rate', type=float, default=0.001, help='learning rate')\n",
    "parser.add_argument('--learning_rate_clip', type=float, default=0.0000001, help='learning rate clip')\n",
    "parser.add_argument('--decay_rate', type=float, default=.95, help='decay rate for rmsprop')\n",
    "parser.add_argument('--weight_decay', type=float, default=.0001, help='decay rate for rmsprop')\n",
    "parser.add_argument('--batch_norm_decay', type=float, default=.999, help='decay rate for rmsprop')\n",
    "parser.add_argument('--keep_prob', type=float, default=1.0, help='dropout keep probability')\n",
    "parser.add_argument('--lamda_weights', type=float, default=0.01, help='weight of rotation error')\n",
    "parser.add_argument('--data_argumentation', type=bool, default=True, help='whether do data argument')\n",
    "parser.add_argument('--is_normalization', type=bool, default=True, help='whether do data normalization')\n",
    "parser.add_argument('--target_image_size', default=[300, 300], nargs=2, type=int, help='Input images will be resized to this for data argumentation.')\n",
    "\n",
    "'''Configure'''\n",
    "parser.add_argument('--network', type=str, default='vggnet_localization')\n",
    "parser.add_argument('--model_dir', type=str, default='/notebooks/global_localization/dual_resnet_torch', help='rnn, gru, or lstm')\n",
    "\n",
    "\n",
    "parser.add_argument('--train_dataset', type=str, default = ['/notebooks/michigan_nn_data/train_dense'])\n",
    "'''\n",
    "#parser.add_argument('--train_dataset', type=str, default = ['/notebooks/michigan_nn_data/test'])\n",
    "parser.add_argument('--train_dataset', type=str, default = ['/notebooks/michigan_nn_data/2012_01_08'])\n",
    "'''\n",
    "parser.add_argument('--norm_tensor', type=str, default = ['/notebooks/global_localization/norm_mean_std.pt'])\n",
    "\n",
    "parser.add_argument('--seed', default=1337, type=int)\n",
    "parser.add_argument('--save_every', type=int, default=3000, help='save frequency')\n",
    "parser.add_argument('--display', type=int, default=20, help='display frequency')\n",
    "parser.add_argument('--tensorboard', type=bool, default=True, help='open tensorboard')\n",
    "parser.add_argument('--cuda_device', type=int, default=1, help='cuda device')\n",
    "\n",
    "sys.argv = ['']\n",
    "args = parser.parse_args()"
   ]
  },
  {
   "cell_type": "markdown",
   "metadata": {},
   "source": [
    "# Load Dataset"
   ]
  },
  {
   "cell_type": "code",
   "execution_count": 3,
   "metadata": {
    "ExecuteTime": {
     "end_time": "2020-08-22T05:14:52.216542Z",
     "start_time": "2020-08-22T05:14:49.895725Z"
    },
    "run_control": {
     "marked": true
    }
   },
   "outputs": [
    {
     "name": "stdout",
     "output_type": "stream",
     "text": [
      "Load norm and std: /notebooks/global_localization/norm_mean_std.pt\n"
     ]
    }
   ],
   "source": [
    "from torch.utils.data import Dataset, DataLoader, TensorDataset\n",
    "import torchvision.transforms as transforms\n",
    "import tf.transformations as tf_tran\n",
    "from tqdm import tqdm\n",
    "from PIL import Image\n",
    "import numpy as np\n",
    "import random\n",
    "\n",
    "import gpytorch\n",
    "\n",
    "import torch.nn as nn\n",
    "import torch.optim as optim\n",
    "from torchlib import resnet, vggnet\n",
    "from torchlib.cnn_auxiliary import normalize, denormalize_navie, denormalize, get_relative_pose, translational_rotational_loss\n",
    "from torchlib.utils import LocalizationDataset, display_loss, data2tensorboard\n",
    "import time\n",
    "\n",
    "path = args.train_dataset[0]\n",
    "x_dense = torch.load(os.path.join(path,'x.pt'))\n",
    "y_dense = torch.load(os.path.join(path,'y.pt'))\n",
    "dataset = TensorDataset(x_dense, y_dense)\n",
    "\n",
    "[args.norm_mean, args.norm_std] = torch.load(*args.norm_tensor)\n",
    "print('Load norm and std:',*args.norm_tensor)\n",
    "\n",
    "dataloader = DataLoader(dataset, batch_size=args.batch_size, \\\n",
    "                        shuffle=True, num_workers=0, \\\n",
    "                        drop_last=True, pin_memory=True)"
   ]
  },
  {
   "cell_type": "markdown",
   "metadata": {},
   "source": [
    "# Define Model"
   ]
  },
  {
   "cell_type": "code",
   "execution_count": 4,
   "metadata": {
    "ExecuteTime": {
     "end_time": "2020-08-22T05:14:52.239416Z",
     "start_time": "2020-08-22T05:14:52.218268Z"
    },
    "code_folding": [
     3,
     15,
     28,
     29,
     89
    ],
    "run_control": {
     "marked": true
    }
   },
   "outputs": [],
   "source": [
    "from torch.cuda.amp import autocast, GradScaler\n",
    "from torchlib.GPs import Backbone, NN, BaseModule\n",
    "\n",
    "class NN(nn.Module):\n",
    "    def __init__(self):\n",
    "        super().__init__()\n",
    "        self.global_context = vggnet.vggnet(input_channel=2048,opt=\"context\")\n",
    "        self.global_regressor = vggnet.vggnet(opt=\"regressor\")\n",
    "        \n",
    "    def forward(self,input_data):\n",
    "        #context_feat = self.global_context(input_data)\n",
    "        context_feat = input_data\n",
    "        output,feature_t, feature_r = self.global_regressor(context_feat)\n",
    "        return output, feature_t, feature_r\n",
    "        \n",
    "class Model(nn.Module):\n",
    "    def __init__(self):\n",
    "        super().__init__()\n",
    "        self.backbone = Backbone()\n",
    "        self.nn = NN()\n",
    "        \n",
    "    def forward(self, input_data):\n",
    "        #dense_feat = self.backbone(input_data)\n",
    "        dense_feat = input_data\n",
    "        output, _, _ = self.nn(dense_feat)\n",
    "        trans_pred, rot_pred = torch.split(output, [3, 4], dim=1)\n",
    "        return trans_pred, rot_pred\n",
    "        \n",
    "class PosePredictor(BaseModule):\n",
    "    def __init__(self, norm_mean, norm_std, args, is_training=True, mixed_precision=True):\n",
    "        super().__init__(norm_mean, norm_std, args)\n",
    "        self.model = Model().to(self.device)\n",
    "        \n",
    "        self.disable_requires_grad(self.model.backbone)\n",
    "        self.disable_requires_grad(self.model.nn.global_context)\n",
    "        \n",
    "        self.mixed_precision = mixed_precision\n",
    "        if self.mixed_precision:\n",
    "            self.scaler = GradScaler()\n",
    "        if is_training:\n",
    "            self.optimizer = optim.Adam(self.model.parameters(), \n",
    "                                        lr=args.learning_rate, \n",
    "                                        weight_decay=args.weight_decay)\n",
    "            self.scheduler = optim.lr_scheduler.LambdaLR(optimizer=self.optimizer,\n",
    "                                                             lr_lambda=lambda epoch: args.decay_rate**epoch)\n",
    "        else:\n",
    "            self.disable_requires_grad(self.model)\n",
    "    \n",
    "    def train(self, x, y):\n",
    "        # Step 0: zero grad\n",
    "        self.optimizer.zero_grad()\n",
    "        \n",
    "        start = time.time()\n",
    "        # Step 1: get data\n",
    "        x,y = x.to(self.device),y.to(self.device)\n",
    "        if args.is_normalization:\n",
    "            y = normalize(y,self.norm_mean, self.norm_std)\n",
    "            \n",
    "        # Step 2: training\n",
    "        assert trainer.model.training == True\n",
    "        if self.mixed_precision:\n",
    "            with autocast():\n",
    "                single_loss = self._loss(x, y)\n",
    "            self.scaler.scale(single_loss).backward()\n",
    "            self.scaler.step(self.optimizer)\n",
    "            self.scaler.update()\n",
    "        else:\n",
    "            single_loss = self._loss(x, y)\n",
    "            single_loss.backward()\n",
    "            self.optimizer.step()\n",
    "            \n",
    "        batch_time = time.time() - start\n",
    "        \n",
    "        return float(single_loss), batch_time\n",
    "    \n",
    "    def _loss(self, x, y):\n",
    "\n",
    "        trans_pred, rot_pred = self.model(x)\n",
    "        trans_gt, rot_gt = torch.split(y, [3, 4], dim=1)\n",
    "    \n",
    "        trans_loss = nn.functional.mse_loss(input=trans_pred, target=trans_gt)\n",
    "        trans_loss += torch.sum((trans_pred - trans_gt)**2,dim=1).mean()\n",
    "        \n",
    "        rot_loss = 1. - torch.mean(torch.square(torch.sum(torch.mul(rot_pred,rot_gt),dim=1)))\n",
    "\n",
    "        loss = trans_loss + args.lamda_weights * rot_loss\n",
    "    \n",
    "        return loss\n",
    "    \n",
    "    def eval_forward(self,x,y,output_denormalize = True):\n",
    "        # Step 1: get data\n",
    "        x,y = x.to(self.device),y.to(self.device)\n",
    "        \n",
    "        # Step 2: forward\n",
    "        assert trainer.model.training == False\n",
    "        \n",
    "        trans_pred, rot_pred = self.model(x)\n",
    "\n",
    "        if args.is_normalization and output_denormalize:\n",
    "            trans_pred = denormalize_navie(trans_pred, self.norm_mean, self.norm_std)\n",
    "            \n",
    "        # Step 3: split output\n",
    "        trans_gt, rot_gt = torch.split(y, [3, 4], dim=1)\n",
    "        return trans_pred, rot_pred, trans_gt, rot_gt"
   ]
  },
  {
   "cell_type": "code",
   "execution_count": 5,
   "metadata": {
    "ExecuteTime": {
     "end_time": "2020-08-22T05:14:55.765183Z",
     "start_time": "2020-08-22T05:14:52.240770Z"
    },
    "code_folding": [
     1
    ],
    "run_control": {
     "marked": true
    },
    "scrolled": true
   },
   "outputs": [
    {
     "name": "stdout",
     "output_type": "stream",
     "text": [
      "Successfully loaded model to TITAN Xp.\n",
      "nn.global_regressor.regressor.fc1_trans.0.weight torch.Size([4096, 6400])\n",
      "nn.global_regressor.regressor.fc1_trans.0.bias torch.Size([4096])\n",
      "nn.global_regressor.regressor.fc2_trans.0.weight torch.Size([4096, 4096])\n",
      "nn.global_regressor.regressor.fc2_trans.0.bias torch.Size([4096])\n",
      "nn.global_regressor.regressor.fc3_trans.0.weight torch.Size([128, 4096])\n",
      "nn.global_regressor.regressor.fc3_trans.0.bias torch.Size([128])\n",
      "nn.global_regressor.regressor.logits_t.weight torch.Size([3, 128])\n",
      "nn.global_regressor.regressor.logits_t.bias torch.Size([3])\n",
      "nn.global_regressor.regressor.fc1_rot.0.weight torch.Size([4096, 6400])\n",
      "nn.global_regressor.regressor.fc1_rot.0.bias torch.Size([4096])\n",
      "nn.global_regressor.regressor.fc2_rot.0.weight torch.Size([4096, 4096])\n",
      "nn.global_regressor.regressor.fc2_rot.0.bias torch.Size([4096])\n",
      "nn.global_regressor.regressor.fc3_rot.0.weight torch.Size([128, 4096])\n",
      "nn.global_regressor.regressor.fc3_rot.0.bias torch.Size([128])\n",
      "nn.global_regressor.regressor.logits_r.weight torch.Size([4, 128])\n",
      "nn.global_regressor.regressor.logits_r.bias torch.Size([4])\n"
     ]
    }
   ],
   "source": [
    "trainer = PosePredictor(args.norm_mean,args.norm_std,args,mixed_precision=True)\n",
    "'''\n",
    "state_dict = torch.load(os.path.join(trainer.args.model_dir, 'pretrained.pth'))\n",
    "for key in list(state_dict):\n",
    "    if 'resnet' not in key:\n",
    "        state_dict.pop(key)\n",
    "trainer.model.backbone.load_state_dict(state_dict)\n",
    "\n",
    "state_dict = torch.load(os.path.join(trainer.args.model_dir, 'pretrained.pth'))\n",
    "for key in list(state_dict):\n",
    "    if 'resnet' in key:\n",
    "        state_dict.pop(key)\n",
    "trainer.model.nn.load_state_dict(state_dict)\n",
    "'''\n",
    "trainer.load_model('pretrained_feature.pth')\n",
    "#trainer.load_model('pretrained_old.pth',strict = False)\n",
    "trainer.show_require_grad()"
   ]
  },
  {
   "cell_type": "markdown",
   "metadata": {},
   "source": [
    "# Training"
   ]
  },
  {
   "cell_type": "code",
   "execution_count": 6,
   "metadata": {
    "ExecuteTime": {
     "end_time": "2020-08-22T05:14:58.968015Z",
     "start_time": "2020-08-22T05:14:55.766533Z"
    },
    "run_control": {
     "marked": true
    }
   },
   "outputs": [],
   "source": [
    "if args.tensorboard:\n",
    "    import os\n",
    "    os.system('rm -rf runs/nn')\n",
    "    from torch.utils.tensorboard import SummaryWriter\n",
    "    writer = SummaryWriter('runs/nn')\n",
    "    time.sleep(3)"
   ]
  },
  {
   "cell_type": "code",
   "execution_count": 7,
   "metadata": {
    "ExecuteTime": {
     "end_time": "2020-08-22T06:19:23.328957Z",
     "start_time": "2020-08-22T05:14:58.974354Z"
    },
    "run_control": {
     "marked": true
    },
    "scrolled": true
   },
   "outputs": [
    {
     "name": "stderr",
     "output_type": "stream",
     "text": [
      "100%|██████████| 51/51 [00:19<00:00,  2.63it/s, ave=0.592, loss=0.0285, lr=0.001]  \n",
      "100%|██████████| 51/51 [00:19<00:00,  2.62it/s, ave=0.0144, loss=0.00894, lr=0.001]\n",
      "100%|██████████| 51/51 [00:19<00:00,  2.62it/s, ave=0.0073, loss=0.00624, lr=0.00095] \n",
      "100%|██████████| 51/51 [00:19<00:00,  2.61it/s, ave=0.00626, loss=0.00552, lr=0.00095]\n",
      "100%|██████████| 51/51 [00:19<00:00,  2.61it/s, ave=0.00469, loss=0.00447, lr=0.000902]\n",
      "100%|██████████| 51/51 [00:19<00:00,  2.61it/s, ave=0.00467, loss=0.00589, lr=0.000902]\n",
      "100%|██████████| 51/51 [00:19<00:00,  2.62it/s, ave=0.00436, loss=0.00376, lr=0.000857]\n",
      "100%|██████████| 51/51 [00:19<00:00,  2.61it/s, ave=0.00385, loss=0.00359, lr=0.000857]\n",
      "100%|██████████| 51/51 [00:19<00:00,  2.61it/s, ave=0.00407, loss=0.00445, lr=0.000815]\n",
      "100%|██████████| 51/51 [00:19<00:00,  2.61it/s, ave=0.00404, loss=0.00387, lr=0.000815]\n",
      "100%|██████████| 51/51 [00:19<00:00,  2.61it/s, ave=0.00333, loss=0.00343, lr=0.000774]\n",
      "100%|██████████| 51/51 [00:19<00:00,  2.61it/s, ave=0.00416, loss=0.00315, lr=0.000774]\n",
      "100%|██████████| 51/51 [00:19<00:00,  2.61it/s, ave=0.00307, loss=0.00359, lr=0.000735]\n",
      "100%|██████████| 51/51 [00:19<00:00,  2.60it/s, ave=0.00352, loss=0.00316, lr=0.000735]\n",
      "100%|██████████| 51/51 [00:19<00:00,  2.60it/s, ave=0.00326, loss=0.00294, lr=0.000698]\n",
      "100%|██████████| 51/51 [00:19<00:00,  2.61it/s, ave=0.00362, loss=0.00288, lr=0.000698]\n",
      "100%|██████████| 51/51 [00:19<00:00,  2.61it/s, ave=0.00282, loss=0.00263, lr=0.000663]\n",
      "100%|██████████| 51/51 [00:19<00:00,  2.62it/s, ave=0.00335, loss=0.003, lr=0.000663]  \n",
      "100%|██████████| 51/51 [00:19<00:00,  2.62it/s, ave=0.00273, loss=0.00438, lr=0.00063]\n",
      "100%|██████████| 51/51 [00:19<00:00,  2.61it/s, ave=0.00325, loss=0.00312, lr=0.00063]\n",
      "100%|██████████| 51/51 [00:19<00:00,  2.62it/s, ave=0.00276, loss=0.00277, lr=0.000599]\n",
      "100%|██████████| 51/51 [00:19<00:00,  2.62it/s, ave=0.00289, loss=0.00274, lr=0.000599]\n",
      "100%|██████████| 51/51 [00:19<00:00,  2.61it/s, ave=0.0026, loss=0.00255, lr=0.000569] \n",
      "100%|██████████| 51/51 [00:19<00:00,  2.61it/s, ave=0.00275, loss=0.00268, lr=0.000569]\n",
      "100%|██████████| 51/51 [00:19<00:00,  2.61it/s, ave=0.00251, loss=0.0024, lr=0.00054] \n",
      "100%|██████████| 51/51 [00:19<00:00,  2.62it/s, ave=0.00316, loss=0.00319, lr=0.00054]\n",
      "100%|██████████| 51/51 [00:19<00:00,  2.61it/s, ave=0.0025, loss=0.00241, lr=0.000513] \n",
      "100%|██████████| 51/51 [00:19<00:00,  2.61it/s, ave=0.00244, loss=0.00233, lr=0.000513]\n",
      "100%|██████████| 51/51 [00:19<00:00,  2.61it/s, ave=0.00232, loss=0.00234, lr=0.000488]\n",
      "100%|██████████| 51/51 [00:19<00:00,  2.62it/s, ave=0.00275, loss=0.00268, lr=0.000488]\n",
      "100%|██████████| 51/51 [00:19<00:00,  2.61it/s, ave=0.00236, loss=0.00222, lr=0.000463]\n",
      "100%|██████████| 51/51 [00:19<00:00,  2.61it/s, ave=0.00245, loss=0.00228, lr=0.000463]\n",
      "100%|██████████| 51/51 [00:19<00:00,  2.62it/s, ave=0.00224, loss=0.00232, lr=0.00044]\n",
      "100%|██████████| 51/51 [00:19<00:00,  2.61it/s, ave=0.00257, loss=0.0043, lr=0.00044] \n",
      "100%|██████████| 51/51 [00:19<00:00,  2.62it/s, ave=0.00232, loss=0.00209, lr=0.000418]\n",
      "100%|██████████| 51/51 [00:19<00:00,  2.62it/s, ave=0.00233, loss=0.00223, lr=0.000418]\n",
      "100%|██████████| 51/51 [00:19<00:00,  2.62it/s, ave=0.00217, loss=0.00231, lr=0.000397]\n",
      "100%|██████████| 51/51 [00:19<00:00,  2.61it/s, ave=0.0023, loss=0.00282, lr=0.000397] \n",
      "100%|██████████| 51/51 [00:19<00:00,  2.62it/s, ave=0.00217, loss=0.00218, lr=0.000377]\n",
      "100%|██████████| 51/51 [00:19<00:00,  2.61it/s, ave=0.0023, loss=0.00224, lr=0.000377] \n",
      "100%|██████████| 51/51 [00:19<00:00,  2.62it/s, ave=0.00221, loss=0.00227, lr=0.000358]\n",
      "100%|██████████| 51/51 [00:19<00:00,  2.62it/s, ave=0.00242, loss=0.00237, lr=0.000358]\n",
      "100%|██████████| 51/51 [00:19<00:00,  2.62it/s, ave=0.00232, loss=0.00214, lr=0.000341]\n",
      "100%|██████████| 51/51 [00:19<00:00,  2.62it/s, ave=0.00235, loss=0.00239, lr=0.000341]\n",
      "100%|██████████| 51/51 [00:19<00:00,  2.62it/s, ave=0.00223, loss=0.00225, lr=0.000324]\n",
      "100%|██████████| 51/51 [00:19<00:00,  2.62it/s, ave=0.0023, loss=0.00235, lr=0.000324] \n",
      "100%|██████████| 51/51 [00:19<00:00,  2.62it/s, ave=0.00225, loss=0.00212, lr=0.000307]\n",
      "100%|██████████| 51/51 [00:19<00:00,  2.62it/s, ave=0.00211, loss=0.00226, lr=0.000307]\n",
      "100%|██████████| 51/51 [00:19<00:00,  2.63it/s, ave=0.00203, loss=0.00197, lr=0.000292]\n",
      "100%|██████████| 51/51 [00:19<00:00,  2.63it/s, ave=0.00218, loss=0.00207, lr=0.000292]\n",
      "100%|██████████| 51/51 [00:19<00:00,  2.62it/s, ave=0.00201, loss=0.00214, lr=0.000277]\n",
      "100%|██████████| 51/51 [00:19<00:00,  2.62it/s, ave=0.00211, loss=0.0021, lr=0.000277] \n",
      "100%|██████████| 51/51 [00:19<00:00,  2.62it/s, ave=0.00206, loss=0.00215, lr=0.000264]\n",
      "100%|██████████| 51/51 [00:19<00:00,  2.62it/s, ave=0.00212, loss=0.00229, lr=0.000264]\n",
      "100%|██████████| 51/51 [00:19<00:00,  2.62it/s, ave=0.00209, loss=0.002, lr=0.00025]  \n",
      "100%|██████████| 51/51 [00:19<00:00,  2.63it/s, ave=0.0021, loss=0.00218, lr=0.00025] \n",
      "100%|██████████| 51/51 [00:19<00:00,  2.63it/s, ave=0.00204, loss=0.00194, lr=0.000238]\n",
      "100%|██████████| 51/51 [00:19<00:00,  2.62it/s, ave=0.00208, loss=0.00207, lr=0.000238]\n",
      "100%|██████████| 51/51 [00:19<00:00,  2.63it/s, ave=0.00198, loss=0.00197, lr=0.000226]\n",
      "100%|██████████| 51/51 [00:19<00:00,  2.63it/s, ave=0.00205, loss=0.00211, lr=0.000226]\n",
      "100%|██████████| 51/51 [00:19<00:00,  2.62it/s, ave=0.00193, loss=0.00196, lr=0.000215]\n",
      "100%|██████████| 51/51 [00:19<00:00,  2.63it/s, ave=0.00193, loss=0.00189, lr=0.000215]\n",
      "100%|██████████| 51/51 [00:19<00:00,  2.63it/s, ave=0.00192, loss=0.00192, lr=0.000204]\n",
      "100%|██████████| 51/51 [00:19<00:00,  2.63it/s, ave=0.00191, loss=0.00185, lr=0.000204]\n",
      "100%|██████████| 51/51 [00:19<00:00,  2.63it/s, ave=0.00191, loss=0.00197, lr=0.000194]\n",
      "100%|██████████| 51/51 [00:19<00:00,  2.63it/s, ave=0.00192, loss=0.00195, lr=0.000194]\n",
      "100%|██████████| 51/51 [00:19<00:00,  2.63it/s, ave=0.00189, loss=0.00186, lr=0.000184]\n",
      "100%|██████████| 51/51 [00:19<00:00,  2.64it/s, ave=0.00189, loss=0.00187, lr=0.000184]\n",
      "100%|██████████| 51/51 [00:19<00:00,  2.63it/s, ave=0.00187, loss=0.00182, lr=0.000175]\n",
      "100%|██████████| 51/51 [00:19<00:00,  2.63it/s, ave=0.00184, loss=0.00177, lr=0.000175]\n",
      "100%|██████████| 51/51 [00:19<00:00,  2.64it/s, ave=0.00181, loss=0.00176, lr=0.000166]\n",
      "100%|██████████| 51/51 [00:19<00:00,  2.64it/s, ave=0.00182, loss=0.00175, lr=0.000166]\n",
      "100%|██████████| 51/51 [00:19<00:00,  2.63it/s, ave=0.00181, loss=0.00184, lr=0.000158]\n",
      "100%|██████████| 51/51 [00:19<00:00,  2.63it/s, ave=0.00184, loss=0.00179, lr=0.000158]\n",
      "100%|██████████| 51/51 [00:19<00:00,  2.64it/s, ave=0.00178, loss=0.00167, lr=0.00015]\n",
      "100%|██████████| 51/51 [00:19<00:00,  2.64it/s, ave=0.00177, loss=0.00169, lr=0.00015]\n",
      "100%|██████████| 51/51 [00:19<00:00,  2.64it/s, ave=0.00178, loss=0.00166, lr=0.000142]\n",
      "100%|██████████| 51/51 [00:19<00:00,  2.64it/s, ave=0.00177, loss=0.00192, lr=0.000142]\n",
      "100%|██████████| 51/51 [00:19<00:00,  2.64it/s, ave=0.00178, loss=0.00179, lr=0.000135]\n",
      "100%|██████████| 51/51 [00:19<00:00,  2.64it/s, ave=0.00176, loss=0.00175, lr=0.000135]\n",
      "100%|██████████| 51/51 [00:19<00:00,  2.64it/s, ave=0.00172, loss=0.00167, lr=0.000129]\n",
      "100%|██████████| 51/51 [00:19<00:00,  2.65it/s, ave=0.00178, loss=0.00178, lr=0.000129]\n",
      "100%|██████████| 51/51 [00:19<00:00,  2.65it/s, ave=0.00176, loss=0.00168, lr=0.000122]\n",
      "100%|██████████| 51/51 [00:19<00:00,  2.65it/s, ave=0.00174, loss=0.00178, lr=0.000122]\n",
      "100%|██████████| 51/51 [00:19<00:00,  2.63it/s, ave=0.00169, loss=0.00176, lr=0.000116]\n",
      "100%|██████████| 51/51 [00:19<00:00,  2.65it/s, ave=0.00172, loss=0.00168, lr=0.000116]\n",
      "100%|██████████| 51/51 [00:19<00:00,  2.65it/s, ave=0.00171, loss=0.00171, lr=0.00011]\n",
      "100%|██████████| 51/51 [00:19<00:00,  2.64it/s, ave=0.00173, loss=0.00172, lr=0.00011]\n",
      "100%|██████████| 51/51 [00:19<00:00,  2.66it/s, ave=0.00171, loss=0.00165, lr=0.000105]\n",
      "100%|██████████| 51/51 [00:19<00:00,  2.66it/s, ave=0.00169, loss=0.00164, lr=0.000105]\n",
      "100%|██████████| 51/51 [00:19<00:00,  2.65it/s, ave=0.00169, loss=0.00165, lr=9.94e-5]\n",
      "100%|██████████| 51/51 [00:19<00:00,  2.66it/s, ave=0.00167, loss=0.00166, lr=9.94e-5]\n",
      "100%|██████████| 51/51 [00:19<00:00,  2.65it/s, ave=0.00165, loss=0.00165, lr=9.45e-5]\n",
      "100%|██████████| 51/51 [00:19<00:00,  2.65it/s, ave=0.00164, loss=0.00167, lr=9.45e-5]\n",
      "100%|██████████| 51/51 [00:19<00:00,  2.65it/s, ave=0.00164, loss=0.0016, lr=8.97e-5] \n",
      "100%|██████████| 51/51 [00:19<00:00,  2.65it/s, ave=0.00166, loss=0.00166, lr=8.97e-5]\n",
      "100%|██████████| 51/51 [00:19<00:00,  2.65it/s, ave=0.00161, loss=0.00158, lr=8.53e-5]\n",
      "100%|██████████| 51/51 [00:19<00:00,  2.65it/s, ave=0.0016, loss=0.00165, lr=8.53e-5] \n",
      "100%|██████████| 51/51 [00:19<00:00,  2.65it/s, ave=0.00164, loss=0.00171, lr=8.1e-5]\n",
      "100%|██████████| 51/51 [00:19<00:00,  2.65it/s, ave=0.00165, loss=0.00158, lr=8.1e-5]\n",
      "100%|██████████| 51/51 [00:19<00:00,  2.65it/s, ave=0.00161, loss=0.00156, lr=7.69e-5]\n",
      "100%|██████████| 51/51 [00:19<00:00,  2.66it/s, ave=0.00159, loss=0.00155, lr=7.69e-5]\n",
      "100%|██████████| 51/51 [00:19<00:00,  2.65it/s, ave=0.00158, loss=0.00166, lr=7.31e-5]\n",
      "100%|██████████| 51/51 [00:19<00:00,  2.65it/s, ave=0.00159, loss=0.00161, lr=7.31e-5]\n",
      "100%|██████████| 51/51 [00:19<00:00,  2.65it/s, ave=0.00158, loss=0.00164, lr=6.94e-5]\n",
      "100%|██████████| 51/51 [00:19<00:00,  2.66it/s, ave=0.00158, loss=0.00155, lr=6.94e-5]\n",
      "100%|██████████| 51/51 [00:19<00:00,  2.65it/s, ave=0.00156, loss=0.00161, lr=6.6e-5]\n",
      "100%|██████████| 51/51 [00:19<00:00,  2.65it/s, ave=0.00156, loss=0.00157, lr=6.6e-5]\n",
      "100%|██████████| 51/51 [00:19<00:00,  2.65it/s, ave=0.00157, loss=0.00157, lr=6.27e-5]\n",
      "100%|██████████| 51/51 [00:19<00:00,  2.66it/s, ave=0.00155, loss=0.00156, lr=6.27e-5]\n",
      "100%|██████████| 51/51 [00:19<00:00,  2.66it/s, ave=0.00154, loss=0.00157, lr=5.95e-5]\n",
      "100%|██████████| 51/51 [00:19<00:00,  2.65it/s, ave=0.00153, loss=0.00151, lr=5.95e-5]\n",
      "100%|██████████| 51/51 [00:19<00:00,  2.65it/s, ave=0.00153, loss=0.00154, lr=5.66e-5]\n",
      "100%|██████████| 51/51 [00:19<00:00,  2.65it/s, ave=0.00153, loss=0.00148, lr=5.66e-5]\n",
      "100%|██████████| 51/51 [00:19<00:00,  2.65it/s, ave=0.00151, loss=0.00152, lr=5.37e-5]\n",
      "100%|██████████| 51/51 [00:19<00:00,  2.65it/s, ave=0.00151, loss=0.00139, lr=5.37e-5]\n",
      "100%|██████████| 51/51 [00:19<00:00,  2.65it/s, ave=0.00151, loss=0.00149, lr=5.1e-5]\n",
      "100%|██████████| 51/51 [00:19<00:00,  2.65it/s, ave=0.0015, loss=0.00151, lr=5.1e-5] \n",
      "100%|██████████| 51/51 [00:19<00:00,  2.65it/s, ave=0.00151, loss=0.00153, lr=4.85e-5]\n",
      "100%|██████████| 51/51 [00:19<00:00,  2.65it/s, ave=0.00151, loss=0.00151, lr=4.85e-5]\n",
      "100%|██████████| 51/51 [00:19<00:00,  2.66it/s, ave=0.00149, loss=0.0015, lr=4.61e-5] \n",
      "100%|██████████| 51/51 [00:19<00:00,  2.65it/s, ave=0.00149, loss=0.0015, lr=4.61e-5] \n",
      "100%|██████████| 51/51 [00:19<00:00,  2.64it/s, ave=0.00148, loss=0.00151, lr=4.38e-5]\n",
      "100%|██████████| 51/51 [00:19<00:00,  2.65it/s, ave=0.00149, loss=0.00145, lr=4.38e-5]\n",
      "100%|██████████| 51/51 [00:19<00:00,  2.66it/s, ave=0.00147, loss=0.00151, lr=4.16e-5]\n",
      "100%|██████████| 51/51 [00:19<00:00,  2.65it/s, ave=0.00147, loss=0.00146, lr=4.16e-5]\n",
      "100%|██████████| 51/51 [00:19<00:00,  2.65it/s, ave=0.00149, loss=0.00152, lr=3.95e-5]\n",
      "100%|██████████| 51/51 [00:19<00:00,  2.66it/s, ave=0.00145, loss=0.00145, lr=3.95e-5]\n",
      "100%|██████████| 51/51 [00:19<00:00,  2.65it/s, ave=0.00146, loss=0.00141, lr=3.75e-5]\n",
      "100%|██████████| 51/51 [00:19<00:00,  2.65it/s, ave=0.00145, loss=0.00144, lr=3.75e-5]\n",
      "100%|██████████| 51/51 [00:19<00:00,  2.64it/s, ave=0.00146, loss=0.00149, lr=3.56e-5]\n",
      "100%|██████████| 51/51 [00:19<00:00,  2.65it/s, ave=0.00147, loss=0.00153, lr=3.56e-5]\n",
      "100%|██████████| 51/51 [00:19<00:00,  2.65it/s, ave=0.00146, loss=0.00154, lr=3.39e-5]\n",
      "100%|██████████| 51/51 [00:19<00:00,  2.65it/s, ave=0.00147, loss=0.00143, lr=3.39e-5]\n",
      "100%|██████████| 51/51 [00:19<00:00,  2.65it/s, ave=0.00145, loss=0.00147, lr=3.22e-5]\n",
      "100%|██████████| 51/51 [00:19<00:00,  2.66it/s, ave=0.00144, loss=0.00141, lr=3.22e-5]\n",
      "100%|██████████| 51/51 [00:19<00:00,  2.65it/s, ave=0.00144, loss=0.00142, lr=3.06e-5]\n",
      "100%|██████████| 51/51 [00:19<00:00,  2.66it/s, ave=0.00144, loss=0.00139, lr=3.06e-5]\n",
      "100%|██████████| 51/51 [00:19<00:00,  2.65it/s, ave=0.00143, loss=0.00151, lr=2.9e-5]\n",
      "100%|██████████| 51/51 [00:19<00:00,  2.66it/s, ave=0.00143, loss=0.0015, lr=2.9e-5] \n",
      "100%|██████████| 51/51 [00:19<00:00,  2.66it/s, ave=0.00142, loss=0.00154, lr=2.76e-5]\n",
      "100%|██████████| 51/51 [00:19<00:00,  2.66it/s, ave=0.00142, loss=0.00139, lr=2.76e-5]\n",
      "100%|██████████| 51/51 [00:19<00:00,  2.65it/s, ave=0.00141, loss=0.00142, lr=2.62e-5]\n",
      "100%|██████████| 51/51 [00:19<00:00,  2.66it/s, ave=0.00142, loss=0.00141, lr=2.62e-5]\n",
      "100%|██████████| 51/51 [00:19<00:00,  2.65it/s, ave=0.00142, loss=0.00141, lr=2.49e-5]\n",
      "100%|██████████| 51/51 [00:19<00:00,  2.66it/s, ave=0.00142, loss=0.0014, lr=2.49e-5] \n",
      "100%|██████████| 51/51 [00:19<00:00,  2.66it/s, ave=0.00142, loss=0.00149, lr=2.36e-5]\n",
      "100%|██████████| 51/51 [00:19<00:00,  2.65it/s, ave=0.00143, loss=0.00141, lr=2.36e-5]\n",
      "100%|██████████| 51/51 [00:19<00:00,  2.65it/s, ave=0.00143, loss=0.00139, lr=2.25e-5]\n",
      "100%|██████████| 51/51 [00:19<00:00,  2.65it/s, ave=0.00141, loss=0.00139, lr=2.25e-5]\n",
      "100%|██████████| 51/51 [00:19<00:00,  2.66it/s, ave=0.00141, loss=0.00148, lr=2.13e-5]\n",
      "100%|██████████| 51/51 [00:19<00:00,  2.66it/s, ave=0.00142, loss=0.00143, lr=2.13e-5]\n",
      "100%|██████████| 51/51 [00:19<00:00,  2.65it/s, ave=0.00143, loss=0.00139, lr=2.03e-5]\n",
      "100%|██████████| 51/51 [00:19<00:00,  2.65it/s, ave=0.00141, loss=0.00142, lr=2.03e-5]\n",
      "100%|██████████| 51/51 [00:19<00:00,  2.65it/s, ave=0.00141, loss=0.00139, lr=1.93e-5]\n",
      "100%|██████████| 51/51 [00:19<00:00,  2.65it/s, ave=0.0014, loss=0.0014, lr=1.93e-5]  \n",
      "100%|██████████| 51/51 [00:19<00:00,  2.65it/s, ave=0.0014, loss=0.00138, lr=1.83e-5] \n",
      "100%|██████████| 51/51 [00:19<00:00,  2.65it/s, ave=0.0014, loss=0.00141, lr=1.83e-5] \n",
      "100%|██████████| 51/51 [00:19<00:00,  2.66it/s, ave=0.00138, loss=0.00141, lr=1.74e-5]\n",
      "100%|██████████| 51/51 [00:19<00:00,  2.65it/s, ave=0.00137, loss=0.00138, lr=1.74e-5]\n",
      "100%|██████████| 51/51 [00:19<00:00,  2.65it/s, ave=0.00137, loss=0.00137, lr=1.65e-5]\n",
      "100%|██████████| 51/51 [00:19<00:00,  2.65it/s, ave=0.00137, loss=0.00135, lr=1.65e-5]\n",
      "100%|██████████| 51/51 [00:19<00:00,  2.66it/s, ave=0.00137, loss=0.00137, lr=1.57e-5]\n",
      "100%|██████████| 51/51 [00:19<00:00,  2.65it/s, ave=0.00137, loss=0.00134, lr=1.57e-5]\n",
      "100%|██████████| 51/51 [00:19<00:00,  2.65it/s, ave=0.00136, loss=0.00132, lr=1.49e-5]\n",
      "100%|██████████| 51/51 [00:19<00:00,  2.67it/s, ave=0.00136, loss=0.00135, lr=1.49e-5]\n",
      "100%|██████████| 51/51 [00:19<00:00,  2.66it/s, ave=0.00136, loss=0.00148, lr=1.42e-5]\n",
      "100%|██████████| 51/51 [00:19<00:00,  2.65it/s, ave=0.00135, loss=0.00138, lr=1.42e-5]\n",
      "100%|██████████| 51/51 [00:19<00:00,  2.65it/s, ave=0.00136, loss=0.00137, lr=1.35e-5]\n",
      "100%|██████████| 51/51 [00:19<00:00,  2.66it/s, ave=0.00135, loss=0.00134, lr=1.35e-5]\n",
      "100%|██████████| 51/51 [00:19<00:00,  2.65it/s, ave=0.00135, loss=0.00137, lr=1.28e-5]\n",
      "100%|██████████| 51/51 [00:19<00:00,  2.65it/s, ave=0.00135, loss=0.00131, lr=1.28e-5]\n",
      "100%|██████████| 51/51 [00:19<00:00,  2.66it/s, ave=0.00135, loss=0.00134, lr=1.21e-5]\n",
      "100%|██████████| 51/51 [00:19<00:00,  2.66it/s, ave=0.00135, loss=0.00131, lr=1.21e-5]\n",
      "100%|██████████| 51/51 [00:19<00:00,  2.65it/s, ave=0.00135, loss=0.00136, lr=1.15e-5]\n",
      "100%|██████████| 51/51 [00:19<00:00,  2.65it/s, ave=0.00134, loss=0.00132, lr=1.15e-5]\n",
      "100%|██████████| 51/51 [00:19<00:00,  2.65it/s, ave=0.00134, loss=0.00138, lr=1.1e-5]\n",
      "100%|██████████| 51/51 [00:19<00:00,  2.66it/s, ave=0.00134, loss=0.00138, lr=1.1e-5]\n",
      "100%|██████████| 51/51 [00:19<00:00,  2.65it/s, ave=0.00133, loss=0.00135, lr=1.04e-5]\n",
      "100%|██████████| 51/51 [00:19<00:00,  2.65it/s, ave=0.00133, loss=0.00126, lr=1.04e-5]\n",
      "100%|██████████| 51/51 [00:19<00:00,  2.65it/s, ave=0.00133, loss=0.00126, lr=9.89e-6]\n",
      "100%|██████████| 51/51 [00:19<00:00,  2.66it/s, ave=0.00134, loss=0.00137, lr=9.89e-6]\n",
      "100%|██████████| 51/51 [00:19<00:00,  2.65it/s, ave=0.00133, loss=0.00129, lr=9.39e-6]\n",
      "100%|██████████| 51/51 [00:19<00:00,  2.65it/s, ave=0.00133, loss=0.00137, lr=9.39e-6]\n",
      "100%|██████████| 51/51 [00:19<00:00,  2.66it/s, ave=0.00132, loss=0.00131, lr=8.92e-6]\n",
      "100%|██████████| 51/51 [00:19<00:00,  2.65it/s, ave=0.00132, loss=0.00133, lr=8.92e-6]\n",
      "100%|██████████| 51/51 [00:19<00:00,  2.65it/s, ave=0.00132, loss=0.00136, lr=8.48e-6]\n"
     ]
    },
    {
     "name": "stderr",
     "output_type": "stream",
     "text": [
      "100%|██████████| 51/51 [00:19<00:00,  2.65it/s, ave=0.00132, loss=0.00129, lr=8.48e-6]\n",
      "100%|██████████| 51/51 [00:19<00:00,  2.64it/s, ave=0.00132, loss=0.00131, lr=8.05e-6]\n",
      "100%|██████████| 51/51 [00:19<00:00,  2.65it/s, ave=0.00131, loss=0.0013, lr=8.05e-6] \n",
      "100%|██████████| 51/51 [00:19<00:00,  2.64it/s, ave=0.00131, loss=0.00127, lr=7.65e-6]\n",
      "100%|██████████| 51/51 [00:19<00:00,  2.65it/s, ave=0.00131, loss=0.00135, lr=7.65e-6]\n",
      "100%|██████████| 51/51 [00:19<00:00,  2.65it/s, ave=0.00131, loss=0.00139, lr=7.27e-6]\n",
      "100%|██████████| 51/51 [00:19<00:00,  2.65it/s, ave=0.00131, loss=0.00127, lr=7.27e-6]\n",
      "100%|██████████| 51/51 [00:19<00:00,  2.65it/s, ave=0.00131, loss=0.00135, lr=6.91e-6]\n",
      "100%|██████████| 51/51 [00:19<00:00,  2.65it/s, ave=0.00131, loss=0.0014, lr=6.91e-6] \n",
      "100%|██████████| 51/51 [00:19<00:00,  2.65it/s, ave=0.00131, loss=0.00132, lr=6.56e-6]\n",
      "100%|██████████| 51/51 [00:19<00:00,  2.65it/s, ave=0.0013, loss=0.00128, lr=6.56e-6] \n",
      "100%|██████████| 51/51 [00:19<00:00,  2.65it/s, ave=0.0013, loss=0.00128, lr=6.23e-6] \n",
      "100%|██████████| 51/51 [00:19<00:00,  2.65it/s, ave=0.0013, loss=0.00135, lr=6.23e-6] \n"
     ]
    }
   ],
   "source": [
    "trainer.model.train()\n",
    "for e in range(args.num_epochs):\n",
    "    minibatch_iter = tqdm(dataloader)\n",
    "    train_loss = 0.\n",
    "    for b, data in enumerate(minibatch_iter):\n",
    "        x,y = data\n",
    "\n",
    "        loss, batch_time = trainer.train(x,y)\n",
    "        \n",
    "        train_loss += loss\n",
    "        ave_loss = train_loss/(b+1)\n",
    "        step = e*len(dataloader)+(b+1)\n",
    "        # display data\n",
    "        minibatch_iter.set_postfix(ave = ave_loss, loss=loss,lr=trainer.scheduler.get_last_lr()[0])\n",
    "        # tensorboard\n",
    "        trainer.data2tensorboard(writer,'training loss',{'item loss':loss,'batch loss':ave_loss},step)\n",
    "        # save model\n",
    "        #trainer.save_model_step(e,step)\n",
    "        # step scheduler\n",
    "        trainer.schedule_step(step,102)"
   ]
  },
  {
   "cell_type": "code",
   "execution_count": 8,
   "metadata": {
    "ExecuteTime": {
     "end_time": "2020-08-22T10:52:12.130772Z",
     "start_time": "2020-08-22T10:52:10.888596Z"
    }
   },
   "outputs": [
    {
     "name": "stdout",
     "output_type": "stream",
     "text": [
      "Saving model to pretrained_nn.pth\n"
     ]
    }
   ],
   "source": [
    "trainer.save_model('pretrained_nn.pth')"
   ]
  },
  {
   "cell_type": "markdown",
   "metadata": {},
   "source": [
    "# Evaluation"
   ]
  },
  {
   "cell_type": "code",
   "execution_count": 9,
   "metadata": {
    "ExecuteTime": {
     "end_time": "2020-08-22T10:52:15.968477Z",
     "start_time": "2020-08-22T10:52:15.800448Z"
    }
   },
   "outputs": [
    {
     "name": "stderr",
     "output_type": "stream",
     "text": [
      "  0%|          | 0/51 [00:00<?, ?it/s]\n"
     ]
    }
   ],
   "source": [
    "trainer.model.eval()\n",
    "for e in range(args.num_epochs):\n",
    "    minibatch_iter = tqdm(dataloader)\n",
    "    train_loss = 0.\n",
    "    for b, data in enumerate(minibatch_iter):\n",
    "        x,y = data\n",
    "        break\n",
    "    break\n",
    "\n",
    "trans_pred, rot_pred, trans_gt, rot_gt = trainer.eval_forward(x,y)"
   ]
  },
  {
   "cell_type": "code",
   "execution_count": 10,
   "metadata": {
    "ExecuteTime": {
     "end_time": "2020-08-22T10:52:17.260059Z",
     "start_time": "2020-08-22T10:52:17.238403Z"
    },
    "cell_style": "split"
   },
   "outputs": [
    {
     "data": {
      "text/plain": [
       "tensor([[-123.0586,  346.9702,   -9.8569],\n",
       "        [ -77.4997,  484.1308,  -10.9497],\n",
       "        [-297.4271,  551.9941,  -12.5403],\n",
       "        ...,\n",
       "        [-109.6411,  598.9783,  -12.1633],\n",
       "        [-122.5284,  703.4795,  -12.1626],\n",
       "        [-193.5782,  415.9282,  -13.1029]], device='cuda:1',\n",
       "       grad_fn=<AddBackward0>)"
      ]
     },
     "execution_count": 10,
     "metadata": {},
     "output_type": "execute_result"
    }
   ],
   "source": [
    "trans_pred"
   ]
  },
  {
   "cell_type": "code",
   "execution_count": 11,
   "metadata": {
    "ExecuteTime": {
     "end_time": "2020-08-22T10:52:17.960920Z",
     "start_time": "2020-08-22T10:52:17.953665Z"
    },
    "cell_style": "split"
   },
   "outputs": [
    {
     "data": {
      "text/plain": [
       "tensor([[-122.8274,  344.5215,   -9.9254],\n",
       "        [ -76.6735,  483.1304,  -10.9046],\n",
       "        [-300.2071,  551.7280,  -12.5239],\n",
       "        ...,\n",
       "        [-108.3895,  597.5125,  -12.0480],\n",
       "        [-123.8316,  700.7715,  -12.1452],\n",
       "        [-196.0222,  413.3089,  -13.3092]], device='cuda:1')"
      ]
     },
     "execution_count": 11,
     "metadata": {},
     "output_type": "execute_result"
    }
   ],
   "source": [
    "trans_gt"
   ]
  },
  {
   "cell_type": "markdown",
   "metadata": {},
   "source": [
    "new: 7-21  0.0019\n",
    "\n",
    "new: 5-15  0.0013\n",
    "\n",
    "old: 8-25  0.0021"
   ]
  },
  {
   "cell_type": "code",
   "execution_count": 12,
   "metadata": {
    "ExecuteTime": {
     "end_time": "2020-08-22T10:52:23.895442Z",
     "start_time": "2020-08-22T10:52:23.889931Z"
    }
   },
   "outputs": [
    {
     "data": {
      "text/plain": [
       "tensor(5.0974, device='cuda:1', grad_fn=<MseLossBackward>)"
      ]
     },
     "execution_count": 12,
     "metadata": {},
     "output_type": "execute_result"
    }
   ],
   "source": [
    "nn.functional.mse_loss(input=trans_pred, target=trans_gt)"
   ]
  },
  {
   "cell_type": "code",
   "execution_count": 13,
   "metadata": {
    "ExecuteTime": {
     "end_time": "2020-08-22T10:52:25.132019Z",
     "start_time": "2020-08-22T10:52:25.122456Z"
    }
   },
   "outputs": [
    {
     "data": {
      "text/plain": [
       "tensor(15.2922, device='cuda:1', grad_fn=<MeanBackward0>)"
      ]
     },
     "execution_count": 13,
     "metadata": {},
     "output_type": "execute_result"
    }
   ],
   "source": [
    "torch.sum((trans_pred - trans_gt)**2,dim=1).mean()"
   ]
  },
  {
   "cell_type": "code",
   "execution_count": 15,
   "metadata": {
    "ExecuteTime": {
     "end_time": "2020-08-22T03:32:24.157780Z",
     "start_time": "2020-08-22T03:32:24.146691Z"
    },
    "cell_style": "split"
   },
   "outputs": [
    {
     "data": {
      "text/plain": [
       "tensor([[ 0.0588, -0.9982, -0.0040,  0.0064],\n",
       "        [ 0.9976, -0.0666, -0.0109,  0.0124],\n",
       "        [ 0.7255, -0.6882, -0.0105,  0.0054],\n",
       "        ...,\n",
       "        [-0.5246, -0.8513, -0.0087, -0.0071],\n",
       "        [-0.0168, -0.9998, -0.0047,  0.0052],\n",
       "        [ 0.1972, -0.9803, -0.0079,  0.0051]], device='cuda:1',\n",
       "       grad_fn=<SplitWithSizesBackward>)"
      ]
     },
     "execution_count": 15,
     "metadata": {},
     "output_type": "execute_result"
    }
   ],
   "source": [
    "rot_pred"
   ]
  },
  {
   "cell_type": "code",
   "execution_count": 16,
   "metadata": {
    "ExecuteTime": {
     "end_time": "2020-08-22T03:32:32.957983Z",
     "start_time": "2020-08-22T03:32:32.950469Z"
    },
    "cell_style": "split"
   },
   "outputs": [
    {
     "data": {
      "text/plain": [
       "tensor([[ 0.0212,  0.9995,  0.0234, -0.0078],\n",
       "        [ 0.9943, -0.1052, -0.0080,  0.0133],\n",
       "        [ 0.7271, -0.6864,  0.0058, -0.0059],\n",
       "        ...,\n",
       "        [ 0.4042,  0.9140,  0.0256,  0.0222],\n",
       "        [-0.1501,  0.9870,  0.0349,  0.0464],\n",
       "        [-0.2323,  0.9722, -0.0104, -0.0263]], device='cuda:1')"
      ]
     },
     "execution_count": 16,
     "metadata": {},
     "output_type": "execute_result"
    }
   ],
   "source": [
    "rot_gt"
   ]
  },
  {
   "cell_type": "code",
   "execution_count": 18,
   "metadata": {
    "ExecuteTime": {
     "end_time": "2020-08-22T03:34:52.028603Z",
     "start_time": "2020-08-22T03:34:52.007167Z"
    }
   },
   "outputs": [
    {
     "data": {
      "text/plain": [
       "tensor(0.0289, device='cuda:1', grad_fn=<RsubBackward1>)"
      ]
     },
     "execution_count": 18,
     "metadata": {},
     "output_type": "execute_result"
    }
   ],
   "source": [
    "1. - torch.mean(torch.square(torch.sum(torch.mul(rot_pred,rot_gt),dim=1)))"
   ]
  },
  {
   "cell_type": "code",
   "execution_count": null,
   "metadata": {},
   "outputs": [],
   "source": []
  }
 ],
 "metadata": {
  "kernelspec": {
   "display_name": "Python 3",
   "language": "python",
   "name": "python3"
  },
  "language_info": {
   "codemirror_mode": {
    "name": "ipython",
    "version": 3
   },
   "file_extension": ".py",
   "mimetype": "text/x-python",
   "name": "python",
   "nbconvert_exporter": "python",
   "pygments_lexer": "ipython3",
   "version": "3.6.9"
  },
  "latex_envs": {
   "LaTeX_envs_menu_present": true,
   "autoclose": false,
   "autocomplete": true,
   "bibliofile": "biblio.bib",
   "cite_by": "apalike",
   "current_citInitial": 1,
   "eqLabelWithNumbers": true,
   "eqNumInitial": 1,
   "hotkeys": {
    "equation": "Ctrl-E",
    "itemize": "Ctrl-I"
   },
   "labels_anchors": false,
   "latex_user_defs": false,
   "report_style_numbering": false,
   "user_envs_cfg": false
  },
  "toc": {
   "base_numbering": 1,
   "nav_menu": {},
   "number_sections": true,
   "sideBar": true,
   "skip_h1_title": false,
   "title_cell": "Table of Contents",
   "title_sidebar": "Contents",
   "toc_cell": false,
   "toc_position": {},
   "toc_section_display": true,
   "toc_window_display": false
  },
  "varInspector": {
   "cols": {
    "lenName": 16,
    "lenType": 16,
    "lenVar": 40
   },
   "kernels_config": {
    "python": {
     "delete_cmd_postfix": "",
     "delete_cmd_prefix": "del ",
     "library": "var_list.py",
     "varRefreshCmd": "print(var_dic_list())"
    },
    "r": {
     "delete_cmd_postfix": ") ",
     "delete_cmd_prefix": "rm(",
     "library": "var_list.r",
     "varRefreshCmd": "cat(var_dic_list()) "
    }
   },
   "types_to_exclude": [
    "module",
    "function",
    "builtin_function_or_method",
    "instance",
    "_Feature"
   ],
   "window_display": false
  }
 },
 "nbformat": 4,
 "nbformat_minor": 4
}
