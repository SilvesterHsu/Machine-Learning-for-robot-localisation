{
 "cells": [
  {
   "cell_type": "markdown",
   "metadata": {},
   "source": [
    "# Torch\n",
    "## Check GPU"
   ]
  },
  {
   "cell_type": "code",
   "execution_count": 1,
   "metadata": {
    "ExecuteTime": {
     "end_time": "2020-07-18T14:51:15.565277Z",
     "start_time": "2020-07-18T14:51:14.376424Z"
    },
    "run_control": {
     "marked": true
    }
   },
   "outputs": [
    {
     "name": "stderr",
     "output_type": "stream",
     "text": [
      "the rosdep view is empty: call 'sudo rosdep init' and 'rosdep update'\n"
     ]
    },
    {
     "name": "stdout",
     "output_type": "stream",
     "text": [
      "------------ List Devices ------------\n",
      "Device 0 :\n",
      "GeForce RTX 2060\n",
      "Memory Usage:\n",
      "Allocated: 0.0 GB\n",
      "Cached:    0.0 GB\n",
      "\n",
      "Device 1 :\n",
      "TITAN Xp\n",
      "Memory Usage:\n",
      "Allocated: 0.0 GB\n",
      "Cached:    0.0 GB\n",
      "\n"
     ]
    }
   ],
   "source": [
    "import torch\n",
    "import sys\n",
    "sys.path.append('..')\n",
    "from torchlib.utils import list_device,set_device\n",
    "\n",
    "list_device()"
   ]
  },
  {
   "cell_type": "markdown",
   "metadata": {},
   "source": [
    "## Set torch default parameters"
   ]
  },
  {
   "cell_type": "code",
   "execution_count": 2,
   "metadata": {
    "ExecuteTime": {
     "end_time": "2020-07-18T14:51:15.570844Z",
     "start_time": "2020-07-18T14:51:15.566732Z"
    },
    "run_control": {
     "marked": true
    }
   },
   "outputs": [
    {
     "name": "stdout",
     "output_type": "stream",
     "text": [
      "Using Device 1 : TITAN Xp\n"
     ]
    }
   ],
   "source": [
    "set_device(1)\n",
    "torch.set_default_dtype(torch.float32)\n",
    "torch.set_printoptions(precision=4)\n",
    "torch.backends.cudnn.benchmark = True\n",
    "torch.set_printoptions(sci_mode=False)"
   ]
  },
  {
   "cell_type": "markdown",
   "metadata": {},
   "source": [
    "# Set Arguments"
   ]
  },
  {
   "cell_type": "code",
   "execution_count": 3,
   "metadata": {
    "ExecuteTime": {
     "end_time": "2020-07-18T14:51:15.586529Z",
     "start_time": "2020-07-18T14:51:15.572582Z"
    },
    "run_control": {
     "marked": true
    }
   },
   "outputs": [],
   "source": [
    "import argparse\n",
    "import sys\n",
    "import os\n",
    "import time\n",
    "import pickle\n",
    "\n",
    "parser = argparse.ArgumentParser()\n",
    "\n",
    "'''Training Parameters'''\n",
    "parser.add_argument('--batch_size', type=int, default=32, help='minibatch size')\n",
    "parser.add_argument('--num_epochs', type=int, default=200, help='number of epochs')\n",
    "parser.add_argument('--grad_clip', type=float, default=5., help='clip gradients at this value')\n",
    "parser.add_argument('--learning_rate', type=float, default=0.000001, help='learning rate')\n",
    "parser.add_argument('--learning_rate_clip', type=float, default=0.0000001, help='learning rate clip')\n",
    "parser.add_argument('--decay_rate', type=float, default=.9, help='decay rate for rmsprop')\n",
    "parser.add_argument('--weight_decay', type=float, default=.0001, help='decay rate for rmsprop')\n",
    "parser.add_argument('--batch_norm_decay', type=float, default=.999, help='decay rate for rmsprop')\n",
    "parser.add_argument('--keep_prob', type=float, default=1.0, help='dropout keep probability')\n",
    "parser.add_argument('--lamda_weights', type=float, default=0.01, help='weight of rotation error')\n",
    "parser.add_argument('--data_argumentation', type=bool, default=True, help='whether do data argument')\n",
    "parser.add_argument('--is_normalization', type=bool, default=True, help='whether do data normalization')\n",
    "parser.add_argument('--target_image_size', default=[300, 300], nargs=2, type=int, help='Input images will be resized to this for data argumentation.')\n",
    "#parser.add_argument('--output_dim', default=3, type=int, help='output dimention.')\n",
    "#parser.add_argument('--feat_dim', default=128, type=int, help='feature dimention.')\n",
    "\n",
    "'''Configure'''\n",
    "parser.add_argument('--network', type=str, default='vggnet_localization')\n",
    "parser.add_argument('--model_dir', type=str, default='/notebooks/global_localization/dual_resnet_torch', help='rnn, gru, or lstm')\n",
    "\n",
    "'''\n",
    "parser.add_argument('--train_dataset', type=str, default = ['/notebooks/michigan_nn_data/2012_01_08',\n",
    "                                                            '/notebooks/michigan_nn_data/2012_01_15',\n",
    "                                                            '/notebooks/michigan_nn_data/2012_01_22',\n",
    "                                                            '/notebooks/michigan_nn_data/2012_02_02',\n",
    "                                                            '/notebooks/michigan_nn_data/2012_02_04',\n",
    "                                                            '/notebooks/michigan_nn_data/2012_02_05',\n",
    "                                                            '/notebooks/michigan_nn_data/2012_03_31',\n",
    "                                                            '/notebooks/michigan_nn_data/2012_09_28'])\n",
    "'''\n",
    "#parser.add_argument('--train_dataset', type=str, default = ['/notebooks/michigan_nn_data/test'])\n",
    "parser.add_argument('--train_dataset', type=str, default = ['/notebooks/michigan_nn_data/2012_01_08'])\n",
    "parser.add_argument('--norm_tensor', type=str, default = ['/notebooks/global_localization/norm_mean_std.pt'])\n",
    "\n",
    "parser.add_argument('--seed', default=1337, type=int)\n",
    "parser.add_argument('--save_every', type=int, default=2000, help='save frequency')\n",
    "parser.add_argument('--display', type=int, default=20, help='display frequency')\n",
    "parser.add_argument('--tensorboard', type=bool, default=False, help='open tensorboard')\n",
    "\n",
    "sys.argv = ['']\n",
    "args = parser.parse_args()\n",
    "\n",
    "if args.tensorboard:\n",
    "    from torch.utils.tensorboard import SummaryWriter\n",
    "    writer = SummaryWriter('runs/nn')"
   ]
  },
  {
   "cell_type": "markdown",
   "metadata": {},
   "source": [
    "# Load Dataset"
   ]
  },
  {
   "cell_type": "code",
   "execution_count": 4,
   "metadata": {
    "ExecuteTime": {
     "end_time": "2020-07-18T14:51:34.783749Z",
     "start_time": "2020-07-18T14:51:15.587853Z"
    },
    "run_control": {
     "marked": true
    }
   },
   "outputs": [
    {
     "name": "stderr",
     "output_type": "stream",
     "text": [
      "100%|██████████| 16446/16446 [00:18<00:00, 865.89it/s]"
     ]
    },
    {
     "name": "stdout",
     "output_type": "stream",
     "text": [
      "Load norm and std: /notebooks/global_localization/norm_mean_std.pt\n"
     ]
    },
    {
     "name": "stderr",
     "output_type": "stream",
     "text": [
      "\n"
     ]
    }
   ],
   "source": [
    "from torch.utils.data import Dataset, DataLoader\n",
    "import torchvision.transforms as transforms\n",
    "import tf.transformations as tf_tran\n",
    "from tqdm import tqdm\n",
    "from PIL import Image\n",
    "import numpy as np\n",
    "import random\n",
    "\n",
    "import torch.nn as nn\n",
    "import torch.optim as optim\n",
    "from torchlib import resnet, vggnet, cnn_auxiliary\n",
    "from torchlib.cnn_auxiliary import normalize, denormalize, get_relative_pose, translational_rotational_loss\n",
    "from torchlib.utils import LocalizationDataset, display_loss, data2tensorboard\n",
    "import time\n",
    "\n",
    "transform = transforms.Compose([transforms.ToTensor()])\n",
    "dataset = LocalizationDataset(dataset_dirs = args.train_dataset, \\\n",
    "                              image_size = args.target_image_size, \\\n",
    "                              transform = transform, get_pair = True)\n",
    "if len(args.train_dataset)>7:\n",
    "    [args.norm_mean, args.norm_std] = [torch.tensor(x) for x in dataset.get_norm()]\n",
    "    torch.save([args.norm_mean, args.norm_std], *args.norm_tensor)\n",
    "    print('Save norm and std:',*args.norm_tensor)\n",
    "else:\n",
    "    [args.norm_mean, args.norm_std] = torch.load(*args.norm_tensor)\n",
    "    print('Load norm and std:',*args.norm_tensor)\n",
    "\n",
    "dataloader = DataLoader(dataset, batch_size=args.batch_size, \\\n",
    "                        shuffle=True, num_workers=0, \\\n",
    "                        drop_last=True, pin_memory=True)"
   ]
  },
  {
   "cell_type": "markdown",
   "metadata": {},
   "source": [
    "# Define Model"
   ]
  },
  {
   "cell_type": "code",
   "execution_count": 5,
   "metadata": {
    "ExecuteTime": {
     "end_time": "2020-07-18T14:51:34.792990Z",
     "start_time": "2020-07-18T14:51:34.785223Z"
    },
    "code_folding": [
     0,
     8,
     19,
     20,
     25
    ],
    "run_control": {
     "marked": true
    }
   },
   "outputs": [],
   "source": [
    "class Backbone(nn.Module):\n",
    "    def __init__(self):\n",
    "        super().__init__()\n",
    "        self.resnet = resnet.resnet50(pretrained=True)\n",
    "    def forward(self,input_data):\n",
    "        dense_feat = self.resnet(input_data)\n",
    "        return dense_feat\n",
    "    \n",
    "class NN(nn.Module):\n",
    "    def __init__(self):\n",
    "        super().__init__()\n",
    "        self.global_context = vggnet.vggnet(input_channel=2048,opt=\"context\")\n",
    "        self.global_regressor = vggnet.vggnet(opt=\"regressor\")\n",
    "        \n",
    "    def forward(self,input_data):\n",
    "        context_feat = self.global_context(input_data)\n",
    "        output,feature_t, feature_r = self.global_regressor(context_feat)\n",
    "        return output, feature_t, feature_r\n",
    "        \n",
    "class Model(nn.Module):\n",
    "    def __init__(self):\n",
    "        super().__init__()\n",
    "        self.backbone = Backbone()\n",
    "        self.nn = NN()\n",
    "        \n",
    "    def forward(self, *args):\n",
    "        outputs = []\n",
    "        for input_data in args:\n",
    "            dense_feat = self.backbone(input_data)\n",
    "            output, feature_t, feature_r = self.nn(dense_feat)\n",
    "            outputs += [output]\n",
    "        if len(args)>1:\n",
    "            return outputs\n",
    "        else:\n",
    "            return output, feature_t, feature_r"
   ]
  },
  {
   "cell_type": "code",
   "execution_count": 6,
   "metadata": {
    "ExecuteTime": {
     "end_time": "2020-07-18T14:51:37.931642Z",
     "start_time": "2020-07-18T14:51:34.794388Z"
    },
    "code_folding": [
     0,
     1,
     14,
     30,
     40,
     45,
     66,
     85
    ],
    "run_control": {
     "marked": true
    },
    "scrolled": true
   },
   "outputs": [
    {
     "name": "stdout",
     "output_type": "stream",
     "text": [
      "Transform from old model.\n",
      "Parameters layer: 346\n",
      "backbone.resnet.conv1.weight torch.Size([64, 1, 7, 7])\n",
      "backbone.resnet.bn1.weight torch.Size([64])\n",
      "backbone.resnet.bn1.bias torch.Size([64])\n",
      "backbone.resnet.layer1.0.conv1.weight torch.Size([64, 64, 1, 1])\n",
      "backbone.resnet.layer1.0.bn1.weight torch.Size([64])\n",
      "backbone.resnet.layer1.0.bn1.bias torch.Size([64])\n",
      "backbone.resnet.layer1.0.conv2.weight torch.Size([64, 64, 3, 3])\n",
      "backbone.resnet.layer1.0.bn2.weight torch.Size([64])\n",
      "backbone.resnet.layer1.0.bn2.bias torch.Size([64])\n",
      "backbone.resnet.layer1.0.conv3.weight torch.Size([256, 64, 1, 1])\n",
      "backbone.resnet.layer1.0.bn3.weight torch.Size([256])\n",
      "backbone.resnet.layer1.0.bn3.bias torch.Size([256])\n",
      "backbone.resnet.layer1.0.downsample.0.weight torch.Size([256, 64, 1, 1])\n",
      "backbone.resnet.layer1.0.downsample.1.weight torch.Size([256])\n",
      "backbone.resnet.layer1.0.downsample.1.bias torch.Size([256])\n",
      "backbone.resnet.layer1.1.conv1.weight torch.Size([64, 256, 1, 1])\n",
      "backbone.resnet.layer1.1.bn1.weight torch.Size([64])\n",
      "backbone.resnet.layer1.1.bn1.bias torch.Size([64])\n",
      "backbone.resnet.layer1.1.conv2.weight torch.Size([64, 64, 3, 3])\n",
      "backbone.resnet.layer1.1.bn2.weight torch.Size([64])\n",
      "backbone.resnet.layer1.1.bn2.bias torch.Size([64])\n",
      "backbone.resnet.layer1.1.conv3.weight torch.Size([256, 64, 1, 1])\n",
      "backbone.resnet.layer1.1.bn3.weight torch.Size([256])\n",
      "backbone.resnet.layer1.1.bn3.bias torch.Size([256])\n",
      "backbone.resnet.layer1.2.conv1.weight torch.Size([64, 256, 1, 1])\n",
      "backbone.resnet.layer1.2.bn1.weight torch.Size([64])\n",
      "backbone.resnet.layer1.2.bn1.bias torch.Size([64])\n",
      "backbone.resnet.layer1.2.conv2.weight torch.Size([64, 64, 3, 3])\n",
      "backbone.resnet.layer1.2.bn2.weight torch.Size([64])\n",
      "backbone.resnet.layer1.2.bn2.bias torch.Size([64])\n",
      "backbone.resnet.layer1.2.conv3.weight torch.Size([256, 64, 1, 1])\n",
      "backbone.resnet.layer1.2.bn3.weight torch.Size([256])\n",
      "backbone.resnet.layer1.2.bn3.bias torch.Size([256])\n",
      "backbone.resnet.layer2.0.conv1.weight torch.Size([128, 256, 1, 1])\n",
      "backbone.resnet.layer2.0.bn1.weight torch.Size([128])\n",
      "backbone.resnet.layer2.0.bn1.bias torch.Size([128])\n",
      "backbone.resnet.layer2.0.conv2.weight torch.Size([128, 128, 3, 3])\n",
      "backbone.resnet.layer2.0.bn2.weight torch.Size([128])\n",
      "backbone.resnet.layer2.0.bn2.bias torch.Size([128])\n",
      "backbone.resnet.layer2.0.conv3.weight torch.Size([512, 128, 1, 1])\n",
      "backbone.resnet.layer2.0.bn3.weight torch.Size([512])\n",
      "backbone.resnet.layer2.0.bn3.bias torch.Size([512])\n",
      "backbone.resnet.layer2.0.downsample.0.weight torch.Size([512, 256, 1, 1])\n",
      "backbone.resnet.layer2.0.downsample.1.weight torch.Size([512])\n",
      "backbone.resnet.layer2.0.downsample.1.bias torch.Size([512])\n",
      "backbone.resnet.layer2.1.conv1.weight torch.Size([128, 512, 1, 1])\n",
      "backbone.resnet.layer2.1.bn1.weight torch.Size([128])\n",
      "backbone.resnet.layer2.1.bn1.bias torch.Size([128])\n",
      "backbone.resnet.layer2.1.conv2.weight torch.Size([128, 128, 3, 3])\n",
      "backbone.resnet.layer2.1.bn2.weight torch.Size([128])\n",
      "backbone.resnet.layer2.1.bn2.bias torch.Size([128])\n",
      "backbone.resnet.layer2.1.conv3.weight torch.Size([512, 128, 1, 1])\n",
      "backbone.resnet.layer2.1.bn3.weight torch.Size([512])\n",
      "backbone.resnet.layer2.1.bn3.bias torch.Size([512])\n",
      "backbone.resnet.layer2.2.conv1.weight torch.Size([128, 512, 1, 1])\n",
      "backbone.resnet.layer2.2.bn1.weight torch.Size([128])\n",
      "backbone.resnet.layer2.2.bn1.bias torch.Size([128])\n",
      "backbone.resnet.layer2.2.conv2.weight torch.Size([128, 128, 3, 3])\n",
      "backbone.resnet.layer2.2.bn2.weight torch.Size([128])\n",
      "backbone.resnet.layer2.2.bn2.bias torch.Size([128])\n",
      "backbone.resnet.layer2.2.conv3.weight torch.Size([512, 128, 1, 1])\n",
      "backbone.resnet.layer2.2.bn3.weight torch.Size([512])\n",
      "backbone.resnet.layer2.2.bn3.bias torch.Size([512])\n",
      "backbone.resnet.layer2.3.conv1.weight torch.Size([128, 512, 1, 1])\n",
      "backbone.resnet.layer2.3.bn1.weight torch.Size([128])\n",
      "backbone.resnet.layer2.3.bn1.bias torch.Size([128])\n",
      "backbone.resnet.layer2.3.conv2.weight torch.Size([128, 128, 3, 3])\n",
      "backbone.resnet.layer2.3.bn2.weight torch.Size([128])\n",
      "backbone.resnet.layer2.3.bn2.bias torch.Size([128])\n",
      "backbone.resnet.layer2.3.conv3.weight torch.Size([512, 128, 1, 1])\n",
      "backbone.resnet.layer2.3.bn3.weight torch.Size([512])\n",
      "backbone.resnet.layer2.3.bn3.bias torch.Size([512])\n",
      "backbone.resnet.layer3.0.conv1.weight torch.Size([256, 512, 1, 1])\n",
      "backbone.resnet.layer3.0.bn1.weight torch.Size([256])\n",
      "backbone.resnet.layer3.0.bn1.bias torch.Size([256])\n",
      "backbone.resnet.layer3.0.conv2.weight torch.Size([256, 256, 3, 3])\n",
      "backbone.resnet.layer3.0.bn2.weight torch.Size([256])\n",
      "backbone.resnet.layer3.0.bn2.bias torch.Size([256])\n",
      "backbone.resnet.layer3.0.conv3.weight torch.Size([1024, 256, 1, 1])\n",
      "backbone.resnet.layer3.0.bn3.weight torch.Size([1024])\n",
      "backbone.resnet.layer3.0.bn3.bias torch.Size([1024])\n",
      "backbone.resnet.layer3.0.downsample.0.weight torch.Size([1024, 512, 1, 1])\n",
      "backbone.resnet.layer3.0.downsample.1.weight torch.Size([1024])\n",
      "backbone.resnet.layer3.0.downsample.1.bias torch.Size([1024])\n",
      "backbone.resnet.layer3.1.conv1.weight torch.Size([256, 1024, 1, 1])\n",
      "backbone.resnet.layer3.1.bn1.weight torch.Size([256])\n",
      "backbone.resnet.layer3.1.bn1.bias torch.Size([256])\n",
      "backbone.resnet.layer3.1.conv2.weight torch.Size([256, 256, 3, 3])\n",
      "backbone.resnet.layer3.1.bn2.weight torch.Size([256])\n",
      "backbone.resnet.layer3.1.bn2.bias torch.Size([256])\n",
      "backbone.resnet.layer3.1.conv3.weight torch.Size([1024, 256, 1, 1])\n",
      "backbone.resnet.layer3.1.bn3.weight torch.Size([1024])\n",
      "backbone.resnet.layer3.1.bn3.bias torch.Size([1024])\n",
      "backbone.resnet.layer3.2.conv1.weight torch.Size([256, 1024, 1, 1])\n",
      "backbone.resnet.layer3.2.bn1.weight torch.Size([256])\n",
      "backbone.resnet.layer3.2.bn1.bias torch.Size([256])\n",
      "backbone.resnet.layer3.2.conv2.weight torch.Size([256, 256, 3, 3])\n",
      "backbone.resnet.layer3.2.bn2.weight torch.Size([256])\n",
      "backbone.resnet.layer3.2.bn2.bias torch.Size([256])\n",
      "backbone.resnet.layer3.2.conv3.weight torch.Size([1024, 256, 1, 1])\n",
      "backbone.resnet.layer3.2.bn3.weight torch.Size([1024])\n",
      "backbone.resnet.layer3.2.bn3.bias torch.Size([1024])\n",
      "backbone.resnet.layer3.3.conv1.weight torch.Size([256, 1024, 1, 1])\n",
      "backbone.resnet.layer3.3.bn1.weight torch.Size([256])\n",
      "backbone.resnet.layer3.3.bn1.bias torch.Size([256])\n",
      "backbone.resnet.layer3.3.conv2.weight torch.Size([256, 256, 3, 3])\n",
      "backbone.resnet.layer3.3.bn2.weight torch.Size([256])\n",
      "backbone.resnet.layer3.3.bn2.bias torch.Size([256])\n",
      "backbone.resnet.layer3.3.conv3.weight torch.Size([1024, 256, 1, 1])\n",
      "backbone.resnet.layer3.3.bn3.weight torch.Size([1024])\n",
      "backbone.resnet.layer3.3.bn3.bias torch.Size([1024])\n",
      "backbone.resnet.layer3.4.conv1.weight torch.Size([256, 1024, 1, 1])\n",
      "backbone.resnet.layer3.4.bn1.weight torch.Size([256])\n",
      "backbone.resnet.layer3.4.bn1.bias torch.Size([256])\n",
      "backbone.resnet.layer3.4.conv2.weight torch.Size([256, 256, 3, 3])\n",
      "backbone.resnet.layer3.4.bn2.weight torch.Size([256])\n",
      "backbone.resnet.layer3.4.bn2.bias torch.Size([256])\n",
      "backbone.resnet.layer3.4.conv3.weight torch.Size([1024, 256, 1, 1])\n",
      "backbone.resnet.layer3.4.bn3.weight torch.Size([1024])\n",
      "backbone.resnet.layer3.4.bn3.bias torch.Size([1024])\n",
      "backbone.resnet.layer3.5.conv1.weight torch.Size([256, 1024, 1, 1])\n",
      "backbone.resnet.layer3.5.bn1.weight torch.Size([256])\n",
      "backbone.resnet.layer3.5.bn1.bias torch.Size([256])\n",
      "backbone.resnet.layer3.5.conv2.weight torch.Size([256, 256, 3, 3])\n",
      "backbone.resnet.layer3.5.bn2.weight torch.Size([256])\n",
      "backbone.resnet.layer3.5.bn2.bias torch.Size([256])\n",
      "backbone.resnet.layer3.5.conv3.weight torch.Size([1024, 256, 1, 1])\n",
      "backbone.resnet.layer3.5.bn3.weight torch.Size([1024])\n",
      "backbone.resnet.layer3.5.bn3.bias torch.Size([1024])\n",
      "backbone.resnet.layer4.0.conv1.weight torch.Size([512, 1024, 1, 1])\n",
      "backbone.resnet.layer4.0.bn1.weight torch.Size([512])\n",
      "backbone.resnet.layer4.0.bn1.bias torch.Size([512])\n",
      "backbone.resnet.layer4.0.conv2.weight torch.Size([512, 512, 3, 3])\n",
      "backbone.resnet.layer4.0.bn2.weight torch.Size([512])\n",
      "backbone.resnet.layer4.0.bn2.bias torch.Size([512])\n",
      "backbone.resnet.layer4.0.conv3.weight torch.Size([2048, 512, 1, 1])\n",
      "backbone.resnet.layer4.0.bn3.weight torch.Size([2048])\n",
      "backbone.resnet.layer4.0.bn3.bias torch.Size([2048])\n",
      "backbone.resnet.layer4.0.downsample.0.weight torch.Size([2048, 1024, 1, 1])\n",
      "backbone.resnet.layer4.0.downsample.1.weight torch.Size([2048])\n",
      "backbone.resnet.layer4.0.downsample.1.bias torch.Size([2048])\n",
      "backbone.resnet.layer4.1.conv1.weight torch.Size([512, 2048, 1, 1])\n",
      "backbone.resnet.layer4.1.bn1.weight torch.Size([512])\n",
      "backbone.resnet.layer4.1.bn1.bias torch.Size([512])\n",
      "backbone.resnet.layer4.1.conv2.weight torch.Size([512, 512, 3, 3])\n",
      "backbone.resnet.layer4.1.bn2.weight torch.Size([512])\n",
      "backbone.resnet.layer4.1.bn2.bias torch.Size([512])\n",
      "backbone.resnet.layer4.1.conv3.weight torch.Size([2048, 512, 1, 1])\n",
      "backbone.resnet.layer4.1.bn3.weight torch.Size([2048])\n",
      "backbone.resnet.layer4.1.bn3.bias torch.Size([2048])\n",
      "backbone.resnet.layer4.2.conv1.weight torch.Size([512, 2048, 1, 1])\n",
      "backbone.resnet.layer4.2.bn1.weight torch.Size([512])\n",
      "backbone.resnet.layer4.2.bn1.bias torch.Size([512])\n",
      "backbone.resnet.layer4.2.conv2.weight torch.Size([512, 512, 3, 3])\n",
      "backbone.resnet.layer4.2.bn2.weight torch.Size([512])\n",
      "backbone.resnet.layer4.2.bn2.bias torch.Size([512])\n",
      "backbone.resnet.layer4.2.conv3.weight torch.Size([2048, 512, 1, 1])\n",
      "backbone.resnet.layer4.2.bn3.weight torch.Size([2048])\n",
      "backbone.resnet.layer4.2.bn3.bias torch.Size([2048])\n",
      "nn.global_context.context.squeeze.0.weight torch.Size([128, 2048, 1, 1])\n",
      "nn.global_context.context.squeeze.0.bias torch.Size([128])\n",
      "nn.global_context.context.context5_1.0.weight torch.Size([128, 128, 3, 3])\n",
      "nn.global_context.context.context5_1.0.bias torch.Size([128])\n",
      "nn.global_context.context.context5_2.0.weight torch.Size([128, 128, 3, 3])\n",
      "nn.global_context.context.context5_2.0.bias torch.Size([128])\n",
      "nn.global_context.context.context5_3.0.weight torch.Size([128, 128, 3, 3])\n",
      "nn.global_context.context.context5_3.0.bias torch.Size([128])\n",
      "nn.global_context.context.context5_4.0.weight torch.Size([128, 128, 3, 3])\n",
      "nn.global_context.context.context5_4.0.bias torch.Size([128])\n",
      "nn.global_context.context.squeeze2.0.weight torch.Size([64, 128, 1, 1])\n",
      "nn.global_context.context.squeeze2.0.bias torch.Size([64])\n",
      "nn.global_regressor.regressor.fc1_trans.0.weight torch.Size([4096, 6400])\n",
      "nn.global_regressor.regressor.fc1_trans.0.bias torch.Size([4096])\n",
      "nn.global_regressor.regressor.fc2_trans.0.weight torch.Size([4096, 4096])\n",
      "nn.global_regressor.regressor.fc2_trans.0.bias torch.Size([4096])\n",
      "nn.global_regressor.regressor.fc3_trans.0.weight torch.Size([128, 4096])\n",
      "nn.global_regressor.regressor.fc3_trans.0.bias torch.Size([128])\n",
      "nn.global_regressor.regressor.logits_t.weight torch.Size([3, 128])\n",
      "nn.global_regressor.regressor.logits_t.bias torch.Size([3])\n",
      "nn.global_regressor.regressor.fc1_rot.0.weight torch.Size([4096, 6400])\n",
      "nn.global_regressor.regressor.fc1_rot.0.bias torch.Size([4096])\n",
      "nn.global_regressor.regressor.fc2_rot.0.weight torch.Size([4096, 4096])\n",
      "nn.global_regressor.regressor.fc2_rot.0.bias torch.Size([4096])\n",
      "nn.global_regressor.regressor.fc3_rot.0.weight torch.Size([128, 4096])\n",
      "nn.global_regressor.regressor.fc3_rot.0.bias torch.Size([128])\n",
      "nn.global_regressor.regressor.logits_r.weight torch.Size([4, 128])\n",
      "nn.global_regressor.regressor.logits_r.bias torch.Size([4])\n",
      "Parameters layer: 346\n"
     ]
    }
   ],
   "source": [
    "class Trainer:\n",
    "    def __init__(self):\n",
    "        # data\n",
    "        self.model = Model().cuda()\n",
    "        self.norm_mean = args.norm_mean.cuda()\n",
    "        self.norm_std = args.norm_std.cuda()\n",
    "        \n",
    "        # training tool\n",
    "        self.optimizer = optim.Adam(self.model.parameters(), \n",
    "                                    lr=args.learning_rate, \n",
    "                                    weight_decay=args.weight_decay)\n",
    "        self.scheduler = optim.lr_scheduler.LambdaLR(optimizer=self.optimizer,\n",
    "                                                     lr_lambda=lambda epoch: args.decay_rate**epoch)\n",
    "        \n",
    "    def load_model(self, file_name = 'pretrained.pth'):\n",
    "        # load file info\n",
    "        state_dict = torch.load(os.path.join(args.model_dir, file_name))\n",
    "        if 'resnet.conv1.weight' in state_dict:\n",
    "            print('Transform from old model.')\n",
    "            state_dict = self._from_old_model(state_dict)\n",
    "        print('Parameters layer:',len(state_dict.keys()))\n",
    "        # load file to model\n",
    "        self.model.load_state_dict(state_dict,strict = True)\n",
    "        # Display model structure\n",
    "        for name, param in self.model.named_parameters():\n",
    "            print(name, param.shape)\n",
    "        print('Parameters layer:',len(self.model.state_dict().keys()))\n",
    "        # check load\n",
    "        assert len(state_dict.keys()) == len(self.model.state_dict().keys())\n",
    "         \n",
    "    def _from_old_model(self, state_dict):\n",
    "        for key in list(state_dict):\n",
    "            if 'resnet.' in key:\n",
    "                state_dict[key.replace('resnet.','backbone.resnet.')] = state_dict.pop(key)\n",
    "            elif 'global_regressor.' in key:\n",
    "                state_dict[key.replace('global_regressor.','nn.global_regressor.')] = state_dict.pop(key)\n",
    "            elif 'global_context.' in key:\n",
    "                state_dict[key.replace('global_context.','nn.global_context.')] = state_dict.pop(key)\n",
    "        return state_dict\n",
    "    \n",
    "    def save_model(self, file_name = 'model-{}-{}.pth'):\n",
    "        checkpoint_path = os.path.join(args.model_dir, file_name)\n",
    "        torch.save(self.model.state_dict(),checkpoint_path)\n",
    "        print('Saving model to ' +  file_name)\n",
    "            \n",
    "    def train(self,x0, x1, y0, y1):\n",
    "        # Step 0: zero grad\n",
    "        self.optimizer.zero_grad()\n",
    "        \n",
    "        start = time.time()\n",
    "        # Step 1: get data\n",
    "        x0,x1,y0,y1 = x0.cuda(),x1.cuda(),y0.cuda(),y1.cuda()\n",
    "        if args.is_normalization:\n",
    "            y0, y1 = [normalize(y,self.norm_mean, self.norm_std) for y in [y0,y1]]\n",
    "            \n",
    "        # Step 2: training\n",
    "        assert trainer.model.training == True\n",
    "        single_loss = self._loss(x0, x1, y0, y1)\n",
    "        batch_time = time.time() - start\n",
    "        \n",
    "        #Step 3: update\n",
    "        single_loss.backward()\n",
    "        self.optimizer.step()\n",
    "        \n",
    "        return float(single_loss), batch_time\n",
    "            \n",
    "    def _loss(self,x0, x1, y0, y1):\n",
    "        # target relative\n",
    "        relative_target_normed = get_relative_pose(y0, y1)\n",
    "        # forward output\n",
    "        global_output0,global_output1 = self.model(x0, x1)\n",
    "        # output relative\n",
    "        relative_consistence = get_relative_pose(global_output0,global_output1)\n",
    "        \n",
    "        # target loss\n",
    "        global_loss = translational_rotational_loss(pred=global_output1, gt=y1, \\\n",
    "                                                    lamda=args.lamda_weights)\n",
    "        # relative loss\n",
    "        geometry_consistent_loss = translational_rotational_loss(pred=relative_consistence, \\\n",
    "                                                                 gt=relative_target_normed, \\\n",
    "                                                                 lamda=args.lamda_weights)\n",
    "        total_loss = global_loss + geometry_consistent_loss        \n",
    "        \n",
    "        return total_loss\n",
    "    \n",
    "    def eval_forward(self,x,y,output_denormalize = True):\n",
    "        # Step 1: get data\n",
    "        x,y = x.cuda(),y.cuda()\n",
    "        if args.is_normalization:\n",
    "            y = normalize(y,self.norm_mean, self.norm_std)\n",
    "        \n",
    "        # Step 2: forward\n",
    "        assert trainer.model.training == False\n",
    "        output,_,_ = self.model(x)\n",
    "\n",
    "        if args.is_normalization and output_denormalize:\n",
    "            output = denormalize(output, self.norm_mean, self.norm_std)\n",
    "            y = denormalize(y, self.norm_mean, self.norm_std)\n",
    "            \n",
    "        # Step 3: split output\n",
    "        trans_target, rot_target = torch.split(y, [3, 4], dim=1)\n",
    "        trans_prediction, rot_prediction = torch.split(output, [3, 4], dim=1)\n",
    "        return trans_prediction, rot_prediction, trans_target, rot_target\n",
    "\n",
    "trainer = Trainer()\n",
    "trainer.load_model('pretrained.pth')"
   ]
  },
  {
   "cell_type": "markdown",
   "metadata": {},
   "source": [
    "# Training"
   ]
  },
  {
   "cell_type": "markdown",
   "metadata": {},
   "source": [
    "## Training Epoch"
   ]
  },
  {
   "cell_type": "code",
   "execution_count": 7,
   "metadata": {
    "ExecuteTime": {
     "end_time": "2020-07-18T14:54:02.137035Z",
     "start_time": "2020-07-18T14:51:37.932928Z"
    },
    "code_folding": [],
    "run_control": {
     "marked": true
    }
   },
   "outputs": [
    {
     "name": "stdout",
     "output_type": "stream",
     "text": [
      "20/102600 (epoch 0), train_loss = 0.00208788, time/batch = 0.190, learning rate = 0.00000100\n",
      "40/102600 (epoch 0), train_loss = 0.00202007, time/batch = 0.190, learning rate = 0.00000100\n",
      "60/102600 (epoch 0), train_loss = 0.00208092, time/batch = 0.187, learning rate = 0.00000100\n",
      "80/102600 (epoch 0), train_loss = 0.00211642, time/batch = 0.187, learning rate = 0.00000100\n",
      "100/102600 (epoch 0), train_loss = 0.00209591, time/batch = 0.188, learning rate = 0.00000100\n",
      "120/102600 (epoch 0), train_loss = 0.00204652, time/batch = 0.189, learning rate = 0.00000100\n",
      "140/102600 (epoch 0), train_loss = 0.00205337, time/batch = 0.188, learning rate = 0.00000100\n",
      "160/102600 (epoch 0), train_loss = 0.00205544, time/batch = 0.192, learning rate = 0.00000100\n",
      "180/102600 (epoch 0), train_loss = 0.00208548, time/batch = 0.189, learning rate = 0.00000100\n",
      "200/102600 (epoch 0), train_loss = 0.00205360, time/batch = 0.189, learning rate = 0.00000100\n",
      "220/102600 (epoch 0), train_loss = 0.00204073, time/batch = 0.189, learning rate = 0.00000100\n"
     ]
    },
    {
     "ename": "KeyboardInterrupt",
     "evalue": "",
     "output_type": "error",
     "traceback": [
      "\u001b[0;31m---------------------------------------------------------------------------\u001b[0m",
      "\u001b[0;31mKeyboardInterrupt\u001b[0m                         Traceback (most recent call last)",
      "\u001b[0;32m<ipython-input-7-b16e65f00a8c>\u001b[0m in \u001b[0;36m<module>\u001b[0;34m\u001b[0m\n\u001b[1;32m      7\u001b[0m         \u001b[0my0\u001b[0m\u001b[0;34m,\u001b[0m \u001b[0my1\u001b[0m \u001b[0;34m=\u001b[0m \u001b[0mdata\u001b[0m\u001b[0;34m[\u001b[0m\u001b[0;34m'target'\u001b[0m\u001b[0;34m]\u001b[0m\u001b[0;34m\u001b[0m\u001b[0;34m\u001b[0m\u001b[0m\n\u001b[1;32m      8\u001b[0m \u001b[0;34m\u001b[0m\u001b[0m\n\u001b[0;32m----> 9\u001b[0;31m         \u001b[0msingle_loss\u001b[0m\u001b[0;34m,\u001b[0m \u001b[0mbatch_time\u001b[0m \u001b[0;34m=\u001b[0m \u001b[0mtrainer\u001b[0m\u001b[0;34m.\u001b[0m\u001b[0mtrain\u001b[0m\u001b[0;34m(\u001b[0m\u001b[0mx0\u001b[0m\u001b[0;34m,\u001b[0m\u001b[0mx1\u001b[0m\u001b[0;34m,\u001b[0m\u001b[0my0\u001b[0m\u001b[0;34m,\u001b[0m\u001b[0my1\u001b[0m\u001b[0;34m)\u001b[0m\u001b[0;34m\u001b[0m\u001b[0;34m\u001b[0m\u001b[0m\n\u001b[0m\u001b[1;32m     10\u001b[0m \u001b[0;34m\u001b[0m\u001b[0m\n\u001b[1;32m     11\u001b[0m         \u001b[0;32mwith\u001b[0m \u001b[0mtorch\u001b[0m\u001b[0;34m.\u001b[0m\u001b[0mno_grad\u001b[0m\u001b[0;34m(\u001b[0m\u001b[0;34m)\u001b[0m\u001b[0;34m:\u001b[0m\u001b[0;34m\u001b[0m\u001b[0;34m\u001b[0m\u001b[0m\n",
      "\u001b[0;32m<ipython-input-6-0f571d2e502e>\u001b[0m in \u001b[0;36mtrain\u001b[0;34m(self, x0, x1, y0, y1)\u001b[0m\n\u001b[1;32m     56\u001b[0m         \u001b[0;31m# Step 2: training\u001b[0m\u001b[0;34m\u001b[0m\u001b[0;34m\u001b[0m\u001b[0;34m\u001b[0m\u001b[0m\n\u001b[1;32m     57\u001b[0m         \u001b[0;32massert\u001b[0m \u001b[0mtrainer\u001b[0m\u001b[0;34m.\u001b[0m\u001b[0mmodel\u001b[0m\u001b[0;34m.\u001b[0m\u001b[0mtraining\u001b[0m \u001b[0;34m==\u001b[0m \u001b[0;32mTrue\u001b[0m\u001b[0;34m\u001b[0m\u001b[0;34m\u001b[0m\u001b[0m\n\u001b[0;32m---> 58\u001b[0;31m         \u001b[0msingle_loss\u001b[0m \u001b[0;34m=\u001b[0m \u001b[0mself\u001b[0m\u001b[0;34m.\u001b[0m\u001b[0m_loss\u001b[0m\u001b[0;34m(\u001b[0m\u001b[0mx0\u001b[0m\u001b[0;34m,\u001b[0m \u001b[0mx1\u001b[0m\u001b[0;34m,\u001b[0m \u001b[0my0\u001b[0m\u001b[0;34m,\u001b[0m \u001b[0my1\u001b[0m\u001b[0;34m)\u001b[0m\u001b[0;34m\u001b[0m\u001b[0;34m\u001b[0m\u001b[0m\n\u001b[0m\u001b[1;32m     59\u001b[0m         \u001b[0mbatch_time\u001b[0m \u001b[0;34m=\u001b[0m \u001b[0mtime\u001b[0m\u001b[0;34m.\u001b[0m\u001b[0mtime\u001b[0m\u001b[0;34m(\u001b[0m\u001b[0;34m)\u001b[0m \u001b[0;34m-\u001b[0m \u001b[0mstart\u001b[0m\u001b[0;34m\u001b[0m\u001b[0;34m\u001b[0m\u001b[0m\n\u001b[1;32m     60\u001b[0m \u001b[0;34m\u001b[0m\u001b[0m\n",
      "\u001b[0;32m<ipython-input-6-0f571d2e502e>\u001b[0m in \u001b[0;36m_loss\u001b[0;34m(self, x0, x1, y0, y1)\u001b[0m\n\u001b[1;32m     71\u001b[0m         \u001b[0mglobal_output0\u001b[0m\u001b[0;34m,\u001b[0m\u001b[0mglobal_output1\u001b[0m \u001b[0;34m=\u001b[0m \u001b[0mself\u001b[0m\u001b[0;34m.\u001b[0m\u001b[0mmodel\u001b[0m\u001b[0;34m(\u001b[0m\u001b[0mx0\u001b[0m\u001b[0;34m,\u001b[0m \u001b[0mx1\u001b[0m\u001b[0;34m)\u001b[0m\u001b[0;34m\u001b[0m\u001b[0;34m\u001b[0m\u001b[0m\n\u001b[1;32m     72\u001b[0m         \u001b[0;31m# output relative\u001b[0m\u001b[0;34m\u001b[0m\u001b[0;34m\u001b[0m\u001b[0;34m\u001b[0m\u001b[0m\n\u001b[0;32m---> 73\u001b[0;31m         \u001b[0mrelative_consistence\u001b[0m \u001b[0;34m=\u001b[0m \u001b[0mget_relative_pose\u001b[0m\u001b[0;34m(\u001b[0m\u001b[0mglobal_output0\u001b[0m\u001b[0;34m,\u001b[0m\u001b[0mglobal_output1\u001b[0m\u001b[0;34m)\u001b[0m\u001b[0;34m\u001b[0m\u001b[0;34m\u001b[0m\u001b[0m\n\u001b[0m\u001b[1;32m     74\u001b[0m \u001b[0;34m\u001b[0m\u001b[0m\n\u001b[1;32m     75\u001b[0m         \u001b[0;31m# target loss\u001b[0m\u001b[0;34m\u001b[0m\u001b[0;34m\u001b[0m\u001b[0;34m\u001b[0m\u001b[0m\n",
      "\u001b[0;32m/notebooks/self_localization/torchlib/cnn_auxiliary.py\u001b[0m in \u001b[0;36mget_relative_pose\u001b[0;34m(Q_a, Q_b)\u001b[0m\n\u001b[1;32m     72\u001b[0m \u001b[0;34m\u001b[0m\u001b[0m\n\u001b[1;32m     73\u001b[0m     \u001b[0;32mtry\u001b[0m\u001b[0;34m:\u001b[0m\u001b[0;34m\u001b[0m\u001b[0;34m\u001b[0m\u001b[0m\n\u001b[0;32m---> 74\u001b[0;31m         \u001b[0mM_delta\u001b[0m \u001b[0;34m=\u001b[0m \u001b[0mtorch\u001b[0m\u001b[0;34m.\u001b[0m\u001b[0mmatmul\u001b[0m\u001b[0;34m(\u001b[0m\u001b[0mM_a\u001b[0m\u001b[0;34m.\u001b[0m\u001b[0minverse\u001b[0m\u001b[0;34m(\u001b[0m\u001b[0;34m)\u001b[0m\u001b[0;34m,\u001b[0m\u001b[0mM_b\u001b[0m\u001b[0;34m)\u001b[0m\u001b[0;34m\u001b[0m\u001b[0;34m\u001b[0m\u001b[0m\n\u001b[0m\u001b[1;32m     75\u001b[0m     \u001b[0;32mexcept\u001b[0m \u001b[0mValueError\u001b[0m\u001b[0;34m:\u001b[0m\u001b[0;34m\u001b[0m\u001b[0;34m\u001b[0m\u001b[0m\n\u001b[1;32m     76\u001b[0m         \u001b[0mprint\u001b[0m\u001b[0;34m(\u001b[0m\u001b[0;34m\"matrix is not invertiable\"\u001b[0m\u001b[0;34m)\u001b[0m\u001b[0;34m\u001b[0m\u001b[0;34m\u001b[0m\u001b[0m\n",
      "\u001b[0;31mKeyboardInterrupt\u001b[0m: "
     ]
    }
   ],
   "source": [
    "trainer.model.train()\n",
    "#for e in range(args.num_epochs):\n",
    "for e in range(1):\n",
    "    train_loss = 0.\n",
    "    for b, data in enumerate(dataloader, 0):\n",
    "        x0, x1 = data['image']\n",
    "        y0, y1 = data['target']\n",
    "        \n",
    "        single_loss, batch_time = trainer.train(x0,x1,y0,y1)\n",
    "        \n",
    "        with torch.no_grad():\n",
    "            train_loss += single_loss\n",
    "            args.tensorboard and data2tensorboard(writer,single_loss,train_loss/(b+1),e*len(dataloader)+(b+1))\n",
    "            if ((b+1)%args.display == 0):\n",
    "                 display_loss(e*len(dataloader)+(b+1),args.num_epochs*len(dataloader),e,\n",
    "                              train_loss/(b+1),batch_time,trainer.scheduler.get_last_lr()[0])          \n",
    "            if (e * len(dataloader) + (b+1)) % args.save_every == 0:\n",
    "                trainer.save_model('model-{}-{}.pth'.format(e, e * len(dataloader) + (b+1)))\n",
    "                \n",
    "    trainer.scheduler.step()"
   ]
  },
  {
   "cell_type": "code",
   "execution_count": null,
   "metadata": {},
   "outputs": [],
   "source": []
  }
 ],
 "metadata": {
  "kernelspec": {
   "display_name": "Python 3",
   "language": "python",
   "name": "python3"
  },
  "language_info": {
   "codemirror_mode": {
    "name": "ipython",
    "version": 3
   },
   "file_extension": ".py",
   "mimetype": "text/x-python",
   "name": "python",
   "nbconvert_exporter": "python",
   "pygments_lexer": "ipython3",
   "version": "3.6.9"
  },
  "latex_envs": {
   "LaTeX_envs_menu_present": true,
   "autoclose": false,
   "autocomplete": true,
   "bibliofile": "biblio.bib",
   "cite_by": "apalike",
   "current_citInitial": 1,
   "eqLabelWithNumbers": true,
   "eqNumInitial": 1,
   "hotkeys": {
    "equation": "Ctrl-E",
    "itemize": "Ctrl-I"
   },
   "labels_anchors": false,
   "latex_user_defs": false,
   "report_style_numbering": false,
   "user_envs_cfg": false
  },
  "toc": {
   "base_numbering": 1,
   "nav_menu": {},
   "number_sections": true,
   "sideBar": true,
   "skip_h1_title": false,
   "title_cell": "Table of Contents",
   "title_sidebar": "Contents",
   "toc_cell": false,
   "toc_position": {},
   "toc_section_display": true,
   "toc_window_display": false
  },
  "varInspector": {
   "cols": {
    "lenName": 16,
    "lenType": 16,
    "lenVar": 40
   },
   "kernels_config": {
    "python": {
     "delete_cmd_postfix": "",
     "delete_cmd_prefix": "del ",
     "library": "var_list.py",
     "varRefreshCmd": "print(var_dic_list())"
    },
    "r": {
     "delete_cmd_postfix": ") ",
     "delete_cmd_prefix": "rm(",
     "library": "var_list.r",
     "varRefreshCmd": "cat(var_dic_list()) "
    }
   },
   "types_to_exclude": [
    "module",
    "function",
    "builtin_function_or_method",
    "instance",
    "_Feature"
   ],
   "window_display": false
  }
 },
 "nbformat": 4,
 "nbformat_minor": 4
}
