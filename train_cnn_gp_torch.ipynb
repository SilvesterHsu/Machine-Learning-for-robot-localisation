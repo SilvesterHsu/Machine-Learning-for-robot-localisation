{
 "cells": [
  {
   "cell_type": "markdown",
   "metadata": {},
   "source": [
    "# Torch\n",
    "## Check GPU¶"
   ]
  },
  {
   "cell_type": "code",
   "execution_count": 1,
   "metadata": {
    "ExecuteTime": {
     "end_time": "2020-06-15T11:12:40.858864Z",
     "start_time": "2020-06-15T11:12:40.856437Z"
    },
    "run_control": {
     "marked": true
    }
   },
   "outputs": [],
   "source": [
    "#from apex import amp,optimizers"
   ]
  },
  {
   "cell_type": "code",
   "execution_count": 2,
   "metadata": {
    "ExecuteTime": {
     "end_time": "2020-06-15T11:15:18.044484Z",
     "start_time": "2020-06-15T11:15:17.304275Z"
    },
    "run_control": {
     "marked": true
    }
   },
   "outputs": [
    {
     "name": "stdout",
     "output_type": "stream",
     "text": [
      "TITAN Xp\n"
     ]
    }
   ],
   "source": [
    "import torch\n",
    "if torch.cuda.is_available():\n",
    "    print(torch.cuda.get_device_name(1))"
   ]
  },
  {
   "cell_type": "markdown",
   "metadata": {},
   "source": [
    "## Set torch default parameters¶"
   ]
  },
  {
   "cell_type": "code",
   "execution_count": 6,
   "metadata": {
    "ExecuteTime": {
     "end_time": "2020-06-15T11:19:00.041929Z",
     "start_time": "2020-06-15T11:19:00.030371Z"
    },
    "run_control": {
     "marked": true
    }
   },
   "outputs": [],
   "source": [
    "torch.set_default_dtype(torch.float32)\n",
    "torch.set_printoptions(precision=8)\n",
    "torch.backends.cudnn.benchmark = True"
   ]
  },
  {
   "cell_type": "markdown",
   "metadata": {},
   "source": [
    "# Set Arguments"
   ]
  },
  {
   "cell_type": "code",
   "execution_count": 1,
   "metadata": {
    "ExecuteTime": {
     "end_time": "2020-06-15T11:15:14.324523Z",
     "start_time": "2020-06-15T11:15:14.309001Z"
    },
    "run_control": {
     "marked": true
    }
   },
   "outputs": [],
   "source": [
    "import argparse\n",
    "import sys\n",
    "import os\n",
    "import time\n",
    "import pickle\n",
    "\n",
    "parser = argparse.ArgumentParser()\n",
    "\n",
    "'''Training Parameters'''\n",
    "parser.add_argument('--batch_size', type=int, default=300, help='minibatch size')\n",
    "parser.add_argument('--num_epochs', type=int, default=200, help='number of epochs')\n",
    "parser.add_argument('--grad_clip', type=float, default=5., help='clip gradients at this value')\n",
    "parser.add_argument('--learning_rate', type=float, default=0.1, help='learning rate')\n",
    "parser.add_argument('--learning_rate_clip', type=float, default=0.0000001, help='learning rate clip')\n",
    "parser.add_argument('--decay_rate', type=float, default=.98, help='decay rate for rmsprop')\n",
    "parser.add_argument('--weight_decay', type=float, default=.0001, help='decay rate for rmsprop')\n",
    "parser.add_argument('--batch_norm_decay', type=float, default=.999, help='decay rate for rmsprop')\n",
    "parser.add_argument('--keep_prob', type=float, default=1.0, help='dropout keep probability')\n",
    "parser.add_argument('--lamda_weights', type=float, default=10, help='lamda weight')\n",
    "parser.add_argument('--data_argumentation', type=bool, default=True, help='whether do data argument')\n",
    "parser.add_argument('--is_normalization', type=bool, default=True, help='whether do data nomalization')\n",
    "parser.add_argument('--target_image_size', default=[300, 300], nargs=2, type=int, help='Input images will be resized to this for data argumentation.')\n",
    "parser.add_argument('--output_dim', default=3, type=int, help='output dimention.')\n",
    "parser.add_argument('--feat_dim', default=128, type=int, help='feature dimention.')\n",
    "\n",
    "'''Configure'''\n",
    "parser.add_argument('--network', type=str, default='vggnet_localization')\n",
    "parser.add_argument('--model_dir', type=str, default='/notebooks/global_localization/gp_net_torch', help='rnn, gru, or lstm')\n",
    "\n",
    "parser.add_argument('--train_dataset', type=str, default = ['/notebooks/michigan_nn_data/2012_01_08',\n",
    "                                                            '/notebooks/michigan_nn_data/2012_01_15',\n",
    "                                                            '/notebooks/michigan_nn_data/2012_01_22',\n",
    "                                                            '/notebooks/michigan_nn_data/2012_02_02',\n",
    "                                                            '/notebooks/michigan_nn_data/2012_02_04',\n",
    "                                                            '/notebooks/michigan_nn_data/2012_02_05',\n",
    "                                                            '/notebooks/michigan_nn_data/2012_03_31',\n",
    "                                                            '/notebooks/michigan_nn_data/2012_09_28'])\n",
    "'''\n",
    "parser.add_argument('--train_dataset', type=str, default = ['/notebooks/michigan_nn_data/test'])\n",
    "'''\n",
    "parser.add_argument('--seed', default=1337, type=int)\n",
    "parser.add_argument('--save_every', type=int, default=2000, help='save frequency')\n",
    "parser.add_argument('--display', type=int, default=10, help='display frequency')\n",
    "\n",
    "sys.argv = ['']\n",
    "args = parser.parse_args()"
   ]
  },
  {
   "cell_type": "markdown",
   "metadata": {},
   "source": [
    "# Load Dataset"
   ]
  },
  {
   "cell_type": "code",
   "execution_count": 4,
   "metadata": {
    "ExecuteTime": {
     "end_time": "2020-06-15T11:18:29.599214Z",
     "start_time": "2020-06-15T11:15:22.750407Z"
    },
    "run_control": {
     "marked": true
    }
   },
   "outputs": [
    {
     "name": "stderr",
     "output_type": "stream",
     "text": [
      "the rosdep view is empty: call 'sudo rosdep init' and 'rosdep update'\n",
      "100%|██████████| 16446/16446 [00:22<00:00, 739.03it/s]\n",
      "100%|██████████| 22584/22584 [00:30<00:00, 732.76it/s]\n",
      "100%|██████████| 18655/18655 [00:25<00:00, 738.39it/s]\n",
      "100%|██████████| 17310/17310 [00:23<00:00, 740.27it/s]\n",
      "100%|██████████| 10766/10766 [00:14<00:00, 741.96it/s]\n",
      "100%|██████████| 14878/14878 [00:21<00:00, 681.82it/s]\n",
      "100%|██████████| 13452/13452 [00:20<00:00, 666.95it/s]\n",
      "100%|██████████| 14037/14037 [00:27<00:00, 514.08it/s]\n"
     ]
    }
   ],
   "source": [
    "from torch.utils.data import Dataset, DataLoader\n",
    "import torchvision.transforms as transforms\n",
    "import tf.transformations as tf_tran\n",
    "from tqdm import tqdm\n",
    "from PIL import Image\n",
    "import numpy as np\n",
    "import random\n",
    "\n",
    "#import gpflow.multioutput.kernels as mk\n",
    "import gpytorch\n",
    "\n",
    "import torch.nn as nn\n",
    "import torch.optim as optim\n",
    "from torchlib import resnet, vggnet\n",
    "from torchlib.utils import LocalizationDataset\n",
    "import time\n",
    "\n",
    "transform = transforms.Compose([transforms.ToTensor()])\n",
    "dataset = LocalizationDataset(dataset_dirs = args.train_dataset, \\\n",
    "                              image_size = args.target_image_size, \\\n",
    "                              transform = transform,\n",
    "                              get_pair = False)\n",
    "[args.norm_mean, args.norm_std] = [torch.tensor(x) for x in dataset.get_norm()]\n",
    "\n",
    "dataloader = DataLoader(dataset, batch_size=args.batch_size, \\\n",
    "                        shuffle=True, num_workers=0, \\\n",
    "                        drop_last=True, pin_memory=True)"
   ]
  },
  {
   "cell_type": "markdown",
   "metadata": {},
   "source": [
    "# Define Model"
   ]
  },
  {
   "cell_type": "code",
   "execution_count": 6,
   "metadata": {
    "ExecuteTime": {
     "end_time": "2020-06-14T16:37:32.145316Z",
     "start_time": "2020-06-14T16:37:32.132205Z"
    },
    "code_folding": [
     0,
     6,
     47,
     54
    ],
    "run_control": {
     "marked": true
    }
   },
   "outputs": [],
   "source": [
    "def normalize(target, norm_mean, norm_std):\n",
    "    target_trans = target[:,:3]\n",
    "    target_trans = torch.div(torch.sub(target_trans,norm_mean),norm_std)\n",
    "    target_normed = torch.cat([target_trans,target[:,3:]],dim=1)\n",
    "    return target_normed \n",
    "\n",
    "class Model(nn.Module):\n",
    "    def __init__(self):\n",
    "        super().__init__()\n",
    "        self.resnet = resnet.resnet50(pretrained=True)\n",
    "        self.global_context = vggnet.vggnet(input_channel=2048,opt=\"context\")\n",
    "        self.global_regressor = vggnet.vggnet(opt=\"regressor\")\n",
    "        \n",
    "    def forward(self,input_data):\n",
    "        dense_feat = self.resnet(input_data)\n",
    "        global_context_feat = self.global_context(dense_feat)\n",
    "        global_output, trans_feat, rot_feat = self.global_regressor(global_context_feat)\n",
    "        return global_output, trans_feat, rot_feat\n",
    "    \n",
    "class MultitaskGPModel(gpytorch.models.ApproximateGP):\n",
    "    def __init__(self, inducing_points):\n",
    "        # We have to mark the CholeskyVariationalDistribution as batch\n",
    "        # so that we learn a variational distribution for each task\n",
    "        variational_distribution = gpytorch.variational.CholeskyVariationalDistribution(\n",
    "            inducing_points.size(-2), batch_shape=torch.Size([3])\n",
    "        )\n",
    "\n",
    "        # We have to wrap the VariationalStrategy in a MultitaskVariationalStrategy\n",
    "        # so that the output will be a MultitaskMultivariateNormal rather than a batch output\n",
    "        variational_strategy = gpytorch.variational.MultitaskVariationalStrategy(\n",
    "            gpytorch.variational.VariationalStrategy(\n",
    "                self, inducing_points, variational_distribution, learn_inducing_locations=True\n",
    "            ), num_tasks=3\n",
    "        )\n",
    "\n",
    "        super().__init__(variational_strategy)\n",
    "\n",
    "        # The mean and covariance modules should be marked as batch\n",
    "        # so we learn a different set of hyperparameters\n",
    "        #self.net = Model()\n",
    "        #self.net.load_state_dict(torch.load(os.path.join(args.model_dir,'model-23-96000.pth')))\n",
    "        self.mean_module = gpytorch.means.ConstantMean(batch_shape=torch.Size([3]))\n",
    "        self.covar_module = gpytorch.kernels.ScaleKernel(\n",
    "            gpytorch.kernels.RBFKernel(batch_shape=torch.Size([3])),\n",
    "            batch_shape=torch.Size([3])\n",
    "        )\n",
    "\n",
    "    def forward(self, x):\n",
    "        # The forward function should be written as if we were dealing with each output\n",
    "        # dimension in batch\n",
    "        mean_x = self.mean_module(x)\n",
    "        covar_x = self.covar_module(x)\n",
    "        return gpytorch.distributions.MultivariateNormal(mean_x, covar_x)\n",
    "    \n",
    "class GPModel(gpytorch.Module):\n",
    "    def __init__(self, inducing_points):\n",
    "        super(GPModel, self).__init__()\n",
    "        self.net = Model()\n",
    "        #self.net.load_state_dict(torch.load(os.path.join('/notebooks/global_localization/dual_resnet_torch','model-23-96000.pth')))\n",
    "        self.gp = MultitaskGPModel(inducing_points)\n",
    "        self.likelihood = gpytorch.likelihoods.MultitaskGaussianLikelihood(num_tasks=3)\n",
    "\n",
    "    def forward(self, x):\n",
    "        global_output, trans_feat, _ = self.net(x)\n",
    "        _, rot_pred = torch.split(global_output, [3, 4], dim=1)\n",
    "        output = self.gp(trans_feat)\n",
    "        \n",
    "        return output,rot_pred"
   ]
  },
  {
   "cell_type": "code",
   "execution_count": 7,
   "metadata": {
    "ExecuteTime": {
     "end_time": "2020-06-14T16:37:35.161578Z",
     "start_time": "2020-06-14T16:37:32.162721Z"
    },
    "run_control": {
     "marked": true
    }
   },
   "outputs": [],
   "source": [
    "device = torch.device(\"cuda:1\" if torch.cuda.is_available() else \"cpu\")\n",
    "#device = torch.device(\"cpu\")\n",
    "if torch.cuda.is_available():\n",
    "    torch.cuda.set_device(device)\n",
    "\n",
    "model = GPModel(torch.zeros(3, args.batch_size, 128)).to(device)\n",
    "model.net.load_state_dict(torch.load(os.path.join('/notebooks/global_localization/dual_resnet_torch','model-23-96000.pth')))\n",
    "\n",
    "#model.load_state_dict(torch.load(os.path.join(args.model_dir,'model-121-52000.pth')),strict=False)\n",
    "\n",
    "# Disable resnet\n",
    "for param in model.net.resnet.parameters():\n",
    "    param.requires_grad = False"
   ]
  },
  {
   "cell_type": "code",
   "execution_count": 8,
   "metadata": {
    "ExecuteTime": {
     "end_time": "2020-06-14T16:37:35.197385Z",
     "start_time": "2020-06-14T16:37:35.191162Z"
    },
    "run_control": {
     "marked": true
    },
    "scrolled": false
   },
   "outputs": [
    {
     "name": "stdout",
     "output_type": "stream",
     "text": [
      "net.global_context.context.squeeze.0.weight torch.Size([128, 2048, 1, 1])\n",
      "net.global_context.context.squeeze.0.bias torch.Size([128])\n",
      "net.global_context.context.context5_1.0.weight torch.Size([128, 128, 3, 3])\n",
      "net.global_context.context.context5_1.0.bias torch.Size([128])\n",
      "net.global_context.context.context5_2.0.weight torch.Size([128, 128, 3, 3])\n",
      "net.global_context.context.context5_2.0.bias torch.Size([128])\n",
      "net.global_context.context.context5_3.0.weight torch.Size([128, 128, 3, 3])\n",
      "net.global_context.context.context5_3.0.bias torch.Size([128])\n",
      "net.global_context.context.context5_4.0.weight torch.Size([128, 128, 3, 3])\n",
      "net.global_context.context.context5_4.0.bias torch.Size([128])\n",
      "net.global_context.context.squeeze2.0.weight torch.Size([64, 128, 1, 1])\n",
      "net.global_context.context.squeeze2.0.bias torch.Size([64])\n",
      "net.global_regressor.regressor.fc1_trans.0.weight torch.Size([4096, 6400])\n",
      "net.global_regressor.regressor.fc1_trans.0.bias torch.Size([4096])\n",
      "net.global_regressor.regressor.fc2_trans.0.weight torch.Size([4096, 4096])\n",
      "net.global_regressor.regressor.fc2_trans.0.bias torch.Size([4096])\n",
      "net.global_regressor.regressor.fc3_trans.0.weight torch.Size([128, 4096])\n",
      "net.global_regressor.regressor.fc3_trans.0.bias torch.Size([128])\n",
      "net.global_regressor.regressor.logits_t.weight torch.Size([3, 128])\n",
      "net.global_regressor.regressor.logits_t.bias torch.Size([3])\n",
      "net.global_regressor.regressor.fc1_rot.0.weight torch.Size([4096, 6400])\n",
      "net.global_regressor.regressor.fc1_rot.0.bias torch.Size([4096])\n",
      "net.global_regressor.regressor.fc2_rot.0.weight torch.Size([4096, 4096])\n",
      "net.global_regressor.regressor.fc2_rot.0.bias torch.Size([4096])\n",
      "net.global_regressor.regressor.fc3_rot.0.weight torch.Size([128, 4096])\n",
      "net.global_regressor.regressor.fc3_rot.0.bias torch.Size([128])\n",
      "net.global_regressor.regressor.logits_r.weight torch.Size([4, 128])\n",
      "net.global_regressor.regressor.logits_r.bias torch.Size([4])\n",
      "gp.variational_strategy.base_variational_strategy.inducing_points torch.Size([3, 300, 128])\n",
      "gp.variational_strategy.base_variational_strategy._variational_distribution.variational_mean torch.Size([3, 300])\n",
      "gp.variational_strategy.base_variational_strategy._variational_distribution.chol_variational_covar torch.Size([3, 300, 300])\n",
      "gp.mean_module.constant torch.Size([3, 1])\n",
      "gp.covar_module.raw_outputscale torch.Size([3])\n",
      "gp.covar_module.base_kernel.raw_lengthscale torch.Size([3, 1, 1])\n",
      "likelihood.raw_noise torch.Size([1])\n",
      "likelihood.noise_covar.raw_noise torch.Size([3])\n"
     ]
    }
   ],
   "source": [
    "for name, param in model.named_parameters():\n",
    "    if param.requires_grad:\n",
    "        print (name, param.shape)"
   ]
  },
  {
   "cell_type": "markdown",
   "metadata": {},
   "source": [
    "# Training\n",
    "## Parameters"
   ]
  },
  {
   "cell_type": "code",
   "execution_count": 9,
   "metadata": {
    "ExecuteTime": {
     "end_time": "2020-06-14T16:37:35.233807Z",
     "start_time": "2020-06-14T16:37:35.224263Z"
    },
    "run_control": {
     "marked": true
    }
   },
   "outputs": [],
   "source": [
    "args.norm_mean = args.norm_mean.to(device)\n",
    "args.norm_std = args.norm_std.to(device)\n",
    "\n",
    "optimizer = optim.Adam([\n",
    "    {'params': model.gp.parameters(), \\\n",
    "     'lr': args.learning_rate,'weight_decay':args.weight_decay},\n",
    "    {'params': model.likelihood.parameters(), \\\n",
    "     'lr': args.learning_rate,'weight_decay':args.weight_decay},\n",
    "    {'params': model.net.global_context.parameters(), \\\n",
    "     'lr': args.learning_rate * 0.01,'weight_decay':args.weight_decay},\n",
    "    {'params': model.net.global_regressor.parameters(), \\\n",
    "     'lr': args.learning_rate * 0.001,'weight_decay':args.weight_decay},\n",
    "])\n",
    "\n",
    "scheduler = optim.lr_scheduler.LambdaLR(optimizer=optimizer, lr_lambda=lambda epoch: args.decay_rate**epoch)\n",
    "mll = gpytorch.mlls.VariationalELBO(model.likelihood, model.gp, num_data=len(dataset.Targets))"
   ]
  },
  {
   "cell_type": "code",
   "execution_count": 10,
   "metadata": {
    "ExecuteTime": {
     "end_time": "2020-06-14T16:31:10.449425Z",
     "start_time": "2020-06-14T16:31:10.441722Z"
    }
   },
   "outputs": [
    {
     "name": "stdout",
     "output_type": "stream",
     "text": [
      "CNN model parameters: 860864\n",
      "Regressor model parameters: 87049351\n",
      "GP model parameters: 386109\n",
      "Likelihood parameters: 4\n"
     ]
    }
   ],
   "source": [
    "print('CNN model parameters:', sum(param.numel() for param in model.net.global_context.parameters()))\n",
    "print('Regressor model parameters:', sum(param.numel() for param in model.net.global_regressor.parameters()))\n",
    "print('GP model parameters:', sum(param.numel() for param in model.gp.parameters()))\n",
    "print('Likelihood parameters:', sum(param.numel() for param in model.likelihood.parameters()))"
   ]
  },
  {
   "cell_type": "markdown",
   "metadata": {},
   "source": [
    "## Training Epoch"
   ]
  },
  {
   "cell_type": "code",
   "execution_count": 10,
   "metadata": {
    "ExecuteTime": {
     "end_time": "2020-06-14T16:37:35.283987Z",
     "start_time": "2020-06-14T16:37:35.262895Z"
    },
    "code_folding": [],
    "run_control": {
     "marked": true
    }
   },
   "outputs": [],
   "source": [
    "def train(e):\n",
    "    model.train()\n",
    "    model.likelihood.train()\n",
    "    train_loss = 0.\n",
    "    with gpytorch.settings.num_likelihood_samples(8):\n",
    "        for b, data in enumerate(dataloader, 0):\n",
    "            start = time.time()\n",
    "            with torch.no_grad():\n",
    "                x,y = data.values()\n",
    "                x,y = x.to(device),y.to(device)\n",
    "                # normalize targets\n",
    "                y = normalize(y,args.norm_mean, args.norm_std)\n",
    "                trans_target, rot_target = torch.split(y, [3, 4], dim=1)\n",
    "                \n",
    "            optimizer.zero_grad()\n",
    "            output,rot_pred = model(x)\n",
    "            trans_loss = -mll(output, trans_target)\n",
    "            rot_loss = 1. - torch.mean(torch.square(torch.sum(torch.mul(rot_pred,rot_target),dim=1)))\n",
    "            total_loss = trans_loss + args.lamda_weights * rot_loss\n",
    "            total_loss.backward()\n",
    "            optimizer.step()\n",
    "            \n",
    "            end = time.time()\n",
    "            with torch.no_grad():\n",
    "                train_loss += float(total_loss)\n",
    "                lr = scheduler.get_last_lr()[0]\n",
    "                if ((b+1)%args.display == 0):\n",
    "                     print(\n",
    "                        \"{}/{} (epoch {}), train_loss = {}, time/batch = {:.3f}, learning rate = {:.9f}\"\n",
    "                        .format(\n",
    "                        e * len(dataloader) + (b+1),\n",
    "                        args.num_epochs * len(dataloader),\n",
    "                        e,\n",
    "                        train_loss/(b+1),\n",
    "                        end - start,\n",
    "                        lr)) # scheduler.get_last_lr()[0]\n",
    "                if (e * len(dataloader) + (b+1)) % args.save_every == 0:\n",
    "                    checkpoint_path = os.path.join(args.model_dir, 'model-{}-{}.pth'.format(e, e * len(dataloader) + (b+1)))\n",
    "                    torch.save(model.state_dict(),checkpoint_path)\n",
    "                    print('saving model to model-{}-{}.pth'.format(e, e * len(dataloader) + (b+1)))"
   ]
  },
  {
   "cell_type": "code",
   "execution_count": 11,
   "metadata": {
    "ExecuteTime": {
     "end_time": "2020-06-14T16:45:00.393318Z",
     "start_time": "2020-06-14T16:37:35.301783Z"
    },
    "run_control": {
     "marked": true
    }
   },
   "outputs": [
    {
     "name": "stdout",
     "output_type": "stream",
     "text": [
      "10/3600 (epoch 0), train_loss = 6.5115885734558105, time/batch = 0.875, learning rate = 0.100000000\n",
      "28/3600 (epoch 1), train_loss = 4.139343786239624, time/batch = 0.877, learning rate = 0.098000000\n",
      "46/3600 (epoch 2), train_loss = 2.1090805292129517, time/batch = 0.878, learning rate = 0.096040000\n",
      "64/3600 (epoch 3), train_loss = 1.4537835776805879, time/batch = 0.882, learning rate = 0.094119200\n",
      "82/3600 (epoch 4), train_loss = -0.007703307271003723, time/batch = 0.882, learning rate = 0.092236816\n",
      "100/3600 (epoch 5), train_loss = -0.24632488191127777, time/batch = 0.881, learning rate = 0.090392080\n",
      "118/3600 (epoch 6), train_loss = -0.43359862864017484, time/batch = 0.883, learning rate = 0.088584238\n",
      "136/3600 (epoch 7), train_loss = -0.46108497977256774, time/batch = 0.884, learning rate = 0.086812553\n",
      "154/3600 (epoch 8), train_loss = -0.07028221487998962, time/batch = 0.885, learning rate = 0.085076302\n",
      "172/3600 (epoch 9), train_loss = -1.3802571535110473, time/batch = 0.883, learning rate = 0.083374776\n",
      "190/3600 (epoch 10), train_loss = -1.6120840907096863, time/batch = 0.884, learning rate = 0.081707281\n",
      "208/3600 (epoch 11), train_loss = -1.7275398910045623, time/batch = 0.885, learning rate = 0.080073135\n",
      "226/3600 (epoch 12), train_loss = -2.0825241088867186, time/batch = 0.888, learning rate = 0.078471672\n",
      "244/3600 (epoch 13), train_loss = -0.8566027224063874, time/batch = 0.885, learning rate = 0.076902239\n",
      "262/3600 (epoch 14), train_loss = -1.8817192792892456, time/batch = 0.883, learning rate = 0.075364194\n",
      "280/3600 (epoch 15), train_loss = -2.5148453950881957, time/batch = 0.884, learning rate = 0.073856910\n",
      "298/3600 (epoch 16), train_loss = -2.559037923812866, time/batch = 0.885, learning rate = 0.072379772\n",
      "316/3600 (epoch 17), train_loss = -2.7054314851760863, time/batch = 0.883, learning rate = 0.070932177\n",
      "334/3600 (epoch 18), train_loss = -2.785143518447876, time/batch = 0.884, learning rate = 0.069513533\n",
      "352/3600 (epoch 19), train_loss = -2.876049590110779, time/batch = 0.886, learning rate = 0.068123262\n",
      "370/3600 (epoch 20), train_loss = -2.750510740280151, time/batch = 0.884, learning rate = 0.066760797\n",
      "388/3600 (epoch 21), train_loss = -3.318844509124756, time/batch = 0.886, learning rate = 0.065425581\n",
      "406/3600 (epoch 22), train_loss = -3.13551549911499, time/batch = 0.894, learning rate = 0.064117070\n",
      "424/3600 (epoch 23), train_loss = -3.139414358139038, time/batch = 0.884, learning rate = 0.062834728\n",
      "442/3600 (epoch 24), train_loss = -3.6047926902770997, time/batch = 0.883, learning rate = 0.061578034\n"
     ]
    }
   ],
   "source": [
    "for e in range(25):\n",
    "    train(e)\n",
    "    scheduler.step()"
   ]
  },
  {
   "cell_type": "code",
   "execution_count": null,
   "metadata": {},
   "outputs": [],
   "source": []
  }
 ],
 "metadata": {
  "kernelspec": {
   "display_name": "Python 3",
   "language": "python",
   "name": "python3"
  },
  "language_info": {
   "codemirror_mode": {
    "name": "ipython",
    "version": 3
   },
   "file_extension": ".py",
   "mimetype": "text/x-python",
   "name": "python",
   "nbconvert_exporter": "python",
   "pygments_lexer": "ipython3",
   "version": "3.6.9"
  },
  "toc": {
   "base_numbering": 1,
   "nav_menu": {},
   "number_sections": true,
   "sideBar": true,
   "skip_h1_title": false,
   "title_cell": "Table of Contents",
   "title_sidebar": "Contents",
   "toc_cell": false,
   "toc_position": {},
   "toc_section_display": true,
   "toc_window_display": false
  }
 },
 "nbformat": 4,
 "nbformat_minor": 4
}
