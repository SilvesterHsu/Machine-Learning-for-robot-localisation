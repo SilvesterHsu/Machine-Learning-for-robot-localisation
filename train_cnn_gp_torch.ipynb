{
 "cells": [
  {
   "cell_type": "markdown",
   "metadata": {},
   "source": [
    "# Torch\n",
    "## Check GPU¶"
   ]
  },
  {
   "cell_type": "code",
   "execution_count": 1,
   "metadata": {
    "ExecuteTime": {
     "end_time": "2020-06-13T15:47:25.648474Z",
     "start_time": "2020-06-13T15:47:25.646363Z"
    },
    "run_control": {
     "marked": true
    }
   },
   "outputs": [],
   "source": [
    "#from apex import amp,optimizers"
   ]
  },
  {
   "cell_type": "code",
   "execution_count": 2,
   "metadata": {
    "ExecuteTime": {
     "end_time": "2020-06-13T15:47:26.050052Z",
     "start_time": "2020-06-13T15:47:25.649855Z"
    },
    "run_control": {
     "marked": true
    }
   },
   "outputs": [
    {
     "name": "stdout",
     "output_type": "stream",
     "text": [
      "TITAN Xp\n"
     ]
    }
   ],
   "source": [
    "import torch\n",
    "if torch.cuda.is_available():\n",
    "    print(torch.cuda.get_device_name(1))"
   ]
  },
  {
   "cell_type": "markdown",
   "metadata": {},
   "source": [
    "## Set torch default parameters¶"
   ]
  },
  {
   "cell_type": "code",
   "execution_count": 3,
   "metadata": {
    "ExecuteTime": {
     "end_time": "2020-06-13T15:47:26.054214Z",
     "start_time": "2020-06-13T15:47:26.051645Z"
    },
    "run_control": {
     "marked": true
    }
   },
   "outputs": [],
   "source": [
    "torch.set_default_dtype(torch.float32)\n",
    "torch.set_printoptions(precision=8)\n",
    "torch.backends.cudnn.benchmark = True"
   ]
  },
  {
   "cell_type": "markdown",
   "metadata": {},
   "source": [
    "# Set Arguments"
   ]
  },
  {
   "cell_type": "code",
   "execution_count": 4,
   "metadata": {
    "ExecuteTime": {
     "end_time": "2020-06-13T15:47:26.068665Z",
     "start_time": "2020-06-13T15:47:26.055737Z"
    },
    "run_control": {
     "marked": true
    }
   },
   "outputs": [],
   "source": [
    "import argparse\n",
    "import sys\n",
    "import os\n",
    "import time\n",
    "import pickle\n",
    "\n",
    "parser = argparse.ArgumentParser()\n",
    "\n",
    "'''Training Parameters'''\n",
    "parser.add_argument('--batch_size', type=int, default=300, help='minibatch size')\n",
    "parser.add_argument('--num_epochs', type=int, default=200, help='number of epochs')\n",
    "parser.add_argument('--grad_clip', type=float, default=5., help='clip gradients at this value')\n",
    "parser.add_argument('--learning_rate', type=float, default=0.1, help='learning rate')\n",
    "parser.add_argument('--learning_rate_clip', type=float, default=0.0000001, help='learning rate clip')\n",
    "parser.add_argument('--decay_rate', type=float, default=.95, help='decay rate for rmsprop')\n",
    "parser.add_argument('--weight_decay', type=float, default=.0001, help='decay rate for rmsprop')\n",
    "parser.add_argument('--batch_norm_decay', type=float, default=.999, help='decay rate for rmsprop')\n",
    "parser.add_argument('--keep_prob', type=float, default=1.0, help='dropout keep probability')\n",
    "parser.add_argument('--lamda_weights', type=float, default=10, help='lamda weight')\n",
    "parser.add_argument('--data_argumentation', type=bool, default=True, help='whether do data argument')\n",
    "parser.add_argument('--is_normalization', type=bool, default=True, help='whether do data nomalization')\n",
    "parser.add_argument('--target_image_size', default=[300, 300], nargs=2, type=int, help='Input images will be resized to this for data argumentation.')\n",
    "parser.add_argument('--output_dim', default=3, type=int, help='output dimention.')\n",
    "parser.add_argument('--feat_dim', default=128, type=int, help='feature dimention.')\n",
    "\n",
    "'''Configure'''\n",
    "parser.add_argument('--network', type=str, default='vggnet_localization')\n",
    "parser.add_argument('--model_dir', type=str, default='/notebooks/global_localization/gp_net_torch', help='rnn, gru, or lstm')\n",
    "'''\n",
    "parser.add_argument('--train_dataset', type=str, default = ['/notebooks/michigan_nn_data/2012_01_08',\n",
    "                                                            '/notebooks/michigan_nn_data/2012_01_15',\n",
    "                                                            '/notebooks/michigan_nn_data/2012_01_22',\n",
    "                                                            '/notebooks/michigan_nn_data/2012_02_02',\n",
    "                                                            '/notebooks/michigan_nn_data/2012_02_04',\n",
    "                                                            '/notebooks/michigan_nn_data/2012_02_05',\n",
    "                                                            '/notebooks/michigan_nn_data/2012_03_31',\n",
    "                                                            '/notebooks/michigan_nn_data/2012_09_28'])\n",
    "'''\n",
    "parser.add_argument('--train_dataset', type=str, default = ['/notebooks/michigan_nn_data/test'])\n",
    "\n",
    "parser.add_argument('--seed', default=1337, type=int)\n",
    "parser.add_argument('--save_every', type=int, default=2000, help='save frequency')\n",
    "parser.add_argument('--display', type=int, default=10, help='display frequency')\n",
    "\n",
    "sys.argv = ['']\n",
    "args = parser.parse_args()"
   ]
  },
  {
   "cell_type": "markdown",
   "metadata": {},
   "source": [
    "# Load Dataset"
   ]
  },
  {
   "cell_type": "code",
   "execution_count": 5,
   "metadata": {
    "ExecuteTime": {
     "end_time": "2020-06-13T15:47:33.251950Z",
     "start_time": "2020-06-13T15:47:26.069852Z"
    },
    "run_control": {
     "marked": true
    }
   },
   "outputs": [
    {
     "name": "stderr",
     "output_type": "stream",
     "text": [
      "the rosdep view is empty: call 'sudo rosdep init' and 'rosdep update'\n",
      "100%|██████████| 5593/5593 [00:06<00:00, 857.63it/s]\n"
     ]
    }
   ],
   "source": [
    "from torch.utils.data import Dataset, DataLoader\n",
    "import torchvision.transforms as transforms\n",
    "import tf.transformations as tf_tran\n",
    "from tqdm import tqdm\n",
    "from PIL import Image\n",
    "import numpy as np\n",
    "import random\n",
    "\n",
    "#import gpflow.multioutput.kernels as mk\n",
    "import gpytorch\n",
    "\n",
    "import torch.nn as nn\n",
    "import torch.optim as optim\n",
    "from torchlib import resnet, vggnet\n",
    "from torchlib.utils import LocalizationDataset\n",
    "import time\n",
    "\n",
    "transform = transforms.Compose([transforms.ToTensor()])\n",
    "dataset = LocalizationDataset(dataset_dirs = args.train_dataset, \\\n",
    "                              image_size = args.target_image_size, \\\n",
    "                              transform = transform,\n",
    "                              get_pair = False)\n",
    "[args.norm_mean, args.norm_std] = [torch.tensor(x) for x in dataset.get_norm()]\n",
    "\n",
    "dataloader = DataLoader(dataset, batch_size=args.batch_size, \\\n",
    "                        shuffle=True, num_workers=0, \\\n",
    "                        drop_last=True, pin_memory=True)"
   ]
  },
  {
   "cell_type": "markdown",
   "metadata": {},
   "source": [
    "# Define Model"
   ]
  },
  {
   "cell_type": "code",
   "execution_count": 6,
   "metadata": {
    "ExecuteTime": {
     "end_time": "2020-06-13T15:47:33.266267Z",
     "start_time": "2020-06-13T15:47:33.253222Z"
    },
    "code_folding": [
     0,
     6,
     7,
     13,
     19,
     20,
     47
    ],
    "run_control": {
     "marked": true
    }
   },
   "outputs": [],
   "source": [
    "def normalize(target, norm_mean, norm_std):\n",
    "    target_trans = target[:,:3]\n",
    "    target_trans = torch.div(torch.sub(target_trans,norm_mean),norm_std)\n",
    "    target_normed = torch.cat([target_trans,target[:,3:]],dim=1)\n",
    "    return target_normed \n",
    "\n",
    "class Model(nn.Module):\n",
    "    def __init__(self):\n",
    "        super().__init__()\n",
    "        self.resnet = resnet.resnet50(pretrained=True)\n",
    "        self.global_context = vggnet.vggnet(input_channel=2048,opt=\"context\")\n",
    "        self.global_regressor = vggnet.vggnet(opt=\"regressor\")\n",
    "        \n",
    "    def forward(self,input_data):\n",
    "        dense_feat = self.resnet(input_data)\n",
    "        global_context_feat = self.global_context(dense_feat)\n",
    "        global_output, trans_feat, rot_feat = self.global_regressor(global_context_feat)\n",
    "        return global_output, trans_feat, rot_feat\n",
    "    \n",
    "class MultitaskGPModel(gpytorch.models.ApproximateGP):\n",
    "    def __init__(self, inducing_points):\n",
    "        # We have to mark the CholeskyVariationalDistribution as batch\n",
    "        # so that we learn a variational distribution for each task\n",
    "        variational_distribution = gpytorch.variational.CholeskyVariationalDistribution(\n",
    "            inducing_points.size(-2), batch_shape=torch.Size([3])\n",
    "        )\n",
    "\n",
    "        # We have to wrap the VariationalStrategy in a MultitaskVariationalStrategy\n",
    "        # so that the output will be a MultitaskMultivariateNormal rather than a batch output\n",
    "        variational_strategy = gpytorch.variational.MultitaskVariationalStrategy(\n",
    "            gpytorch.variational.VariationalStrategy(\n",
    "                self, inducing_points, variational_distribution, learn_inducing_locations=True\n",
    "            ), num_tasks=3\n",
    "        )\n",
    "\n",
    "        super().__init__(variational_strategy)\n",
    "\n",
    "        # The mean and covariance modules should be marked as batch\n",
    "        # so we learn a different set of hyperparameters\n",
    "        #self.net = Model()\n",
    "        #self.net.load_state_dict(torch.load(os.path.join(args.model_dir,'model-23-96000.pth')))\n",
    "        self.mean_module = gpytorch.means.ConstantMean(batch_shape=torch.Size([3]))\n",
    "        self.covar_module = gpytorch.kernels.ScaleKernel(\n",
    "            gpytorch.kernels.RBFKernel(batch_shape=torch.Size([3])),\n",
    "            batch_shape=torch.Size([3])\n",
    "        )\n",
    "\n",
    "    def forward(self, x):\n",
    "        # The forward function should be written as if we were dealing with each output\n",
    "        # dimension in batch\n",
    "        mean_x = self.mean_module(x)\n",
    "        covar_x = self.covar_module(x)\n",
    "        return gpytorch.distributions.MultivariateNormal(mean_x, covar_x)\n",
    "    \n",
    "class GPModel(gpytorch.Module):\n",
    "    def __init__(self, inducing_points):\n",
    "        super(GPModel, self).__init__()\n",
    "        self.net = Model()\n",
    "        self.net.load_state_dict(torch.load(os.path.join('/notebooks/global_localization/dual_resnet_torch','model-23-96000.pth')))\n",
    "        self.gp = MultitaskGPModel(inducing_points)\n",
    "\n",
    "    def forward(self, x):\n",
    "        global_output, trans_feat, _ = self.net(x)\n",
    "        _, rot_pred = torch.split(global_output, [3, 4], dim=1)\n",
    "        output = self.gp(trans_feat)\n",
    "        \n",
    "        return output,rot_pred"
   ]
  },
  {
   "cell_type": "code",
   "execution_count": 7,
   "metadata": {
    "ExecuteTime": {
     "end_time": "2020-06-13T15:47:36.544834Z",
     "start_time": "2020-06-13T15:47:33.267495Z"
    },
    "run_control": {
     "marked": true
    }
   },
   "outputs": [],
   "source": [
    "device = torch.device(\"cuda:1\" if torch.cuda.is_available() else \"cpu\")\n",
    "#device = torch.device(\"cpu\")\n",
    "if torch.cuda.is_available():\n",
    "    torch.cuda.set_device(device)\n",
    "\n",
    "model = GPModel(torch.zeros(3, args.batch_size, 128)).to(device)\n",
    "\n",
    "# Disable resnet\n",
    "for param in model.net.resnet.parameters():\n",
    "    param.requires_grad = False"
   ]
  },
  {
   "cell_type": "code",
   "execution_count": 8,
   "metadata": {
    "ExecuteTime": {
     "end_time": "2020-06-13T15:47:36.557129Z",
     "start_time": "2020-06-13T15:47:36.547414Z"
    },
    "scrolled": true
   },
   "outputs": [
    {
     "name": "stdout",
     "output_type": "stream",
     "text": [
      "net.global_context.context.squeeze.0.weight torch.Size([128, 2048, 1, 1])\n",
      "net.global_context.context.squeeze.0.bias torch.Size([128])\n",
      "net.global_context.context.context5_1.0.weight torch.Size([128, 128, 3, 3])\n",
      "net.global_context.context.context5_1.0.bias torch.Size([128])\n",
      "net.global_context.context.context5_2.0.weight torch.Size([128, 128, 3, 3])\n",
      "net.global_context.context.context5_2.0.bias torch.Size([128])\n",
      "net.global_context.context.context5_3.0.weight torch.Size([128, 128, 3, 3])\n",
      "net.global_context.context.context5_3.0.bias torch.Size([128])\n",
      "net.global_context.context.context5_4.0.weight torch.Size([128, 128, 3, 3])\n",
      "net.global_context.context.context5_4.0.bias torch.Size([128])\n",
      "net.global_context.context.squeeze2.0.weight torch.Size([64, 128, 1, 1])\n",
      "net.global_context.context.squeeze2.0.bias torch.Size([64])\n",
      "net.global_regressor.regressor.fc1_trans.0.weight torch.Size([4096, 6400])\n",
      "net.global_regressor.regressor.fc1_trans.0.bias torch.Size([4096])\n",
      "net.global_regressor.regressor.fc2_trans.0.weight torch.Size([4096, 4096])\n",
      "net.global_regressor.regressor.fc2_trans.0.bias torch.Size([4096])\n",
      "net.global_regressor.regressor.fc3_trans.0.weight torch.Size([128, 4096])\n",
      "net.global_regressor.regressor.fc3_trans.0.bias torch.Size([128])\n",
      "net.global_regressor.regressor.logits_t.weight torch.Size([3, 128])\n",
      "net.global_regressor.regressor.logits_t.bias torch.Size([3])\n",
      "net.global_regressor.regressor.fc1_rot.0.weight torch.Size([4096, 6400])\n",
      "net.global_regressor.regressor.fc1_rot.0.bias torch.Size([4096])\n",
      "net.global_regressor.regressor.fc2_rot.0.weight torch.Size([4096, 4096])\n",
      "net.global_regressor.regressor.fc2_rot.0.bias torch.Size([4096])\n",
      "net.global_regressor.regressor.fc3_rot.0.weight torch.Size([128, 4096])\n",
      "net.global_regressor.regressor.fc3_rot.0.bias torch.Size([128])\n",
      "net.global_regressor.regressor.logits_r.weight torch.Size([4, 128])\n",
      "net.global_regressor.regressor.logits_r.bias torch.Size([4])\n",
      "gp.variational_strategy.base_variational_strategy.inducing_points torch.Size([3, 300, 128])\n",
      "gp.variational_strategy.base_variational_strategy._variational_distribution.variational_mean torch.Size([3, 300])\n",
      "gp.variational_strategy.base_variational_strategy._variational_distribution.chol_variational_covar torch.Size([3, 300, 300])\n",
      "gp.mean_module.constant torch.Size([3, 1])\n",
      "gp.covar_module.raw_outputscale torch.Size([3])\n",
      "gp.covar_module.base_kernel.raw_lengthscale torch.Size([3, 1, 1])\n"
     ]
    }
   ],
   "source": [
    "for name, param in model.named_parameters():\n",
    "    if param.requires_grad:\n",
    "        print (name, param.shape)"
   ]
  },
  {
   "cell_type": "markdown",
   "metadata": {},
   "source": [
    "# Training\n",
    "## Parameters"
   ]
  },
  {
   "cell_type": "code",
   "execution_count": 9,
   "metadata": {
    "ExecuteTime": {
     "end_time": "2020-06-13T15:47:36.568303Z",
     "start_time": "2020-06-13T15:47:36.558517Z"
    },
    "run_control": {
     "marked": true
    }
   },
   "outputs": [],
   "source": [
    "args.norm_mean = args.norm_mean.to(device)\n",
    "args.norm_std = args.norm_std.to(device)\n",
    "\n",
    "likelihood = gpytorch.likelihoods.MultitaskGaussianLikelihood(num_tasks=3)\n",
    "likelihood = likelihood.to(device)\n",
    "\n",
    "# GP\n",
    "gp_optimizer = torch.optim.Adam([\n",
    "    {'params': model.gp.parameters()},\n",
    "    {'params': likelihood.parameters()},\n",
    "], lr=args.learning_rate, weight_decay=args.weight_decay)\n",
    "# Regressor\n",
    "regressor_optimizer = torch.optim.Adam([\n",
    "    {'params': model.net.global_context.parameters()},\n",
    "], lr=args.learning_rate * 0.01, weight_decay=args.weight_decay)\n",
    "# CNN\n",
    "cnn_optimizer = torch.optim.Adam([\n",
    "    {'params': model.net.global_regressor.parameters()},\n",
    "], lr=args.learning_rate * 0.001, weight_decay=args.weight_decay)\n",
    "'''\n",
    "optimizer = optim.Adam([\n",
    "    {'params': model.parameters(), \\\n",
    "     'lr': args.learning_rate,'weight_decay':args.weight_decay},\n",
    "    {'params': likelihood.parameters(), \\\n",
    "     'lr': args.learning_rate,'weight_decay':args.weight_decay},\n",
    "    {'params': net.global_context.parameters(), \\\n",
    "     'lr': args.learning_rate * 0.01,'weight_decay':args.weight_decay},\n",
    "    {'params': net.global_regressor.parameters(), \\\n",
    "     'lr': args.learning_rate * 0.001,'weight_decay':args.weight_decay},\n",
    "])\n",
    "'''\n",
    "\n",
    "#optimizer = optim.Adam(net.parameters(), lr=args.learning_rate, weight_decay=args.weight_decay)\n",
    "#optimizer = optimizers.FusedAdam(net.parameters(), lr=args.learning_rate, weight_decay=args.weight_decay)\n",
    "gp_scheduler = optim.lr_scheduler.LambdaLR(optimizer=gp_optimizer, lr_lambda=lambda epoch: args.decay_rate**epoch)\n",
    "regressor_scheduler = optim.lr_scheduler.LambdaLR(optimizer=regressor_optimizer, lr_lambda=lambda epoch: args.decay_rate**epoch)\n",
    "cnn_scheduler = optim.lr_scheduler.LambdaLR(optimizer=cnn_optimizer, lr_lambda=lambda epoch: args.decay_rate**epoch)\n",
    "\n",
    "mll = gpytorch.mlls.VariationalELBO(likelihood, model.gp, num_data=len(dataset.Targets))\n",
    "#net, optimizer = amp.initialize(net, optimizer, opt_level=\"O1\")"
   ]
  },
  {
   "cell_type": "code",
   "execution_count": 10,
   "metadata": {
    "ExecuteTime": {
     "end_time": "2020-06-13T15:47:36.576402Z",
     "start_time": "2020-06-13T15:47:36.569722Z"
    }
   },
   "outputs": [
    {
     "name": "stdout",
     "output_type": "stream",
     "text": [
      "CNN model parameters: 860864\n",
      "Regressor model parameters: 87049351\n",
      "GP model parameters: 386109\n",
      "Likelihood parameters: 4\n"
     ]
    }
   ],
   "source": [
    "print('CNN model parameters:', sum(param.numel() for param in model.net.global_context.parameters()))\n",
    "print('Regressor model parameters:', sum(param.numel() for param in model.net.global_regressor.parameters()))\n",
    "print('GP model parameters:', sum(param.numel() for param in model.gp.parameters()))\n",
    "print('Likelihood parameters:', sum(param.numel() for param in likelihood.parameters()))"
   ]
  },
  {
   "cell_type": "markdown",
   "metadata": {},
   "source": [
    "## Training Epoch"
   ]
  },
  {
   "cell_type": "code",
   "execution_count": null,
   "metadata": {
    "ExecuteTime": {
     "end_time": "2020-06-13T15:48:45.810143Z",
     "start_time": "2020-06-13T15:47:36.577645Z"
    },
    "run_control": {
     "marked": true
    },
    "scrolled": false
   },
   "outputs": [],
   "source": [
    "model.train()\n",
    "likelihood.train()\n",
    "\n",
    "for e in range(args.num_epochs):\n",
    "    if e != 0:\n",
    "        gp_scheduler.step()\n",
    "        regressor_scheduler.step()\n",
    "        cnn_scheduler.step()\n",
    "    train_loss = 0.\n",
    "    for b, data in enumerate(dataloader, 0):\n",
    "\n",
    "        start = time.time()\n",
    "        gp_optimizer.zero_grad()\n",
    "        cnn_optimizer.zero_grad()\n",
    "        regressor_optimizer.zero_grad()\n",
    "       \n",
    "        x,y = data.values()\n",
    "        x,y = x.to(device),y.to(device)\n",
    "        # normalize targets\n",
    "        y = normalize(y,args.norm_mean, args.norm_std)\n",
    "        trans_target, rot_target = torch.split(y, [3, 4], dim=1)\n",
    "        \n",
    "        output,rot_pred = model(x)\n",
    "        trans_loss = -mll(output, trans_target)\n",
    "        rot_loss = 1. - torch.mean(torch.square(torch.sum(torch.mul(rot_pred,rot_target),dim=1)))\n",
    "        total_loss = trans_loss + args.lamda_weights * rot_loss\n",
    "        \n",
    "        total_loss.backward()\n",
    "        \n",
    "        gp_optimizer.step()\n",
    "        cnn_optimizer.step()\n",
    "        regressor_optimizer.step()\n",
    "        \n",
    "        end = time.time()\n",
    "        \n",
    "        with torch.no_grad():\n",
    "            train_loss += float(total_loss)\n",
    "            if ((b+1)%args.display == 0):\n",
    "                 print(\n",
    "                    \"{}/{} (epoch {}), train_loss = {}, time/batch = {:.3f}, learning rate = {:.9f}\"\n",
    "                    .format(\n",
    "                    e * len(dataloader) + (b+1),\n",
    "                    args.num_epochs * len(dataloader),\n",
    "                    e,\n",
    "                    train_loss/(b+1),\n",
    "                    end - start,\n",
    "                    gp_scheduler.get_last_lr()[0])) # scheduler.get_last_lr()[0]\n",
    "            if (e * len(dataloader) + (b+1)) % args.save_every == 0:\n",
    "                checkpoint_path = os.path.join(args.model_dir, 'model-{}-{}.pth'.format(e, e * len(dataloader) + (b+1)))\n",
    "                torch.save(model.state_dict(),checkpoint_path)\n",
    "                print('saving model to model-{}-{}.pth'.format(e, e * len(dataloader) + (b+1)))"
   ]
  },
  {
   "cell_type": "code",
   "execution_count": null,
   "metadata": {},
   "outputs": [],
   "source": []
  }
 ],
 "metadata": {
  "kernelspec": {
   "display_name": "Python 3",
   "language": "python",
   "name": "python3"
  },
  "language_info": {
   "codemirror_mode": {
    "name": "ipython",
    "version": 3
   },
   "file_extension": ".py",
   "mimetype": "text/x-python",
   "name": "python",
   "nbconvert_exporter": "python",
   "pygments_lexer": "ipython3",
   "version": "3.6.9"
  },
  "toc": {
   "base_numbering": 1,
   "nav_menu": {},
   "number_sections": true,
   "sideBar": true,
   "skip_h1_title": false,
   "title_cell": "Table of Contents",
   "title_sidebar": "Contents",
   "toc_cell": false,
   "toc_position": {},
   "toc_section_display": true,
   "toc_window_display": false
  }
 },
 "nbformat": 4,
 "nbformat_minor": 4
}
