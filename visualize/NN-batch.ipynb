{
 "cells": [
  {
   "cell_type": "markdown",
   "metadata": {},
   "source": [
    "# Library"
   ]
  },
  {
   "cell_type": "code",
   "execution_count": 1,
   "metadata": {
    "ExecuteTime": {
     "end_time": "2020-08-14T10:11:48.204200Z",
     "start_time": "2020-08-14T10:11:47.351062Z"
    },
    "run_control": {
     "marked": true
    }
   },
   "outputs": [
    {
     "name": "stderr",
     "output_type": "stream",
     "text": [
      "the rosdep view is empty: call 'sudo rosdep init' and 'rosdep update'\n"
     ]
    }
   ],
   "source": [
    "import numpy as np\n",
    "#import os\n",
    "#os.environ[\"CUDA_VISIBLE_DEVICES\"]=\"-1\"\n",
    "import torch\n",
    "import argparse\n",
    "import time\n",
    "import pickle\n",
    "\n",
    "#from src.self_awareness.networks import utils\n",
    "#from src.self_awareness.learning.tf_cnn_auxiliary_gp import Model\n",
    "from torch.distributions import Normal\n",
    "import matplotlib.pyplot as plt\n",
    "import random\n",
    "\n",
    "import roslib\n",
    "import rospy\n",
    "import tf as tf_ros\n",
    "from nav_msgs.msg import Odometry, Path\n",
    "from sensor_msgs.msg import Image\n",
    "from cv_bridge import CvBridge\n",
    "from geometry_msgs.msg import PoseStamped, PoseArray, Pose\n",
    "import math\n",
    "import cv2\n",
    "import copy\n",
    "\n",
    "import sys\n",
    "sys.path.append('..')"
   ]
  },
  {
   "cell_type": "markdown",
   "metadata": {},
   "source": [
    "# Check GPU"
   ]
  },
  {
   "cell_type": "code",
   "execution_count": 2,
   "metadata": {
    "ExecuteTime": {
     "end_time": "2020-08-14T10:11:48.593365Z",
     "start_time": "2020-08-14T10:11:48.205821Z"
    },
    "run_control": {
     "marked": true
    }
   },
   "outputs": [
    {
     "name": "stdout",
     "output_type": "stream",
     "text": [
      "Using Device 1 : TITAN Xp\n"
     ]
    }
   ],
   "source": [
    "import torch\n",
    "import numpy as np\n",
    "import sys\n",
    "sys.path.append('..')\n",
    "\n",
    "from torchlib.utils import list_device,set_device\n",
    "\n",
    "# S1: check GPU\n",
    "#list_device()\n",
    "\n",
    "# S2: default parameters\n",
    "set_device(1)\n",
    "np.set_printoptions(precision = 2)\n",
    "torch.set_default_dtype(torch.float32)\n",
    "torch.set_printoptions(precision=4)\n",
    "torch.backends.cudnn.benchmark = True\n",
    "torch.set_printoptions(sci_mode=False)"
   ]
  },
  {
   "cell_type": "markdown",
   "metadata": {},
   "source": [
    "# Set Arguments"
   ]
  },
  {
   "cell_type": "code",
   "execution_count": 3,
   "metadata": {
    "ExecuteTime": {
     "end_time": "2020-08-14T10:11:48.603108Z",
     "start_time": "2020-08-14T10:11:48.595072Z"
    },
    "run_control": {
     "marked": true
    }
   },
   "outputs": [],
   "source": [
    "import argparse\n",
    "import sys\n",
    "import os\n",
    "import time\n",
    "import pickle\n",
    "\n",
    "parser = argparse.ArgumentParser()\n",
    "parser.add_argument('--batch_size', type=int, default=800, help='size of mini batch')\n",
    "parser.add_argument('--is_normalization', type=bool, default=True, help='whether do data normalization')\n",
    "parser.add_argument('--target_image_size', default=[300, 300], nargs=2, type=int, help='Input images will be resized to this for data argumentation.')\n",
    "\n",
    "parser.add_argument('--model_dir', type=str, default='/notebooks/global_localization/dual_resnet_torch', help='model directory')\n",
    "\n",
    "parser.add_argument('--test_dataset', type=str, default=[# '/notebooks/michigan_nn_data/2012_01_08',\n",
    "                                                         # '/notebooks/michigan_nn_data/2012_01_15',\n",
    "                                                         # '/notebooks/michigan_nn_data/2012_01_22',\n",
    "                                                         # '/notebooks/michigan_nn_data/2012_02_02',\n",
    "                                                         # '/notebooks/michigan_nn_data/2012_02_04',\n",
    "                                                         # '/notebooks/michigan_nn_data/2012_02_05',\n",
    "                                                         '/notebooks/michigan_nn_data/2012_02_12',\n",
    "                                                         # '/notebooks/michigan_nn_data/2012_03_31',\n",
    "                                                         '/notebooks/michigan_nn_data/2012_04_29',\n",
    "                                                         '/notebooks/michigan_nn_data/2012_05_11',\n",
    "                                                         '/notebooks/michigan_nn_data/2012_06_15',\n",
    "                                                         '/notebooks/michigan_nn_data/2012_08_04',\n",
    "                                                         # '/notebooks/michigan_nn_data/2012_09_28'])\n",
    "                                                         '/notebooks/michigan_nn_data/2012_10_28',\n",
    "                                                         '/notebooks/michigan_nn_data/2012_11_16',\n",
    "                                                         '/notebooks/michigan_nn_data/2012_12_01'\n",
    "                                                        ] )\n",
    "\n",
    "parser.add_argument('--train_dataset', type=str, default = ['/notebooks/michigan_nn_data/test'])\n",
    "parser.add_argument('--norm_tensor', type=str, default = ['/notebooks/global_localization/norm_mean_std.pt'])\n",
    "\n",
    "#parser.add_argument('--map_dataset', type=str, default='/home/kevin/data/michigan_gt/training')\n",
    "parser.add_argument('--enable_ros', type=bool, default=False, help='put data into ros')\n",
    "parser.add_argument('--cuda_device', type=int, default=1, help='cuda device')\n",
    "\n",
    "sys.argv = ['']\n",
    "args = parser.parse_args()\n",
    "\n",
    "if args.enable_ros:\n",
    "    rospy.init_node('global_localization_tf_broadcaster_cnn')"
   ]
  },
  {
   "cell_type": "markdown",
   "metadata": {
    "ExecuteTime": {
     "end_time": "2020-06-28T08:47:50.801713Z",
     "start_time": "2020-06-28T08:47:50.799680Z"
    }
   },
   "source": [
    "# Load Dataset"
   ]
  },
  {
   "cell_type": "code",
   "execution_count": 4,
   "metadata": {
    "ExecuteTime": {
     "end_time": "2020-08-14T10:16:41.177287Z",
     "start_time": "2020-08-14T10:11:48.604444Z"
    },
    "run_control": {
     "marked": true
    }
   },
   "outputs": [
    {
     "name": "stderr",
     "output_type": "stream",
     "text": [
      "100%|██████████| 28602/28602 [00:36<00:00, 777.74it/s]\n",
      "100%|██████████| 14016/14016 [00:18<00:00, 770.92it/s]\n",
      "100%|██████████| 25704/25704 [00:33<00:00, 777.54it/s]\n",
      "100%|██████████| 19135/19135 [00:24<00:00, 769.46it/s]\n",
      "100%|██████████| 27160/27160 [00:37<00:00, 714.74it/s]\n",
      "100%|██████████| 29670/29670 [00:51<00:00, 574.60it/s]\n",
      "100%|██████████| 14229/14229 [00:28<00:00, 499.10it/s]\n",
      "100%|██████████| 25367/25367 [00:59<00:00, 423.62it/s]\n"
     ]
    },
    {
     "name": "stdout",
     "output_type": "stream",
     "text": [
      "Load norm and std: /notebooks/global_localization/norm_mean_std.pt\n"
     ]
    }
   ],
   "source": [
    "from torch.utils.data import Dataset, DataLoader\n",
    "import torchvision.transforms as transforms\n",
    "import tf.transformations as tf_tran\n",
    "from tqdm import tqdm\n",
    "#from PIL import Image\n",
    "import numpy as np\n",
    "import random\n",
    "\n",
    "import torch.nn as nn\n",
    "import torch.optim as optim\n",
    "from torchlib import resnet, vggnet, cnn_auxiliary\n",
    "from torchlib.cnn_auxiliary import normalize, denormalize, get_relative_pose, translational_rotational_loss\n",
    "from torchlib.utils import LocalizationDataset, display_loss, data2tensorboard\n",
    "import time\n",
    "\n",
    "transform = transforms.Compose([transforms.ToTensor()])\n",
    "dataset = LocalizationDataset(dataset_dirs = args.test_dataset, \\\n",
    "                              image_size = args.target_image_size, \\\n",
    "                              transform = transform,\n",
    "                              get_pair = False, mode='evaluate', sampling_rate=1)\n",
    "if len(args.train_dataset)>7:\n",
    "    [args.norm_mean, args.norm_std] = [torch.tensor(x) for x in dataset.get_norm()]\n",
    "    torch.save([args.norm_mean, args.norm_std], *args.norm_tensor)\n",
    "    print('Save norm and std:',*args.norm_tensor)\n",
    "else:\n",
    "    [args.norm_mean, args.norm_std] = torch.load(*args.norm_tensor)\n",
    "    print('Load norm and std:',*args.norm_tensor)\n",
    "\n",
    "dataloader = DataLoader(dataset, batch_size=args.batch_size, \\\n",
    "                        shuffle=False, num_workers=0, \\\n",
    "                        drop_last=False, pin_memory=True)"
   ]
  },
  {
   "cell_type": "markdown",
   "metadata": {},
   "source": [
    "# Define Model"
   ]
  },
  {
   "cell_type": "code",
   "execution_count": 5,
   "metadata": {
    "ExecuteTime": {
     "end_time": "2020-08-14T10:16:42.406446Z",
     "start_time": "2020-08-14T10:16:41.280227Z"
    },
    "code_folding": [
     3,
     20,
     36,
     67,
     85,
     99
    ],
    "run_control": {
     "marked": true
    }
   },
   "outputs": [],
   "source": [
    "from torch.cuda.amp import autocast, GradScaler\n",
    "from torchlib.GPs import Backbone, NN, BaseModule\n",
    "        \n",
    "class Model(nn.Module):\n",
    "    def __init__(self):\n",
    "        super().__init__()\n",
    "        self.backbone = Backbone()\n",
    "        self.nn = NN()\n",
    "        \n",
    "    def forward(self, *args):\n",
    "        outputs = []\n",
    "        for input_data in args:\n",
    "            dense_feat = self.backbone(input_data)\n",
    "            output, feature_t, feature_r = self.nn(dense_feat)\n",
    "            outputs += [output]\n",
    "        if len(args)>1:\n",
    "            return outputs\n",
    "        else:\n",
    "            return output, feature_t, feature_r\n",
    "        \n",
    "class PosePredictor(BaseModule):\n",
    "    def __init__(self, norm_mean, norm_std, args, is_training=True, mixed_precision=True):\n",
    "        super().__init__(norm_mean, norm_std, args)\n",
    "        self.model = Model().to(self.device)\n",
    "        self.mixed_precision = mixed_precision\n",
    "        if self.mixed_precision:\n",
    "            self.scaler = GradScaler()\n",
    "        if is_training:\n",
    "            self.optimizer = optim.Adam(self.model.parameters(), \n",
    "                                        lr=args.learning_rate, \n",
    "                                        weight_decay=args.weight_decay)\n",
    "            self.scheduler = optim.lr_scheduler.LambdaLR(optimizer=self.optimizer,\n",
    "                                                             lr_lambda=lambda epoch: args.decay_rate**epoch)\n",
    "        else:\n",
    "            self.disable_requires_grad(self.model)\n",
    "    \n",
    "    def train(self,x0, x1, y0, y1):\n",
    "        # Step 0: zero grad\n",
    "        self.optimizer.zero_grad()\n",
    "        \n",
    "        start = time.time()\n",
    "        # Step 1: get data\n",
    "        x0,x1,y0,y1 = x0.cuda(),x1.cuda(),y0.cuda(),y1.cuda()\n",
    "        if args.is_normalization:\n",
    "            y0, y1 = [normalize(y,self.norm_mean, self.norm_std) for y in [y0,y1]]\n",
    "            \n",
    "        # Step 2: training\n",
    "        assert trainer.model.training == True\n",
    "        \n",
    "        if self.mixed_precision:\n",
    "            with autocast():\n",
    "                global_loss, consistent_loss = self._loss(x0, x1, y0, y1)\n",
    "                single_loss = global_loss + consistent_loss\n",
    "                \n",
    "            self.scaler.scale(single_loss).backward()\n",
    "            self.scaler.step(self.optimizer)\n",
    "            self.scaler.update()\n",
    "        else:\n",
    "            global_loss, consistent_loss = self._loss(x0, x1, y0, y1)\n",
    "            single_loss = global_loss + consistent_loss\n",
    "            \n",
    "            single_loss.backward()\n",
    "            self.optimizer.step()\n",
    "        batch_time = time.time() - start\n",
    "        \n",
    "        return float(single_loss), float(global_loss), float(consistent_loss), batch_time\n",
    "    \n",
    "    def _loss(self,x0, x1, y0, y1):\n",
    "        # target relative\n",
    "        relative_target_normed = get_relative_pose(y0, y1)\n",
    "        # forward output\n",
    "        global_output0,global_output1 = self.model(x0, x1)\n",
    "        # output relative\n",
    "        relative_consistence = get_relative_pose(global_output0,global_output1)\n",
    "        \n",
    "        # target loss\n",
    "        global_loss = translational_rotational_loss(pred=global_output1, gt=y1, \\\n",
    "                                                    lamda=args.lamda_weights)\n",
    "        # relative loss\n",
    "        geometry_consistent_loss = translational_rotational_loss(pred=relative_consistence, \\\n",
    "                                                                 gt=relative_target_normed, \\\n",
    "                                                                 lamda=args.lamda_weights)        \n",
    "        \n",
    "        return global_loss, geometry_consistent_loss\n",
    "    \n",
    "    def eval_forward(self,x,y,output_denormalize = True):\n",
    "        # Step 1: get data\n",
    "        x,y = x.cuda(),y.cuda()\n",
    "        \n",
    "        # Step 2: forward\n",
    "        assert trainer.model.training == False\n",
    "        \n",
    "        if self.mixed_precision:\n",
    "            with autocast():\n",
    "                output,_,_ = self.model(x)\n",
    "            self.scaler.scale(output)\n",
    "        else:\n",
    "            output,_,_ = self.model(x)\n",
    "\n",
    "        if args.is_normalization and output_denormalize:\n",
    "            output = denormalize(output, self.norm_mean, self.norm_std)\n",
    "            \n",
    "        # Step 3: split output\n",
    "        trans_target, rot_target = torch.split(y, [3, 4], dim=1)\n",
    "        trans_prediction, rot_prediction = torch.split(output, [3, 4], dim=1)\n",
    "        return trans_prediction, rot_prediction, trans_target, rot_target"
   ]
  },
  {
   "cell_type": "code",
   "execution_count": 6,
   "metadata": {
    "ExecuteTime": {
     "end_time": "2020-08-14T10:17:01.136541Z",
     "start_time": "2020-08-14T10:16:42.408620Z"
    },
    "code_folding": [
     1,
     16,
     32,
     42,
     47,
     68
    ],
    "run_control": {
     "marked": true
    }
   },
   "outputs": [
    {
     "name": "stdout",
     "output_type": "stream",
     "text": [
      "Successfully loaded model to TITAN Xp.\n"
     ]
    }
   ],
   "source": [
    "trainer = PosePredictor(args.norm_mean,args.norm_std,args,mixed_precision=True,is_training=False)\n",
    "trainer.load_model('pretrained.pth')"
   ]
  },
  {
   "cell_type": "markdown",
   "metadata": {},
   "source": [
    "# Initialize"
   ]
  },
  {
   "cell_type": "code",
   "execution_count": 7,
   "metadata": {
    "ExecuteTime": {
     "end_time": "2020-08-14T10:17:01.202520Z",
     "start_time": "2020-08-14T10:17:01.140827Z"
    },
    "run_control": {
     "marked": true
    }
   },
   "outputs": [],
   "source": [
    "trans_errors = []\n",
    "rot_errors = []\n",
    "uncertainties = []\n",
    "pose_map = []\n",
    "\n",
    "total_trans_error = 0.\n",
    "total_rot_error = 0.\n",
    "\n",
    "count = 0.\n",
    "\n",
    "is_save_map = False\n",
    "is_read_map = False\n",
    "\n",
    "trans_preds = []\n",
    "trans_gts = []\n",
    "\n",
    "rot_preds = []\n",
    "rot_gts = []\n",
    "\n",
    "pred_uncertainties = []\n",
    "\n",
    "pred_time = []\n",
    "\n",
    "br = tf_ros.TransformBroadcaster()\n",
    "\n",
    "GT_POSE_TOPIC = '/gt_pose'\n",
    "BIRDVIEW_TOPIC_PUB = '/bird_view'\n",
    "MAP_TOPIC_PUB = '/pose_map'\n",
    "PARTICLES_PUB = '/particles'\n",
    "NN_LOCALIZASION_PUB = '/nn_pose'\n",
    "gt_pose_pub = rospy.Publisher(GT_POSE_TOPIC, Odometry, queue_size=1)\n",
    "bird_view_pub = rospy.Publisher(BIRDVIEW_TOPIC_PUB, Image, queue_size=1)\n",
    "map_pub = rospy.Publisher(MAP_TOPIC_PUB, Path, queue_size=1)\n",
    "particles_pub = rospy.Publisher(PARTICLES_PUB, PoseArray, queue_size=1)\n",
    "nn_pose_pub = rospy.Publisher(NN_LOCALIZASION_PUB, Odometry, queue_size=1)"
   ]
  },
  {
   "cell_type": "markdown",
   "metadata": {},
   "source": [
    "# Evaluate"
   ]
  },
  {
   "cell_type": "code",
   "execution_count": 8,
   "metadata": {
    "ExecuteTime": {
     "end_time": "2020-08-14T10:28:07.587663Z",
     "start_time": "2020-08-14T10:17:01.208920Z"
    },
    "code_folding": [
     15
    ],
    "run_control": {
     "marked": true
    },
    "scrolled": true
   },
   "outputs": [
    {
     "name": "stdout",
     "output_type": "stream",
     "text": [
      "800/184000, translation error = 7.099, rotation error = 4.380, time/batch = 7.737\n",
      "1600/184000, translation error = 6.167, rotation error = 3.596, time/batch = 2.352\n",
      "2400/184000, translation error = 8.481, rotation error = 3.763, time/batch = 2.309\n",
      "3200/184000, translation error = 7.412, rotation error = 3.649, time/batch = 2.169\n",
      "4000/184000, translation error = 6.660, rotation error = 4.271, time/batch = 2.173\n",
      "4800/184000, translation error = 6.153, rotation error = 4.276, time/batch = 2.176\n",
      "5600/184000, translation error = 5.753, rotation error = 4.414, time/batch = 2.176\n",
      "6400/184000, translation error = 5.454, rotation error = 4.407, time/batch = 2.199\n",
      "7200/184000, translation error = 5.359, rotation error = 4.393, time/batch = 2.192\n",
      "8000/184000, translation error = 5.139, rotation error = 4.274, time/batch = 2.173\n",
      "8800/184000, translation error = 4.862, rotation error = 4.265, time/batch = 2.191\n",
      "9600/184000, translation error = 4.621, rotation error = 4.297, time/batch = 2.193\n",
      "10400/184000, translation error = 4.559, rotation error = 4.388, time/batch = 2.204\n",
      "11200/184000, translation error = 4.443, rotation error = 4.315, time/batch = 2.200\n",
      "12000/184000, translation error = 4.405, rotation error = 4.214, time/batch = 2.203\n",
      "12800/184000, translation error = 4.334, rotation error = 4.246, time/batch = 2.206\n",
      "13600/184000, translation error = 6.169, rotation error = 4.452, time/batch = 2.192\n",
      "14400/184000, translation error = 6.266, rotation error = 4.573, time/batch = 2.208\n",
      "15200/184000, translation error = 6.198, rotation error = 4.636, time/batch = 2.171\n",
      "16000/184000, translation error = 6.209, rotation error = 4.726, time/batch = 2.202\n",
      "16800/184000, translation error = 6.573, rotation error = 4.991, time/batch = 2.220\n",
      "17600/184000, translation error = 6.401, rotation error = 5.008, time/batch = 2.208\n",
      "18400/184000, translation error = 6.346, rotation error = 5.002, time/batch = 2.216\n",
      "19200/184000, translation error = 6.265, rotation error = 4.979, time/batch = 2.215\n",
      "20000/184000, translation error = 6.190, rotation error = 4.944, time/batch = 2.221\n",
      "20800/184000, translation error = 6.101, rotation error = 5.205, time/batch = 2.202\n",
      "21600/184000, translation error = 6.096, rotation error = 5.305, time/batch = 2.197\n",
      "22400/184000, translation error = 6.016, rotation error = 5.303, time/batch = 2.207\n",
      "23200/184000, translation error = 5.898, rotation error = 5.223, time/batch = 2.209\n",
      "24000/184000, translation error = 5.780, rotation error = 5.148, time/batch = 2.208\n",
      "24800/184000, translation error = 5.701, rotation error = 5.101, time/batch = 2.216\n",
      "25600/184000, translation error = 5.650, rotation error = 5.086, time/batch = 2.215\n",
      "26400/184000, translation error = 5.595, rotation error = 5.029, time/batch = 2.202\n",
      "27200/184000, translation error = 5.605, rotation error = 5.013, time/batch = 2.231\n",
      "28000/184000, translation error = 5.568, rotation error = 5.049, time/batch = 2.216\n",
      "28800/184000, translation error = 5.591, rotation error = 5.065, time/batch = 2.205\n",
      "29600/184000, translation error = 5.569, rotation error = 5.017, time/batch = 2.221\n",
      "30400/184000, translation error = 5.522, rotation error = 4.971, time/batch = 2.209\n",
      "31200/184000, translation error = 5.592, rotation error = 4.968, time/batch = 2.218\n",
      "32000/184000, translation error = 6.441, rotation error = 5.066, time/batch = 2.225\n",
      "32800/184000, translation error = 6.408, rotation error = 5.243, time/batch = 2.228\n",
      "33600/184000, translation error = 6.353, rotation error = 5.311, time/batch = 2.228\n",
      "34400/184000, translation error = 6.268, rotation error = 5.289, time/batch = 2.216\n",
      "35200/184000, translation error = 6.178, rotation error = 5.249, time/batch = 2.226\n",
      "36000/184000, translation error = 6.128, rotation error = 5.241, time/batch = 2.214\n",
      "36800/184000, translation error = 6.086, rotation error = 5.259, time/batch = 2.238\n",
      "37600/184000, translation error = 6.019, rotation error = 5.236, time/batch = 2.220\n",
      "38400/184000, translation error = 5.955, rotation error = 5.194, time/batch = 2.237\n",
      "39200/184000, translation error = 5.916, rotation error = 5.230, time/batch = 2.225\n",
      "40000/184000, translation error = 5.870, rotation error = 5.231, time/batch = 2.236\n",
      "40800/184000, translation error = 5.799, rotation error = 5.206, time/batch = 2.227\n",
      "41600/184000, translation error = 5.746, rotation error = 5.171, time/batch = 2.238\n",
      "42400/184000, translation error = 5.697, rotation error = 5.177, time/batch = 2.225\n",
      "43200/184000, translation error = 5.731, rotation error = 5.160, time/batch = 2.226\n",
      "44000/184000, translation error = 8.602, rotation error = 5.706, time/batch = 2.220\n",
      "44800/184000, translation error = 10.993, rotation error = 6.217, time/batch = 2.232\n",
      "45600/184000, translation error = 10.917, rotation error = 6.176, time/batch = 2.234\n",
      "46400/184000, translation error = 10.834, rotation error = 6.301, time/batch = 2.231\n",
      "47200/184000, translation error = 10.723, rotation error = 6.341, time/batch = 2.232\n",
      "48000/184000, translation error = 10.585, rotation error = 6.293, time/batch = 2.217\n",
      "48800/184000, translation error = 10.555, rotation error = 6.279, time/batch = 2.245\n",
      "49600/184000, translation error = 10.473, rotation error = 6.273, time/batch = 2.248\n",
      "50400/184000, translation error = 10.354, rotation error = 6.239, time/batch = 2.227\n",
      "51200/184000, translation error = 10.254, rotation error = 6.224, time/batch = 2.223\n",
      "52000/184000, translation error = 10.154, rotation error = 6.211, time/batch = 2.245\n",
      "52800/184000, translation error = 10.040, rotation error = 6.170, time/batch = 2.248\n",
      "53600/184000, translation error = 9.999, rotation error = 6.155, time/batch = 2.209\n",
      "54400/184000, translation error = 9.900, rotation error = 6.110, time/batch = 2.222\n",
      "55200/184000, translation error = 9.799, rotation error = 6.063, time/batch = 2.230\n",
      "56000/184000, translation error = 9.704, rotation error = 6.041, time/batch = 2.221\n",
      "56800/184000, translation error = 9.640, rotation error = 5.996, time/batch = 2.211\n",
      "57600/184000, translation error = 9.563, rotation error = 5.947, time/batch = 2.233\n",
      "58400/184000, translation error = 9.595, rotation error = 6.021, time/batch = 2.229\n",
      "59200/184000, translation error = 9.542, rotation error = 6.007, time/batch = 2.224\n",
      "60000/184000, translation error = 9.532, rotation error = 6.011, time/batch = 2.232\n",
      "60800/184000, translation error = 9.469, rotation error = 5.994, time/batch = 2.237\n",
      "61600/184000, translation error = 9.408, rotation error = 5.983, time/batch = 2.244\n",
      "62400/184000, translation error = 9.357, rotation error = 6.044, time/batch = 2.212\n",
      "63200/184000, translation error = 9.321, rotation error = 6.071, time/batch = 2.222\n",
      "64000/184000, translation error = 9.249, rotation error = 6.053, time/batch = 2.240\n",
      "64800/184000, translation error = 9.173, rotation error = 6.031, time/batch = 2.244\n",
      "65600/184000, translation error = 9.104, rotation error = 5.993, time/batch = 2.212\n",
      "66400/184000, translation error = 9.051, rotation error = 5.967, time/batch = 2.234\n",
      "67200/184000, translation error = 9.032, rotation error = 5.950, time/batch = 2.232\n",
      "68000/184000, translation error = 8.977, rotation error = 5.932, time/batch = 2.223\n",
      "68800/184000, translation error = 9.998, rotation error = 6.255, time/batch = 2.239\n",
      "69600/184000, translation error = 9.934, rotation error = 6.219, time/batch = 2.230\n",
      "70400/184000, translation error = 9.861, rotation error = 6.191, time/batch = 2.214\n",
      "71200/184000, translation error = 10.945, rotation error = 6.367, time/batch = 2.236\n",
      "72000/184000, translation error = 10.897, rotation error = 6.335, time/batch = 2.227\n",
      "72800/184000, translation error = 10.852, rotation error = 6.416, time/batch = 2.238\n",
      "73600/184000, translation error = 10.781, rotation error = 6.430, time/batch = 2.226\n",
      "74400/184000, translation error = 10.692, rotation error = 6.402, time/batch = 2.230\n",
      "75200/184000, translation error = 10.608, rotation error = 6.377, time/batch = 2.244\n",
      "76000/184000, translation error = 10.533, rotation error = 6.362, time/batch = 2.238\n",
      "76800/184000, translation error = 10.463, rotation error = 6.354, time/batch = 2.232\n",
      "77600/184000, translation error = 10.377, rotation error = 6.325, time/batch = 2.252\n",
      "78400/184000, translation error = 10.311, rotation error = 6.323, time/batch = 2.252\n"
     ]
    },
    {
     "name": "stdout",
     "output_type": "stream",
     "text": [
      "79200/184000, translation error = 10.250, rotation error = 6.313, time/batch = 2.240\n",
      "80000/184000, translation error = 10.193, rotation error = 6.289, time/batch = 2.232\n",
      "80800/184000, translation error = 10.120, rotation error = 6.259, time/batch = 2.236\n",
      "81600/184000, translation error = 10.061, rotation error = 6.253, time/batch = 2.249\n",
      "82400/184000, translation error = 10.020, rotation error = 6.247, time/batch = 2.237\n",
      "83200/184000, translation error = 9.960, rotation error = 6.223, time/batch = 2.228\n",
      "84000/184000, translation error = 9.908, rotation error = 6.212, time/batch = 2.203\n",
      "84800/184000, translation error = 9.920, rotation error = 6.203, time/batch = 2.231\n",
      "85600/184000, translation error = 9.868, rotation error = 6.178, time/batch = 2.232\n",
      "86400/184000, translation error = 9.800, rotation error = 6.157, time/batch = 2.235\n",
      "87200/184000, translation error = 9.759, rotation error = 6.130, time/batch = 2.210\n",
      "88000/184000, translation error = 9.747, rotation error = 6.136, time/batch = 2.239\n",
      "88800/184000, translation error = 9.736, rotation error = 6.220, time/batch = 2.237\n",
      "89600/184000, translation error = 9.695, rotation error = 6.237, time/batch = 2.236\n",
      "90400/184000, translation error = 9.635, rotation error = 6.224, time/batch = 2.245\n",
      "91200/184000, translation error = 9.579, rotation error = 6.228, time/batch = 2.228\n",
      "92000/184000, translation error = 9.526, rotation error = 6.224, time/batch = 2.238\n",
      "92800/184000, translation error = 9.486, rotation error = 6.217, time/batch = 2.237\n",
      "93600/184000, translation error = 9.441, rotation error = 6.196, time/batch = 2.251\n",
      "94400/184000, translation error = 9.398, rotation error = 6.202, time/batch = 2.255\n",
      "95200/184000, translation error = 9.385, rotation error = 6.181, time/batch = 2.242\n",
      "96000/184000, translation error = 9.337, rotation error = 6.184, time/batch = 2.228\n",
      "96800/184000, translation error = 9.293, rotation error = 6.161, time/batch = 2.232\n",
      "97600/184000, translation error = 9.248, rotation error = 6.136, time/batch = 2.226\n",
      "98400/184000, translation error = 9.203, rotation error = 6.116, time/batch = 2.227\n",
      "99200/184000, translation error = 9.155, rotation error = 6.104, time/batch = 2.232\n",
      "100000/184000, translation error = 9.116, rotation error = 6.085, time/batch = 2.247\n",
      "100800/184000, translation error = 9.078, rotation error = 6.077, time/batch = 2.235\n",
      "101600/184000, translation error = 9.998, rotation error = 6.168, time/batch = 2.235\n",
      "102400/184000, translation error = 9.985, rotation error = 6.174, time/batch = 2.232\n",
      "103200/184000, translation error = 9.939, rotation error = 6.161, time/batch = 2.233\n",
      "104000/184000, translation error = 9.894, rotation error = 6.195, time/batch = 2.224\n",
      "104800/184000, translation error = 9.904, rotation error = 6.232, time/batch = 2.226\n",
      "105600/184000, translation error = 9.858, rotation error = 6.212, time/batch = 2.240\n",
      "106400/184000, translation error = 9.818, rotation error = 6.207, time/batch = 2.237\n",
      "107200/184000, translation error = 9.787, rotation error = 6.226, time/batch = 2.245\n",
      "108000/184000, translation error = 9.737, rotation error = 6.214, time/batch = 2.228\n",
      "108800/184000, translation error = 9.743, rotation error = 6.220, time/batch = 2.220\n",
      "109600/184000, translation error = 9.696, rotation error = 6.197, time/batch = 2.237\n",
      "110400/184000, translation error = 9.662, rotation error = 6.181, time/batch = 2.235\n",
      "111200/184000, translation error = 9.632, rotation error = 6.176, time/batch = 2.231\n",
      "112000/184000, translation error = 9.815, rotation error = 6.434, time/batch = 2.216\n",
      "112800/184000, translation error = 9.873, rotation error = 6.503, time/batch = 2.241\n",
      "113600/184000, translation error = 9.836, rotation error = 6.497, time/batch = 2.238\n",
      "114400/184000, translation error = 9.807, rotation error = 6.481, time/batch = 2.232\n",
      "115200/184000, translation error = 10.644, rotation error = 6.559, time/batch = 2.224\n",
      "116000/184000, translation error = 10.632, rotation error = 6.572, time/batch = 2.237\n",
      "116800/184000, translation error = 10.620, rotation error = 6.575, time/batch = 2.237\n",
      "117600/184000, translation error = 10.582, rotation error = 6.558, time/batch = 2.229\n",
      "118400/184000, translation error = 10.529, rotation error = 6.552, time/batch = 2.230\n",
      "119200/184000, translation error = 10.481, rotation error = 6.542, time/batch = 2.240\n",
      "120000/184000, translation error = 10.431, rotation error = 6.528, time/batch = 2.236\n",
      "120800/184000, translation error = 10.383, rotation error = 6.518, time/batch = 2.247\n",
      "121600/184000, translation error = 10.338, rotation error = 6.498, time/batch = 2.243\n",
      "122400/184000, translation error = 10.311, rotation error = 6.491, time/batch = 2.238\n",
      "123200/184000, translation error = 10.505, rotation error = 6.572, time/batch = 2.230\n",
      "124000/184000, translation error = 10.612, rotation error = 6.644, time/batch = 2.238\n",
      "124800/184000, translation error = 10.577, rotation error = 6.628, time/batch = 2.235\n",
      "125600/184000, translation error = 10.529, rotation error = 6.614, time/batch = 2.250\n",
      "126400/184000, translation error = 10.512, rotation error = 6.616, time/batch = 2.214\n",
      "127200/184000, translation error = 10.468, rotation error = 6.600, time/batch = 2.233\n",
      "128000/184000, translation error = 10.419, rotation error = 6.579, time/batch = 2.245\n",
      "128800/184000, translation error = 11.326, rotation error = 6.824, time/batch = 2.243\n",
      "129600/184000, translation error = 11.293, rotation error = 6.821, time/batch = 2.230\n",
      "130400/184000, translation error = 11.257, rotation error = 6.809, time/batch = 2.231\n",
      "131200/184000, translation error = 11.211, rotation error = 6.791, time/batch = 2.225\n",
      "132000/184000, translation error = 11.185, rotation error = 6.796, time/batch = 2.249\n",
      "132800/184000, translation error = 11.142, rotation error = 6.784, time/batch = 2.256\n",
      "133600/184000, translation error = 11.140, rotation error = 6.829, time/batch = 2.234\n",
      "134400/184000, translation error = 11.139, rotation error = 6.858, time/batch = 2.223\n",
      "135200/184000, translation error = 11.113, rotation error = 6.898, time/batch = 2.228\n",
      "136000/184000, translation error = 11.064, rotation error = 6.877, time/batch = 2.236\n",
      "136800/184000, translation error = 11.019, rotation error = 6.867, time/batch = 2.244\n",
      "137600/184000, translation error = 10.974, rotation error = 6.857, time/batch = 2.242\n",
      "138400/184000, translation error = 10.953, rotation error = 6.851, time/batch = 2.230\n",
      "139200/184000, translation error = 10.961, rotation error = 6.842, time/batch = 2.239\n",
      "140000/184000, translation error = 10.965, rotation error = 6.827, time/batch = 2.244\n",
      "140800/184000, translation error = 10.922, rotation error = 6.810, time/batch = 2.235\n",
      "141600/184000, translation error = 10.876, rotation error = 6.788, time/batch = 2.239\n",
      "142400/184000, translation error = 10.837, rotation error = 6.773, time/batch = 2.229\n",
      "143200/184000, translation error = 10.795, rotation error = 6.755, time/batch = 2.235\n",
      "144000/184000, translation error = 10.759, rotation error = 6.742, time/batch = 2.245\n",
      "144800/184000, translation error = 10.726, rotation error = 6.733, time/batch = 2.228\n",
      "145600/184000, translation error = 10.683, rotation error = 6.736, time/batch = 2.244\n",
      "146400/184000, translation error = 10.646, rotation error = 6.727, time/batch = 2.239\n",
      "147200/184000, translation error = 10.607, rotation error = 6.717, time/batch = 2.237\n",
      "148000/184000, translation error = 10.597, rotation error = 6.714, time/batch = 2.239\n",
      "148800/184000, translation error = 10.630, rotation error = 6.733, time/batch = 2.230\n",
      "149600/184000, translation error = 10.839, rotation error = 6.876, time/batch = 2.233\n",
      "150400/184000, translation error = 10.891, rotation error = 6.899, time/batch = 2.240\n",
      "151200/184000, translation error = 10.979, rotation error = 6.915, time/batch = 2.243\n",
      "152000/184000, translation error = 10.945, rotation error = 6.897, time/batch = 2.237\n",
      "152800/184000, translation error = 10.916, rotation error = 6.885, time/batch = 2.230\n",
      "153600/184000, translation error = 10.897, rotation error = 6.879, time/batch = 2.229\n",
      "154400/184000, translation error = 10.909, rotation error = 6.861, time/batch = 2.250\n",
      "155200/184000, translation error = 11.137, rotation error = 6.884, time/batch = 2.247\n",
      "156000/184000, translation error = 11.333, rotation error = 6.985, time/batch = 2.246\n"
     ]
    },
    {
     "name": "stdout",
     "output_type": "stream",
     "text": [
      "156800/184000, translation error = 11.341, rotation error = 6.973, time/batch = 2.256\n",
      "157600/184000, translation error = 11.369, rotation error = 6.991, time/batch = 2.240\n",
      "158400/184000, translation error = 11.490, rotation error = 6.992, time/batch = 2.248\n",
      "159200/184000, translation error = 11.853, rotation error = 7.024, time/batch = 2.224\n",
      "160000/184000, translation error = 11.837, rotation error = 7.078, time/batch = 2.228\n",
      "160800/184000, translation error = 11.813, rotation error = 7.091, time/batch = 2.236\n",
      "161600/184000, translation error = 11.857, rotation error = 7.134, time/batch = 2.236\n",
      "162400/184000, translation error = 11.858, rotation error = 7.196, time/batch = 2.234\n",
      "163200/184000, translation error = 11.845, rotation error = 7.331, time/batch = 2.226\n",
      "164000/184000, translation error = 11.835, rotation error = 7.321, time/batch = 2.235\n",
      "164800/184000, translation error = 11.830, rotation error = 7.307, time/batch = 2.232\n",
      "165600/184000, translation error = 11.812, rotation error = 7.313, time/batch = 2.236\n",
      "166400/184000, translation error = 11.813, rotation error = 7.302, time/batch = 2.236\n",
      "167200/184000, translation error = 11.824, rotation error = 7.284, time/batch = 2.239\n",
      "168000/184000, translation error = 11.821, rotation error = 7.306, time/batch = 2.237\n",
      "168800/184000, translation error = 11.843, rotation error = 7.542, time/batch = 2.224\n",
      "169600/184000, translation error = 11.805, rotation error = 7.531, time/batch = 2.248\n",
      "170400/184000, translation error = 11.778, rotation error = 7.527, time/batch = 2.235\n",
      "171200/184000, translation error = 11.737, rotation error = 7.511, time/batch = 2.239\n",
      "172000/184000, translation error = 11.869, rotation error = 7.579, time/batch = 2.230\n",
      "172800/184000, translation error = 11.842, rotation error = 7.560, time/batch = 2.241\n",
      "173600/184000, translation error = 11.810, rotation error = 7.543, time/batch = 2.248\n",
      "174400/184000, translation error = 11.769, rotation error = 7.525, time/batch = 2.238\n",
      "175200/184000, translation error = 11.842, rotation error = 7.545, time/batch = 2.225\n",
      "176000/184000, translation error = 11.901, rotation error = 7.615, time/batch = 2.228\n",
      "176800/184000, translation error = 11.901, rotation error = 7.653, time/batch = 2.239\n",
      "177600/184000, translation error = 11.944, rotation error = 7.665, time/batch = 2.235\n",
      "178400/184000, translation error = 12.007, rotation error = 7.679, time/batch = 2.216\n",
      "179200/184000, translation error = 11.968, rotation error = 7.672, time/batch = 2.241\n",
      "180000/184000, translation error = 12.031, rotation error = 7.663, time/batch = 2.227\n",
      "180800/184000, translation error = 11.997, rotation error = 7.649, time/batch = 2.235\n",
      "181600/184000, translation error = 11.971, rotation error = 7.647, time/batch = 2.239\n",
      "182400/184000, translation error = 11.941, rotation error = 7.645, time/batch = 2.229\n",
      "183200/184000, translation error = 11.908, rotation error = 7.632, time/batch = 2.236\n",
      "184000/184000, translation error = 11.882, rotation error = 7.628, time/batch = 7.486\n"
     ]
    }
   ],
   "source": [
    "trainer.model.eval()\n",
    "\n",
    "for b, data in enumerate(dataloader, 0):\n",
    "    start = time.time()\n",
    "    x,y = data.values()\n",
    "    trans_pred, rot_pred, trans_gt, rot_gt = trainer.eval_forward(x,y)\n",
    "    \n",
    "    # transform data\n",
    "    trans_pred = trans_pred.cpu().numpy()\n",
    "    rot_pred = rot_pred.cpu().numpy()\n",
    "    trans_gt = trans_gt.cpu().numpy()\n",
    "    rot_gt = rot_gt.cpu().numpy()\n",
    "    \n",
    "    end = time.time()\n",
    "    \n",
    "    if args.enable_ros:\n",
    "        for i in range(y.shape[0]):\n",
    "            br.sendTransform(trans_pred[i],rot_pred[i], rospy.Time.now(),\"estimation\", \"world\")\n",
    "            br.sendTransform(trans_gt[i],rot_gt[i],rospy.Time.now(), \"gt\", \"world\")\n",
    "\n",
    "            timestamp = rospy.Time.now()\n",
    "\n",
    "            gt_msg = Odometry()\n",
    "            gt_msg.header.frame_id = 'world'\n",
    "            gt_msg.header.stamp = timestamp\n",
    "            gt_msg.child_frame_id = 'base_link'\n",
    "            gt_msg.pose.pose.position.x = trans_gt[i][0]\n",
    "            gt_msg.pose.pose.position.y = trans_gt[i][1]\n",
    "            gt_msg.pose.pose.position.z = trans_gt[i][2]\n",
    "            gt_msg.pose.pose.orientation.x = rot_gt[i][0]\n",
    "            gt_msg.pose.pose.orientation.y = rot_gt[i][1]\n",
    "            gt_msg.pose.pose.orientation.z = rot_gt[i][2]\n",
    "            gt_msg.pose.pose.orientation.w = rot_gt[i][3]\n",
    "\n",
    "            bridge = CvBridge()\n",
    "\n",
    "            bird_view_img_msg = bridge.cv2_to_imgmsg(x[i][0], encoding=\"passthrough\") # 1x300x300 -> 300x300\n",
    "            stamp_now = rospy.Time.now()\n",
    "            bird_view_img_msg.header.stamp = stamp_now\n",
    "\n",
    "            bird_view_pub.publish(bird_view_img_msg)\n",
    "\n",
    "            rospy.sleep(.0)\n",
    "\n",
    "            count += 1\n",
    "    else:\n",
    "        count += y.shape[0]\n",
    "    \n",
    "    trans_preds += [x for x in trans_pred]\n",
    "    rot_preds += [x for x in rot_pred]\n",
    "    trans_gts += [x for x in trans_gt]\n",
    "    rot_gts += [x for x in rot_gt]\n",
    "\n",
    "    trans_error = np.sqrt(np.sum((trans_pred - trans_gt)**2,axis=1))\n",
    "    rot_error_1 = np.arccos(np.sum(np.multiply(rot_pred,rot_gt),axis=1))/math.pi*180\n",
    "    rot_error_2 = np.arccos(np.sum(np.multiply(rot_pred,-rot_gt),axis=1))/math.pi*180\n",
    "    rot_error = np.minimum(rot_error_1,rot_error_2)\n",
    "\n",
    "    trans_errors += [x for x in trans_error]\n",
    "    rot_errors += [x for x in rot_error]\n",
    "\n",
    "    total_trans_error += np.sum(trans_error)\n",
    "    total_rot_error += np.sum(rot_error)\n",
    "    \n",
    "    display = 1\n",
    "\n",
    "    if b % display == 0:\n",
    "        print(\n",
    "            \"{}/{}, translation error = {:.3f}, rotation error = {:.3f}, time/batch = {:.3f}\"\n",
    "            .format(\n",
    "             (b+1)*args.batch_size,\n",
    "            len(dataloader)*args.batch_size,\n",
    "            total_trans_error / count,\n",
    "            total_rot_error / count,\n",
    "            end - start))\n",
    "    "
   ]
  },
  {
   "cell_type": "code",
   "execution_count": 9,
   "metadata": {
    "ExecuteTime": {
     "end_time": "2020-08-14T10:28:37.858419Z",
     "start_time": "2020-08-14T10:28:11.847741Z"
    },
    "run_control": {
     "marked": true
    }
   },
   "outputs": [
    {
     "name": "stdout",
     "output_type": "stream",
     "text": [
      "median translation error = 3.699\n",
      "median rotation error = 3.952\n",
      "mean translation error = 11.882\n",
      "mean rotation error = 7.628\n"
     ]
    }
   ],
   "source": [
    "import scipy.io as sio\n",
    "\n",
    "sio.savemat('results.mat', {'trans_pred': np.array(trans_preds), 'trans_gt': np.array(trans_gts), 'uncertainty': np.array(pred_uncertainties)})\n",
    "\n",
    "if len(pose_map):\n",
    "    np.savetxt(os.path.join(args.map_dataset, 'map.txt'), np.asarray(pose_map, dtype=np.float32))\n",
    "    print(\"map is saved!\")\n",
    "\n",
    "plt.hist(trans_errors, bins='auto')\n",
    "plt.title(\"Translation errors\")\n",
    "plt.xlabel(\"translational error in meters\")\n",
    "plt.ylabel(\"number of frames\")\n",
    "plt.savefig('terror.png', bbox_inches='tight')\n",
    "\n",
    "plt.hist(rot_errors, bins='auto')\n",
    "plt.title(\"Rotation errors\")\n",
    "plt.xlabel(\"rotational error in degree\")\n",
    "plt.ylabel(\"number of frames\")\n",
    "plt.savefig('rerror.png', bbox_inches='tight')\n",
    "\n",
    "median_trans_errors = np.median(trans_errors)\n",
    "median_rot_errors = np.median(rot_errors)\n",
    "mean_trans_errors = np.mean(trans_errors)\n",
    "mean_rot_errors = np.mean(rot_errors)\n",
    "\n",
    "print(\"median translation error = {:.3f}\".format(median_trans_errors))\n",
    "print(\"median rotation error = {:.3f}\".format(median_rot_errors))\n",
    "print(\"mean translation error = {:.3f}\".format(mean_trans_errors))\n",
    "print(\"mean rotation error = {:.3f}\".format(mean_rot_errors))   "
   ]
  },
  {
   "cell_type": "code",
   "execution_count": 10,
   "metadata": {
    "ExecuteTime": {
     "end_time": "2020-08-14T10:28:48.318835Z",
     "start_time": "2020-08-14T10:28:48.086795Z"
    },
    "code_folding": [
     0
    ],
    "run_control": {
     "marked": true
    }
   },
   "outputs": [
    {
     "name": "stdout",
     "output_type": "stream",
     "text": [
      "================== median translation error ==================\n",
      "median translation error = 3.038\n",
      "median translation error = 3.589\n",
      "median translation error = 3.266\n",
      "median translation error = 2.814\n",
      "median translation error = 3.277\n",
      "median translation error = 4.014\n",
      "median translation error = 3.012\n",
      "median translation error = 4.092\n",
      "================== median rotation error ==================\n",
      "median rotation error = 3.204\n",
      "median rotation error = 4.638\n",
      "median rotation error = 3.376\n",
      "median rotation error = 3.608\n",
      "median rotation error = 3.335\n",
      "median rotation error = 3.751\n",
      "median rotation error = 4.103\n",
      "median rotation error = 4.296\n",
      "================== mean translation error ==================\n",
      "mean translation error = 6.290\n",
      "mean translation error = 5.723\n",
      "mean translation error = 6.602\n",
      "mean translation error = 11.186\n",
      "mean translation error = 16.765\n",
      "mean translation error = 15.877\n",
      "mean translation error = 3.778\n",
      "mean translation error = 13.122\n",
      "================== mean rotation error ==================\n",
      "mean rotation error = 4.588\n",
      "mean rotation error = 6.776\n",
      "mean rotation error = 5.286\n",
      "mean rotation error = 5.709\n",
      "mean rotation error = 7.820\n",
      "mean rotation error = 7.742\n",
      "mean rotation error = 6.114\n",
      "mean rotation error = 8.625\n"
     ]
    }
   ],
   "source": [
    "def evaluate(trans_errors,rot_errors):\n",
    "    t = [14301,7008,12852,9567,13580,14835,7114,12683]\n",
    "    for i in range(len(t)):\n",
    "        if i >0:\n",
    "            t[i] += t[i-1]\n",
    "    trans_errors_month = list()\n",
    "    trans_errors_month.append(trans_errors[:t[0]])\n",
    "    trans_errors_month.append(trans_errors[t[0]:t[1]])\n",
    "    trans_errors_month.append(trans_errors[t[1]:t[2]])\n",
    "    trans_errors_month.append(trans_errors[t[2]:t[3]])\n",
    "    trans_errors_month.append(trans_errors[t[3]:t[4]])\n",
    "    trans_errors_month.append(trans_errors[t[4]:t[5]])\n",
    "    trans_errors_month.append(trans_errors[t[5]:t[6]])\n",
    "    trans_errors_month.append(trans_errors[t[6]:])\n",
    "\n",
    "    rot_errors_month = list()\n",
    "    rot_errors_month.append(rot_errors[:t[0]])\n",
    "    rot_errors_month.append(rot_errors[t[0]:t[1]])\n",
    "    rot_errors_month.append(rot_errors[t[1]:t[2]])\n",
    "    rot_errors_month.append(rot_errors[t[2]:t[3]])\n",
    "    rot_errors_month.append(rot_errors[t[3]:t[4]])\n",
    "    rot_errors_month.append(rot_errors[t[4]:t[5]])\n",
    "    rot_errors_month.append(rot_errors[t[5]:t[6]])\n",
    "    rot_errors_month.append(rot_errors[t[6]:])\n",
    "    \n",
    "    print('================== median translation error ==================')\n",
    "    for trans_errors_i in trans_errors_month:\n",
    "        print(\"median translation error = {:.3f}\".format(np.median(trans_errors_i)))\n",
    "        \n",
    "    print('================== median rotation error ==================')\n",
    "    for rot_errors_i in rot_errors_month:\n",
    "        print(\"median rotation error = {:.3f}\".format(np.median(rot_errors_i)))\n",
    "    \n",
    "    print('================== mean translation error ==================')\n",
    "    for trans_errors_i in trans_errors_month:\n",
    "        print(\"mean translation error = {:.3f}\".format(np.mean(trans_errors_i)))\n",
    "        \n",
    "    print('================== mean rotation error ==================')  \n",
    "    for rot_errors_i in rot_errors_month:\n",
    "        print(\"mean rotation error = {:.3f}\".format(np.mean(rot_errors_i)))\n",
    "        \n",
    "evaluate(trans_errors,rot_errors)"
   ]
  },
  {
   "cell_type": "code",
   "execution_count": null,
   "metadata": {},
   "outputs": [],
   "source": []
  }
 ],
 "metadata": {
  "kernelspec": {
   "display_name": "Python 3",
   "language": "python",
   "name": "python3"
  },
  "language_info": {
   "codemirror_mode": {
    "name": "ipython",
    "version": 3
   },
   "file_extension": ".py",
   "mimetype": "text/x-python",
   "name": "python",
   "nbconvert_exporter": "python",
   "pygments_lexer": "ipython3",
   "version": "3.6.9"
  }
 },
 "nbformat": 4,
 "nbformat_minor": 4
}
