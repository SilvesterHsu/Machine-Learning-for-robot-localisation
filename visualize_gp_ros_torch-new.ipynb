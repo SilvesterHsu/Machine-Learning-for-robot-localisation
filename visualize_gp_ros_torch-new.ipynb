{
 "cells": [
  {
   "cell_type": "markdown",
   "metadata": {},
   "source": [
    "# Library"
   ]
  },
  {
   "cell_type": "code",
   "execution_count": 1,
   "metadata": {
    "ExecuteTime": {
     "end_time": "2020-07-02T15:28:08.101394Z",
     "start_time": "2020-07-02T15:28:06.518715Z"
    },
    "run_control": {
     "marked": true
    }
   },
   "outputs": [
    {
     "name": "stderr",
     "output_type": "stream",
     "text": [
      "the rosdep view is empty: call 'sudo rosdep init' and 'rosdep update'\n"
     ]
    }
   ],
   "source": [
    "import numpy as np\n",
    "import torch\n",
    "import argparse\n",
    "import time\n",
    "import pickle\n",
    "\n",
    "from torch.distributions import Normal\n",
    "import matplotlib.pyplot as plt\n",
    "import random\n",
    "\n",
    "import roslib\n",
    "import rospy\n",
    "import tf as tf_ros\n",
    "from nav_msgs.msg import Odometry, Path\n",
    "from sensor_msgs.msg import Image\n",
    "from cv_bridge import CvBridge\n",
    "from geometry_msgs.msg import PoseStamped, PoseArray, Pose\n",
    "import math\n",
    "import cv2\n",
    "import copy"
   ]
  },
  {
   "cell_type": "markdown",
   "metadata": {},
   "source": [
    "## Check GPU"
   ]
  },
  {
   "cell_type": "code",
   "execution_count": 2,
   "metadata": {
    "ExecuteTime": {
     "end_time": "2020-07-02T15:28:08.505271Z",
     "start_time": "2020-07-02T15:28:08.104421Z"
    },
    "run_control": {
     "marked": true
    }
   },
   "outputs": [
    {
     "name": "stdout",
     "output_type": "stream",
     "text": [
      "TITAN Xp\n"
     ]
    }
   ],
   "source": [
    "if torch.cuda.is_available():\n",
    "    print(torch.cuda.get_device_name(1))"
   ]
  },
  {
   "cell_type": "markdown",
   "metadata": {},
   "source": [
    "## Set torch default parameters"
   ]
  },
  {
   "cell_type": "code",
   "execution_count": 3,
   "metadata": {
    "ExecuteTime": {
     "end_time": "2020-07-02T15:28:08.510971Z",
     "start_time": "2020-07-02T15:28:08.506886Z"
    },
    "run_control": {
     "marked": true
    }
   },
   "outputs": [],
   "source": [
    "torch.set_default_dtype(torch.float32)\n",
    "torch.set_printoptions(precision=4,sci_mode=False)\n",
    "torch.backends.cudnn.benchmark = True"
   ]
  },
  {
   "cell_type": "markdown",
   "metadata": {},
   "source": [
    "# Set Arguments"
   ]
  },
  {
   "cell_type": "code",
   "execution_count": 4,
   "metadata": {
    "ExecuteTime": {
     "end_time": "2020-07-02T15:28:08.519583Z",
     "start_time": "2020-07-02T15:28:08.512310Z"
    },
    "run_control": {
     "marked": true
    }
   },
   "outputs": [],
   "source": [
    "import argparse\n",
    "import sys\n",
    "import os\n",
    "import time\n",
    "import pickle\n",
    "\n",
    "parser = argparse.ArgumentParser()\n",
    "parser.add_argument('--batch_size', type=int, default=400, help='size of mini batch')\n",
    "parser.add_argument('--target_image_size', default=[300, 300], nargs=2, type=int, help='Input images will be resized to this for data argumentation.')\n",
    "\n",
    "parser.add_argument('--model_dir', type=str, default='/notebooks/global_localization/gp_net_torch', help='model directory')\n",
    "\n",
    "parser.add_argument('--test_dataset', type=str, default=[# '/notebooks/michigan_nn_data/2012_01_08',\n",
    "                                                         # '/notebooks/michigan_nn_data/2012_01_15',\n",
    "                                                         # '/notebooks/michigan_nn_data/2012_01_22',\n",
    "                                                         # '/notebooks/michigan_nn_data/2012_02_02',\n",
    "                                                         # '/notebooks/michigan_nn_data/2012_02_04',\n",
    "                                                         # '/notebooks/michigan_nn_data/2012_02_05',\n",
    "                                                         '/notebooks/michigan_nn_data/2012_02_12',\n",
    "                                                         # '/notebooks/michigan_nn_data/2012_03_31',\n",
    "                                                         '/notebooks/michigan_nn_data/2012_04_29',\n",
    "                                                         '/notebooks/michigan_nn_data/2012_05_11',\n",
    "                                                         '/notebooks/michigan_nn_data/2012_06_15',\n",
    "                                                         '/notebooks/michigan_nn_data/2012_08_04',\n",
    "                                                         # '/notebooks/michigan_nn_data/2012_09_28'])\n",
    "                                                         '/notebooks/michigan_nn_data/2012_10_28',\n",
    "                                                         '/notebooks/michigan_nn_data/2012_11_16',\n",
    "                                                         '/notebooks/michigan_nn_data/2012_12_01'\n",
    "                                                        ] )\n",
    "\n",
    "parser.add_argument('--train_dataset', type=str, default = ['/notebooks/michigan_nn_data/test'])\n",
    "#parser.add_argument('--map_dataset', type=str, default='/home/kevin/data/michigan_gt/training')\n",
    "parser.add_argument('--enable_ros', type=bool, default=False, help='put data into ros')\n",
    "sys.argv = ['']\n",
    "args = parser.parse_args()\n",
    "\n",
    "if args.enable_ros:\n",
    "    rospy.init_node('global_localization_tf_broadcaster_cnn_gp')"
   ]
  },
  {
   "cell_type": "markdown",
   "metadata": {},
   "source": [
    "# Load Dataset"
   ]
  },
  {
   "cell_type": "code",
   "execution_count": 5,
   "metadata": {
    "ExecuteTime": {
     "end_time": "2020-07-02T15:30:04.160038Z",
     "start_time": "2020-07-02T15:28:08.520924Z"
    },
    "run_control": {
     "marked": true
    },
    "scrolled": true
   },
   "outputs": [
    {
     "name": "stderr",
     "output_type": "stream",
     "text": [
      "100%|██████████| 14301/14301 [00:17<00:00, 797.20it/s]\n",
      "100%|██████████| 7008/7008 [00:08<00:00, 785.18it/s]\n",
      "100%|██████████| 12852/12852 [00:16<00:00, 797.38it/s]\n",
      "100%|██████████| 9567/9567 [00:12<00:00, 789.46it/s]\n",
      "100%|██████████| 13580/13580 [00:16<00:00, 804.92it/s]\n",
      "100%|██████████| 14835/14835 [00:18<00:00, 800.71it/s]\n",
      "100%|██████████| 7114/7114 [00:08<00:00, 794.51it/s]\n",
      "100%|██████████| 12683/12683 [00:15<00:00, 803.11it/s]\n"
     ]
    }
   ],
   "source": [
    "from torch.utils.data import Dataset, DataLoader\n",
    "import torchvision.transforms as transforms\n",
    "import tf.transformations as tf_tran\n",
    "from tqdm import tqdm\n",
    "#from PIL import Image\n",
    "import numpy as np\n",
    "import random\n",
    "\n",
    "#import gpflow.multioutput.kernels as mk\n",
    "import gpytorch\n",
    "\n",
    "import torch.nn as nn\n",
    "import torch.optim as optim\n",
    "from torchlib import resnet, vggnet, cnn_auxiliary\n",
    "from torchlib.cnn_auxiliary import normalize, denormalize, denormalize_navie, get_relative_pose, translational_rotational_loss\n",
    "from torchlib.utils import LocalizationDataset, display_loss, data2tensorboard\n",
    "from torchlib.utils import LocalizationDataset\n",
    "import time\n",
    "\n",
    "transform = transforms.Compose([transforms.ToTensor()])\n",
    "dataset = LocalizationDataset(dataset_dirs = args.test_dataset, \\\n",
    "                              image_size = args.target_image_size, \\\n",
    "                              transform = transform,\n",
    "                              get_pair = False, mode='evaluate')\n",
    "\n",
    "[args.norm_mean, args.norm_std] = torch.load('/notebooks/global_localization/norm_mean_std.pt')\n",
    "\n",
    "dataloader = DataLoader(dataset, batch_size=args.batch_size, \\\n",
    "                        shuffle=False, num_workers=0, \\\n",
    "                        drop_last=False, pin_memory=True)"
   ]
  },
  {
   "cell_type": "markdown",
   "metadata": {},
   "source": [
    "# Define Model"
   ]
  },
  {
   "cell_type": "code",
   "execution_count": 6,
   "metadata": {
    "ExecuteTime": {
     "end_time": "2020-07-02T15:30:04.168524Z",
     "start_time": "2020-07-02T15:30:04.162366Z"
    },
    "code_folding": [
     0,
     13
    ],
    "run_control": {
     "marked": true
    }
   },
   "outputs": [],
   "source": [
    "def denormalize_navie(normed_target, norm_mean, norm_std):\n",
    "    target_trans_unscaled = normed_target * norm_std\n",
    "    target_trans_uncentered = target_trans_unscaled + norm_mean\n",
    "    \n",
    "    return target_trans_uncentered\n",
    "\n",
    "def denormalize(normed_target, norm_mean, norm_std):\n",
    "    normed_target_trans, normed_target_rot = torch.split(normed_target, [3,4], dim=1)\n",
    "    target_trans_unscaled = normed_target_trans * norm_std\n",
    "    target_trans_uncentered = target_trans_unscaled + norm_mean\n",
    "    target = torch.cat([target_trans_uncentered, normed_target_rot],dim=1)\n",
    "    return target\n",
    "\n",
    "def normalize(target, norm_mean, norm_std):\n",
    "    target_trans = target[:,:3]\n",
    "    target_trans = torch.div(torch.sub(target_trans,norm_mean),norm_std)\n",
    "    target_normed = torch.cat([target_trans,target[:,3:]],dim=1)\n",
    "    return target_normed "
   ]
  },
  {
   "cell_type": "code",
   "execution_count": 7,
   "metadata": {
    "ExecuteTime": {
     "end_time": "2020-07-02T15:30:04.182809Z",
     "start_time": "2020-07-02T15:30:04.169808Z"
    },
    "code_folding": [
     0,
     13,
     48
    ],
    "run_control": {
     "marked": true
    }
   },
   "outputs": [],
   "source": [
    "class Model(nn.Module):\n",
    "    def __init__(self):\n",
    "        super().__init__()\n",
    "        self.resnet = resnet.resnet50(pretrained=True)\n",
    "        self.global_context = vggnet.vggnet(input_channel=2048,opt=\"context\")\n",
    "        self.global_regressor = vggnet.vggnet(opt=\"regressor\")\n",
    "        \n",
    "    def forward(self,input_data):\n",
    "        dense_feat = self.resnet(input_data)\n",
    "        global_context_feat = self.global_context(dense_feat)\n",
    "        global_output, trans_feat, rot_feat = self.global_regressor(global_context_feat)\n",
    "        return global_output, trans_feat, rot_feat\n",
    "    \n",
    "class MultitaskGPModel(gpytorch.models.ApproximateGP):\n",
    "    def __init__(self, inducing_points):\n",
    "        # We have to mark the CholeskyVariationalDistribution as batch\n",
    "        # so that we learn a variational distribution for each task\n",
    "        variational_distribution = gpytorch.variational.CholeskyVariationalDistribution(\n",
    "            inducing_points.size(-2), batch_shape=torch.Size([3])\n",
    "        )\n",
    "\n",
    "        # We have to wrap the VariationalStrategy in a MultitaskVariationalStrategy\n",
    "        # so that the output will be a MultitaskMultivariateNormal rather than a batch output\n",
    "        variational_strategy = gpytorch.variational.MultitaskVariationalStrategy(\n",
    "            gpytorch.variational.VariationalStrategy(\n",
    "                self, inducing_points, variational_distribution, learn_inducing_locations=True\n",
    "            ), num_tasks=3\n",
    "        )\n",
    "\n",
    "        super().__init__(variational_strategy)\n",
    "\n",
    "        # The mean and covariance modules should be marked as batch\n",
    "        # so we learn a different set of hyperparameters\n",
    "        #self.net = Model()\n",
    "        #self.net.load_state_dict(torch.load(os.path.join(args.model_dir,'model-23-96000.pth')))\n",
    "        self.mean_module = gpytorch.means.ConstantMean(batch_shape=torch.Size([1]))\n",
    "        self.covar_module = gpytorch.kernels.ScaleKernel(\n",
    "            gpytorch.kernels.RBFKernel(batch_shape=torch.Size([1])),\n",
    "            batch_shape=torch.Size([1])\n",
    "        )\n",
    "\n",
    "    def forward(self, x):\n",
    "        # The forward function should be written as if we were dealing with each output\n",
    "        # dimension in batch\n",
    "        mean_x = self.mean_module(x)\n",
    "        covar_x = self.covar_module(x)\n",
    "        return gpytorch.distributions.MultivariateNormal(mean_x, covar_x)\n",
    "    \n",
    "class GPModel(gpytorch.Module):\n",
    "    def __init__(self, inducing_points):\n",
    "        super(GPModel, self).__init__()\n",
    "        self.net = Model()\n",
    "        #self.net.load_state_dict(torch.load(os.path.join('/notebooks/global_localization/dual_resnet_torch','model-23-96000.pth')))\n",
    "        self.gp = MultitaskGPModel(inducing_points)\n",
    "        self.likelihood = gpytorch.likelihoods.MultitaskGaussianLikelihood(num_tasks=3)\n",
    "\n",
    "    def forward(self, x):\n",
    "        global_output, trans_feat, _ = self.net(x)\n",
    "        _, rot_pred = torch.split(global_output, [3, 4], dim=1)\n",
    "        output = self.gp(trans_feat)\n",
    "        \n",
    "        return output,rot_pred"
   ]
  },
  {
   "cell_type": "code",
   "execution_count": 8,
   "metadata": {
    "ExecuteTime": {
     "end_time": "2020-07-02T15:30:09.453332Z",
     "start_time": "2020-07-02T15:30:04.184115Z"
    },
    "run_control": {
     "marked": true
    }
   },
   "outputs": [],
   "source": [
    "device = torch.device(\"cuda:1\" if torch.cuda.is_available() else \"cpu\")\n",
    "#device = torch.device(\"cpu\")\n",
    "if torch.cuda.is_available():\n",
    "    torch.cuda.set_device(device)\n",
    "\n",
    "#model = GPModel(torch.zeros(3, args.batch_size, 128)).to(device)\n",
    "model = GPModel(torch.zeros(3, 300, 128)).to(device)\n",
    "#model.load_state_dict(torch.load(os.path.join(args.model_dir,'pretrained.pth')))\n",
    "model.load_state_dict(torch.load(os.path.join(args.model_dir,'pretrained.pth')))\n",
    "\n",
    "# Disable net\n",
    "for param in model.parameters():\n",
    "    param.requires_grad = False"
   ]
  },
  {
   "cell_type": "code",
   "execution_count": 9,
   "metadata": {
    "ExecuteTime": {
     "end_time": "2020-07-02T15:30:09.471463Z",
     "start_time": "2020-07-02T15:30:09.467569Z"
    },
    "run_control": {
     "marked": true
    }
   },
   "outputs": [],
   "source": [
    "args.norm_mean = args.norm_mean.to(device)\n",
    "args.norm_std = args.norm_std.to(device)"
   ]
  },
  {
   "cell_type": "code",
   "execution_count": 10,
   "metadata": {
    "ExecuteTime": {
     "end_time": "2020-07-02T15:30:09.492170Z",
     "start_time": "2020-07-02T15:30:09.473058Z"
    },
    "run_control": {
     "marked": true
    }
   },
   "outputs": [],
   "source": [
    "trans_errors = []\n",
    "rot_errors = []\n",
    "uncertainties = []\n",
    "pose_map = []\n",
    "\n",
    "total_trans_error = 0.\n",
    "total_rot_error = 0.\n",
    "\n",
    "count = 0.\n",
    "\n",
    "is_save_map = False\n",
    "is_read_map = False\n",
    "\n",
    "trans_preds = []\n",
    "trans_gts = []\n",
    "\n",
    "rot_preds = []\n",
    "rot_gts = []\n",
    "\n",
    "pred_uncertainties = []\n",
    "\n",
    "pred_time = []"
   ]
  },
  {
   "cell_type": "code",
   "execution_count": 11,
   "metadata": {
    "ExecuteTime": {
     "end_time": "2020-07-02T15:30:09.528060Z",
     "start_time": "2020-07-02T15:30:09.497103Z"
    },
    "run_control": {
     "marked": true
    }
   },
   "outputs": [],
   "source": [
    "br = tf_ros.TransformBroadcaster()\n",
    "\n",
    "GT_POSE_TOPIC = '/gt_pose'\n",
    "BIRDVIEW_TOPIC_PUB = '/bird_view'\n",
    "MAP_TOPIC_PUB = '/pose_map'\n",
    "PARTICLES_PUB = '/particles'\n",
    "NN_LOCALIZASION_PUB = '/nn_pose'\n",
    "gt_pose_pub = rospy.Publisher(GT_POSE_TOPIC, Odometry, queue_size=1)\n",
    "bird_view_pub = rospy.Publisher(BIRDVIEW_TOPIC_PUB, Image, queue_size=1)\n",
    "map_pub = rospy.Publisher(MAP_TOPIC_PUB, Path, queue_size=1)\n",
    "particles_pub = rospy.Publisher(PARTICLES_PUB, PoseArray, queue_size=1)\n",
    "nn_pose_pub = rospy.Publisher(NN_LOCALIZASION_PUB, Odometry, queue_size=1)"
   ]
  },
  {
   "cell_type": "code",
   "execution_count": 12,
   "metadata": {
    "ExecuteTime": {
     "end_time": "2020-07-02T15:30:09.567989Z",
     "start_time": "2020-07-02T15:30:09.533493Z"
    },
    "run_control": {
     "marked": true
    }
   },
   "outputs": [
    {
     "data": {
      "text/plain": [
       "MultitaskGaussianLikelihood(\n",
       "  (noise_covar): MultitaskHomoskedasticNoise(\n",
       "    (raw_noise_constraint): GreaterThan(1.000E-04)\n",
       "  )\n",
       "  (raw_noise_constraint): GreaterThan(1.000E-04)\n",
       ")"
      ]
     },
     "execution_count": 12,
     "metadata": {},
     "output_type": "execute_result"
    }
   ],
   "source": [
    "model.eval()\n",
    "model.gp.eval()\n",
    "model.likelihood.eval()"
   ]
  },
  {
   "cell_type": "code",
   "execution_count": 13,
   "metadata": {
    "ExecuteTime": {
     "end_time": "2020-07-02T15:34:53.331744Z",
     "start_time": "2020-07-02T15:30:09.569449Z"
    },
    "code_folding": [
     38
    ],
    "run_control": {
     "marked": true
    },
    "scrolled": true
   },
   "outputs": [
    {
     "name": "stdout",
     "output_type": "stream",
     "text": [
      "400/92000, translation error = 9.252, rotation error = 3.617, time/batch = 4.771\n",
      "800/92000, translation error = 6.640, rotation error = 3.229, time/batch = 1.059\n",
      "1200/92000, translation error = 7.033, rotation error = 3.443, time/batch = 1.095\n",
      "1600/92000, translation error = 5.991, rotation error = 3.476, time/batch = 1.011\n",
      "2000/92000, translation error = 5.368, rotation error = 3.599, time/batch = 1.024\n",
      "2400/92000, translation error = 4.893, rotation error = 3.598, time/batch = 1.008\n",
      "2800/92000, translation error = 4.595, rotation error = 3.724, time/batch = 1.017\n",
      "3200/92000, translation error = 4.308, rotation error = 3.633, time/batch = 1.017\n",
      "3600/92000, translation error = 4.154, rotation error = 3.643, time/batch = 1.018\n",
      "4000/92000, translation error = 3.861, rotation error = 3.554, time/batch = 1.012\n",
      "4400/92000, translation error = 3.601, rotation error = 3.523, time/batch = 1.012\n",
      "4800/92000, translation error = 3.389, rotation error = 3.471, time/batch = 1.015\n",
      "5200/92000, translation error = 3.329, rotation error = 3.513, time/batch = 1.014\n",
      "5600/92000, translation error = 3.185, rotation error = 3.433, time/batch = 1.023\n",
      "6000/92000, translation error = 3.135, rotation error = 3.397, time/batch = 1.015\n",
      "6400/92000, translation error = 3.083, rotation error = 3.345, time/batch = 1.021\n",
      "6800/92000, translation error = 5.148, rotation error = 3.730, time/batch = 1.022\n",
      "7200/92000, translation error = 5.176, rotation error = 4.016, time/batch = 1.022\n",
      "7600/92000, translation error = 5.020, rotation error = 4.058, time/batch = 1.018\n",
      "8000/92000, translation error = 5.108, rotation error = 4.111, time/batch = 1.013\n",
      "8400/92000, translation error = 5.674, rotation error = 4.208, time/batch = 1.027\n",
      "8800/92000, translation error = 5.510, rotation error = 4.173, time/batch = 1.018\n",
      "9200/92000, translation error = 5.383, rotation error = 4.146, time/batch = 1.021\n",
      "9600/92000, translation error = 5.274, rotation error = 4.086, time/batch = 1.022\n",
      "10000/92000, translation error = 5.165, rotation error = 4.055, time/batch = 1.032\n",
      "10400/92000, translation error = 5.042, rotation error = 4.155, time/batch = 1.021\n",
      "10800/92000, translation error = 4.927, rotation error = 4.144, time/batch = 1.014\n",
      "11200/92000, translation error = 4.837, rotation error = 4.107, time/batch = 1.017\n",
      "11600/92000, translation error = 4.719, rotation error = 4.043, time/batch = 1.026\n",
      "12000/92000, translation error = 4.605, rotation error = 3.991, time/batch = 1.022\n",
      "12400/92000, translation error = 4.503, rotation error = 3.949, time/batch = 1.024\n",
      "12800/92000, translation error = 4.416, rotation error = 3.954, time/batch = 1.022\n",
      "13200/92000, translation error = 4.329, rotation error = 3.920, time/batch = 1.021\n",
      "13600/92000, translation error = 4.365, rotation error = 3.914, time/batch = 1.025\n",
      "14000/92000, translation error = 4.311, rotation error = 3.901, time/batch = 1.022\n",
      "14400/92000, translation error = 4.264, rotation error = 3.923, time/batch = 1.019\n",
      "14800/92000, translation error = 4.216, rotation error = 3.896, time/batch = 1.023\n",
      "15200/92000, translation error = 4.177, rotation error = 3.877, time/batch = 1.030\n",
      "15600/92000, translation error = 4.172, rotation error = 3.926, time/batch = 1.029\n",
      "16000/92000, translation error = 5.083, rotation error = 4.058, time/batch = 1.024\n",
      "16400/92000, translation error = 5.025, rotation error = 4.053, time/batch = 1.027\n",
      "16800/92000, translation error = 4.963, rotation error = 4.097, time/batch = 1.025\n",
      "17200/92000, translation error = 4.897, rotation error = 4.091, time/batch = 1.023\n",
      "17600/92000, translation error = 4.820, rotation error = 4.060, time/batch = 1.025\n",
      "18000/92000, translation error = 4.772, rotation error = 4.083, time/batch = 1.022\n",
      "18400/92000, translation error = 4.717, rotation error = 4.096, time/batch = 1.026\n",
      "18800/92000, translation error = 4.654, rotation error = 4.102, time/batch = 1.022\n",
      "19200/92000, translation error = 4.599, rotation error = 4.084, time/batch = 1.026\n",
      "19600/92000, translation error = 4.566, rotation error = 4.073, time/batch = 1.025\n",
      "20000/92000, translation error = 4.520, rotation error = 4.072, time/batch = 1.024\n",
      "20400/92000, translation error = 4.465, rotation error = 4.051, time/batch = 1.026\n",
      "20800/92000, translation error = 4.413, rotation error = 4.040, time/batch = 1.024\n",
      "21200/92000, translation error = 4.354, rotation error = 4.038, time/batch = 1.027\n",
      "21600/92000, translation error = 4.405, rotation error = 4.039, time/batch = 1.035\n",
      "22000/92000, translation error = 7.389, rotation error = 4.680, time/batch = 1.021\n",
      "22400/92000, translation error = 9.923, rotation error = 5.229, time/batch = 1.025\n",
      "22800/92000, translation error = 9.830, rotation error = 5.202, time/batch = 1.027\n",
      "23200/92000, translation error = 9.723, rotation error = 5.190, time/batch = 1.031\n",
      "23600/92000, translation error = 9.599, rotation error = 5.176, time/batch = 1.026\n",
      "24000/92000, translation error = 9.472, rotation error = 5.147, time/batch = 1.025\n",
      "24400/92000, translation error = 9.406, rotation error = 5.151, time/batch = 1.022\n",
      "24800/92000, translation error = 9.325, rotation error = 5.160, time/batch = 1.024\n",
      "25200/92000, translation error = 9.206, rotation error = 5.139, time/batch = 1.026\n",
      "25600/92000, translation error = 9.087, rotation error = 5.115, time/batch = 1.039\n",
      "26000/92000, translation error = 8.977, rotation error = 5.109, time/batch = 1.027\n",
      "26400/92000, translation error = 8.866, rotation error = 5.083, time/batch = 1.039\n",
      "26800/92000, translation error = 8.829, rotation error = 5.071, time/batch = 1.021\n",
      "27200/92000, translation error = 8.730, rotation error = 5.029, time/batch = 1.022\n",
      "27600/92000, translation error = 8.645, rotation error = 4.993, time/batch = 1.033\n",
      "28000/92000, translation error = 8.550, rotation error = 4.966, time/batch = 1.030\n",
      "28400/92000, translation error = 8.475, rotation error = 4.945, time/batch = 1.034\n",
      "28800/92000, translation error = 8.405, rotation error = 4.923, time/batch = 1.026\n",
      "29200/92000, translation error = 8.497, rotation error = 5.037, time/batch = 1.026\n",
      "29600/92000, translation error = 8.453, rotation error = 5.014, time/batch = 1.030\n",
      "30000/92000, translation error = 8.394, rotation error = 4.996, time/batch = 1.026\n",
      "30400/92000, translation error = 8.330, rotation error = 4.974, time/batch = 1.028\n",
      "30800/92000, translation error = 8.250, rotation error = 4.962, time/batch = 1.028\n",
      "31200/92000, translation error = 8.172, rotation error = 4.969, time/batch = 1.029\n",
      "31600/92000, translation error = 8.095, rotation error = 4.951, time/batch = 1.025\n",
      "32000/92000, translation error = 8.021, rotation error = 4.920, time/batch = 1.031\n",
      "32400/92000, translation error = 7.952, rotation error = 4.910, time/batch = 1.028\n",
      "32800/92000, translation error = 7.876, rotation error = 4.896, time/batch = 1.032\n",
      "33200/92000, translation error = 7.803, rotation error = 4.873, time/batch = 1.031\n",
      "33600/92000, translation error = 7.741, rotation error = 4.857, time/batch = 1.023\n",
      "34000/92000, translation error = 7.686, rotation error = 4.843, time/batch = 1.028\n",
      "34400/92000, translation error = 9.007, rotation error = 5.120, time/batch = 1.031\n",
      "34800/92000, translation error = 8.953, rotation error = 5.090, time/batch = 1.031\n",
      "35200/92000, translation error = 8.881, rotation error = 5.073, time/batch = 1.030\n",
      "35600/92000, translation error = 10.097, rotation error = 5.277, time/batch = 1.033\n",
      "36000/92000, translation error = 10.040, rotation error = 5.256, time/batch = 1.030\n",
      "36400/92000, translation error = 9.974, rotation error = 5.254, time/batch = 1.030\n",
      "36800/92000, translation error = 9.899, rotation error = 5.246, time/batch = 1.029\n",
      "37200/92000, translation error = 9.815, rotation error = 5.230, time/batch = 1.027\n",
      "37600/92000, translation error = 9.726, rotation error = 5.206, time/batch = 1.024\n",
      "38000/92000, translation error = 9.647, rotation error = 5.202, time/batch = 1.027\n",
      "38400/92000, translation error = 9.568, rotation error = 5.192, time/batch = 1.036\n",
      "38800/92000, translation error = 9.486, rotation error = 5.181, time/batch = 1.032\n",
      "39200/92000, translation error = 9.418, rotation error = 5.166, time/batch = 1.029\n",
      "39600/92000, translation error = 9.350, rotation error = 5.163, time/batch = 1.027\n"
     ]
    },
    {
     "name": "stdout",
     "output_type": "stream",
     "text": [
      "40000/92000, translation error = 9.285, rotation error = 5.149, time/batch = 1.036\n",
      "40400/92000, translation error = 9.211, rotation error = 5.134, time/batch = 1.029\n",
      "40800/92000, translation error = 9.135, rotation error = 5.127, time/batch = 1.030\n",
      "41200/92000, translation error = 9.068, rotation error = 5.128, time/batch = 1.028\n",
      "41600/92000, translation error = 9.000, rotation error = 5.116, time/batch = 1.028\n",
      "42000/92000, translation error = 8.931, rotation error = 5.112, time/batch = 1.026\n",
      "42400/92000, translation error = 8.950, rotation error = 5.104, time/batch = 1.033\n",
      "42800/92000, translation error = 8.895, rotation error = 5.077, time/batch = 1.025\n",
      "43200/92000, translation error = 8.831, rotation error = 5.054, time/batch = 1.027\n",
      "43600/92000, translation error = 8.791, rotation error = 5.047, time/batch = 1.025\n",
      "44000/92000, translation error = 8.793, rotation error = 5.062, time/batch = 1.029\n",
      "44400/92000, translation error = 8.768, rotation error = 5.081, time/batch = 1.026\n",
      "44800/92000, translation error = 8.720, rotation error = 5.071, time/batch = 1.029\n",
      "45200/92000, translation error = 8.662, rotation error = 5.064, time/batch = 1.026\n",
      "45600/92000, translation error = 8.619, rotation error = 5.062, time/batch = 1.028\n",
      "46000/92000, translation error = 8.564, rotation error = 5.050, time/batch = 1.028\n",
      "46400/92000, translation error = 8.515, rotation error = 5.053, time/batch = 1.030\n",
      "46800/92000, translation error = 8.471, rotation error = 5.040, time/batch = 1.031\n",
      "47200/92000, translation error = 8.426, rotation error = 5.030, time/batch = 1.026\n",
      "47600/92000, translation error = 8.398, rotation error = 5.016, time/batch = 1.028\n",
      "48000/92000, translation error = 8.339, rotation error = 5.010, time/batch = 1.030\n",
      "48400/92000, translation error = 8.290, rotation error = 5.001, time/batch = 1.031\n",
      "48800/92000, translation error = 8.247, rotation error = 4.979, time/batch = 1.030\n",
      "49200/92000, translation error = 8.200, rotation error = 4.960, time/batch = 1.028\n",
      "49600/92000, translation error = 8.149, rotation error = 4.952, time/batch = 1.030\n",
      "50000/92000, translation error = 8.113, rotation error = 4.939, time/batch = 1.026\n",
      "50400/92000, translation error = 8.071, rotation error = 4.924, time/batch = 1.029\n",
      "50800/92000, translation error = 9.147, rotation error = 5.061, time/batch = 1.032\n",
      "51200/92000, translation error = 9.113, rotation error = 5.081, time/batch = 1.031\n",
      "51600/92000, translation error = 9.061, rotation error = 5.068, time/batch = 1.028\n",
      "52000/92000, translation error = 9.005, rotation error = 5.074, time/batch = 1.028\n",
      "52400/92000, translation error = 8.972, rotation error = 5.078, time/batch = 1.026\n",
      "52800/92000, translation error = 8.922, rotation error = 5.060, time/batch = 1.032\n",
      "53200/92000, translation error = 8.873, rotation error = 5.067, time/batch = 1.028\n",
      "53600/92000, translation error = 8.831, rotation error = 5.072, time/batch = 1.034\n",
      "54000/92000, translation error = 8.776, rotation error = 5.063, time/batch = 1.028\n",
      "54400/92000, translation error = 8.829, rotation error = 5.077, time/batch = 1.027\n",
      "54800/92000, translation error = 8.782, rotation error = 5.069, time/batch = 1.025\n",
      "55200/92000, translation error = 8.734, rotation error = 5.062, time/batch = 1.029\n",
      "55600/92000, translation error = 8.691, rotation error = 5.060, time/batch = 1.030\n",
      "56000/92000, translation error = 8.937, rotation error = 5.145, time/batch = 1.029\n",
      "56400/92000, translation error = 9.086, rotation error = 5.192, time/batch = 1.030\n",
      "56800/92000, translation error = 9.049, rotation error = 5.194, time/batch = 1.032\n",
      "57200/92000, translation error = 9.016, rotation error = 5.197, time/batch = 1.028\n",
      "57600/92000, translation error = 9.820, rotation error = 5.235, time/batch = 1.026\n",
      "58000/92000, translation error = 9.777, rotation error = 5.235, time/batch = 1.033\n",
      "58400/92000, translation error = 9.758, rotation error = 5.238, time/batch = 1.032\n",
      "58800/92000, translation error = 9.713, rotation error = 5.232, time/batch = 1.028\n",
      "59200/92000, translation error = 9.660, rotation error = 5.230, time/batch = 1.029\n",
      "59600/92000, translation error = 9.611, rotation error = 5.220, time/batch = 1.032\n",
      "60000/92000, translation error = 9.561, rotation error = 5.208, time/batch = 1.030\n",
      "60400/92000, translation error = 9.515, rotation error = 5.200, time/batch = 1.031\n",
      "60800/92000, translation error = 9.468, rotation error = 5.189, time/batch = 1.034\n",
      "61200/92000, translation error = 9.433, rotation error = 5.185, time/batch = 1.032\n",
      "61600/92000, translation error = 9.634, rotation error = 5.270, time/batch = 1.031\n",
      "62000/92000, translation error = 9.719, rotation error = 5.344, time/batch = 1.032\n",
      "62400/92000, translation error = 9.678, rotation error = 5.339, time/batch = 1.030\n",
      "62800/92000, translation error = 9.629, rotation error = 5.328, time/batch = 1.032\n",
      "63200/92000, translation error = 9.604, rotation error = 5.338, time/batch = 1.024\n",
      "63600/92000, translation error = 9.570, rotation error = 5.337, time/batch = 1.033\n",
      "64000/92000, translation error = 9.527, rotation error = 5.323, time/batch = 1.028\n",
      "64400/92000, translation error = 10.141, rotation error = 5.556, time/batch = 1.027\n",
      "64800/92000, translation error = 10.102, rotation error = 5.566, time/batch = 1.031\n",
      "65200/92000, translation error = 10.068, rotation error = 5.565, time/batch = 1.026\n",
      "65600/92000, translation error = 10.022, rotation error = 5.551, time/batch = 1.029\n",
      "66000/92000, translation error = 9.988, rotation error = 5.561, time/batch = 1.033\n",
      "66400/92000, translation error = 9.944, rotation error = 5.550, time/batch = 1.032\n",
      "66800/92000, translation error = 9.943, rotation error = 5.566, time/batch = 1.028\n",
      "67200/92000, translation error = 9.910, rotation error = 5.568, time/batch = 1.024\n",
      "67600/92000, translation error = 9.876, rotation error = 5.593, time/batch = 1.027\n",
      "68000/92000, translation error = 9.829, rotation error = 5.575, time/batch = 1.033\n",
      "68400/92000, translation error = 9.787, rotation error = 5.579, time/batch = 1.031\n",
      "68800/92000, translation error = 9.745, rotation error = 5.567, time/batch = 1.032\n",
      "69200/92000, translation error = 9.722, rotation error = 5.570, time/batch = 1.030\n",
      "69600/92000, translation error = 9.716, rotation error = 5.571, time/batch = 1.031\n",
      "70000/92000, translation error = 9.713, rotation error = 5.561, time/batch = 1.033\n",
      "70400/92000, translation error = 9.669, rotation error = 5.550, time/batch = 1.029\n",
      "70800/92000, translation error = 9.624, rotation error = 5.535, time/batch = 1.030\n",
      "71200/92000, translation error = 9.582, rotation error = 5.527, time/batch = 1.031\n",
      "71600/92000, translation error = 9.538, rotation error = 5.512, time/batch = 1.032\n",
      "72000/92000, translation error = 9.500, rotation error = 5.499, time/batch = 1.030\n",
      "72400/92000, translation error = 9.461, rotation error = 5.487, time/batch = 1.029\n",
      "72800/92000, translation error = 9.422, rotation error = 5.480, time/batch = 1.028\n",
      "73200/92000, translation error = 9.386, rotation error = 5.477, time/batch = 1.031\n",
      "73600/92000, translation error = 9.349, rotation error = 5.472, time/batch = 1.030\n",
      "74000/92000, translation error = 9.341, rotation error = 5.475, time/batch = 1.032\n",
      "74400/92000, translation error = 9.372, rotation error = 5.498, time/batch = 1.032\n",
      "74800/92000, translation error = 9.566, rotation error = 5.650, time/batch = 1.031\n",
      "75200/92000, translation error = 9.595, rotation error = 5.680, time/batch = 1.033\n",
      "75600/92000, translation error = 9.722, rotation error = 5.706, time/batch = 1.030\n",
      "76000/92000, translation error = 9.687, rotation error = 5.691, time/batch = 1.033\n",
      "76400/92000, translation error = 9.652, rotation error = 5.682, time/batch = 1.028\n",
      "76800/92000, translation error = 9.637, rotation error = 5.675, time/batch = 1.031\n",
      "77200/92000, translation error = 9.647, rotation error = 5.673, time/batch = 1.031\n",
      "77600/92000, translation error = 10.013, rotation error = 5.744, time/batch = 1.033\n",
      "78000/92000, translation error = 10.262, rotation error = 5.870, time/batch = 1.031\n",
      "78400/92000, translation error = 10.294, rotation error = 5.874, time/batch = 1.032\n",
      "78800/92000, translation error = 10.318, rotation error = 5.899, time/batch = 1.030\n",
      "79200/92000, translation error = 10.543, rotation error = 6.065, time/batch = 1.032\n"
     ]
    },
    {
     "name": "stdout",
     "output_type": "stream",
     "text": [
      "79600/92000, translation error = 11.081, rotation error = 6.132, time/batch = 1.028\n",
      "80000/92000, translation error = 11.039, rotation error = 6.146, time/batch = 1.030\n",
      "80400/92000, translation error = 11.001, rotation error = 6.146, time/batch = 1.031\n",
      "80800/92000, translation error = 11.087, rotation error = 6.212, time/batch = 1.033\n",
      "81200/92000, translation error = 11.094, rotation error = 6.248, time/batch = 1.030\n",
      "81600/92000, translation error = 11.127, rotation error = 6.289, time/batch = 1.031\n",
      "82000/92000, translation error = 11.098, rotation error = 6.286, time/batch = 1.034\n",
      "82400/92000, translation error = 11.069, rotation error = 6.274, time/batch = 1.032\n",
      "82800/92000, translation error = 11.061, rotation error = 6.295, time/batch = 1.034\n",
      "83200/92000, translation error = 11.032, rotation error = 6.305, time/batch = 1.034\n",
      "83600/92000, translation error = 11.020, rotation error = 6.293, time/batch = 1.035\n",
      "84000/92000, translation error = 11.026, rotation error = 6.294, time/batch = 1.030\n",
      "84400/92000, translation error = 11.016, rotation error = 6.330, time/batch = 1.028\n",
      "84800/92000, translation error = 10.977, rotation error = 6.318, time/batch = 1.033\n",
      "85200/92000, translation error = 10.943, rotation error = 6.312, time/batch = 1.032\n",
      "85600/92000, translation error = 10.903, rotation error = 6.295, time/batch = 1.036\n",
      "86000/92000, translation error = 11.008, rotation error = 6.362, time/batch = 1.034\n",
      "86400/92000, translation error = 10.992, rotation error = 6.359, time/batch = 1.031\n",
      "86800/92000, translation error = 10.957, rotation error = 6.342, time/batch = 1.033\n",
      "87200/92000, translation error = 10.916, rotation error = 6.325, time/batch = 1.032\n",
      "87600/92000, translation error = 10.959, rotation error = 6.354, time/batch = 1.034\n",
      "88000/92000, translation error = 11.014, rotation error = 6.435, time/batch = 1.027\n",
      "88400/92000, translation error = 11.026, rotation error = 6.461, time/batch = 1.028\n",
      "88800/92000, translation error = 11.100, rotation error = 6.460, time/batch = 1.030\n",
      "89200/92000, translation error = 11.184, rotation error = 6.481, time/batch = 1.030\n",
      "89600/92000, translation error = 11.144, rotation error = 6.473, time/batch = 1.044\n",
      "90000/92000, translation error = 11.201, rotation error = 6.477, time/batch = 1.032\n",
      "90400/92000, translation error = 11.161, rotation error = 6.463, time/batch = 1.041\n",
      "90800/92000, translation error = 11.132, rotation error = 6.460, time/batch = 1.034\n",
      "91200/92000, translation error = 11.108, rotation error = 6.488, time/batch = 1.031\n",
      "91600/92000, translation error = 11.076, rotation error = 6.561, time/batch = 1.094\n",
      "92000/92000, translation error = 11.045, rotation error = 6.554, time/batch = 4.649\n"
     ]
    }
   ],
   "source": [
    "def get_output(output,rot_pred,model,i=0):\n",
    "    c_mean, c_var = output.mean,output.variance\n",
    "    y_mean, y_var = model.likelihood(output).mean, model.likelihood(output).variance\n",
    "    \n",
    "    dist = Normal(c_mean, c_var.mul(args.norm_std))\n",
    "    samples = dist.sample([100])#.view(100,3)\n",
    "\n",
    "    distribution_mean = c_mean\n",
    "    distribution_cov = c_var.mul(args.norm_std)\n",
    "    trans_prediction = denormalize_navie(y_mean,args.norm_mean,args.norm_std)\n",
    "    rot_prediction = rot_pred\n",
    "    #samples = denormalize_navie(samples,args.norm_mean,args.norm_std)\n",
    "    return trans_prediction, rot_prediction, distribution_mean, distribution_cov, samples\n",
    "\n",
    "for b, data in enumerate(dataloader, 0):\n",
    "    start = time.time()\n",
    "    x,y = data.values()\n",
    "    x,y = x.to(device),y.to(device)\n",
    "    #y = normalize(y,args.norm_mean, args.norm_std)\n",
    "    \n",
    "    # Get single data & transform data type\n",
    "    with torch.no_grad(), gpytorch.settings.fast_pred_var():\n",
    "        output,rot_pred = model(x)\n",
    "    rot_pred = rot_pred.cpu()\n",
    "    trans_pred, rot_pred, trans_mean, trans_cov, samples = get_output(output,rot_pred,model)\n",
    "    trans_pred = np.asarray(trans_pred.cpu())\n",
    "    rot_pred = np.asarray(rot_pred.cpu())\n",
    "    trans_mean = np.asarray(trans_mean.cpu())\n",
    "    trans_cov = np.asarray(trans_cov.cpu())\n",
    "    samples = np.asarray(samples.cpu())\n",
    "    \n",
    "    end = time.time()\n",
    "    pred_time.append(end-start)\n",
    "    \n",
    "    y = np.asarray(y.cpu())\n",
    "    trans_gt = y[:, :3]\n",
    "    rot_gt = y[:, -4:]\n",
    "    \n",
    "    if args.enable_ros:\n",
    "        particles = PoseArray()\n",
    "        particles.header.stamp = rospy.Time.now()\n",
    "        particles.header.frame_id = 'world'\n",
    "        for s in samples:\n",
    "            pose = Pose()\n",
    "            [pose.position.x, pose.position.y, pose.position.z] = s\n",
    "            [pose.orientation.x, pose.orientation.y, pose.orientation.z, pose.orientation.w] = rot_pred[0]\n",
    "            particles.poses.append(pose)\n",
    "        particles_pub.publish(particles)\n",
    "\n",
    "        [px_pred, py_pred, pz_pred] = trans_pred[0]\n",
    "        [qx_pred, qy_pred, qz_pred, qw_pred] = rot_pred[0]\n",
    "\n",
    "        br.sendTransform((px_pred, py_pred, pz_pred),\n",
    "                         (qx_pred, qy_pred, qz_pred, qw_pred), rospy.Time.now(),\n",
    "                         \"estimation\", \"world\")\n",
    "\n",
    "        [px_gt, py_gt, pz_gt] = trans_gt[0]\n",
    "        [qx_gt, qy_gt, qz_gt, qw_gt] = rot_gt[0]\n",
    "\n",
    "        br.sendTransform((px_gt, py_gt, pz_gt),\n",
    "                         (qx_gt, qy_gt, qz_gt, qw_gt),\n",
    "                         rospy.Time.now(), \"gt\", \"world\")\n",
    "\n",
    "        timestamp = rospy.Time.now()\n",
    "\n",
    "        nn_pose_msg = Odometry()\n",
    "        nn_pose_msg.header.frame_id = 'world'\n",
    "        nn_pose_msg.header.stamp = timestamp\n",
    "        nn_pose_msg.child_frame_id = 'base_link'\n",
    "        nn_pose_msg.pose.pose.position.x = px_pred\n",
    "        nn_pose_msg.pose.pose.position.y = py_pred\n",
    "        nn_pose_msg.pose.pose.position.z = pz_pred\n",
    "        [nn_pose_msg.pose.pose.orientation.x, nn_pose_msg.pose.pose.orientation.y, nn_pose_msg.pose.pose.orientation.z, nn_pose_msg.pose.pose.orientation.w] = [qx_pred, qy_pred, qz_pred, qw_pred]\n",
    "\n",
    "        conv = np.zeros((6,6), dtype=np.float32)\n",
    "        [conv[0][0], conv[1][1], conv[2][2]] = trans_cov[0]\n",
    "        nn_pose_msg.pose.covariance = conv.flatten().tolist()\n",
    "        nn_pose_pub.publish(nn_pose_msg)\n",
    "\n",
    "        bridge = CvBridge()\n",
    "\n",
    "        bird_view_img_msg = bridge.cv2_to_imgmsg(np.asarray(x[0].cpu(), dtype=np.float32), encoding=\"passthrough\")\n",
    "        stamp_now = rospy.Time.now()\n",
    "        bird_view_img_msg.header.stamp = stamp_now\n",
    "\n",
    "        bird_view_pub.publish(bird_view_img_msg)\n",
    "\n",
    "        rospy.sleep(.0)\n",
    "        cv2.waitKey(0)\n",
    "\n",
    "        count += 1\n",
    "    else:\n",
    "        count += y.shape[0]\n",
    "    \n",
    "    trans_preds += [x for x in trans_pred]\n",
    "    rot_preds += [x for x in rot_pred]\n",
    "    trans_gts += [x for x in trans_gt]\n",
    "    rot_gts += [x for x in rot_gt]\n",
    "\n",
    "    trans_error = np.sqrt(np.sum((trans_pred - trans_gt)**2,axis=1))\n",
    "    rot_error_1 = np.arccos(np.sum(np.multiply(rot_pred,rot_gt),axis=1))/math.pi*180\n",
    "    rot_error_2 = np.arccos(np.sum(np.multiply(rot_pred,-rot_gt),axis=1))/math.pi*180\n",
    "    rot_error = np.minimum(rot_error_1,rot_error_2)\n",
    "\n",
    "    trans_errors += [x for x in trans_error]\n",
    "    rot_errors += [x for x in rot_error]\n",
    "\n",
    "    total_trans_error += np.sum(trans_error)\n",
    "    total_rot_error += np.sum(rot_error)\n",
    "    \n",
    "    display = 1\n",
    "\n",
    "    if b % display == 0:\n",
    "        print(\n",
    "            \"{}/{}, translation error = {:.3f}, rotation error = {:.3f}, time/batch = {:.3f}\"\n",
    "            .format(\n",
    "             (b+1)*args.batch_size,\n",
    "            len(dataloader)*args.batch_size,\n",
    "            total_trans_error / count,\n",
    "            total_rot_error / count,\n",
    "            end - start))\n",
    "\n",
    "#print(\"pred time\", np.mean(np.array(pred_time)))\n",
    "#print(\"time std\", np.std(np.array(pred_time)))"
   ]
  },
  {
   "cell_type": "code",
   "execution_count": 14,
   "metadata": {
    "ExecuteTime": {
     "end_time": "2020-07-02T15:35:10.538838Z",
     "start_time": "2020-07-02T15:34:53.334855Z"
    },
    "run_control": {
     "marked": true
    }
   },
   "outputs": [
    {
     "name": "stdout",
     "output_type": "stream",
     "text": [
      "median translation error = 2.136\n",
      "median rotation error = 3.120\n",
      "mean translation error = 11.045\n",
      "mean rotation error = 6.554\n"
     ]
    }
   ],
   "source": [
    "import scipy.io as sio\n",
    "\n",
    "sio.savemat('results.mat', {'trans_pred': np.array(trans_preds), 'trans_gt': np.array(trans_gts), 'uncertainty': np.array(pred_uncertainties)})\n",
    "\n",
    "if len(pose_map):\n",
    "    np.savetxt(os.path.join(args.map_dataset, 'map.txt'), np.asarray(pose_map, dtype=np.float32))\n",
    "    print(\"map is saved!\")\n",
    "\n",
    "plt.hist(trans_errors, bins='auto')\n",
    "plt.title(\"Translation errors\")\n",
    "plt.xlabel(\"translational error in meters\")\n",
    "plt.ylabel(\"number of frames\")\n",
    "plt.savefig('terror.png', bbox_inches='tight')\n",
    "\n",
    "plt.hist(rot_errors, bins='auto')\n",
    "plt.title(\"Rotation errors\")\n",
    "plt.xlabel(\"rotational error in degree\")\n",
    "plt.ylabel(\"number of frames\")\n",
    "plt.savefig('rerror.png', bbox_inches='tight')\n",
    "\n",
    "median_trans_errors = np.median(trans_errors)\n",
    "median_rot_errors = np.median(rot_errors)\n",
    "mean_trans_errors = np.mean(trans_errors)\n",
    "mean_rot_errors = np.mean(rot_errors)\n",
    "\n",
    "print(\"median translation error = {:.3f}\".format(median_trans_errors))\n",
    "print(\"median rotation error = {:.3f}\".format(median_rot_errors))\n",
    "print(\"mean translation error = {:.3f}\".format(mean_trans_errors))\n",
    "print(\"mean rotation error = {:.3f}\".format(mean_rot_errors))   "
   ]
  },
  {
   "cell_type": "code",
   "execution_count": 15,
   "metadata": {
    "ExecuteTime": {
     "end_time": "2020-07-02T15:35:10.661647Z",
     "start_time": "2020-07-02T15:35:10.540263Z"
    },
    "code_folding": [],
    "run_control": {
     "marked": true
    }
   },
   "outputs": [
    {
     "name": "stdout",
     "output_type": "stream",
     "text": [
      "================== median translation error ==================\n",
      "median translation error = 1.652\n",
      "median translation error = 1.731\n",
      "median translation error = 2.026\n",
      "median translation error = 2.000\n",
      "median translation error = 2.097\n",
      "median translation error = 2.198\n",
      "median translation error = 3.581\n",
      "median translation error = 2.937\n",
      "================== median rotation error ==================\n",
      "median rotation error = 2.588\n",
      "median rotation error = 2.798\n",
      "median rotation error = 2.953\n",
      "median rotation error = 2.918\n",
      "median rotation error = 3.114\n",
      "median rotation error = 3.276\n",
      "median rotation error = 4.390\n",
      "median rotation error = 4.147\n",
      "================== mean translation error ==================\n",
      "mean translation error = 4.277\n",
      "mean translation error = 4.461\n",
      "mean translation error = 13.177\n",
      "mean translation error = 12.987\n",
      "mean translation error = 9.557\n",
      "mean translation error = 11.365\n",
      "mean translation error = 21.611\n",
      "mean translation error = 13.979\n",
      "================== mean rotation error ==================\n",
      "mean rotation error = 3.933\n",
      "mean rotation error = 4.252\n",
      "mean rotation error = 6.159\n",
      "mean rotation error = 5.911\n",
      "mean rotation error = 5.624\n",
      "mean rotation error = 6.623\n",
      "mean rotation error = 12.380\n",
      "mean rotation error = 9.309\n"
     ]
    }
   ],
   "source": [
    "def evaluate(trans_errors,rot_errors):\n",
    "    t = [14301,7008,12852,9567,13580,14835,7114,12683]\n",
    "    for i in range(len(t)):\n",
    "        if i >0:\n",
    "            t[i] += t[i-1]\n",
    "    trans_errors_month = list()\n",
    "    trans_errors_month.append(trans_errors[:t[0]])\n",
    "    trans_errors_month.append(trans_errors[t[0]:t[1]])\n",
    "    trans_errors_month.append(trans_errors[t[1]:t[2]])\n",
    "    trans_errors_month.append(trans_errors[t[2]:t[3]])\n",
    "    trans_errors_month.append(trans_errors[t[3]:t[4]])\n",
    "    trans_errors_month.append(trans_errors[t[4]:t[5]])\n",
    "    trans_errors_month.append(trans_errors[t[5]:t[6]])\n",
    "    trans_errors_month.append(trans_errors[t[6]:])\n",
    "\n",
    "    rot_errors_month = list()\n",
    "    rot_errors_month.append(rot_errors[:t[0]])\n",
    "    rot_errors_month.append(rot_errors[t[0]:t[1]])\n",
    "    rot_errors_month.append(rot_errors[t[1]:t[2]])\n",
    "    rot_errors_month.append(rot_errors[t[2]:t[3]])\n",
    "    rot_errors_month.append(rot_errors[t[3]:t[4]])\n",
    "    rot_errors_month.append(rot_errors[t[4]:t[5]])\n",
    "    rot_errors_month.append(rot_errors[t[5]:t[6]])\n",
    "    rot_errors_month.append(rot_errors[t[6]:])\n",
    "    \n",
    "    print('================== median translation error ==================')\n",
    "    for trans_errors_i in trans_errors_month:\n",
    "        print(\"median translation error = {:.3f}\".format(np.median(trans_errors_i)))\n",
    "        \n",
    "    print('================== median rotation error ==================')\n",
    "    for rot_errors_i in rot_errors_month:\n",
    "        print(\"median rotation error = {:.3f}\".format(np.median(rot_errors_i)))\n",
    "    \n",
    "    print('================== mean translation error ==================')\n",
    "    for trans_errors_i in trans_errors_month:\n",
    "        print(\"mean translation error = {:.3f}\".format(np.mean(trans_errors_i)))\n",
    "        \n",
    "    print('================== mean rotation error ==================')  \n",
    "    for rot_errors_i in rot_errors_month:\n",
    "        print(\"mean rotation error = {:.3f}\".format(np.mean(rot_errors_i)))\n",
    "        \n",
    "evaluate(trans_errors,rot_errors)"
   ]
  }
 ],
 "metadata": {
  "kernelspec": {
   "display_name": "Python 3",
   "language": "python",
   "name": "python3"
  },
  "language_info": {
   "codemirror_mode": {
    "name": "ipython",
    "version": 3
   },
   "file_extension": ".py",
   "mimetype": "text/x-python",
   "name": "python",
   "nbconvert_exporter": "python",
   "pygments_lexer": "ipython3",
   "version": "3.6.9"
  },
  "nbTranslate": {
   "displayLangs": [
    "en"
   ],
   "hotkey": "alt-t",
   "langInMainMenu": true,
   "sourceLang": "en",
   "targetLang": "",
   "useGoogleTranslate": true
  },
  "toc": {
   "base_numbering": 1,
   "nav_menu": {},
   "number_sections": true,
   "sideBar": true,
   "skip_h1_title": false,
   "title_cell": "Table of Contents",
   "title_sidebar": "Contents",
   "toc_cell": false,
   "toc_position": {},
   "toc_section_display": true,
   "toc_window_display": false
  }
 },
 "nbformat": 4,
 "nbformat_minor": 4
}
