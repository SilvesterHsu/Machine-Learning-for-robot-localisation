{
 "cells": [
  {
   "cell_type": "markdown",
   "metadata": {},
   "source": [
    "# Library"
   ]
  },
  {
   "cell_type": "code",
   "execution_count": 1,
   "metadata": {
    "ExecuteTime": {
     "end_time": "2020-07-14T18:32:57.523131Z",
     "start_time": "2020-07-14T18:32:56.035108Z"
    },
    "run_control": {
     "marked": true
    }
   },
   "outputs": [
    {
     "name": "stderr",
     "output_type": "stream",
     "text": [
      "the rosdep view is empty: call 'sudo rosdep init' and 'rosdep update'\n"
     ]
    }
   ],
   "source": [
    "import numpy as np\n",
    "#import os\n",
    "#os.environ[\"CUDA_VISIBLE_DEVICES\"]=\"-1\"\n",
    "import torch\n",
    "import argparse\n",
    "import time\n",
    "import pickle\n",
    "\n",
    "#from src.self_awareness.networks import utils\n",
    "#from src.self_awareness.learning.tf_cnn_auxiliary_gp import Model\n",
    "from torch.distributions import Normal\n",
    "import matplotlib.pyplot as plt\n",
    "import random\n",
    "\n",
    "import roslib\n",
    "import rospy\n",
    "import tf as tf_ros\n",
    "from nav_msgs.msg import Odometry, Path\n",
    "from sensor_msgs.msg import Image\n",
    "from cv_bridge import CvBridge\n",
    "from geometry_msgs.msg import PoseStamped, PoseArray, Pose\n",
    "import math\n",
    "import cv2\n",
    "import copy"
   ]
  },
  {
   "cell_type": "markdown",
   "metadata": {},
   "source": [
    "# Check GPU"
   ]
  },
  {
   "cell_type": "code",
   "execution_count": 2,
   "metadata": {
    "ExecuteTime": {
     "end_time": "2020-07-14T18:32:57.968474Z",
     "start_time": "2020-07-14T18:32:57.525822Z"
    },
    "run_control": {
     "marked": true
    }
   },
   "outputs": [
    {
     "name": "stdout",
     "output_type": "stream",
     "text": [
      "TITAN Xp\n"
     ]
    }
   ],
   "source": [
    "if torch.cuda.is_available():\n",
    "    print(torch.cuda.get_device_name(1))"
   ]
  },
  {
   "cell_type": "markdown",
   "metadata": {},
   "source": [
    "# Set torch default parameters"
   ]
  },
  {
   "cell_type": "code",
   "execution_count": 3,
   "metadata": {
    "ExecuteTime": {
     "end_time": "2020-07-14T18:32:57.979315Z",
     "start_time": "2020-07-14T18:32:57.970307Z"
    },
    "run_control": {
     "marked": true
    }
   },
   "outputs": [],
   "source": [
    "torch.set_default_dtype(torch.float32)\n",
    "torch.set_printoptions(precision=4,sci_mode=False)\n",
    "torch.backends.cudnn.benchmark = True"
   ]
  },
  {
   "cell_type": "markdown",
   "metadata": {},
   "source": [
    "# Set Arguments"
   ]
  },
  {
   "cell_type": "code",
   "execution_count": 4,
   "metadata": {
    "ExecuteTime": {
     "end_time": "2020-07-14T18:32:57.987977Z",
     "start_time": "2020-07-14T18:32:57.980787Z"
    },
    "run_control": {
     "marked": true
    }
   },
   "outputs": [],
   "source": [
    "import argparse\n",
    "import sys\n",
    "import os\n",
    "import time\n",
    "import pickle\n",
    "\n",
    "parser = argparse.ArgumentParser()\n",
    "parser.add_argument('--batch_size', type=int, default=450, help='size of mini batch')\n",
    "parser.add_argument('--target_image_size', default=[300, 300], nargs=2, type=int, help='Input images will be resized to this for data argumentation.')\n",
    "\n",
    "parser.add_argument('--model_dir', type=str, default='/notebooks/global_localization/dual_resnet_torch', help='model directory')\n",
    "\n",
    "parser.add_argument('--test_dataset', type=str, default=[# '/notebooks/michigan_nn_data/2012_01_08',\n",
    "                                                         # '/notebooks/michigan_nn_data/2012_01_15',\n",
    "                                                         # '/notebooks/michigan_nn_data/2012_01_22',\n",
    "                                                         # '/notebooks/michigan_nn_data/2012_02_02',\n",
    "                                                         # '/notebooks/michigan_nn_data/2012_02_04',\n",
    "                                                         # '/notebooks/michigan_nn_data/2012_02_05',\n",
    "                                                         '/notebooks/michigan_nn_data/2012_02_12',\n",
    "                                                         # '/notebooks/michigan_nn_data/2012_03_31',\n",
    "                                                         '/notebooks/michigan_nn_data/2012_04_29',\n",
    "                                                         '/notebooks/michigan_nn_data/2012_05_11',\n",
    "                                                         '/notebooks/michigan_nn_data/2012_06_15',\n",
    "                                                         '/notebooks/michigan_nn_data/2012_08_04',\n",
    "                                                         # '/notebooks/michigan_nn_data/2012_09_28'])\n",
    "                                                         '/notebooks/michigan_nn_data/2012_10_28',\n",
    "                                                         '/notebooks/michigan_nn_data/2012_11_16',\n",
    "                                                         '/notebooks/michigan_nn_data/2012_12_01'\n",
    "                                                        ] )\n",
    "\n",
    "parser.add_argument('--train_dataset', type=str, default = ['/notebooks/michigan_nn_data/test'])\n",
    "#parser.add_argument('--map_dataset', type=str, default='/home/kevin/data/michigan_gt/training')\n",
    "parser.add_argument('--enable_ros', type=bool, default=False, help='put data into ros')\n",
    "sys.argv = ['']\n",
    "args = parser.parse_args()\n",
    "\n",
    "if args.enable_ros:\n",
    "    rospy.init_node('global_localization_tf_broadcaster_cnn')"
   ]
  },
  {
   "cell_type": "markdown",
   "metadata": {
    "ExecuteTime": {
     "end_time": "2020-06-28T08:47:50.801713Z",
     "start_time": "2020-06-28T08:47:50.799680Z"
    }
   },
   "source": [
    "# Load Dataset"
   ]
  },
  {
   "cell_type": "code",
   "execution_count": 5,
   "metadata": {
    "ExecuteTime": {
     "end_time": "2020-07-14T18:34:55.964160Z",
     "start_time": "2020-07-14T18:32:57.989203Z"
    },
    "run_control": {
     "marked": true
    }
   },
   "outputs": [
    {
     "name": "stderr",
     "output_type": "stream",
     "text": [
      "100%|██████████| 14301/14301 [00:18<00:00, 779.44it/s]\n",
      "100%|██████████| 7008/7008 [00:09<00:00, 774.49it/s]\n",
      "100%|██████████| 12852/12852 [00:16<00:00, 782.38it/s]\n",
      "100%|██████████| 9567/9567 [00:12<00:00, 777.00it/s]\n",
      "100%|██████████| 13580/13580 [00:17<00:00, 791.07it/s]\n",
      "100%|██████████| 14835/14835 [00:18<00:00, 785.01it/s]\n",
      "100%|██████████| 7114/7114 [00:09<00:00, 770.09it/s]\n",
      "100%|██████████| 12683/12683 [00:16<00:00, 784.47it/s]\n"
     ]
    }
   ],
   "source": [
    "from torch.utils.data import Dataset, DataLoader\n",
    "import torchvision.transforms as transforms\n",
    "import tf.transformations as tf_tran\n",
    "from tqdm import tqdm\n",
    "#from PIL import Image\n",
    "import numpy as np\n",
    "import random\n",
    "\n",
    "import torch.nn as nn\n",
    "import torch.optim as optim\n",
    "from torchlib import resnet, vggnet, cnn_auxiliary\n",
    "from torchlib.cnn_auxiliary import normalize, denormalize, get_relative_pose, translational_rotational_loss\n",
    "from torchlib.utils import LocalizationDataset, display_loss, data2tensorboard\n",
    "import time\n",
    "\n",
    "transform = transforms.Compose([transforms.ToTensor()])\n",
    "dataset = LocalizationDataset(dataset_dirs = args.test_dataset, \\\n",
    "                              image_size = args.target_image_size, \\\n",
    "                              transform = transform,\n",
    "                              get_pair = False, mode='evaluate')\n",
    "#[args.norm_mean, args.norm_std] = [torch.tensor(x) for x in dataset.get_norm()]\n",
    "[args.norm_mean, args.norm_std] = torch.load('/notebooks/global_localization/norm_mean_std.pt')\n",
    "\n",
    "dataloader = DataLoader(dataset, batch_size=args.batch_size, \\\n",
    "                        shuffle=False, num_workers=0, \\\n",
    "                        drop_last=False, pin_memory=True)"
   ]
  },
  {
   "cell_type": "markdown",
   "metadata": {},
   "source": [
    "# Define Model"
   ]
  },
  {
   "cell_type": "code",
   "execution_count": 6,
   "metadata": {
    "ExecuteTime": {
     "end_time": "2020-07-14T18:35:01.350636Z",
     "start_time": "2020-07-14T18:34:55.979843Z"
    },
    "code_folding": [
     18,
     26,
     31,
     36,
     46,
     56,
     66,
     76,
     81
    ],
    "run_control": {
     "marked": true
    }
   },
   "outputs": [],
   "source": [
    "class CNN_Model:\n",
    "    def __init__(self, training = True, device = \"cpu\"):\n",
    "        # device\n",
    "        self.device = torch.device(device)\n",
    "        \n",
    "        # data\n",
    "        self.model = cnn_auxiliary.Model(training).to(device)\n",
    "        self.norm_mean = args.norm_mean.to(device)\n",
    "        self.norm_std = args.norm_std.to(device)\n",
    "        \n",
    "        # training tool\n",
    "        if training:\n",
    "            self.optimizer = optim.Adam(self.model.parameters(), \n",
    "                                        lr=args.learning_rate, \n",
    "                                        weight_decay=args.weight_decay)\n",
    "            self.scheduler = optim.lr_scheduler.LambdaLR(optimizer=self.optimizer,\n",
    "                                                         lr_lambda=lambda epoch: args.decay_rate**epoch)\n",
    "        \n",
    "    def load_model(self, file_name = 'pretrained.pth', display_info = True):\n",
    "        state_dict = torch.load(os.path.join(args.model_dir, file_name))\n",
    "        if display_info:\n",
    "            for name,param in state_dict.items():\n",
    "                print(name, param.shape)\n",
    "            print('Parameters layer:',len(state_dict.keys()))\n",
    "        self.model.load_state_dict(state_dict,strict = False)\n",
    "        \n",
    "    def display_structure(self):\n",
    "        for name, param in self.model.named_parameters():\n",
    "            print(name, param.shape)\n",
    "        print('Parameters layer:',len(self.model.state_dict().keys()))\n",
    "    \n",
    "    def display_require_grad(self):\n",
    "        for name, param in self.model.named_parameters():\n",
    "            if param.requires_grad:\n",
    "                print(name, param.shape)\n",
    "    \n",
    "    def power_resnet(self, status = False):\n",
    "        if status == 'off':\n",
    "            for param in self.model.resnet.parameters():\n",
    "                param.requires_grad = False\n",
    "        elif status == 'on':\n",
    "            for param in self.model.resnet.parameters():\n",
    "                param.requires_grad = True\n",
    "        else:\n",
    "            raise Exception(\"status must be 'on' or 'off'.\")\n",
    "            \n",
    "    def power_context(self, status = False):\n",
    "        if status == 'off':\n",
    "            for param in self.model.global_context.parameters():\n",
    "                param.requires_grad = False\n",
    "        elif status == 'on':\n",
    "            for param in self.model.global_context.parameters():\n",
    "                param.requires_grad = True\n",
    "        else:\n",
    "            raise Exception(\"status must be 'on' or 'off'.\")\n",
    "    \n",
    "    def power_regressor(self, status = False):\n",
    "        if status == 'off':\n",
    "            for param in self.model.global_regressor.parameters():\n",
    "                param.requires_grad = False\n",
    "        elif status == 'on':\n",
    "            for param in self.model.global_regressor.parameters():\n",
    "                param.requires_grad = True\n",
    "        else:\n",
    "            raise Exception(\"status must be 'on' or 'off'.\")\n",
    "            \n",
    "    def power_all(self, status = False):\n",
    "        if status == 'off':\n",
    "            for param in self.model.parameters():\n",
    "                param.requires_grad = False\n",
    "        elif status == 'on':\n",
    "            for param in self.model.parameters():\n",
    "                param.requires_grad = True\n",
    "        else:\n",
    "            raise Exception(\"status must be 'on' or 'off'.\")\n",
    "            \n",
    "    def save_model(self, file_name = 'model-{}-{}.pth'):\n",
    "        checkpoint_path = os.path.join(args.model_dir, file_name)\n",
    "        torch.save(self.model.state_dict(),checkpoint_path)\n",
    "        print('saving model to' +  file_name)\n",
    "            \n",
    "    def loss(self,x0, x1, y0, y1):\n",
    "        start = time.time()\n",
    "        \n",
    "        x0,x1,y0,y1 = x0.to(self.device),x1.to(self.device),y0.to(self.device),y1.to(self.device)\n",
    "        y0_norm, y1_norm = [normalize(y,self.norm_mean, self.norm_std) for y in [y0,y1]]\n",
    "        \n",
    "        relative_target_normed = get_relative_pose(y0_norm, y1_norm)\n",
    "        \n",
    "        #self.optimizer.zero_grad()\n",
    "        \n",
    "        global_output0,global_output1 = self.model(x0, x1)\n",
    "        relative_consistence = get_relative_pose(global_output0,global_output1)\n",
    "        global_loss = translational_rotational_loss(pred=global_output1, \\\n",
    "                                                    gt=y1_norm, \\\n",
    "                                                    lamda=args.lamda_weights)\n",
    "        geometry_consistent_loss = translational_rotational_loss(pred=relative_consistence, \\\n",
    "                                                                 gt=relative_target_normed, \\\n",
    "                                                                 lamda=args.lamda_weights)\n",
    "        total_loss = global_loss + geometry_consistent_loss        \n",
    "        #total_loss.backward()\n",
    "        #self.optimizer.step()\n",
    "        \n",
    "        end = time.time()\n",
    "        batch_time = end - start\n",
    "        return batch_time, total_loss\n",
    "    \n",
    "    def eval_forward(self,x,y):\n",
    "        x,y = x.to(self.device),y.to(self.device)\n",
    "        \n",
    "        global_output = self.model(x)\n",
    "        trans_target, rot_target = torch.split(y, [3, 4], dim=1)\n",
    "        #global_output_demormed = denormalize(global_output, self.norm_mean, self.norm_std)\n",
    "        global_output_demormed = global_output\n",
    "        trans_prediction, rot_prediction = torch.split(global_output_demormed, [3, 4], dim=1)\n",
    "        return trans_prediction, rot_prediction, trans_target, rot_target\n",
    "\n",
    "cnn_model = CNN_Model(training=False,device=\"cuda:1\")\n",
    "cnn_model.load_model('model-2-10000.pth',display_info=False)\n",
    "cnn_model.power_all('off')"
   ]
  },
  {
   "cell_type": "markdown",
   "metadata": {},
   "source": [
    "# Initialize"
   ]
  },
  {
   "cell_type": "code",
   "execution_count": 7,
   "metadata": {
    "ExecuteTime": {
     "end_time": "2020-07-14T18:35:01.376145Z",
     "start_time": "2020-07-14T18:35:01.355809Z"
    },
    "run_control": {
     "marked": true
    }
   },
   "outputs": [],
   "source": [
    "trans_errors = []\n",
    "rot_errors = []\n",
    "uncertainties = []\n",
    "pose_map = []\n",
    "\n",
    "total_trans_error = 0.\n",
    "total_rot_error = 0.\n",
    "\n",
    "count = 0.\n",
    "\n",
    "is_save_map = False\n",
    "is_read_map = False\n",
    "\n",
    "trans_preds = []\n",
    "trans_gts = []\n",
    "\n",
    "rot_preds = []\n",
    "rot_gts = []\n",
    "\n",
    "pred_uncertainties = []\n",
    "\n",
    "pred_time = []\n",
    "\n",
    "br = tf_ros.TransformBroadcaster()\n",
    "\n",
    "GT_POSE_TOPIC = '/gt_pose'\n",
    "BIRDVIEW_TOPIC_PUB = '/bird_view'\n",
    "MAP_TOPIC_PUB = '/pose_map'\n",
    "PARTICLES_PUB = '/particles'\n",
    "NN_LOCALIZASION_PUB = '/nn_pose'\n",
    "gt_pose_pub = rospy.Publisher(GT_POSE_TOPIC, Odometry, queue_size=1)\n",
    "bird_view_pub = rospy.Publisher(BIRDVIEW_TOPIC_PUB, Image, queue_size=1)\n",
    "map_pub = rospy.Publisher(MAP_TOPIC_PUB, Path, queue_size=1)\n",
    "particles_pub = rospy.Publisher(PARTICLES_PUB, PoseArray, queue_size=1)\n",
    "nn_pose_pub = rospy.Publisher(NN_LOCALIZASION_PUB, Odometry, queue_size=1)"
   ]
  },
  {
   "cell_type": "markdown",
   "metadata": {},
   "source": [
    "# Evaluate"
   ]
  },
  {
   "cell_type": "code",
   "execution_count": 8,
   "metadata": {
    "ExecuteTime": {
     "end_time": "2020-07-14T18:40:16.333621Z",
     "start_time": "2020-07-14T18:35:06.972819Z"
    },
    "code_folding": [
     15
    ],
    "run_control": {
     "marked": true
    }
   },
   "outputs": [
    {
     "name": "stdout",
     "output_type": "stream",
     "text": [
      "450/92250, translation error = 4.250, rotation error = 88.355, time/batch = 4.970\n",
      "900/92250, translation error = 5.482, rotation error = 88.809, time/batch = 1.140\n",
      "1350/92250, translation error = 5.236, rotation error = 88.572, time/batch = 1.142\n",
      "1800/92250, translation error = 4.558, rotation error = 88.410, time/batch = 1.120\n",
      "2250/92250, translation error = 4.197, rotation error = 88.411, time/batch = 1.118\n",
      "2700/92250, translation error = 3.828, rotation error = 88.466, time/batch = 1.115\n",
      "3150/92250, translation error = 3.610, rotation error = 88.470, time/batch = 1.124\n",
      "3600/92250, translation error = 3.483, rotation error = 88.492, time/batch = 1.119\n",
      "4050/92250, translation error = 3.308, rotation error = 88.522, time/batch = 1.120\n",
      "4500/92250, translation error = 3.153, rotation error = 88.498, time/batch = 1.114\n",
      "4950/92250, translation error = 3.070, rotation error = 88.401, time/batch = 1.114\n",
      "5400/92250, translation error = 3.026, rotation error = 88.409, time/batch = 1.112\n",
      "5850/92250, translation error = 2.985, rotation error = 88.441, time/batch = 1.117\n",
      "6300/92250, translation error = 2.926, rotation error = 88.486, time/batch = 1.113\n",
      "6750/92250, translation error = 4.628, rotation error = 88.535, time/batch = 1.115\n",
      "7200/92250, translation error = 4.662, rotation error = 88.590, time/batch = 1.118\n",
      "7650/92250, translation error = 4.613, rotation error = 88.620, time/batch = 1.112\n",
      "8100/92250, translation error = 4.668, rotation error = 88.623, time/batch = 1.121\n",
      "8550/92250, translation error = 4.940, rotation error = 88.632, time/batch = 1.124\n",
      "9000/92250, translation error = 4.794, rotation error = 88.651, time/batch = 1.118\n",
      "9450/92250, translation error = 4.693, rotation error = 88.675, time/batch = 1.127\n",
      "9900/92250, translation error = 4.649, rotation error = 88.694, time/batch = 1.124\n",
      "10350/92250, translation error = 4.636, rotation error = 88.702, time/batch = 1.121\n",
      "10800/92250, translation error = 4.593, rotation error = 88.701, time/batch = 1.119\n",
      "11250/92250, translation error = 4.535, rotation error = 88.723, time/batch = 1.118\n",
      "11700/92250, translation error = 4.434, rotation error = 88.736, time/batch = 1.120\n",
      "12150/92250, translation error = 4.353, rotation error = 88.758, time/batch = 1.122\n",
      "12600/92250, translation error = 4.270, rotation error = 88.758, time/batch = 1.122\n",
      "13050/92250, translation error = 4.192, rotation error = 88.768, time/batch = 1.119\n",
      "13500/92250, translation error = 4.168, rotation error = 88.748, time/batch = 1.125\n",
      "13950/92250, translation error = 4.122, rotation error = 88.739, time/batch = 1.134\n",
      "14400/92250, translation error = 4.133, rotation error = 88.624, time/batch = 1.116\n",
      "14850/92250, translation error = 4.087, rotation error = 88.608, time/batch = 1.136\n",
      "15300/92250, translation error = 4.030, rotation error = 88.615, time/batch = 1.124\n",
      "15750/92250, translation error = 5.022, rotation error = 88.631, time/batch = 1.134\n",
      "16200/92250, translation error = 4.965, rotation error = 88.631, time/batch = 1.123\n",
      "16650/92250, translation error = 4.893, rotation error = 88.586, time/batch = 1.137\n",
      "17100/92250, translation error = 4.813, rotation error = 88.569, time/batch = 1.122\n",
      "17550/92250, translation error = 4.735, rotation error = 88.543, time/batch = 1.121\n",
      "18000/92250, translation error = 4.670, rotation error = 88.539, time/batch = 1.130\n",
      "18450/92250, translation error = 4.615, rotation error = 88.540, time/batch = 1.137\n",
      "18900/92250, translation error = 4.545, rotation error = 88.525, time/batch = 1.123\n",
      "19350/92250, translation error = 4.499, rotation error = 88.510, time/batch = 1.128\n",
      "19800/92250, translation error = 4.455, rotation error = 88.517, time/batch = 1.132\n",
      "20250/92250, translation error = 4.404, rotation error = 88.522, time/batch = 1.132\n",
      "20700/92250, translation error = 4.363, rotation error = 88.523, time/batch = 1.129\n",
      "21150/92250, translation error = 4.338, rotation error = 88.495, time/batch = 1.134\n",
      "21600/92250, translation error = 4.370, rotation error = 88.509, time/batch = 1.135\n",
      "22050/92250, translation error = 8.604, rotation error = 88.520, time/batch = 1.129\n",
      "22500/92250, translation error = 10.113, rotation error = 88.533, time/batch = 1.125\n",
      "22950/92250, translation error = 9.958, rotation error = 88.542, time/batch = 1.128\n",
      "23400/92250, translation error = 9.824, rotation error = 88.512, time/batch = 1.137\n",
      "23850/92250, translation error = 9.677, rotation error = 88.500, time/batch = 1.123\n",
      "24300/92250, translation error = 9.537, rotation error = 88.490, time/batch = 1.135\n",
      "24750/92250, translation error = 9.431, rotation error = 88.498, time/batch = 1.126\n",
      "25200/92250, translation error = 9.309, rotation error = 88.494, time/batch = 1.134\n",
      "25650/92250, translation error = 9.217, rotation error = 88.474, time/batch = 1.131\n",
      "26100/92250, translation error = 9.105, rotation error = 88.474, time/batch = 1.138\n",
      "26550/92250, translation error = 8.991, rotation error = 88.482, time/batch = 1.133\n",
      "27000/92250, translation error = 8.933, rotation error = 88.493, time/batch = 1.123\n",
      "27450/92250, translation error = 8.822, rotation error = 88.495, time/batch = 1.133\n",
      "27900/92250, translation error = 8.719, rotation error = 88.505, time/batch = 1.124\n",
      "28350/92250, translation error = 8.626, rotation error = 88.517, time/batch = 1.128\n",
      "28800/92250, translation error = 8.530, rotation error = 88.524, time/batch = 1.127\n",
      "29250/92250, translation error = 8.584, rotation error = 88.532, time/batch = 1.133\n",
      "29700/92250, translation error = 8.485, rotation error = 88.534, time/batch = 1.132\n",
      "30150/92250, translation error = 8.480, rotation error = 88.533, time/batch = 1.128\n",
      "30600/92250, translation error = 8.402, rotation error = 88.543, time/batch = 1.128\n",
      "31050/92250, translation error = 8.328, rotation error = 88.544, time/batch = 1.138\n",
      "31500/92250, translation error = 8.263, rotation error = 88.547, time/batch = 1.126\n",
      "31950/92250, translation error = 8.183, rotation error = 88.560, time/batch = 1.128\n",
      "32400/92250, translation error = 8.111, rotation error = 88.569, time/batch = 1.130\n",
      "32850/92250, translation error = 8.034, rotation error = 88.580, time/batch = 1.125\n",
      "33300/92250, translation error = 7.958, rotation error = 88.581, time/batch = 1.128\n",
      "33750/92250, translation error = 7.881, rotation error = 88.584, time/batch = 1.126\n",
      "34200/92250, translation error = 8.298, rotation error = 88.580, time/batch = 1.138\n",
      "34650/92250, translation error = 9.131, rotation error = 88.581, time/batch = 1.130\n",
      "35100/92250, translation error = 9.040, rotation error = 88.580, time/batch = 1.128\n",
      "35550/92250, translation error = 10.178, rotation error = 88.588, time/batch = 1.129\n",
      "36000/92250, translation error = 10.103, rotation error = 88.598, time/batch = 1.130\n",
      "36450/92250, translation error = 10.023, rotation error = 88.588, time/batch = 1.129\n",
      "36900/92250, translation error = 9.927, rotation error = 88.576, time/batch = 1.131\n",
      "37350/92250, translation error = 9.835, rotation error = 88.567, time/batch = 1.134\n",
      "37800/92250, translation error = 9.738, rotation error = 88.565, time/batch = 1.127\n",
      "38250/92250, translation error = 9.655, rotation error = 88.563, time/batch = 1.125\n",
      "38700/92250, translation error = 9.563, rotation error = 88.569, time/batch = 1.132\n",
      "39150/92250, translation error = 9.483, rotation error = 88.564, time/batch = 1.130\n",
      "39600/92250, translation error = 9.412, rotation error = 88.565, time/batch = 1.128\n",
      "40050/92250, translation error = 9.342, rotation error = 88.567, time/batch = 1.132\n",
      "40500/92250, translation error = 9.264, rotation error = 88.564, time/batch = 1.132\n",
      "40950/92250, translation error = 9.193, rotation error = 88.556, time/batch = 1.129\n",
      "41400/92250, translation error = 9.129, rotation error = 88.559, time/batch = 1.145\n",
      "41850/92250, translation error = 9.095, rotation error = 88.566, time/batch = 1.128\n",
      "42300/92250, translation error = 9.079, rotation error = 88.572, time/batch = 1.124\n",
      "42750/92250, translation error = 9.014, rotation error = 88.573, time/batch = 1.133\n",
      "43200/92250, translation error = 8.941, rotation error = 88.581, time/batch = 1.126\n",
      "43650/92250, translation error = 8.894, rotation error = 88.589, time/batch = 1.127\n",
      "44100/92250, translation error = 8.842, rotation error = 88.590, time/batch = 1.134\n"
     ]
    },
    {
     "name": "stdout",
     "output_type": "stream",
     "text": [
      "44550/92250, translation error = 8.797, rotation error = 88.580, time/batch = 1.140\n",
      "45000/92250, translation error = 8.738, rotation error = 88.566, time/batch = 1.129\n",
      "45450/92250, translation error = 8.673, rotation error = 88.559, time/batch = 1.143\n",
      "45900/92250, translation error = 8.617, rotation error = 88.555, time/batch = 1.130\n",
      "46350/92250, translation error = 8.559, rotation error = 88.554, time/batch = 1.132\n",
      "46800/92250, translation error = 8.500, rotation error = 88.556, time/batch = 1.133\n",
      "47250/92250, translation error = 8.449, rotation error = 88.557, time/batch = 1.134\n",
      "47700/92250, translation error = 8.410, rotation error = 88.546, time/batch = 1.136\n",
      "48150/92250, translation error = 8.358, rotation error = 88.547, time/batch = 1.135\n",
      "48600/92250, translation error = 8.300, rotation error = 88.550, time/batch = 1.136\n",
      "49050/92250, translation error = 8.243, rotation error = 88.552, time/batch = 1.133\n",
      "49500/92250, translation error = 8.193, rotation error = 88.557, time/batch = 1.128\n",
      "49950/92250, translation error = 8.143, rotation error = 88.562, time/batch = 1.132\n",
      "50400/92250, translation error = 8.100, rotation error = 88.566, time/batch = 1.134\n",
      "50850/92250, translation error = 9.485, rotation error = 88.567, time/batch = 1.129\n",
      "51300/92250, translation error = 9.445, rotation error = 88.571, time/batch = 1.142\n",
      "51750/92250, translation error = 9.402, rotation error = 88.573, time/batch = 1.132\n",
      "52200/92250, translation error = 9.376, rotation error = 88.574, time/batch = 1.131\n",
      "52650/92250, translation error = 9.323, rotation error = 88.580, time/batch = 1.127\n",
      "53100/92250, translation error = 9.267, rotation error = 88.584, time/batch = 1.145\n",
      "53550/92250, translation error = 9.225, rotation error = 88.588, time/batch = 1.128\n",
      "54000/92250, translation error = 9.166, rotation error = 88.593, time/batch = 1.140\n",
      "54450/92250, translation error = 9.150, rotation error = 88.597, time/batch = 1.125\n",
      "54900/92250, translation error = 9.103, rotation error = 88.603, time/batch = 1.124\n",
      "55350/92250, translation error = 9.046, rotation error = 88.602, time/batch = 1.131\n",
      "55800/92250, translation error = 9.154, rotation error = 88.603, time/batch = 1.133\n",
      "56250/92250, translation error = 9.192, rotation error = 88.604, time/batch = 1.129\n",
      "56700/92250, translation error = 9.148, rotation error = 88.608, time/batch = 1.131\n",
      "57150/92250, translation error = 9.101, rotation error = 88.598, time/batch = 1.138\n",
      "57600/92250, translation error = 9.869, rotation error = 88.554, time/batch = 1.125\n",
      "58050/92250, translation error = 9.845, rotation error = 88.536, time/batch = 1.136\n",
      "58500/92250, translation error = 9.826, rotation error = 88.519, time/batch = 1.131\n",
      "58950/92250, translation error = 9.765, rotation error = 88.517, time/batch = 1.128\n",
      "59400/92250, translation error = 9.707, rotation error = 88.518, time/batch = 1.131\n",
      "59850/92250, translation error = 9.646, rotation error = 88.522, time/batch = 1.136\n",
      "60300/92250, translation error = 9.591, rotation error = 88.526, time/batch = 1.134\n",
      "60750/92250, translation error = 9.537, rotation error = 88.527, time/batch = 1.145\n",
      "61200/92250, translation error = 9.493, rotation error = 88.526, time/batch = 1.129\n",
      "61650/92250, translation error = 9.764, rotation error = 88.524, time/batch = 1.128\n",
      "62100/92250, translation error = 9.828, rotation error = 88.524, time/batch = 1.133\n",
      "62550/92250, translation error = 9.799, rotation error = 88.526, time/batch = 1.139\n",
      "63000/92250, translation error = 9.751, rotation error = 88.529, time/batch = 1.139\n",
      "63450/92250, translation error = 9.714, rotation error = 88.529, time/batch = 1.125\n",
      "63900/92250, translation error = 9.660, rotation error = 88.531, time/batch = 1.142\n",
      "64350/92250, translation error = 9.924, rotation error = 88.532, time/batch = 1.126\n",
      "64800/92250, translation error = 9.956, rotation error = 88.535, time/batch = 1.131\n",
      "65250/92250, translation error = 9.910, rotation error = 88.536, time/batch = 1.128\n",
      "65700/92250, translation error = 9.861, rotation error = 88.538, time/batch = 1.133\n",
      "66150/92250, translation error = 9.829, rotation error = 88.538, time/batch = 1.135\n",
      "66600/92250, translation error = 9.781, rotation error = 88.539, time/batch = 1.133\n",
      "67050/92250, translation error = 9.771, rotation error = 88.539, time/batch = 1.130\n",
      "67500/92250, translation error = 9.767, rotation error = 88.541, time/batch = 1.126\n",
      "67950/92250, translation error = 9.717, rotation error = 88.547, time/batch = 1.132\n",
      "68400/92250, translation error = 9.672, rotation error = 88.548, time/batch = 1.131\n",
      "68850/92250, translation error = 9.626, rotation error = 88.551, time/batch = 1.133\n",
      "69300/92250, translation error = 9.603, rotation error = 88.553, time/batch = 1.129\n",
      "69750/92250, translation error = 9.571, rotation error = 88.552, time/batch = 1.131\n",
      "70200/92250, translation error = 9.556, rotation error = 88.556, time/batch = 1.128\n",
      "70650/92250, translation error = 9.506, rotation error = 88.557, time/batch = 1.128\n",
      "71100/92250, translation error = 9.456, rotation error = 88.555, time/batch = 1.130\n",
      "71550/92250, translation error = 9.411, rotation error = 88.553, time/batch = 1.133\n",
      "72000/92250, translation error = 9.367, rotation error = 88.550, time/batch = 1.132\n",
      "72450/92250, translation error = 9.327, rotation error = 88.544, time/batch = 1.127\n",
      "72900/92250, translation error = 9.282, rotation error = 88.545, time/batch = 1.132\n",
      "73350/92250, translation error = 9.240, rotation error = 88.548, time/batch = 1.140\n",
      "73800/92250, translation error = 9.216, rotation error = 88.546, time/batch = 1.132\n",
      "74250/92250, translation error = 9.189, rotation error = 88.549, time/batch = 1.130\n",
      "74700/92250, translation error = 9.585, rotation error = 88.550, time/batch = 1.135\n",
      "75150/92250, translation error = 9.658, rotation error = 88.551, time/batch = 1.133\n",
      "75600/92250, translation error = 9.775, rotation error = 88.553, time/batch = 1.131\n",
      "76050/92250, translation error = 9.735, rotation error = 88.556, time/batch = 1.129\n",
      "76500/92250, translation error = 9.695, rotation error = 88.558, time/batch = 1.139\n",
      "76950/92250, translation error = 9.682, rotation error = 88.558, time/batch = 1.131\n",
      "77400/92250, translation error = 9.827, rotation error = 88.558, time/batch = 1.141\n",
      "77850/92250, translation error = 10.109, rotation error = 88.554, time/batch = 1.130\n",
      "78300/92250, translation error = 10.245, rotation error = 88.554, time/batch = 1.136\n",
      "78750/92250, translation error = 10.267, rotation error = 88.555, time/batch = 1.135\n",
      "79200/92250, translation error = 10.348, rotation error = 88.557, time/batch = 1.128\n",
      "79650/92250, translation error = 10.701, rotation error = 88.536, time/batch = 1.127\n",
      "80100/92250, translation error = 10.661, rotation error = 88.536, time/batch = 1.129\n",
      "80550/92250, translation error = 10.663, rotation error = 88.507, time/batch = 1.135\n",
      "81000/92250, translation error = 10.646, rotation error = 88.494, time/batch = 1.130\n",
      "81450/92250, translation error = 10.677, rotation error = 88.493, time/batch = 1.134\n",
      "81900/92250, translation error = 10.645, rotation error = 88.491, time/batch = 1.129\n",
      "82350/92250, translation error = 10.643, rotation error = 88.497, time/batch = 1.132\n",
      "82800/92250, translation error = 10.612, rotation error = 88.499, time/batch = 1.140\n",
      "83250/92250, translation error = 10.589, rotation error = 88.499, time/batch = 1.135\n",
      "83700/92250, translation error = 10.567, rotation error = 88.502, time/batch = 1.138\n",
      "84150/92250, translation error = 10.580, rotation error = 88.499, time/batch = 1.128\n",
      "84600/92250, translation error = 10.547, rotation error = 88.501, time/batch = 1.128\n",
      "85050/92250, translation error = 10.504, rotation error = 88.505, time/batch = 1.140\n",
      "85500/92250, translation error = 10.462, rotation error = 88.507, time/batch = 1.131\n",
      "85950/92250, translation error = 10.555, rotation error = 88.510, time/batch = 1.131\n",
      "86400/92250, translation error = 10.632, rotation error = 88.513, time/batch = 1.129\n",
      "86850/92250, translation error = 10.590, rotation error = 88.516, time/batch = 1.130\n",
      "87300/92250, translation error = 10.552, rotation error = 88.519, time/batch = 1.138\n",
      "87750/92250, translation error = 10.578, rotation error = 88.522, time/batch = 1.130\n",
      "88200/92250, translation error = 10.693, rotation error = 88.523, time/batch = 1.134\n"
     ]
    },
    {
     "name": "stdout",
     "output_type": "stream",
     "text": [
      "88650/92250, translation error = 10.664, rotation error = 88.527, time/batch = 1.132\n",
      "89100/92250, translation error = 10.854, rotation error = 88.531, time/batch = 1.127\n",
      "89550/92250, translation error = 10.814, rotation error = 88.534, time/batch = 1.135\n",
      "90000/92250, translation error = 10.884, rotation error = 88.537, time/batch = 1.131\n",
      "90450/92250, translation error = 10.847, rotation error = 88.539, time/batch = 1.137\n",
      "90900/92250, translation error = 10.811, rotation error = 88.537, time/batch = 1.129\n",
      "91350/92250, translation error = 10.775, rotation error = 88.536, time/batch = 1.135\n",
      "91800/92250, translation error = 10.733, rotation error = 88.532, time/batch = 1.133\n",
      "92250/92250, translation error = 10.721, rotation error = 88.532, time/batch = 2.461\n"
     ]
    }
   ],
   "source": [
    "cnn_model.model.eval()\n",
    "\n",
    "for b, data in enumerate(dataloader, 0):\n",
    "    start = time.time()\n",
    "    x,y = data.values()\n",
    "    \n",
    "    with torch.no_grad():\n",
    "        trans_pred, rot_pred, trans_gt, rot_gt = cnn_model.eval_forward(x,y)\n",
    "    trans_pred = trans_pred.cpu().numpy()\n",
    "    rot_pred = rot_pred.cpu().numpy()\n",
    "    trans_gt = trans_gt.cpu().numpy()\n",
    "    rot_gt = rot_gt.cpu().numpy()\n",
    "    x = x.numpy()\n",
    "    end = time.time()\n",
    "    \n",
    "    if args.enable_ros:\n",
    "        for i in range(y.shape[0]):\n",
    "            br.sendTransform(trans_pred[i],rot_pred[i], rospy.Time.now(),\"estimation\", \"world\")\n",
    "            br.sendTransform(trans_gt[i],rot_gt[i],rospy.Time.now(), \"gt\", \"world\")\n",
    "\n",
    "            timestamp = rospy.Time.now()\n",
    "\n",
    "            gt_msg = Odometry()\n",
    "            gt_msg.header.frame_id = 'world'\n",
    "            gt_msg.header.stamp = timestamp\n",
    "            gt_msg.child_frame_id = 'base_link'\n",
    "            gt_msg.pose.pose.position.x = trans_gt[i][0]\n",
    "            gt_msg.pose.pose.position.y = trans_gt[i][1]\n",
    "            gt_msg.pose.pose.position.z = trans_gt[i][2]\n",
    "            gt_msg.pose.pose.orientation.x = rot_gt[i][0]\n",
    "            gt_msg.pose.pose.orientation.y = rot_gt[i][1]\n",
    "            gt_msg.pose.pose.orientation.z = rot_gt[i][2]\n",
    "            gt_msg.pose.pose.orientation.w = rot_gt[i][3]\n",
    "\n",
    "            bridge = CvBridge()\n",
    "\n",
    "            bird_view_img_msg = bridge.cv2_to_imgmsg(x[i][0], encoding=\"passthrough\") # 1x300x300 -> 300x300\n",
    "            stamp_now = rospy.Time.now()\n",
    "            bird_view_img_msg.header.stamp = stamp_now\n",
    "\n",
    "            bird_view_pub.publish(bird_view_img_msg)\n",
    "\n",
    "            rospy.sleep(.0)\n",
    "\n",
    "            count += 1\n",
    "    else:\n",
    "        count += y.shape[0]\n",
    "\n",
    "    trans_preds += [x for x in trans_pred]\n",
    "    rot_preds += [x for x in rot_pred]\n",
    "    trans_gts += [x for x in trans_gt]\n",
    "    rot_gts += [x for x in rot_gt]\n",
    "\n",
    "    trans_error = np.sqrt(np.sum((trans_pred - trans_gt)**2,axis=1))\n",
    "    rot_error_1 = np.arccos(np.sum(np.multiply(rot_pred,rot_gt),axis=1))/math.pi*180\n",
    "    rot_error_2 = np.arccos(np.sum(np.multiply(rot_pred,-rot_gt),axis=1))/math.pi*180\n",
    "    rot_error = np.minimum(rot_error_1,rot_error_2)\n",
    "\n",
    "    trans_errors += [x for x in trans_error]\n",
    "    rot_errors += [x for x in rot_error]\n",
    "\n",
    "    total_trans_error += np.sum(trans_error)\n",
    "    total_rot_error += np.sum(rot_error)\n",
    "\n",
    "    display = 1\n",
    "\n",
    "    if b % display == 0:\n",
    "        print(\n",
    "            \"{}/{}, translation error = {:.3f}, rotation error = {:.3f}, time/batch = {:.3f}\"\n",
    "            .format(\n",
    "             (b+1)*args.batch_size,\n",
    "            len(dataloader)*args.batch_size,\n",
    "            total_trans_error / count,\n",
    "            total_rot_error / count,\n",
    "            end - start))\n",
    "\n",
    "#print(\"pred time\", np.mean(np.array(pred_time)))\n",
    "#print(\"time std\", np.std(np.array(pred_time)))\n",
    "    "
   ]
  },
  {
   "cell_type": "code",
   "execution_count": 9,
   "metadata": {
    "ExecuteTime": {
     "end_time": "2020-07-14T18:41:28.400081Z",
     "start_time": "2020-07-14T18:41:11.827338Z"
    },
    "run_control": {
     "marked": true
    }
   },
   "outputs": [
    {
     "name": "stdout",
     "output_type": "stream",
     "text": [
      "median translation error = 2.536\n",
      "median rotation error = 88.869\n",
      "mean translation error = 10.721\n",
      "mean rotation error = 88.532\n"
     ]
    }
   ],
   "source": [
    "import scipy.io as sio\n",
    "\n",
    "sio.savemat('results.mat', {'trans_pred': np.array(trans_preds), 'trans_gt': np.array(trans_gts), 'uncertainty': np.array(pred_uncertainties)})\n",
    "\n",
    "if len(pose_map):\n",
    "    np.savetxt(os.path.join(args.map_dataset, 'map.txt'), np.asarray(pose_map, dtype=np.float32))\n",
    "    print(\"map is saved!\")\n",
    "\n",
    "plt.hist(trans_errors, bins='auto')\n",
    "plt.title(\"Translation errors\")\n",
    "plt.xlabel(\"translational error in meters\")\n",
    "plt.ylabel(\"number of frames\")\n",
    "plt.savefig('terror.png', bbox_inches='tight')\n",
    "\n",
    "plt.hist(rot_errors, bins='auto')\n",
    "plt.title(\"Rotation errors\")\n",
    "plt.xlabel(\"rotational error in degree\")\n",
    "plt.ylabel(\"number of frames\")\n",
    "plt.savefig('rerror.png', bbox_inches='tight')\n",
    "\n",
    "median_trans_errors = np.median(trans_errors)\n",
    "median_rot_errors = np.median(rot_errors)\n",
    "mean_trans_errors = np.mean(trans_errors)\n",
    "mean_rot_errors = np.mean(rot_errors)\n",
    "\n",
    "print(\"median translation error = {:.3f}\".format(median_trans_errors))\n",
    "print(\"median rotation error = {:.3f}\".format(median_rot_errors))\n",
    "print(\"mean translation error = {:.3f}\".format(mean_trans_errors))\n",
    "print(\"mean rotation error = {:.3f}\".format(mean_rot_errors))   "
   ]
  },
  {
   "cell_type": "code",
   "execution_count": 10,
   "metadata": {
    "ExecuteTime": {
     "end_time": "2020-07-14T18:42:01.482164Z",
     "start_time": "2020-07-14T18:42:01.388091Z"
    },
    "code_folding": [
     0
    ],
    "run_control": {
     "marked": true
    }
   },
   "outputs": [
    {
     "name": "stdout",
     "output_type": "stream",
     "text": [
      "================== median translation error ==================\n",
      "median translation error = 2.255\n",
      "median translation error = 2.032\n",
      "median translation error = 2.373\n",
      "median translation error = 2.348\n",
      "median translation error = 2.539\n",
      "median translation error = 2.421\n",
      "median translation error = 3.758\n",
      "median translation error = 3.486\n",
      "================== median rotation error ==================\n",
      "median rotation error = 88.955\n",
      "median rotation error = 88.465\n",
      "median rotation error = 88.957\n",
      "median rotation error = 88.865\n",
      "median rotation error = 88.884\n",
      "median rotation error = 88.801\n",
      "median rotation error = 88.922\n",
      "median rotation error = 88.911\n",
      "================== mean translation error ==================\n",
      "mean translation error = 4.145\n",
      "mean translation error = 4.680\n",
      "mean translation error = 13.590\n",
      "mean translation error = 12.788\n",
      "mean translation error = 9.793\n",
      "mean translation error = 10.314\n",
      "mean translation error = 20.357\n",
      "mean translation error = 13.076\n",
      "================== mean rotation error ==================\n",
      "mean rotation error = 88.631\n",
      "mean rotation error = 88.232\n",
      "mean rotation error = 88.710\n",
      "mean rotation error = 88.628\n",
      "mean rotation error = 88.516\n",
      "mean rotation error = 88.441\n",
      "mean rotation error = 88.687\n",
      "mean rotation error = 88.366\n"
     ]
    }
   ],
   "source": [
    "def evaluate(trans_errors,rot_errors):\n",
    "    t = [14301,7008,12852,9567,13580,14835,7114,12683]\n",
    "    for i in range(len(t)):\n",
    "        if i >0:\n",
    "            t[i] += t[i-1]\n",
    "    trans_errors_month = list()\n",
    "    trans_errors_month.append(trans_errors[:t[0]])\n",
    "    trans_errors_month.append(trans_errors[t[0]:t[1]])\n",
    "    trans_errors_month.append(trans_errors[t[1]:t[2]])\n",
    "    trans_errors_month.append(trans_errors[t[2]:t[3]])\n",
    "    trans_errors_month.append(trans_errors[t[3]:t[4]])\n",
    "    trans_errors_month.append(trans_errors[t[4]:t[5]])\n",
    "    trans_errors_month.append(trans_errors[t[5]:t[6]])\n",
    "    trans_errors_month.append(trans_errors[t[6]:])\n",
    "\n",
    "    rot_errors_month = list()\n",
    "    rot_errors_month.append(rot_errors[:t[0]])\n",
    "    rot_errors_month.append(rot_errors[t[0]:t[1]])\n",
    "    rot_errors_month.append(rot_errors[t[1]:t[2]])\n",
    "    rot_errors_month.append(rot_errors[t[2]:t[3]])\n",
    "    rot_errors_month.append(rot_errors[t[3]:t[4]])\n",
    "    rot_errors_month.append(rot_errors[t[4]:t[5]])\n",
    "    rot_errors_month.append(rot_errors[t[5]:t[6]])\n",
    "    rot_errors_month.append(rot_errors[t[6]:])\n",
    "    \n",
    "    print('================== median translation error ==================')\n",
    "    for trans_errors_i in trans_errors_month:\n",
    "        print(\"median translation error = {:.3f}\".format(np.median(trans_errors_i)))\n",
    "        \n",
    "    print('================== median rotation error ==================')\n",
    "    for rot_errors_i in rot_errors_month:\n",
    "        print(\"median rotation error = {:.3f}\".format(np.median(rot_errors_i)))\n",
    "    \n",
    "    print('================== mean translation error ==================')\n",
    "    for trans_errors_i in trans_errors_month:\n",
    "        print(\"mean translation error = {:.3f}\".format(np.mean(trans_errors_i)))\n",
    "        \n",
    "    print('================== mean rotation error ==================')  \n",
    "    for rot_errors_i in rot_errors_month:\n",
    "        print(\"mean rotation error = {:.3f}\".format(np.mean(rot_errors_i)))\n",
    "        \n",
    "evaluate(trans_errors,rot_errors)"
   ]
  },
  {
   "cell_type": "code",
   "execution_count": null,
   "metadata": {},
   "outputs": [],
   "source": []
  }
 ],
 "metadata": {
  "kernelspec": {
   "display_name": "Python 3",
   "language": "python",
   "name": "python3"
  },
  "language_info": {
   "codemirror_mode": {
    "name": "ipython",
    "version": 3
   },
   "file_extension": ".py",
   "mimetype": "text/x-python",
   "name": "python",
   "nbconvert_exporter": "python",
   "pygments_lexer": "ipython3",
   "version": "3.6.9"
  },
  "nbTranslate": {
   "displayLangs": [
    "en"
   ],
   "hotkey": "alt-t",
   "langInMainMenu": true,
   "sourceLang": "en",
   "targetLang": "",
   "useGoogleTranslate": true
  }
 },
 "nbformat": 4,
 "nbformat_minor": 4
}
