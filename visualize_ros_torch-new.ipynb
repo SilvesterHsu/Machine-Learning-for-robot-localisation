{
 "cells": [
  {
   "cell_type": "markdown",
   "metadata": {},
   "source": [
    "# Library"
   ]
  },
  {
   "cell_type": "code",
   "execution_count": 1,
   "metadata": {
    "ExecuteTime": {
     "end_time": "2020-06-28T20:31:08.615983Z",
     "start_time": "2020-06-28T20:31:07.793057Z"
    },
    "run_control": {
     "marked": true
    }
   },
   "outputs": [
    {
     "name": "stderr",
     "output_type": "stream",
     "text": [
      "the rosdep view is empty: call 'sudo rosdep init' and 'rosdep update'\n"
     ]
    }
   ],
   "source": [
    "import numpy as np\n",
    "#import os\n",
    "#os.environ[\"CUDA_VISIBLE_DEVICES\"]=\"-1\"\n",
    "import torch\n",
    "import argparse\n",
    "import time\n",
    "import pickle\n",
    "\n",
    "#from src.self_awareness.networks import utils\n",
    "#from src.self_awareness.learning.tf_cnn_auxiliary_gp import Model\n",
    "from torch.distributions import Normal\n",
    "import matplotlib.pyplot as plt\n",
    "import random\n",
    "\n",
    "import roslib\n",
    "import rospy\n",
    "import tf as tf_ros\n",
    "from nav_msgs.msg import Odometry, Path\n",
    "from sensor_msgs.msg import Image\n",
    "from cv_bridge import CvBridge\n",
    "from geometry_msgs.msg import PoseStamped, PoseArray, Pose\n",
    "import math\n",
    "import cv2\n",
    "import copy"
   ]
  },
  {
   "cell_type": "markdown",
   "metadata": {},
   "source": [
    "# Check GPU"
   ]
  },
  {
   "cell_type": "code",
   "execution_count": 2,
   "metadata": {
    "ExecuteTime": {
     "end_time": "2020-06-28T20:31:09.012148Z",
     "start_time": "2020-06-28T20:31:08.617500Z"
    },
    "run_control": {
     "marked": true
    }
   },
   "outputs": [
    {
     "name": "stdout",
     "output_type": "stream",
     "text": [
      "TITAN Xp\n"
     ]
    }
   ],
   "source": [
    "if torch.cuda.is_available():\n",
    "    print(torch.cuda.get_device_name(1))"
   ]
  },
  {
   "cell_type": "markdown",
   "metadata": {},
   "source": [
    "# Set torch default parameters"
   ]
  },
  {
   "cell_type": "code",
   "execution_count": 3,
   "metadata": {
    "ExecuteTime": {
     "end_time": "2020-06-28T20:31:09.026265Z",
     "start_time": "2020-06-28T20:31:09.014786Z"
    },
    "run_control": {
     "marked": true
    }
   },
   "outputs": [],
   "source": [
    "torch.set_default_dtype(torch.float32)\n",
    "torch.set_printoptions(precision=4,sci_mode=False)\n",
    "torch.backends.cudnn.benchmark = True"
   ]
  },
  {
   "cell_type": "markdown",
   "metadata": {},
   "source": [
    "# Set Arguments"
   ]
  },
  {
   "cell_type": "code",
   "execution_count": 4,
   "metadata": {
    "ExecuteTime": {
     "end_time": "2020-06-28T20:31:09.039072Z",
     "start_time": "2020-06-28T20:31:09.028755Z"
    },
    "run_control": {
     "marked": true
    }
   },
   "outputs": [],
   "source": [
    "import argparse\n",
    "import sys\n",
    "import os\n",
    "import time\n",
    "import pickle\n",
    "\n",
    "parser = argparse.ArgumentParser()\n",
    "parser.add_argument('--batch_size', type=int, default=450, help='size of mini batch')\n",
    "parser.add_argument('--target_image_size', default=[300, 300], nargs=2, type=int, help='Input images will be resized to this for data argumentation.')\n",
    "\n",
    "parser.add_argument('--model_dir', type=str, default='/notebooks/global_localization/dual_resnet_torch', help='model directory')\n",
    "\n",
    "parser.add_argument('--test_dataset', type=str, default=[# '/notebooks/michigan_nn_data/2012_01_08',\n",
    "                                                         # '/notebooks/michigan_nn_data/2012_01_15',\n",
    "                                                         # '/notebooks/michigan_nn_data/2012_01_22',\n",
    "                                                         # '/notebooks/michigan_nn_data/2012_02_02',\n",
    "                                                         # '/notebooks/michigan_nn_data/2012_02_04',\n",
    "                                                         # '/notebooks/michigan_nn_data/2012_02_05',\n",
    "                                                         '/notebooks/michigan_nn_data/2012_02_12',\n",
    "                                                         # '/notebooks/michigan_nn_data/2012_03_31',\n",
    "                                                         '/notebooks/michigan_nn_data/2012_04_29',\n",
    "                                                         '/notebooks/michigan_nn_data/2012_05_11',\n",
    "                                                         '/notebooks/michigan_nn_data/2012_06_15',\n",
    "                                                         '/notebooks/michigan_nn_data/2012_08_04',\n",
    "                                                         # '/notebooks/michigan_nn_data/2012_09_28'])\n",
    "                                                         '/notebooks/michigan_nn_data/2012_10_28',\n",
    "                                                         '/notebooks/michigan_nn_data/2012_11_16',\n",
    "                                                         '/notebooks/michigan_nn_data/2012_12_01'\n",
    "                                                        ] )\n",
    "\n",
    "parser.add_argument('--train_dataset', type=str, default = ['/notebooks/michigan_nn_data/test'])\n",
    "#parser.add_argument('--map_dataset', type=str, default='/home/kevin/data/michigan_gt/training')\n",
    "parser.add_argument('--enable_ros', type=bool, default=False, help='put data into ros')\n",
    "sys.argv = ['']\n",
    "args = parser.parse_args()\n",
    "\n",
    "if args.enable_ros:\n",
    "    rospy.init_node('global_localization_tf_broadcaster_cnn')"
   ]
  },
  {
   "cell_type": "markdown",
   "metadata": {
    "ExecuteTime": {
     "end_time": "2020-06-28T08:47:50.801713Z",
     "start_time": "2020-06-28T08:47:50.799680Z"
    }
   },
   "source": [
    "# Load Dataset"
   ]
  },
  {
   "cell_type": "code",
   "execution_count": 5,
   "metadata": {
    "ExecuteTime": {
     "end_time": "2020-06-28T20:33:04.452369Z",
     "start_time": "2020-06-28T20:31:09.041216Z"
    },
    "run_control": {
     "marked": true
    }
   },
   "outputs": [
    {
     "name": "stderr",
     "output_type": "stream",
     "text": [
      "100%|██████████| 14301/14301 [00:15<00:00, 932.41it/s]\n",
      "100%|██████████| 7008/7008 [00:08<00:00, 799.51it/s]\n",
      "100%|██████████| 12852/12852 [00:16<00:00, 777.45it/s]\n",
      "100%|██████████| 9567/9567 [00:12<00:00, 768.60it/s]\n",
      "100%|██████████| 13580/13580 [00:17<00:00, 785.69it/s]\n",
      "100%|██████████| 14835/14835 [00:19<00:00, 773.39it/s]\n",
      "100%|██████████| 7114/7114 [00:09<00:00, 764.31it/s]\n",
      "100%|██████████| 12683/12683 [00:16<00:00, 782.30it/s]\n"
     ]
    }
   ],
   "source": [
    "from torch.utils.data import Dataset, DataLoader\n",
    "import torchvision.transforms as transforms\n",
    "import tf.transformations as tf_tran\n",
    "from tqdm import tqdm\n",
    "#from PIL import Image\n",
    "import numpy as np\n",
    "import random\n",
    "\n",
    "import torch.nn as nn\n",
    "import torch.optim as optim\n",
    "from torchlib import resnet, vggnet, cnn_auxiliary\n",
    "from torchlib.cnn_auxiliary import normalize, denormalize, get_relative_pose, translational_rotational_loss\n",
    "from torchlib.utils import LocalizationDataset, display_loss, data2tensorboard\n",
    "import time\n",
    "\n",
    "transform = transforms.Compose([transforms.ToTensor()])\n",
    "dataset = LocalizationDataset(dataset_dirs = args.test_dataset, \\\n",
    "                              image_size = args.target_image_size, \\\n",
    "                              transform = transform,\n",
    "                              get_pair = False, mode='evaluate')\n",
    "#[args.norm_mean, args.norm_std] = [torch.tensor(x) for x in dataset.get_norm()]\n",
    "[args.norm_mean, args.norm_std] = torch.load('/notebooks/global_localization/norm_mean_std.pt')\n",
    "\n",
    "dataloader = DataLoader(dataset, batch_size=args.batch_size, \\\n",
    "                        shuffle=False, num_workers=0, \\\n",
    "                        drop_last=False, pin_memory=True)"
   ]
  },
  {
   "cell_type": "markdown",
   "metadata": {},
   "source": [
    "# Define Model"
   ]
  },
  {
   "cell_type": "code",
   "execution_count": 6,
   "metadata": {
    "ExecuteTime": {
     "end_time": "2020-06-28T20:33:09.644764Z",
     "start_time": "2020-06-28T20:33:04.467229Z"
    },
    "code_folding": [
     0,
     18,
     26,
     31,
     36,
     46,
     56,
     66,
     76,
     81,
     107
    ],
    "run_control": {
     "marked": true
    }
   },
   "outputs": [],
   "source": [
    "class CNN_Model:\n",
    "    def __init__(self, training = True, device = \"cpu\"):\n",
    "        # device\n",
    "        self.device = torch.device(device)\n",
    "        \n",
    "        # data\n",
    "        self.model = cnn_auxiliary.Model(training).to(device)\n",
    "        self.norm_mean = args.norm_mean.to(device)\n",
    "        self.norm_std = args.norm_std.to(device)\n",
    "        \n",
    "        # training tool\n",
    "        if training:\n",
    "            self.optimizer = optim.Adam(self.model.parameters(), \n",
    "                                        lr=args.learning_rate, \n",
    "                                        weight_decay=args.weight_decay)\n",
    "            self.scheduler = optim.lr_scheduler.LambdaLR(optimizer=self.optimizer,\n",
    "                                                         lr_lambda=lambda epoch: args.decay_rate**epoch)\n",
    "        \n",
    "    def load_model(self, file_name = 'pretrained.pth', display_info = True):\n",
    "        state_dict = torch.load(os.path.join(args.model_dir, file_name))\n",
    "        if display_info:\n",
    "            for name,param in state_dict.items():\n",
    "                print(name, param.shape)\n",
    "            print('Parameters layer:',len(state_dict.keys()))\n",
    "        self.model.load_state_dict(state_dict,strict = False)\n",
    "        \n",
    "    def display_structure(self):\n",
    "        for name, param in self.model.named_parameters():\n",
    "            print(name, param.shape)\n",
    "        print('Parameters layer:',len(self.model.state_dict().keys()))\n",
    "    \n",
    "    def display_require_grad(self):\n",
    "        for name, param in self.model.named_parameters():\n",
    "            if param.requires_grad:\n",
    "                print(name, param.shape)\n",
    "    \n",
    "    def power_resnet(self, status = False):\n",
    "        if status == 'off':\n",
    "            for param in self.model.resnet.parameters():\n",
    "                param.requires_grad = False\n",
    "        elif status == 'on':\n",
    "            for param in self.model.resnet.parameters():\n",
    "                param.requires_grad = True\n",
    "        else:\n",
    "            raise Exception(\"status must be 'on' or 'off'.\")\n",
    "            \n",
    "    def power_context(self, status = False):\n",
    "        if status == 'off':\n",
    "            for param in self.model.global_context.parameters():\n",
    "                param.requires_grad = False\n",
    "        elif status == 'on':\n",
    "            for param in self.model.global_context.parameters():\n",
    "                param.requires_grad = True\n",
    "        else:\n",
    "            raise Exception(\"status must be 'on' or 'off'.\")\n",
    "    \n",
    "    def power_regressor(self, status = False):\n",
    "        if status == 'off':\n",
    "            for param in self.model.global_regressor.parameters():\n",
    "                param.requires_grad = False\n",
    "        elif status == 'on':\n",
    "            for param in self.model.global_regressor.parameters():\n",
    "                param.requires_grad = True\n",
    "        else:\n",
    "            raise Exception(\"status must be 'on' or 'off'.\")\n",
    "            \n",
    "    def power_all(self, status = False):\n",
    "        if status == 'off':\n",
    "            for param in self.model.parameters():\n",
    "                param.requires_grad = False\n",
    "        elif status == 'on':\n",
    "            for param in self.model.parameters():\n",
    "                param.requires_grad = True\n",
    "        else:\n",
    "            raise Exception(\"status must be 'on' or 'off'.\")\n",
    "            \n",
    "    def save_model(self, file_name = 'model-{}-{}.pth'):\n",
    "        checkpoint_path = os.path.join(args.model_dir, file_name)\n",
    "        torch.save(self.model.state_dict(),checkpoint_path)\n",
    "        print('saving model to' +  file_name)\n",
    "            \n",
    "    def loss(self,x0, x1, y0, y1):\n",
    "        start = time.time()\n",
    "        \n",
    "        x0,x1,y0,y1 = x0.to(self.device),x1.to(self.device),y0.to(self.device),y1.to(self.device)\n",
    "        y0_norm, y1_norm = [normalize(y,self.norm_mean, self.norm_std) for y in [y0,y1]]\n",
    "        \n",
    "        relative_target_normed = get_relative_pose(y0_norm, y1_norm)\n",
    "        \n",
    "        #self.optimizer.zero_grad()\n",
    "        \n",
    "        global_output0,global_output1 = self.model(x0, x1)\n",
    "        relative_consistence = get_relative_pose(global_output0,global_output1)\n",
    "        global_loss = translational_rotational_loss(pred=global_output1, \\\n",
    "                                                    gt=y1_norm, \\\n",
    "                                                    lamda=args.lamda_weights)\n",
    "        geometry_consistent_loss = translational_rotational_loss(pred=relative_consistence, \\\n",
    "                                                                 gt=relative_target_normed, \\\n",
    "                                                                 lamda=args.lamda_weights)\n",
    "        total_loss = global_loss + geometry_consistent_loss        \n",
    "        #total_loss.backward()\n",
    "        #self.optimizer.step()\n",
    "        \n",
    "        end = time.time()\n",
    "        batch_time = end - start\n",
    "        return batch_time, total_loss\n",
    "    \n",
    "    def eval_forward(self,x,y):\n",
    "        x,y = x.to(self.device),y.to(self.device)\n",
    "        \n",
    "        global_output = self.model(x)\n",
    "        trans_target, rot_target = torch.split(y, [3, 4], dim=1)\n",
    "        global_output_demormed = denormalize(global_output, self.norm_mean, self.norm_std)\n",
    "        trans_prediction, rot_prediction = torch.split(global_output_demormed, [3, 4], dim=1)\n",
    "        return trans_prediction, rot_prediction, trans_target, rot_target\n",
    "\n",
    "cnn_model = CNN_Model(training=False,device=\"cuda:1\")\n",
    "cnn_model.load_model('pretrained.pth',display_info=False)\n",
    "cnn_model.power_all('off')"
   ]
  },
  {
   "cell_type": "markdown",
   "metadata": {},
   "source": [
    "# Initialize"
   ]
  },
  {
   "cell_type": "code",
   "execution_count": 7,
   "metadata": {
    "ExecuteTime": {
     "end_time": "2020-06-28T20:33:09.671503Z",
     "start_time": "2020-06-28T20:33:09.651232Z"
    },
    "run_control": {
     "marked": true
    }
   },
   "outputs": [],
   "source": [
    "trans_errors = []\n",
    "rot_errors = []\n",
    "uncertainties = []\n",
    "pose_map = []\n",
    "\n",
    "total_trans_error = 0.\n",
    "total_rot_error = 0.\n",
    "\n",
    "count = 0.\n",
    "\n",
    "is_save_map = False\n",
    "is_read_map = False\n",
    "\n",
    "trans_preds = []\n",
    "trans_gts = []\n",
    "\n",
    "rot_preds = []\n",
    "rot_gts = []\n",
    "\n",
    "pred_uncertainties = []\n",
    "\n",
    "pred_time = []\n",
    "\n",
    "br = tf_ros.TransformBroadcaster()\n",
    "\n",
    "GT_POSE_TOPIC = '/gt_pose'\n",
    "BIRDVIEW_TOPIC_PUB = '/bird_view'\n",
    "MAP_TOPIC_PUB = '/pose_map'\n",
    "PARTICLES_PUB = '/particles'\n",
    "NN_LOCALIZASION_PUB = '/nn_pose'\n",
    "gt_pose_pub = rospy.Publisher(GT_POSE_TOPIC, Odometry, queue_size=1)\n",
    "bird_view_pub = rospy.Publisher(BIRDVIEW_TOPIC_PUB, Image, queue_size=1)\n",
    "map_pub = rospy.Publisher(MAP_TOPIC_PUB, Path, queue_size=1)\n",
    "particles_pub = rospy.Publisher(PARTICLES_PUB, PoseArray, queue_size=1)\n",
    "nn_pose_pub = rospy.Publisher(NN_LOCALIZASION_PUB, Odometry, queue_size=1)"
   ]
  },
  {
   "cell_type": "markdown",
   "metadata": {},
   "source": [
    "# Evaluate"
   ]
  },
  {
   "cell_type": "code",
   "execution_count": 8,
   "metadata": {
    "ExecuteTime": {
     "end_time": "2020-06-28T20:38:22.261112Z",
     "start_time": "2020-06-28T20:33:09.673422Z"
    },
    "code_folding": [
     13
    ],
    "run_control": {
     "marked": true
    }
   },
   "outputs": [
    {
     "name": "stdout",
     "output_type": "stream",
     "text": [
      "450/92250, translation error = 8.783, rotation error = 4.420, time/batch = 4.818\n",
      "900/92250, translation error = 9.578, rotation error = 3.906, time/batch = 1.135\n",
      "1350/92250, translation error = 8.834, rotation error = 3.834, time/batch = 1.127\n",
      "1800/92250, translation error = 7.584, rotation error = 3.928, time/batch = 1.119\n",
      "2250/92250, translation error = 6.880, rotation error = 4.094, time/batch = 1.116\n",
      "2700/92250, translation error = 6.312, rotation error = 4.231, time/batch = 1.114\n",
      "3150/92250, translation error = 6.081, rotation error = 4.153, time/batch = 1.110\n",
      "3600/92250, translation error = 5.934, rotation error = 4.187, time/batch = 1.119\n",
      "4050/92250, translation error = 5.589, rotation error = 3.978, time/batch = 1.117\n",
      "4500/92250, translation error = 5.311, rotation error = 3.883, time/batch = 1.115\n",
      "4950/92250, translation error = 5.052, rotation error = 3.821, time/batch = 1.113\n",
      "5400/92250, translation error = 4.919, rotation error = 3.799, time/batch = 1.121\n",
      "5850/92250, translation error = 4.814, rotation error = 3.685, time/batch = 1.121\n",
      "6300/92250, translation error = 4.707, rotation error = 3.568, time/batch = 1.117\n",
      "6750/92250, translation error = 6.750, rotation error = 3.991, time/batch = 1.114\n",
      "7200/92250, translation error = 6.915, rotation error = 4.136, time/batch = 1.112\n",
      "7650/92250, translation error = 6.837, rotation error = 4.223, time/batch = 1.119\n",
      "8100/92250, translation error = 6.813, rotation error = 4.246, time/batch = 1.113\n",
      "8550/92250, translation error = 7.060, rotation error = 4.622, time/batch = 1.119\n",
      "9000/92250, translation error = 6.843, rotation error = 4.541, time/batch = 1.119\n",
      "9450/92250, translation error = 6.709, rotation error = 4.476, time/batch = 1.119\n",
      "9900/92250, translation error = 6.615, rotation error = 4.443, time/batch = 1.117\n",
      "10350/92250, translation error = 6.525, rotation error = 4.601, time/batch = 1.127\n",
      "10800/92250, translation error = 6.578, rotation error = 4.646, time/batch = 1.113\n",
      "11250/92250, translation error = 6.501, rotation error = 4.601, time/batch = 1.126\n",
      "11700/92250, translation error = 6.345, rotation error = 4.520, time/batch = 1.116\n",
      "12150/92250, translation error = 6.255, rotation error = 4.438, time/batch = 1.115\n",
      "12600/92250, translation error = 6.167, rotation error = 4.421, time/batch = 1.128\n",
      "13050/92250, translation error = 6.081, rotation error = 4.401, time/batch = 1.115\n",
      "13500/92250, translation error = 6.059, rotation error = 4.372, time/batch = 1.121\n",
      "13950/92250, translation error = 6.005, rotation error = 4.383, time/batch = 1.120\n",
      "14400/92250, translation error = 6.054, rotation error = 4.429, time/batch = 1.123\n",
      "14850/92250, translation error = 6.013, rotation error = 4.376, time/batch = 1.127\n",
      "15300/92250, translation error = 5.946, rotation error = 4.326, time/batch = 1.132\n",
      "15750/92250, translation error = 6.819, rotation error = 4.502, time/batch = 1.124\n",
      "16200/92250, translation error = 6.757, rotation error = 4.507, time/batch = 1.126\n",
      "16650/92250, translation error = 6.689, rotation error = 4.519, time/batch = 1.124\n",
      "17100/92250, translation error = 6.609, rotation error = 4.504, time/batch = 1.133\n",
      "17550/92250, translation error = 6.507, rotation error = 4.464, time/batch = 1.120\n",
      "18000/92250, translation error = 6.440, rotation error = 4.465, time/batch = 1.125\n",
      "18450/92250, translation error = 6.374, rotation error = 4.455, time/batch = 1.127\n",
      "18900/92250, translation error = 6.292, rotation error = 4.456, time/batch = 1.125\n",
      "19350/92250, translation error = 6.217, rotation error = 4.426, time/batch = 1.133\n",
      "19800/92250, translation error = 6.187, rotation error = 4.429, time/batch = 1.122\n",
      "20250/92250, translation error = 6.116, rotation error = 4.408, time/batch = 1.121\n",
      "20700/92250, translation error = 6.049, rotation error = 4.372, time/batch = 1.126\n",
      "21150/92250, translation error = 6.004, rotation error = 4.346, time/batch = 1.123\n",
      "21600/92250, translation error = 6.073, rotation error = 4.342, time/batch = 1.135\n",
      "22050/92250, translation error = 9.369, rotation error = 5.068, time/batch = 1.124\n",
      "22500/92250, translation error = 11.086, rotation error = 5.432, time/batch = 1.126\n",
      "22950/92250, translation error = 10.993, rotation error = 5.399, time/batch = 1.126\n",
      "23400/92250, translation error = 10.893, rotation error = 5.399, time/batch = 1.142\n",
      "23850/92250, translation error = 10.760, rotation error = 5.389, time/batch = 1.127\n",
      "24300/92250, translation error = 10.689, rotation error = 5.352, time/batch = 1.131\n",
      "24750/92250, translation error = 10.601, rotation error = 5.357, time/batch = 1.129\n",
      "25200/92250, translation error = 10.469, rotation error = 5.311, time/batch = 1.127\n",
      "25650/92250, translation error = 10.368, rotation error = 5.281, time/batch = 1.132\n",
      "26100/92250, translation error = 10.256, rotation error = 5.256, time/batch = 1.134\n",
      "26550/92250, translation error = 10.128, rotation error = 5.221, time/batch = 1.124\n",
      "27000/92250, translation error = 10.094, rotation error = 5.212, time/batch = 1.128\n",
      "27450/92250, translation error = 9.987, rotation error = 5.161, time/batch = 1.138\n",
      "27900/92250, translation error = 9.872, rotation error = 5.124, time/batch = 1.126\n",
      "28350/92250, translation error = 9.800, rotation error = 5.093, time/batch = 1.121\n",
      "28800/92250, translation error = 9.710, rotation error = 5.054, time/batch = 1.128\n",
      "29250/92250, translation error = 9.747, rotation error = 5.150, time/batch = 1.128\n",
      "29700/92250, translation error = 9.655, rotation error = 5.118, time/batch = 1.130\n",
      "30150/92250, translation error = 9.608, rotation error = 5.117, time/batch = 1.138\n",
      "30600/92250, translation error = 9.547, rotation error = 5.099, time/batch = 1.129\n",
      "31050/92250, translation error = 9.478, rotation error = 5.134, time/batch = 1.122\n",
      "31500/92250, translation error = 9.481, rotation error = 5.142, time/batch = 1.123\n",
      "31950/92250, translation error = 9.403, rotation error = 5.120, time/batch = 1.128\n",
      "32400/92250, translation error = 9.327, rotation error = 5.104, time/batch = 1.126\n",
      "32850/92250, translation error = 9.262, rotation error = 5.073, time/batch = 1.122\n",
      "33300/92250, translation error = 9.207, rotation error = 5.067, time/batch = 1.133\n",
      "33750/92250, translation error = 9.146, rotation error = 5.065, time/batch = 1.123\n",
      "34200/92250, translation error = 9.191, rotation error = 5.123, time/batch = 1.132\n",
      "34650/92250, translation error = 10.115, rotation error = 5.334, time/batch = 1.127\n",
      "35100/92250, translation error = 10.033, rotation error = 5.302, time/batch = 1.132\n",
      "35550/92250, translation error = 10.887, rotation error = 5.475, time/batch = 1.133\n",
      "36000/92250, translation error = 10.861, rotation error = 5.443, time/batch = 1.133\n",
      "36450/92250, translation error = 10.789, rotation error = 5.440, time/batch = 1.131\n",
      "36900/92250, translation error = 10.721, rotation error = 5.441, time/batch = 1.129\n",
      "37350/92250, translation error = 10.626, rotation error = 5.412, time/batch = 1.125\n",
      "37800/92250, translation error = 10.538, rotation error = 5.383, time/batch = 1.129\n",
      "38250/92250, translation error = 10.462, rotation error = 5.378, time/batch = 1.125\n",
      "38700/92250, translation error = 10.371, rotation error = 5.353, time/batch = 1.137\n",
      "39150/92250, translation error = 10.298, rotation error = 5.342, time/batch = 1.133\n",
      "39600/92250, translation error = 10.229, rotation error = 5.327, time/batch = 1.126\n",
      "40050/92250, translation error = 10.161, rotation error = 5.314, time/batch = 1.130\n",
      "40500/92250, translation error = 10.087, rotation error = 5.288, time/batch = 1.129\n",
      "40950/92250, translation error = 10.024, rotation error = 5.277, time/batch = 1.129\n",
      "41400/92250, translation error = 9.960, rotation error = 5.253, time/batch = 1.135\n",
      "41850/92250, translation error = 9.895, rotation error = 5.243, time/batch = 1.129\n",
      "42300/92250, translation error = 9.907, rotation error = 5.234, time/batch = 1.124\n",
      "42750/92250, translation error = 9.848, rotation error = 5.208, time/batch = 1.129\n",
      "43200/92250, translation error = 9.778, rotation error = 5.180, time/batch = 1.126\n",
      "43650/92250, translation error = 9.759, rotation error = 5.178, time/batch = 1.126\n",
      "44100/92250, translation error = 9.722, rotation error = 5.175, time/batch = 1.131\n",
      "44550/92250, translation error = 9.701, rotation error = 5.192, time/batch = 1.136\n"
     ]
    },
    {
     "name": "stdout",
     "output_type": "stream",
     "text": [
      "45000/92250, translation error = 9.659, rotation error = 5.194, time/batch = 1.129\n",
      "45450/92250, translation error = 9.594, rotation error = 5.174, time/batch = 1.131\n",
      "45900/92250, translation error = 9.534, rotation error = 5.161, time/batch = 1.130\n",
      "46350/92250, translation error = 9.490, rotation error = 5.164, time/batch = 1.129\n",
      "46800/92250, translation error = 9.446, rotation error = 5.148, time/batch = 1.134\n",
      "47250/92250, translation error = 9.398, rotation error = 5.134, time/batch = 1.136\n",
      "47700/92250, translation error = 9.380, rotation error = 5.117, time/batch = 1.129\n",
      "48150/92250, translation error = 9.336, rotation error = 5.117, time/batch = 1.132\n",
      "48600/92250, translation error = 9.283, rotation error = 5.096, time/batch = 1.127\n",
      "49050/92250, translation error = 9.235, rotation error = 5.075, time/batch = 1.131\n",
      "49500/92250, translation error = 9.179, rotation error = 5.058, time/batch = 1.127\n",
      "49950/92250, translation error = 9.133, rotation error = 5.039, time/batch = 1.128\n",
      "50400/92250, translation error = 9.093, rotation error = 5.029, time/batch = 1.134\n",
      "50850/92250, translation error = 10.375, rotation error = 5.138, time/batch = 1.130\n",
      "51300/92250, translation error = 10.350, rotation error = 5.148, time/batch = 1.132\n",
      "51750/92250, translation error = 10.301, rotation error = 5.143, time/batch = 1.127\n",
      "52200/92250, translation error = 10.323, rotation error = 5.175, time/batch = 1.133\n",
      "52650/92250, translation error = 10.288, rotation error = 5.169, time/batch = 1.125\n",
      "53100/92250, translation error = 10.230, rotation error = 5.145, time/batch = 1.139\n",
      "53550/92250, translation error = 10.189, rotation error = 5.146, time/batch = 1.130\n",
      "54000/92250, translation error = 10.129, rotation error = 5.130, time/batch = 1.128\n",
      "54450/92250, translation error = 10.173, rotation error = 5.144, time/batch = 1.124\n",
      "54900/92250, translation error = 10.137, rotation error = 5.128, time/batch = 1.128\n",
      "55350/92250, translation error = 10.090, rotation error = 5.120, time/batch = 1.128\n",
      "55800/92250, translation error = 10.179, rotation error = 5.148, time/batch = 1.131\n",
      "56250/92250, translation error = 10.350, rotation error = 5.464, time/batch = 1.138\n",
      "56700/92250, translation error = 10.318, rotation error = 5.462, time/batch = 1.131\n",
      "57150/92250, translation error = 10.284, rotation error = 5.451, time/batch = 1.131\n",
      "57600/92250, translation error = 11.160, rotation error = 5.476, time/batch = 1.126\n",
      "58050/92250, translation error = 11.133, rotation error = 5.504, time/batch = 1.129\n",
      "58500/92250, translation error = 11.142, rotation error = 5.511, time/batch = 1.131\n",
      "58950/92250, translation error = 11.082, rotation error = 5.490, time/batch = 1.128\n",
      "59400/92250, translation error = 11.028, rotation error = 5.486, time/batch = 1.129\n",
      "59850/92250, translation error = 10.974, rotation error = 5.471, time/batch = 1.138\n",
      "60300/92250, translation error = 10.920, rotation error = 5.457, time/batch = 1.132\n",
      "60750/92250, translation error = 10.869, rotation error = 5.449, time/batch = 1.131\n",
      "61200/92250, translation error = 10.829, rotation error = 5.437, time/batch = 1.129\n",
      "61650/92250, translation error = 11.103, rotation error = 5.537, time/batch = 1.138\n",
      "62100/92250, translation error = 11.161, rotation error = 5.588, time/batch = 1.131\n",
      "62550/92250, translation error = 11.108, rotation error = 5.574, time/batch = 1.143\n",
      "63000/92250, translation error = 11.054, rotation error = 5.565, time/batch = 1.129\n",
      "63450/92250, translation error = 11.036, rotation error = 5.574, time/batch = 1.132\n",
      "63900/92250, translation error = 10.978, rotation error = 5.553, time/batch = 1.130\n",
      "64350/92250, translation error = 11.651, rotation error = 5.707, time/batch = 1.133\n",
      "64800/92250, translation error = 11.620, rotation error = 5.707, time/batch = 1.125\n",
      "65250/92250, translation error = 11.581, rotation error = 5.697, time/batch = 1.129\n",
      "65700/92250, translation error = 11.528, rotation error = 5.678, time/batch = 1.133\n",
      "66150/92250, translation error = 11.515, rotation error = 5.688, time/batch = 1.148\n",
      "66600/92250, translation error = 11.466, rotation error = 5.677, time/batch = 1.136\n",
      "67050/92250, translation error = 11.475, rotation error = 5.734, time/batch = 1.128\n",
      "67500/92250, translation error = 11.485, rotation error = 5.762, time/batch = 1.124\n",
      "67950/92250, translation error = 11.430, rotation error = 5.745, time/batch = 1.133\n",
      "68400/92250, translation error = 11.375, rotation error = 5.726, time/batch = 1.131\n",
      "68850/92250, translation error = 11.326, rotation error = 5.714, time/batch = 1.138\n",
      "69300/92250, translation error = 11.309, rotation error = 5.713, time/batch = 1.133\n",
      "69750/92250, translation error = 11.302, rotation error = 5.693, time/batch = 1.132\n",
      "70200/92250, translation error = 11.295, rotation error = 5.686, time/batch = 1.133\n",
      "70650/92250, translation error = 11.243, rotation error = 5.669, time/batch = 1.131\n",
      "71100/92250, translation error = 11.196, rotation error = 5.653, time/batch = 1.133\n",
      "71550/92250, translation error = 11.155, rotation error = 5.636, time/batch = 1.133\n",
      "72000/92250, translation error = 11.114, rotation error = 5.621, time/batch = 1.139\n",
      "72450/92250, translation error = 11.082, rotation error = 5.611, time/batch = 1.130\n",
      "72900/92250, translation error = 11.036, rotation error = 5.604, time/batch = 1.135\n",
      "73350/92250, translation error = 10.997, rotation error = 5.595, time/batch = 1.134\n",
      "73800/92250, translation error = 10.980, rotation error = 5.596, time/batch = 1.131\n",
      "74250/92250, translation error = 10.942, rotation error = 5.587, time/batch = 1.133\n",
      "74700/92250, translation error = 11.210, rotation error = 5.760, time/batch = 1.134\n",
      "75150/92250, translation error = 11.209, rotation error = 5.763, time/batch = 1.140\n",
      "75600/92250, translation error = 11.328, rotation error = 5.786, time/batch = 1.130\n",
      "76050/92250, translation error = 11.292, rotation error = 5.772, time/batch = 1.133\n",
      "76500/92250, translation error = 11.254, rotation error = 5.755, time/batch = 1.130\n",
      "76950/92250, translation error = 11.231, rotation error = 5.746, time/batch = 1.134\n",
      "77400/92250, translation error = 11.350, rotation error = 5.739, time/batch = 1.130\n",
      "77850/92250, translation error = 11.644, rotation error = 5.823, time/batch = 1.135\n",
      "78300/92250, translation error = 11.793, rotation error = 5.872, time/batch = 1.135\n",
      "78750/92250, translation error = 11.835, rotation error = 5.894, time/batch = 1.132\n",
      "79200/92250, translation error = 11.984, rotation error = 5.889, time/batch = 1.144\n",
      "79650/92250, translation error = 12.353, rotation error = 5.926, time/batch = 1.133\n",
      "80100/92250, translation error = 12.308, rotation error = 5.985, time/batch = 1.133\n",
      "80550/92250, translation error = 12.355, rotation error = 6.000, time/batch = 1.127\n",
      "81000/92250, translation error = 12.360, rotation error = 6.016, time/batch = 1.143\n",
      "81450/92250, translation error = 12.422, rotation error = 6.198, time/batch = 1.127\n",
      "81900/92250, translation error = 12.398, rotation error = 6.201, time/batch = 1.129\n",
      "82350/92250, translation error = 12.400, rotation error = 6.181, time/batch = 1.135\n",
      "82800/92250, translation error = 12.392, rotation error = 6.202, time/batch = 1.147\n",
      "83250/92250, translation error = 12.396, rotation error = 6.189, time/batch = 1.132\n",
      "83700/92250, translation error = 12.413, rotation error = 6.175, time/batch = 1.134\n",
      "84150/92250, translation error = 12.489, rotation error = 6.294, time/batch = 1.128\n",
      "84600/92250, translation error = 12.469, rotation error = 6.422, time/batch = 1.129\n",
      "85050/92250, translation error = 12.439, rotation error = 6.422, time/batch = 1.133\n",
      "85500/92250, translation error = 12.397, rotation error = 6.405, time/batch = 1.136\n",
      "85950/92250, translation error = 12.469, rotation error = 6.471, time/batch = 1.129\n",
      "86400/92250, translation error = 12.484, rotation error = 6.462, time/batch = 1.129\n",
      "86850/92250, translation error = 12.445, rotation error = 6.446, time/batch = 1.129\n",
      "87300/92250, translation error = 12.405, rotation error = 6.430, time/batch = 1.132\n",
      "87750/92250, translation error = 12.445, rotation error = 6.454, time/batch = 1.132\n",
      "88200/92250, translation error = 12.527, rotation error = 6.552, time/batch = 1.133\n",
      "88650/92250, translation error = 12.481, rotation error = 6.542, time/batch = 1.138\n"
     ]
    },
    {
     "name": "stdout",
     "output_type": "stream",
     "text": [
      "89100/92250, translation error = 12.642, rotation error = 6.572, time/batch = 1.132\n",
      "89550/92250, translation error = 12.593, rotation error = 6.565, time/batch = 1.130\n",
      "90000/92250, translation error = 12.604, rotation error = 6.561, time/batch = 1.130\n",
      "90450/92250, translation error = 12.564, rotation error = 6.551, time/batch = 1.135\n",
      "90900/92250, translation error = 12.531, rotation error = 6.553, time/batch = 1.129\n",
      "91350/92250, translation error = 12.502, rotation error = 6.544, time/batch = 1.127\n",
      "91800/92250, translation error = 12.458, rotation error = 6.531, time/batch = 1.141\n",
      "92250/92250, translation error = 12.450, rotation error = 6.535, time/batch = 2.143\n"
     ]
    }
   ],
   "source": [
    "cnn_model.model.eval()\n",
    "\n",
    "for b, data in enumerate(dataloader, 0):\n",
    "    start = time.time()\n",
    "    x,y = data.values()\n",
    "    \n",
    "    with torch.no_grad():\n",
    "        trans_pred, rot_pred, trans_gt, rot_gt = cnn_model.eval_forward(x,y)\n",
    "    trans_pred = trans_pred.cpu().numpy()\n",
    "    rot_pred = rot_pred.cpu().numpy()\n",
    "    trans_gt = trans_gt.cpu().numpy()\n",
    "    rot_gt = rot_gt.cpu().numpy()\n",
    "    x = x.numpy()\n",
    "    end = time.time()\n",
    "    \n",
    "    if args.enable_ros:\n",
    "        for i in range(y.shape[0]):\n",
    "            br.sendTransform(trans_pred[i],rot_pred[i], rospy.Time.now(),\"estimation\", \"world\")\n",
    "            br.sendTransform(trans_gt[i],rot_gt[i],rospy.Time.now(), \"gt\", \"world\")\n",
    "\n",
    "            timestamp = rospy.Time.now()\n",
    "\n",
    "            gt_msg = Odometry()\n",
    "            gt_msg.header.frame_id = 'world'\n",
    "            gt_msg.header.stamp = timestamp\n",
    "            gt_msg.child_frame_id = 'base_link'\n",
    "            gt_msg.pose.pose.position.x = trans_gt[i][0]\n",
    "            gt_msg.pose.pose.position.y = trans_gt[i][1]\n",
    "            gt_msg.pose.pose.position.z = trans_gt[i][2]\n",
    "            gt_msg.pose.pose.orientation.x = rot_gt[i][0]\n",
    "            gt_msg.pose.pose.orientation.y = rot_gt[i][1]\n",
    "            gt_msg.pose.pose.orientation.z = rot_gt[i][2]\n",
    "            gt_msg.pose.pose.orientation.w = rot_gt[i][3]\n",
    "\n",
    "            bridge = CvBridge()\n",
    "\n",
    "            bird_view_img_msg = bridge.cv2_to_imgmsg(x[i][0], encoding=\"passthrough\") # 1x300x300 -> 300x300\n",
    "            stamp_now = rospy.Time.now()\n",
    "            bird_view_img_msg.header.stamp = stamp_now\n",
    "\n",
    "            bird_view_pub.publish(bird_view_img_msg)\n",
    "\n",
    "            rospy.sleep(.0)\n",
    "\n",
    "            count += 1\n",
    "    else:\n",
    "        count += y.shape[0]\n",
    "\n",
    "    trans_preds += [x for x in trans_pred]\n",
    "    rot_preds += [x for x in rot_pred]\n",
    "    trans_gts += [x for x in trans_gt]\n",
    "    rot_gts += [x for x in rot_gt]\n",
    "\n",
    "    trans_error = np.sqrt(np.sum((trans_pred - trans_gt)**2,axis=1))\n",
    "    rot_error_1 = np.arccos(np.sum(np.multiply(rot_pred,rot_gt),axis=1))/math.pi*180\n",
    "    rot_error_2 = np.arccos(np.sum(np.multiply(rot_pred,-rot_gt),axis=1))/math.pi*180\n",
    "    rot_error = np.minimum(rot_error_1,rot_error_2)\n",
    "\n",
    "    trans_errors += [x for x in trans_error]\n",
    "    rot_errors += [x for x in rot_error]\n",
    "\n",
    "    total_trans_error += np.sum(trans_error)\n",
    "    total_rot_error += np.sum(rot_error)\n",
    "\n",
    "    display = 1\n",
    "\n",
    "    if b % display == 0:\n",
    "        print(\n",
    "            \"{}/{}, translation error = {:.3f}, rotation error = {:.3f}, time/batch = {:.3f}\"\n",
    "            .format(\n",
    "             (b+1)*args.batch_size,\n",
    "            len(dataloader)*args.batch_size,\n",
    "            total_trans_error / count,\n",
    "            total_rot_error / count,\n",
    "            end - start))\n",
    "\n",
    "#print(\"pred time\", np.mean(np.array(pred_time)))\n",
    "#print(\"time std\", np.std(np.array(pred_time)))\n",
    "    "
   ]
  },
  {
   "cell_type": "code",
   "execution_count": 9,
   "metadata": {
    "ExecuteTime": {
     "end_time": "2020-06-28T20:38:32.351491Z",
     "start_time": "2020-06-28T20:38:22.275547Z"
    },
    "run_control": {
     "marked": true
    }
   },
   "outputs": [
    {
     "name": "stdout",
     "output_type": "stream",
     "text": [
      "median translation error = 4.014\n",
      "median rotation error = 3.254\n",
      "mean translation error = 12.450\n",
      "mean rotation error = 6.535\n"
     ]
    }
   ],
   "source": [
    "import scipy.io as sio\n",
    "\n",
    "sio.savemat('results.mat', {'trans_pred': np.array(trans_preds), 'trans_gt': np.array(trans_gts), 'uncertainty': np.array(pred_uncertainties)})\n",
    "\n",
    "if len(pose_map):\n",
    "    np.savetxt(os.path.join(args.map_dataset, 'map.txt'), np.asarray(pose_map, dtype=np.float32))\n",
    "    print(\"map is saved!\")\n",
    "\n",
    "plt.hist(trans_errors, bins='auto')\n",
    "plt.title(\"Translation errors\")\n",
    "plt.xlabel(\"translational error in meters\")\n",
    "plt.ylabel(\"number of frames\")\n",
    "plt.savefig('terror.png', bbox_inches='tight')\n",
    "\n",
    "plt.hist(rot_errors, bins='auto')\n",
    "plt.title(\"Rotation errors\")\n",
    "plt.xlabel(\"rotational error in degree\")\n",
    "plt.ylabel(\"number of frames\")\n",
    "plt.savefig('rerror.png', bbox_inches='tight')\n",
    "\n",
    "median_trans_errors = np.median(trans_errors)\n",
    "median_rot_errors = np.median(rot_errors)\n",
    "mean_trans_errors = np.mean(trans_errors)\n",
    "mean_rot_errors = np.mean(rot_errors)\n",
    "\n",
    "print(\"median translation error = {:.3f}\".format(median_trans_errors))\n",
    "print(\"median rotation error = {:.3f}\".format(median_rot_errors))\n",
    "print(\"mean translation error = {:.3f}\".format(mean_trans_errors))\n",
    "print(\"mean rotation error = {:.3f}\".format(mean_rot_errors))   "
   ]
  },
  {
   "cell_type": "code",
   "execution_count": 10,
   "metadata": {
    "ExecuteTime": {
     "end_time": "2020-06-28T20:38:32.431036Z",
     "start_time": "2020-06-28T20:38:32.352809Z"
    },
    "code_folding": [
     0
    ],
    "run_control": {
     "marked": true
    }
   },
   "outputs": [
    {
     "name": "stdout",
     "output_type": "stream",
     "text": [
      "================== median translation error ==================\n",
      "median translation error = 3.420\n",
      "median translation error = 3.159\n",
      "median translation error = 3.957\n",
      "median translation error = 3.659\n",
      "median translation error = 4.189\n",
      "median translation error = 4.038\n",
      "median translation error = 5.335\n",
      "median translation error = 5.517\n",
      "================== median rotation error ==================\n",
      "median rotation error = 3.024\n",
      "median rotation error = 2.813\n",
      "median rotation error = 3.035\n",
      "median rotation error = 2.794\n",
      "median rotation error = 3.319\n",
      "median rotation error = 3.360\n",
      "median rotation error = 3.776\n",
      "median rotation error = 4.268\n",
      "================== mean translation error ==================\n",
      "mean translation error = 6.054\n",
      "mean translation error = 5.826\n",
      "mean translation error = 14.223\n",
      "mean translation error = 12.198\n",
      "mean translation error = 11.937\n",
      "mean translation error = 14.344\n",
      "mean translation error = 20.826\n",
      "mean translation error = 15.355\n",
      "================== mean rotation error ==================\n",
      "mean rotation error = 4.429\n",
      "mean rotation error = 4.218\n",
      "mean rotation error = 6.175\n",
      "mean rotation error = 5.712\n",
      "mean rotation error = 6.322\n",
      "mean rotation error = 6.256\n",
      "mean rotation error = 8.596\n",
      "mean rotation error = 10.572\n"
     ]
    }
   ],
   "source": [
    "def evaluate(trans_errors,rot_errors):\n",
    "    t = [14301,7008,12852,9567,13580,14835,7114,12683]\n",
    "    for i in range(len(t)):\n",
    "        if i >0:\n",
    "            t[i] += t[i-1]\n",
    "    trans_errors_month = list()\n",
    "    trans_errors_month.append(trans_errors[:t[0]])\n",
    "    trans_errors_month.append(trans_errors[t[0]:t[1]])\n",
    "    trans_errors_month.append(trans_errors[t[1]:t[2]])\n",
    "    trans_errors_month.append(trans_errors[t[2]:t[3]])\n",
    "    trans_errors_month.append(trans_errors[t[3]:t[4]])\n",
    "    trans_errors_month.append(trans_errors[t[4]:t[5]])\n",
    "    trans_errors_month.append(trans_errors[t[5]:t[6]])\n",
    "    trans_errors_month.append(trans_errors[t[6]:])\n",
    "\n",
    "    rot_errors_month = list()\n",
    "    rot_errors_month.append(rot_errors[:t[0]])\n",
    "    rot_errors_month.append(rot_errors[t[0]:t[1]])\n",
    "    rot_errors_month.append(rot_errors[t[1]:t[2]])\n",
    "    rot_errors_month.append(rot_errors[t[2]:t[3]])\n",
    "    rot_errors_month.append(rot_errors[t[3]:t[4]])\n",
    "    rot_errors_month.append(rot_errors[t[4]:t[5]])\n",
    "    rot_errors_month.append(rot_errors[t[5]:t[6]])\n",
    "    rot_errors_month.append(rot_errors[t[6]:])\n",
    "    \n",
    "    print('================== median translation error ==================')\n",
    "    for trans_errors_i in trans_errors_month:\n",
    "        print(\"median translation error = {:.3f}\".format(np.median(trans_errors_i)))\n",
    "        \n",
    "    print('================== median rotation error ==================')\n",
    "    for rot_errors_i in rot_errors_month:\n",
    "        print(\"median rotation error = {:.3f}\".format(np.median(rot_errors_i)))\n",
    "    \n",
    "    print('================== mean translation error ==================')\n",
    "    for trans_errors_i in trans_errors_month:\n",
    "        print(\"mean translation error = {:.3f}\".format(np.mean(trans_errors_i)))\n",
    "        \n",
    "    print('================== mean rotation error ==================')  \n",
    "    for rot_errors_i in rot_errors_month:\n",
    "        print(\"mean rotation error = {:.3f}\".format(np.mean(rot_errors_i)))\n",
    "        \n",
    "evaluate(trans_errors,rot_errors)"
   ]
  },
  {
   "cell_type": "code",
   "execution_count": null,
   "metadata": {},
   "outputs": [],
   "source": []
  }
 ],
 "metadata": {
  "kernelspec": {
   "display_name": "Python 3",
   "language": "python",
   "name": "python3"
  },
  "language_info": {
   "codemirror_mode": {
    "name": "ipython",
    "version": 3
   },
   "file_extension": ".py",
   "mimetype": "text/x-python",
   "name": "python",
   "nbconvert_exporter": "python",
   "pygments_lexer": "ipython3",
   "version": "3.6.9"
  }
 },
 "nbformat": 4,
 "nbformat_minor": 4
}
